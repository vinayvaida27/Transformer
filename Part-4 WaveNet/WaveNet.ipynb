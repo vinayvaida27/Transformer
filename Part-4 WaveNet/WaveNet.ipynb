{
 "cells": [
  {
   "cell_type": "markdown",
   "metadata": {},
   "source": [
    "## makemore: part 5"
   ]
  },
  {
   "cell_type": "code",
   "metadata": {
    "ExecuteTime": {
     "end_time": "2025-09-02T14:44:01.141686Z",
     "start_time": "2025-09-02T14:44:00.487792Z"
    }
   },
   "source": [
    "import torch\n",
    "import torch.nn.functional as F\n",
    "import matplotlib.pyplot as plt # for making figures\n",
    "%matplotlib inline"
   ],
   "outputs": [],
   "execution_count": 36
  },
  {
   "metadata": {
    "ExecuteTime": {
     "end_time": "2025-09-02T12:09:44.555807Z",
     "start_time": "2025-09-02T12:09:44.547555Z"
    }
   },
   "cell_type": "markdown",
   "source": [
    "#  WaveNet Explained\n",
    "\n",
    "![WaveNet Architecture](Wavenet_img.png)\n",
    "\n",
    "## 1. Input Layer\n",
    "- The **blue circles** at the bottom are the **input samples** of the raw audio waveform.\n",
    "- Each sample is processed one by one in sequence.\n",
    "- Because WaveNet is **causal**, predictions only depend on past inputs (no peeking into the future).\n",
    "\n",
    "---\n",
    "\n",
    "## 2. Hidden Layers with Dilation\n",
    "- The **white circles** represent hidden layers of 1D convolutions.\n",
    "- Each hidden layer has a **dilation rate** that determines how far it \"skips\" when looking back:\n",
    "  - **Layer 1 (Dilation = 1):** Looks at immediate past (neighboring inputs).\n",
    "  - **Layer 2 (Dilation = 2):** Skips one input, looks 2 steps back.\n",
    "  - **Layer 3 (Dilation = 4):** Skips three inputs, looks 4 steps back.\n",
    "  - **Layer 4 (Dilation = 8):** Skips seven inputs, looks 8 steps back.\n",
    "\n",
    "➡️ This pattern **exponentially increases the receptive field**, so the higher layers can capture long-range dependencies without needing extremely deep networks.\n",
    "\n",
    "---\n",
    "\n",
    "## 3. Output Layer\n",
    "- The **orange circles** at the top are the **predicted output samples**.\n",
    "- Each output depends only on inputs from the past, thanks to the **causal convolutions**.\n",
    "- Together, all dilated layers combine local + global context.\n",
    "\n",
    "---\n",
    "\n",
    "## 4. Why is this powerful?\n",
    "- Normal convolutions see only short windows.\n",
    "- With dilation, WaveNet can cover **hundreds of past samples** with just a few layers.\n",
    "- This allows it to model long-term dependencies in audio (like rhythm, tone, intonation).\n",
    "\n",
    "---\n",
    "\n",
    "## 5. Beginner Takeaway\n",
    "Think of it like a **hierarchy of memories**:\n",
    "- Lower layers remember the **immediate past**,\n",
    "- Middle layers remember the **recent past**,\n",
    "- Upper layers remember the **distant past**.\n",
    "\n",
    "All combined, WaveNet can generate speech that sounds natural, because it uses **both short-term details and long-term structure** of audio.\n"
   ]
  },
  {
   "cell_type": "code",
   "metadata": {
    "ExecuteTime": {
     "end_time": "2025-09-02T14:44:01.511893Z",
     "start_time": "2025-09-02T14:44:01.437308Z"
    }
   },
   "source": [
    "# read in all the words\n",
    "words = open('names.txt', 'r').read().splitlines()\n",
    "print(len(words))\n",
    "print(max(len(w) for w in words))\n",
    "print(words[:8])"
   ],
   "outputs": [
    {
     "name": "stdout",
     "output_type": "stream",
     "text": [
      "32033\n",
      "15\n",
      "['emma', 'olivia', 'ava', 'isabella', 'sophia', 'charlotte', 'mia', 'amelia']\n"
     ]
    }
   ],
   "execution_count": 37
  },
  {
   "cell_type": "code",
   "metadata": {
    "ExecuteTime": {
     "end_time": "2025-09-02T14:44:02.439058Z",
     "start_time": "2025-09-02T14:44:02.432414Z"
    }
   },
   "source": [
    "# build the vocabulary of characters and mappings to/from integers\n",
    "chars = sorted(list(set(''.join(words))))\n",
    "stoi = {s:i+1 for i,s in enumerate(chars)}\n",
    "stoi['.'] = 0\n",
    "itos = {i:s for s,i in stoi.items()}\n",
    "vocab_size = len(itos)\n",
    "print(itos)\n",
    "print(vocab_size)"
   ],
   "outputs": [
    {
     "name": "stdout",
     "output_type": "stream",
     "text": [
      "{1: 'a', 2: 'b', 3: 'c', 4: 'd', 5: 'e', 6: 'f', 7: 'g', 8: 'h', 9: 'i', 10: 'j', 11: 'k', 12: 'l', 13: 'm', 14: 'n', 15: 'o', 16: 'p', 17: 'q', 18: 'r', 19: 's', 20: 't', 21: 'u', 22: 'v', 23: 'w', 24: 'x', 25: 'y', 26: 'z', 0: '.'}\n",
      "27\n"
     ]
    }
   ],
   "execution_count": 38
  },
  {
   "cell_type": "code",
   "metadata": {
    "ExecuteTime": {
     "end_time": "2025-09-02T14:44:03.097803Z",
     "start_time": "2025-09-02T14:44:03.084565Z"
    }
   },
   "source": [
    "# shuffle up the words\n",
    "import random\n",
    "random.seed(42)\n",
    "random.shuffle(words)"
   ],
   "outputs": [],
   "execution_count": 39
  },
  {
   "cell_type": "code",
   "metadata": {
    "ExecuteTime": {
     "end_time": "2025-09-02T14:44:05.856070Z",
     "start_time": "2025-09-02T14:44:04.641931Z"
    }
   },
   "source": [
    "# build the dataset\n",
    "block_size = 8 # context length: how many characters do we take to predict the next one?\n",
    "\n",
    "def build_dataset(words):  \n",
    "  X, Y = [], []\n",
    "  \n",
    "  for w in words:\n",
    "    context = [0] * block_size\n",
    "    for ch in w + '.':\n",
    "      ix = stoi[ch]\n",
    "      X.append(context)\n",
    "      Y.append(ix)\n",
    "      context = context[1:] + [ix] # crop and append\n",
    "\n",
    "  X = torch.tensor(X)\n",
    "  Y = torch.tensor(Y)\n",
    "  print(X.shape, Y.shape)\n",
    "  return X, Y\n",
    "\n",
    "n1 = int(0.8*len(words))\n",
    "n2 = int(0.9*len(words))\n",
    "Xtr,  Ytr  = build_dataset(words[:n1])     # 80%\n",
    "Xdev, Ydev = build_dataset(words[n1:n2])   # 10%\n",
    "Xte,  Yte  = build_dataset(words[n2:])     # 10%"
   ],
   "outputs": [
    {
     "name": "stdout",
     "output_type": "stream",
     "text": [
      "torch.Size([182625, 8]) torch.Size([182625])\n",
      "torch.Size([22655, 8]) torch.Size([22655])\n",
      "torch.Size([22866, 8]) torch.Size([22866])\n"
     ]
    }
   ],
   "execution_count": 40
  },
  {
   "cell_type": "code",
   "metadata": {
    "ExecuteTime": {
     "end_time": "2025-09-02T14:44:06.784563Z",
     "start_time": "2025-09-02T14:44:06.778709Z"
    }
   },
   "source": [
    "for x,y in zip(Xtr[:20], Ytr[:20]):\n",
    "  print(''.join(itos[ix.item()] for ix in x), '-->', itos[y.item()])"
   ],
   "outputs": [
    {
     "name": "stdout",
     "output_type": "stream",
     "text": [
      "........ --> y\n",
      ".......y --> u\n",
      "......yu --> h\n",
      ".....yuh --> e\n",
      "....yuhe --> n\n",
      "...yuhen --> g\n",
      "..yuheng --> .\n",
      "........ --> d\n",
      ".......d --> i\n",
      "......di --> o\n",
      ".....dio --> n\n",
      "....dion --> d\n",
      "...diond --> r\n",
      "..diondr --> e\n",
      ".diondre --> .\n",
      "........ --> x\n",
      ".......x --> a\n",
      "......xa --> v\n",
      ".....xav --> i\n",
      "....xavi --> e\n"
     ]
    }
   ],
   "execution_count": 41
  },
  {
   "metadata": {
    "ExecuteTime": {
     "end_time": "2025-09-02T14:59:25.582721Z",
     "start_time": "2025-09-02T14:59:25.578212Z"
    }
   },
   "cell_type": "code",
   "source": "Xtr.shape,  Ytr.shape",
   "outputs": [
    {
     "data": {
      "text/plain": [
       "(torch.Size([182625, 8]), torch.Size([182625]))"
      ]
     },
     "execution_count": 54,
     "metadata": {},
     "output_type": "execute_result"
    }
   ],
   "execution_count": 54
  },
  {
   "cell_type": "code",
   "metadata": {
    "ExecuteTime": {
     "end_time": "2025-09-02T14:44:08.108688Z",
     "start_time": "2025-09-02T14:44:08.099727Z"
    }
   },
   "source": [
    "\n",
    "class Linear:\n",
    "  \n",
    "  def __init__(self, fan_in, fan_out, bias=True):\n",
    "    self.weight = torch.randn((fan_in, fan_out)) / fan_in**0.5 # note: kaiming init\n",
    "    self.bias = torch.zeros(fan_out) if bias else None\n",
    "  \n",
    "  def __call__(self, x):\n",
    "    self.out = x @ self.weight\n",
    "    if self.bias is not None:\n",
    "      self.out += self.bias\n",
    "    return self.out\n",
    "  \n",
    "  def parameters(self):\n",
    "    return [self.weight] + ([] if self.bias is None else [self.bias])\n",
    "\n",
    "# -----------------------------------------------------------------------------------------------\n",
    "class BatchNorm1d:\n",
    "  \n",
    "  def __init__(self, dim, eps=1e-5, momentum=0.1):\n",
    "    self.eps = eps\n",
    "    self.momentum = momentum\n",
    "    self.training = True\n",
    "    # parameters (trained with backprop)\n",
    "    self.gamma = torch.ones(dim)\n",
    "    self.beta = torch.zeros(dim)\n",
    "    # buffers (trained with a running 'momentum update')\n",
    "    self.running_mean = torch.zeros(dim)\n",
    "    self.running_var = torch.ones(dim)\n",
    "  \n",
    "  def __call__(self, x):\n",
    "    # calculate the forward pass\n",
    "    if self.training:\n",
    "      if x.ndim == 2:\n",
    "        dim = 0\n",
    "      elif x.ndim == 3:\n",
    "        dim = (0,1)\n",
    "      xmean = x.mean(dim, keepdim=True) # batch mean\n",
    "      xvar = x.var(dim, keepdim=True) # batch variance\n",
    "    else:\n",
    "      xmean = self.running_mean\n",
    "      xvar = self.running_var\n",
    "    xhat = (x - xmean) / torch.sqrt(xvar + self.eps) # normalize to unit variance\n",
    "    self.out = self.gamma * xhat + self.beta\n",
    "    # update the buffers\n",
    "    if self.training:\n",
    "      with torch.no_grad():\n",
    "        self.running_mean = (1 - self.momentum) * self.running_mean + self.momentum * xmean\n",
    "        self.running_var = (1 - self.momentum) * self.running_var + self.momentum * xvar\n",
    "    return self.out\n",
    "  \n",
    "  def parameters(self):\n",
    "    return [self.gamma, self.beta]\n",
    "\n",
    "# -----------------------------------------------------------------------------------------------\n",
    "class Tanh:\n",
    "  def __call__(self, x):\n",
    "    self.out = torch.tanh(x)\n",
    "    return self.out\n",
    "  def parameters(self):\n",
    "    return []\n",
    "\n",
    "# -----------------------------------------------------------------------------------------------\n",
    "class Embedding:\n",
    "  \n",
    "  def __init__(self, num_embeddings, embedding_dim):\n",
    "    self.weight = torch.randn((num_embeddings, embedding_dim))\n",
    "    \n",
    "  def __call__(self, IX):\n",
    "    self.out = self.weight[IX]\n",
    "    return self.out\n",
    "  \n",
    "  def parameters(self):\n",
    "    return [self.weight]\n",
    "\n",
    "# -----------------------------------------------------------------------------------------------\n",
    "class FlattenConsecutive:\n",
    "  \n",
    "  def __init__(self, n):\n",
    "    self.n = n\n",
    "    \n",
    "  def __call__(self, x):\n",
    "    B, T, C = x.shape\n",
    "    x = x.view(B, T//self.n, C*self.n)\n",
    "    if x.shape[1] == 1:\n",
    "      x = x.squeeze(1)\n",
    "    self.out = x\n",
    "    return self.out\n",
    "  \n",
    "  def parameters(self):\n",
    "    return []\n",
    "\n",
    "# -----------------------------------------------------------------------------------------------\n",
    "class Sequential:\n",
    "  \n",
    "  def __init__(self, layers):\n",
    "    self.layers = layers\n",
    "  \n",
    "  def __call__(self, x):\n",
    "    for layer in self.layers:\n",
    "      x = layer(x)\n",
    "    self.out = x\n",
    "    return self.out\n",
    "  \n",
    "  def parameters(self):\n",
    "    # get parameters of all layers and stretch them out into one list\n",
    "    return [p for layer in self.layers for p in layer.parameters()]\n"
   ],
   "outputs": [],
   "execution_count": 42
  },
  {
   "metadata": {},
   "cell_type": "markdown",
   "source": [
    "## 🧩 Jupyter Markdown: Explanation of the Custom Layers\n",
    "\n",
    "This note explains what each class does in your plain-Python deep-learning stack and how tensors flow through them. It’s written for a Jupyter **Markdown** cell (rendered with MathJax).\n",
    "\n",
    "---\n",
    "\n",
    "### 1) `Linear` — Fully Connected Layer\n",
    "\n",
    "**Operation**\n",
    "$$\n",
    "y = xW + b\n",
    "$$\n",
    "\n",
    "**Shapes**\n",
    "$$\n",
    "x \\in \\mathbb{R}^{B \\times \\text{fan\\_in}},\\quad\n",
    "W \\in \\mathbb{R}^{\\text{fan\\_in} \\times \\text{fan\\_out}},\\quad\n",
    "b \\in \\mathbb{R}^{\\text{fan\\_out}},\\quad\n",
    "y \\in \\mathbb{R}^{B \\times \\text{fan\\_out}}.\n",
    "$$\n",
    "\n",
    "**Details**\n",
    "- Weights are initialized with Kaiming-like scaling: \\(W \\sim \\mathcal{N}\\!\\left(0,\\; \\frac{1}{\\sqrt{\\text{fan\\_in}}}\\right)\\).\n",
    "- Bias defaults to zeros (optional).\n",
    "- Bias is **broadcast** row-wise across the batch.\n",
    "- Gradients flow through `@` (matrix multiply) and bias add, so autograd can train \\(W,b\\).\n",
    "\n",
    "**Beginner intuition:** each output feature is a weighted sum of **all** input features plus a bias.\n",
    "\n",
    "---\n",
    "\n",
    "### 2) `BatchNorm1d` — Batch Normalization for 2D or 3D\n",
    "\n",
    "**Goal:** stabilize training by normalizing activations channel-wise, then re-scaling/shifting.\n",
    "\n",
    "**Forward (training)**\n",
    "For each channel \\(c\\):\n",
    "$$\n",
    "\\mu_c = \\mathrm{mean}(x_c),\\quad\n",
    "\\sigma_c^2 = \\mathrm{var}(x_c),\\quad\n",
    "\\hat{x}_c = \\frac{x_c - \\mu_c}{\\sqrt{\\sigma_c^2 + \\varepsilon}},\\quad\n",
    "y_c = \\gamma_c \\hat{x}_c + \\beta_c .\n",
    "$$\n",
    "\n",
    "**Running stats (EMA)**\n",
    "$$\n",
    "\\text{running\\_mean} \\leftarrow (1-m)\\,\\text{running\\_mean} + m\\,\\mu,\\qquad\n",
    "\\text{running\\_var} \\leftarrow (1-m)\\,\\text{running\\_var} + m\\,\\sigma^2 .\n",
    "$$\n",
    "\n",
    "**Input shapes handled**\n",
    "- If `x.ndim == 2`: normalize over **batch** → dimension `0`.\n",
    "  Shape: \\(x \\in \\mathbb{R}^{B \\times C}\\).\n",
    "- If `x.ndim == 3`: normalize over **batch × time** → dimensions `(0, 1)`.\n",
    "  Shape: \\(x \\in \\mathbb{R}^{B \\times T \\times C}\\).\n",
    "\n",
    "**Parameters:** \\(\\gamma,\\beta \\in \\mathbb{R}^{C}\\) (trainable).\n",
    "**Buffers:** `running_mean`, `running_var` (not trainable, updated each forward in training).\n",
    "\n",
    "**Eval mode:** use running stats instead of batch stats.\n",
    "\n",
    "**Gotcha:** set `.training = True/False` appropriately (or port to `nn.Module` to use `model.train()/eval()`).\n",
    "\n",
    "---\n",
    "\n",
    "### 3) `Tanh` — Nonlinearity\n",
    "\n",
    "**Definition**\n",
    "$$\n",
    "\\tanh(x) = \\frac{e^x - e^{-x}}{e^x + e^{-x}} \\in (-1,1).\n",
    "$$\n",
    "\n",
    "**Why needed?** Nonlinearities let stacked linear layers model complex, non-linear mappings.\n",
    "**Note:** very large \\(|x|\\) saturates gradients (near \\(-1\\) or \\(+1\\)).\n",
    "\n",
    "---\n",
    "\n",
    "### 4) `Embedding` — Token Lookup Table\n",
    "\n",
    "**Weights**\n",
    "$$\n",
    "E \\in \\mathbb{R}^{\\text{num\\_embeddings} \\times \\text{embedding\\_dim}} .\n",
    "$$\n",
    "\n",
    "**Lookup**\n",
    "Given integer indices \\(I \\in \\mathbb{N}^{B \\times T}\\),\n",
    "$$\n",
    "X = E[I] \\in \\mathbb{R}^{B \\times T \\times \\text{embedding\\_dim}} .\n",
    "$$\n",
    "\n",
    "**Intuition:** turns discrete IDs into continuous vectors. Only **used rows** receive gradients each step.\n",
    "**Gotcha:** input indices must be integer type (e.g., `torch.long`).\n",
    "\n",
    "---\n",
    "\n",
    "### 5) `FlattenConsecutive(n)` — Merge Local Context\n",
    "\n",
    "**Shape transform**\n",
    "Input \\(x \\in \\mathbb{R}^{B \\times T \\times C}\\) becomes\n",
    "$$\n",
    "x' \\in \\mathbb{R}^{B \\times (T/n) \\times (nC)} .\n",
    "$$\n",
    "\n",
    "If \\((T/n) = 1\\), squeeze time:\n",
    "$$\n",
    "x' \\in \\mathbb{R}^{B \\times (nC)} .\n",
    "$$\n",
    "\n",
    "**Why:** successively merging neighbors (pairs → groups of 4 → 8…) gives deeper layers access to **wider local context** (hierarchical n-gram effect).\n",
    "\n",
    "**Gotcha:** assumes \\(T\\) divisible by \\(n\\). If not, pad or trim first.\n",
    "\n",
    "---\n",
    "\n",
    "### 6) `Sequential` — Apply Layers in Order\n",
    "\n",
    "**Composition**\n",
    "If layers are \\((\\ell_1, \\ell_2, \\dots, \\ell_K)\\), then\n",
    "$$\n",
    "x_{k+1} = \\ell_k(x_k),\\quad k=1,\\dots,K .\n",
    "$$\n",
    "\n",
    "**What it provides**\n",
    "- A simple forward pass through a Python list of layers.\n",
    "- `parameters()` flattens all sub-layer parameters into one list (helpful for manual optimization).\n",
    "\n",
    "**Note:** these are plain Python classes (not `nn.Module`), but tensors still carry gradients, so autograd works; you just manage training/eval flags and device moves manually.\n",
    "\n",
    "---\n",
    "\n",
    "## 🔄 Typical Flow (Sequence Model Sketch)\n",
    "\n",
    "1. **Embedding:** \\((B, T) \\to (B, T, C)\\)\n",
    "2. **FlattenConsecutive(2):** \\((B, T, C) \\to (B, T/2, 2C)\\)\n",
    "3. **Linear:** \\((B, T/2, 2C) \\to (B, T/2, H)\\)\n",
    "4. **BatchNorm1d + Tanh:** stabilize & add nonlinearity\n",
    "5. **Repeat Flatten/Linear/BN/Tanh** to widen context\n",
    "6. If \\(T\\) reduces to \\(1\\), squeeze → \\((B, H)\\), then **final Linear** → \\((B, \\text{vocab\\_size})\\)\n",
    "\n",
    "**Big picture:**\n",
    "- `Embedding` gives dense vectors,\n",
    "- `FlattenConsecutive` widens local context,\n",
    "- `Linear` transforms features,\n",
    "- `BatchNorm1d` keeps activations well-behaved,\n",
    "- `Tanh` adds nonlinearity,\n",
    "- `Sequential` stitches it all together.\n"
   ]
  },
  {
   "cell_type": "code",
   "metadata": {
    "ExecuteTime": {
     "end_time": "2025-09-02T14:44:10.646155Z",
     "start_time": "2025-09-02T14:44:10.635065Z"
    }
   },
   "source": [
    "torch.manual_seed(42); # seed rng for reproducibility"
   ],
   "outputs": [],
   "execution_count": 43
  },
  {
   "cell_type": "code",
   "metadata": {
    "ExecuteTime": {
     "end_time": "2025-09-02T14:44:10.936456Z",
     "start_time": "2025-09-02T14:44:10.926824Z"
    }
   },
   "source": [
    "# original network\n",
    "# n_embd = 10 # the dimensionality of the character embedding vectors\n",
    "# n_hidden = 300 # the number of neurons in the hidden layer of the MLP\n",
    "# model = Sequential([\n",
    "#   Embedding(vocab_size, n_embd),\n",
    "#   FlattenConsecutive(8), Linear(n_embd * 8, n_hidden, bias=False), BatchNorm1d(n_hidden), Tanh(),\n",
    "#   Linear(n_hidden, vocab_size),\n",
    "# ])\n",
    "\n",
    "# hierarchical network\n",
    "n_embd = 24 # the dimensionality of the character embedding vectors\n",
    "n_hidden = 128 # the number of neurons in the hidden layer of the MLP\n",
    "model = Sequential([\n",
    "  Embedding(vocab_size, n_embd),\n",
    "  FlattenConsecutive(2), Linear(n_embd * 2, n_hidden, bias=False), BatchNorm1d(n_hidden), Tanh(),\n",
    "  FlattenConsecutive(2), Linear(n_hidden*2, n_hidden, bias=False), BatchNorm1d(n_hidden), Tanh(),\n",
    "  FlattenConsecutive(2), Linear(n_hidden*2, n_hidden, bias=False), BatchNorm1d(n_hidden), Tanh(),\n",
    "  Linear(n_hidden, vocab_size),\n",
    "])\n",
    "\n",
    "# parameter init\n",
    "with torch.no_grad():\n",
    "  model.layers[-1].weight *= 0.1 # last layer make less confident\n",
    "\n",
    "parameters = model.parameters()\n",
    "print(sum(p.nelement() for p in parameters)) # number of parameters in total\n",
    "for p in parameters:\n",
    "  p.requires_grad = True"
   ],
   "outputs": [
    {
     "name": "stdout",
     "output_type": "stream",
     "text": [
      "76579\n"
     ]
    }
   ],
   "execution_count": 44
  },
  {
   "cell_type": "code",
   "metadata": {
    "ExecuteTime": {
     "end_time": "2025-09-02T14:59:22.292357Z",
     "start_time": "2025-09-02T14:44:11.257432Z"
    }
   },
   "source": [
    "# same optimization as last time\n",
    "max_steps = 200000\n",
    "batch_size = 32\n",
    "lossi = []\n",
    "\n",
    "for i in range(max_steps):\n",
    "  \n",
    "  # minibatch construct\n",
    "  ix = torch.randint(0, Xtr.shape[0], (batch_size,))\n",
    "  Xb, Yb = Xtr[ix], Ytr[ix] # batch X,Y\n",
    "  \n",
    "  # forward pass\n",
    "  logits = model(Xb)\n",
    "  loss = F.cross_entropy(logits, Yb) # loss function\n",
    "  \n",
    "  # backward pass\n",
    "  for p in parameters:\n",
    "    p.grad = None\n",
    "  loss.backward()\n",
    "  \n",
    "  # update: simple SGD\n",
    "  lr = 0.1 if i < 150000 else 0.01 # step learning rate decay\n",
    "  for p in parameters:\n",
    "    p.data += -lr * p.grad\n",
    "\n",
    "  # track stats\n",
    "  if i % 10000 == 0: # print every once in a while\n",
    "    print(f'{i:7d}/{max_steps:7d}: {loss.item():.4f}')\n",
    "  lossi.append(loss.log10().item())\n"
   ],
   "outputs": [
    {
     "name": "stdout",
     "output_type": "stream",
     "text": [
      "      0/ 200000: 3.3167\n",
      "  10000/ 200000: 2.0576\n",
      "  20000/ 200000: 2.0723\n",
      "  30000/ 200000: 2.5134\n",
      "  40000/ 200000: 2.1476\n",
      "  50000/ 200000: 1.7836\n",
      "  60000/ 200000: 2.2592\n",
      "  70000/ 200000: 1.9331\n",
      "  80000/ 200000: 1.6875\n",
      "  90000/ 200000: 2.0395\n",
      " 100000/ 200000: 1.7736\n",
      " 110000/ 200000: 1.9569\n",
      " 120000/ 200000: 1.7465\n",
      " 130000/ 200000: 1.8126\n",
      " 140000/ 200000: 1.7406\n",
      " 150000/ 200000: 1.7467\n",
      " 160000/ 200000: 1.8805\n",
      " 170000/ 200000: 1.6266\n",
      " 180000/ 200000: 1.6476\n",
      " 190000/ 200000: 1.8555\n"
     ]
    }
   ],
   "execution_count": 45
  },
  {
   "metadata": {
    "ExecuteTime": {
     "end_time": "2025-09-02T14:59:22.492666Z",
     "start_time": "2025-09-02T14:59:22.450323Z"
    }
   },
   "cell_type": "code",
   "source": "torch.tensor(lossi).view(-1, 1000).mean(1).shape",
   "outputs": [
    {
     "data": {
      "text/plain": [
       "torch.Size([200])"
      ]
     },
     "execution_count": 46,
     "metadata": {},
     "output_type": "execute_result"
    }
   ],
   "execution_count": 46
  },
  {
   "cell_type": "code",
   "metadata": {
    "ExecuteTime": {
     "end_time": "2025-09-02T14:59:22.713627Z",
     "start_time": "2025-09-02T14:59:22.509449Z"
    }
   },
   "source": [
    "plt.plot(torch.tensor(lossi).view(-1, 1000).mean(1))"
   ],
   "outputs": [
    {
     "data": {
      "text/plain": [
       "[<matplotlib.lines.Line2D at 0x20526ac1c10>]"
      ]
     },
     "execution_count": 47,
     "metadata": {},
     "output_type": "execute_result"
    },
    {
     "data": {
      "text/plain": [
       "<Figure size 640x480 with 1 Axes>"
      ],
      "image/png": "[encoded data removed]"
     },
     "metadata": {},
     "output_type": "display_data"
    }
   ],
   "execution_count": 47
  },
  {
   "cell_type": "code",
   "metadata": {
    "ExecuteTime": {
     "end_time": "2025-09-02T14:59:22.723055Z",
     "start_time": "2025-09-02T14:59:22.718650Z"
    }
   },
   "source": [
    "# put layers into eval mode (needed for batchnorm especially)\n",
    "for layer in model.layers:\n",
    "  layer.training = False"
   ],
   "outputs": [],
   "execution_count": 48
  },
  {
   "cell_type": "code",
   "metadata": {
    "ExecuteTime": {
     "end_time": "2025-09-02T14:59:25.382740Z",
     "start_time": "2025-09-02T14:59:22.728046Z"
    }
   },
   "source": [
    "# evaluate the loss\n",
    "@torch.no_grad() # this decorator disables gradient tracking inside pytorch\n",
    "def split_loss(split):\n",
    "  x,y = {\n",
    "    'train': (Xtr, Ytr),\n",
    "    'val': (Xdev, Ydev),\n",
    "    'test': (Xte, Yte),\n",
    "  }[split]\n",
    "  logits = model(x)\n",
    "  loss = F.cross_entropy(logits, y)\n",
    "  print(split, loss.item())\n",
    "\n",
    "split_loss('train')\n",
    "split_loss('val')"
   ],
   "outputs": [
    {
     "name": "stdout",
     "output_type": "stream",
     "text": [
      "train 1.769028902053833\n",
      "val 1.9936511516571045\n"
     ]
    }
   ],
   "execution_count": 49
  },
  {
   "cell_type": "markdown",
   "metadata": {},
   "source": [
    "### performance log\n",
    "\n",
    "- original (3 character context + 200 hidden neurons, 12K params): train 2.058, val 2.105\n",
    "- context: 3 -> 8 (22K params): train 1.918, val 2.027\n",
    "- flat -> hierarchical (22K params): train 1.941, val 2.029\n",
    "- fix bug in batchnorm: train 1.912, val 2.022\n",
    "- scale up the network: n_embd 24, n_hidden 128 (76K params): train 1.769, val 1.993\n"
   ]
  },
  {
   "cell_type": "code",
   "metadata": {
    "ExecuteTime": {
     "end_time": "2025-09-02T14:59:25.535148Z",
     "start_time": "2025-09-02T14:59:25.412049Z"
    }
   },
   "source": [
    "# sample from the model\n",
    "for _ in range(40):\n",
    "    \n",
    "    out = []\n",
    "    context = [0] * block_size # initialize with all ...\n",
    "    while True:\n",
    "      # forward pass the neural net\n",
    "      logits = model(torch.tensor([context]))\n",
    "      probs = F.softmax(logits, dim=1)\n",
    "      # sample from the distribution\n",
    "      ix = torch.multinomial(probs, num_samples=1).item()\n",
    "      # shift the context window and track the samples\n",
    "      context = context[1:] + [ix]\n",
    "      out.append(ix)\n",
    "      # if we sample the special '.' token, break\n",
    "      if ix == 0:\n",
    "        break\n",
    "    \n",
    "    print(''.join(itos[i] for i in out)) # decode and print the generated word"
   ],
   "outputs": [
    {
     "name": "stdout",
     "output_type": "stream",
     "text": [
      "aiyanah.\n",
      "giusopf.\n",
      "lorron.\n",
      "roger.\n",
      "rhyitte.\n",
      "christell.\n",
      "jedmccee.\n",
      "kelipson.\n",
      "briyah.\n",
      "sylot.\n",
      "zennica.\n",
      "mythan.\n",
      "daxphon.\n",
      "petrit.\n",
      "adalie.\n",
      "jeniyah.\n",
      "glatipe.\n",
      "manaswi.\n",
      "yeslee.\n",
      "stephania.\n",
      "kharson.\n",
      "anabella.\n",
      "harlee.\n",
      "mangels.\n",
      "leamir.\n",
      "benu.\n",
      "swayde.\n",
      "jamyly.\n",
      "zaniya.\n",
      "hadyya.\n",
      "jamilyn.\n",
      "calissa.\n",
      "gresling.\n",
      "zhyana.\n",
      "aovene.\n",
      "amirs.\n",
      "jocelen.\n",
      "yuvin.\n",
      "uri.\n",
      "ayomix.\n"
     ]
    }
   ],
   "execution_count": 50
  },
  {
   "cell_type": "markdown",
   "metadata": {},
   "source": [
    "### Next time:\n",
    "Why convolutions? Brief preview/hint"
   ]
  },
  {
   "cell_type": "code",
   "metadata": {
    "ExecuteTime": {
     "end_time": "2025-09-02T14:59:25.545665Z",
     "start_time": "2025-09-02T14:59:25.540857Z"
    }
   },
   "source": [
    "for x,y in zip(Xtr[7:15], Ytr[7:15]):\n",
    "  print(''.join(itos[ix.item()] for ix in x), '-->', itos[y.item()])"
   ],
   "outputs": [
    {
     "name": "stdout",
     "output_type": "stream",
     "text": [
      "........ --> d\n",
      ".......d --> i\n",
      "......di --> o\n",
      ".....dio --> n\n",
      "....dion --> d\n",
      "...diond --> r\n",
      "..diondr --> e\n",
      ".diondre --> .\n"
     ]
    }
   ],
   "execution_count": 51
  },
  {
   "cell_type": "code",
   "metadata": {
    "ExecuteTime": {
     "end_time": "2025-09-02T14:59:25.556839Z",
     "start_time": "2025-09-02T14:59:25.551252Z"
    }
   },
   "source": [
    "# forward a single example:\n",
    "logits = model(Xtr[[7]])\n",
    "logits.shape"
   ],
   "outputs": [
    {
     "data": {
      "text/plain": [
       "torch.Size([1, 27])"
      ]
     },
     "execution_count": 52,
     "metadata": {},
     "output_type": "execute_result"
    }
   ],
   "execution_count": 52
  },
  {
   "cell_type": "code",
   "metadata": {
    "ExecuteTime": {
     "end_time": "2025-09-02T14:59:25.571632Z",
     "start_time": "2025-09-02T14:59:25.562179Z"
    }
   },
   "source": [
    "# forward all of them\n",
    "logits = torch.zeros(8, 27)\n",
    "for i in range(8):\n",
    "  logits[i] = model(Xtr[[7+i]])\n",
    "logits.shape"
   ],
   "outputs": [
    {
     "data": {
      "text/plain": [
       "torch.Size([8, 27])"
      ]
     },
     "execution_count": 53,
     "metadata": {},
     "output_type": "execute_result"
    }
   ],
   "execution_count": 53
  },
  {
   "cell_type": "code",
   "metadata": {
    "ExecuteTime": {
     "end_time": "2025-09-02T14:28:24.060585Z",
     "start_time": "2025-09-02T14:28:24.056319Z"
    }
   },
   "source": [
    "# convolution is a \"for loop\"\n",
    "# allows us to forward Linear layers efficiently over space"
   ],
   "outputs": [],
   "execution_count": 35
  }
 ],
 "metadata": {
  "kernelspec": {
   "display_name": "Python 3",
   "language": "python",
   "name": "python3"
  },
  "language_info": {
   "codemirror_mode": {
    "name": "ipython",
    "version": 3
   },
   "file_extension": ".py",
   "mimetype": "text/x-python",
   "name": "python",
   "nbconvert_exporter": "python",
   "pygments_lexer": "ipython3",
   "version": "3.8.5"
  }
 },
 "nbformat": 4,
 "nbformat_minor": 4
}
