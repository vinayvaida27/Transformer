{
 "cells": [
  {
   "cell_type": "code",
   "execution_count": null,
   "id": "initial_id",
   "metadata": {
    "collapsed": true
   },
   "outputs": [],
   "source": "## Multi Layer Neural network"
  },
  {
   "metadata": {},
   "cell_type": "code",
   "outputs": [],
   "execution_count": null,
   "source": [
    "## in previous Notebook we have seen used single layer perceptron neural network and  Bi gram stats model both of them cannot capture the context better, they dont sound the names better\n",
    "# so in this notebook we use the multilayer perceptron which are useful to generate the meaning full name\n",
    "\n",
    "# so the problem with bi-gram model we face is we are able to capture the context of 2 characters at a time.(that gives us 27 character * 27 characters = 729 possibilities combination comes in context)\n",
    "# if we have the 3 characters as context  we would get (27*27*27 =19,623 combinations context) generating count vector normalizing and everything becomes difficult now.\n",
    "# the modeling approach we gonna follow  is from this research paper bengio et al. 2003 (https://www.jmlr.org/papers/volume3/bengio03a/bengio03a.pdf)\n",
    "\n",
    "\n"
   ],
   "id": "871b15627454a0ab"
  },
  {
   "metadata": {
    "ExecuteTime": {
     "end_time": "2025-07-11T14:27:29.158970Z",
     "start_time": "2025-07-11T14:27:26.698152Z"
    }
   },
   "cell_type": "code",
   "source": [
    "import torch\n",
    "import torch.nn.functional as F\n",
    "import matplotlib.pyplot as plt\n",
    "%matplotlib inline"
   ],
   "id": "a2f91463e9020a1c",
   "outputs": [],
   "execution_count": 1
  },
  {
   "metadata": {
    "ExecuteTime": {
     "end_time": "2025-07-11T14:38:09.748243Z",
     "start_time": "2025-07-11T14:38:09.715029Z"
    }
   },
   "cell_type": "code",
   "source": [
    "words = open('names.txt', 'r').read().splitlines()\n",
    "words[:5]"
   ],
   "id": "cdab35aafdd2ac69",
   "outputs": [
    {
     "data": {
      "text/plain": [
       "['emma', 'olivia', 'ava', 'isabella', 'sophia']"
      ]
     },
     "execution_count": 3,
     "metadata": {},
     "output_type": "execute_result"
    }
   ],
   "execution_count": 3
  },
  {
   "metadata": {
    "ExecuteTime": {
     "end_time": "2025-07-11T14:40:18.233858Z",
     "start_time": "2025-07-11T14:40:18.228269Z"
    }
   },
   "cell_type": "code",
   "source": [
    "chars = sorted(list(set(''.join(words))))\n",
    "stoi = {\n",
    "    s: i+1 for i,s in enumerate(chars)\n",
    "}\n",
    "stoi['.'] = 0\n",
    "itos = { i:s for s,i in stoi.items() }\n"
   ],
   "id": "20a56c1d5b400d4e",
   "outputs": [
    {
     "name": "stdout",
     "output_type": "stream",
     "text": [
      "{1: 'a', 2: 'b', 3: 'c', 4: 'd', 5: 'e', 6: 'f', 7: 'g', 8: 'h', 9: 'i', 10: 'j', 11: 'k', 12: 'l', 13: 'm', 14: 'n', 15: 'o', 16: 'p', 17: 'q', 18: 'r', 19: 's', 20: 't', 21: 'u', 22: 'v', 23: 'w', 24: 'x', 25: 'y', 26: 'z', 0: '.'}\n"
     ]
    }
   ],
   "execution_count": 7
  },
  {
   "metadata": {},
   "cell_type": "markdown",
   "source": "## Creating dataset for Neural Networks from Text File to Input Tensor and Output Tensor",
   "id": "67379305a8347179"
  },
  {
   "metadata": {
    "ExecuteTime": {
     "end_time": "2025-07-11T15:19:36.866331Z",
     "start_time": "2025-07-11T15:19:36.860488Z"
    }
   },
   "cell_type": "code",
   "source": [
    "## data set for neural network\n",
    "\n",
    "block_size = 3 #Context_length: how many characters do we take to predict the next one?\n",
    "X,Y =[],[] # x are inputs and Y are labels\n",
    "\n",
    "for w in words[:1]:\n",
    "\n",
    "    print(w)\n",
    "    context = [0] * block_size\n",
    "\n",
    "    for ch in w + '.':\n",
    "        ix = stoi[ch]\n",
    "        X.append(context)\n",
    "        Y.append(ix)\n",
    "\n",
    "        print(\"input data : \",''.join(itos[i] for i in context), \", Output :\", '=', itos[ix])\n",
    "        print('context :', context)\n",
    "        context = context[1:] + [ix]\n",
    "\n",
    "X = torch.tensor(X)\n",
    "Y = torch.tensor(Y)\n",
    "\n",
    "\n",
    "print('\\n')\n",
    "print(\"input tensor :\", X)\n",
    "\n",
    "print(\"output tensor :\", Y)"
   ],
   "id": "df30e971691caba6",
   "outputs": [
    {
     "name": "stdout",
     "output_type": "stream",
     "text": [
      "emma\n",
      "input data :  ... , Output : = e\n",
      "context : [0, 0, 0]\n",
      "input data :  ..e , Output : = m\n",
      "context : [0, 0, 5]\n",
      "input data :  .em , Output : = m\n",
      "context : [0, 5, 13]\n",
      "input data :  emm , Output : = a\n",
      "context : [5, 13, 13]\n",
      "input data :  mma , Output : = .\n",
      "context : [13, 13, 1]\n",
      "\n",
      "\n",
      "input tensor : tensor([[ 0,  0,  0],\n",
      "        [ 0,  0,  5],\n",
      "        [ 0,  5, 13],\n",
      "        [ 5, 13, 13],\n",
      "        [13, 13,  1]])\n",
      "output tensor : tensor([ 5, 13, 13,  1,  0])\n"
     ]
    }
   ],
   "execution_count": 37
  },
  {
   "metadata": {},
   "cell_type": "code",
   "outputs": [],
   "execution_count": null,
   "source": [
    "\"\"\"\n",
    "Above output explanation\n",
    "\n",
    "you can notes how the input data is store in the input tensor it is simple\n",
    "\n",
    "input data :  ... , Output : = e\n",
    "context : [0, 0, 0]\n",
    "\n",
    "when we get input '...' we have the o/p as 'e'\n",
    "similary i/p = '..e' => o/p = 'm'\n",
    "\n",
    "-> we are trying to take context of 3 character at same time and trying to predict the o/p of what character come next and run in the loop\n",
    "\n",
    "1)so we are able to use above block and change the parameters like block size to get different context\n",
    "2) if we consider all the input and one cblock size we are able to get the whole i/p and o/p data\n",
    "\n",
    "\n",
    "\n",
    "\"\"\""
   ],
   "id": "9aafb3d72ea457d"
  },
  {
   "metadata": {},
   "cell_type": "markdown",
   "source": "# Block size = 5",
   "id": "86a2e1a58372fa34"
  },
  {
   "metadata": {
    "ExecuteTime": {
     "end_time": "2025-07-11T15:24:12.169734Z",
     "start_time": "2025-07-11T15:24:12.164399Z"
    }
   },
   "cell_type": "code",
   "source": [
    "block_size = 5 #Context_length: how many characters do we take to predict the next one?\n",
    "X,Y =[],[] # x are inputs and Y are labels\n",
    "\n",
    "for w in words[:1]:\n",
    "\n",
    "    print(w)\n",
    "    context = [0] * block_size\n",
    "\n",
    "    for ch in w + '.':\n",
    "        ix = stoi[ch]\n",
    "        X.append(context)\n",
    "        Y.append(ix)\n",
    "\n",
    "        print(\"input data : \",''.join(itos[i] for i in context), \", Output :\", '=', itos[ix])\n",
    "        print('context :', context)\n",
    "        context = context[1:] + [ix]\n",
    "\n",
    "X = torch.tensor(X)\n",
    "Y = torch.tensor(Y)\n",
    "\n",
    "\n",
    "print('\\n')\n",
    "print(\"input tensor :\", X)\n",
    "\n",
    "print(\"output tensor :\", Y)"
   ],
   "id": "bbf8520f0eb7ca04",
   "outputs": [
    {
     "name": "stdout",
     "output_type": "stream",
     "text": [
      "emma\n",
      "input data :  ..... , Output : = e\n",
      "context : [0, 0, 0, 0, 0]\n",
      "input data :  ....e , Output : = m\n",
      "context : [0, 0, 0, 0, 5]\n",
      "input data :  ...em , Output : = m\n",
      "context : [0, 0, 0, 5, 13]\n",
      "input data :  ..emm , Output : = a\n",
      "context : [0, 0, 5, 13, 13]\n",
      "input data :  .emma , Output : = .\n",
      "context : [0, 5, 13, 13, 1]\n",
      "\n",
      "\n",
      "input tensor : tensor([[ 0,  0,  0,  0,  0],\n",
      "        [ 0,  0,  0,  0,  5],\n",
      "        [ 0,  0,  0,  5, 13],\n",
      "        [ 0,  0,  5, 13, 13],\n",
      "        [ 0,  5, 13, 13,  1]])\n",
      "output tensor : tensor([ 5, 13, 13,  1,  0])\n"
     ]
    }
   ],
   "execution_count": 38
  },
  {
   "metadata": {},
   "cell_type": "markdown",
   "source": "### above we are trying to take 5 character as input and predicting what comes next as o/p",
   "id": "9695ecaf3199aba3"
  },
  {
   "metadata": {
    "ExecuteTime": {
     "end_time": "2025-07-11T15:31:01.387920Z",
     "start_time": "2025-07-11T15:31:00.948193Z"
    }
   },
   "cell_type": "code",
   "source": [
    "block_size = 3 #Context_length: how many characters do we take to predict the next one?\n",
    "X,Y =[],[] # x are inputs and Y are labels\n",
    "\n",
    "for w in words:\n",
    "\n",
    "    #print(w)\n",
    "    context = [0] * block_size\n",
    "\n",
    "    for ch in w + '.':\n",
    "        ix = stoi[ch]\n",
    "        X.append(context)\n",
    "        Y.append(ix)\n",
    "\n",
    "        #print(\"input data : \",''.join(itos[i] for i in context), \", Output :\", '=', itos[ix])\n",
    "        #print('context :', context)\n",
    "        context = context[1:] + [ix]\n",
    "\n",
    "X = torch.tensor(X)\n",
    "Y = torch.tensor(Y)\n",
    "X"
   ],
   "id": "ab013fef48297968",
   "outputs": [
    {
     "data": {
      "text/plain": [
       "tensor([[ 0,  0,  0],\n",
       "        [ 0,  0,  5],\n",
       "        [ 0,  5, 13],\n",
       "        ...,\n",
       "        [26, 26, 25],\n",
       "        [26, 25, 26],\n",
       "        [25, 26, 24]])"
      ]
     },
     "execution_count": 49,
     "metadata": {},
     "output_type": "execute_result"
    }
   ],
   "execution_count": 49
  },
  {
   "metadata": {
    "ExecuteTime": {
     "end_time": "2025-07-11T15:31:02.178359Z",
     "start_time": "2025-07-11T15:31:02.172132Z"
    }
   },
   "cell_type": "code",
   "source": [
    "import pandas as pd\n",
    "pd.DataFrame(Y)"
   ],
   "id": "9fbc192d9e0b8e45",
   "outputs": [
    {
     "data": {
      "text/plain": [
       "         0\n",
       "0        5\n",
       "1       13\n",
       "2       13\n",
       "3        1\n",
       "4        0\n",
       "...     ..\n",
       "228141  26\n",
       "228142  25\n",
       "228143  26\n",
       "228144  24\n",
       "228145   0\n",
       "\n",
       "[228146 rows x 1 columns]"
      ],
      "text/html": [
       "<div>\n",
       "<style scoped>\n",
       "    .dataframe tbody tr th:only-of-type {\n",
       "        vertical-align: middle;\n",
       "    }\n",
       "\n",
       "    .dataframe tbody tr th {\n",
       "        vertical-align: top;\n",
       "    }\n",
       "\n",
       "    .dataframe thead th {\n",
       "        text-align: right;\n",
       "    }\n",
       "</style>\n",
       "<table border=\"1\" class=\"dataframe\">\n",
       "  <thead>\n",
       "    <tr style=\"text-align: right;\">\n",
       "      <th></th>\n",
       "      <th>0</th>\n",
       "    </tr>\n",
       "  </thead>\n",
       "  <tbody>\n",
       "    <tr>\n",
       "      <th>0</th>\n",
       "      <td>5</td>\n",
       "    </tr>\n",
       "    <tr>\n",
       "      <th>1</th>\n",
       "      <td>13</td>\n",
       "    </tr>\n",
       "    <tr>\n",
       "      <th>2</th>\n",
       "      <td>13</td>\n",
       "    </tr>\n",
       "    <tr>\n",
       "      <th>3</th>\n",
       "      <td>1</td>\n",
       "    </tr>\n",
       "    <tr>\n",
       "      <th>4</th>\n",
       "      <td>0</td>\n",
       "    </tr>\n",
       "    <tr>\n",
       "      <th>...</th>\n",
       "      <td>...</td>\n",
       "    </tr>\n",
       "    <tr>\n",
       "      <th>228141</th>\n",
       "      <td>26</td>\n",
       "    </tr>\n",
       "    <tr>\n",
       "      <th>228142</th>\n",
       "      <td>25</td>\n",
       "    </tr>\n",
       "    <tr>\n",
       "      <th>228143</th>\n",
       "      <td>26</td>\n",
       "    </tr>\n",
       "    <tr>\n",
       "      <th>228144</th>\n",
       "      <td>24</td>\n",
       "    </tr>\n",
       "    <tr>\n",
       "      <th>228145</th>\n",
       "      <td>0</td>\n",
       "    </tr>\n",
       "  </tbody>\n",
       "</table>\n",
       "<p>228146 rows × 1 columns</p>\n",
       "</div>"
      ]
     },
     "execution_count": 50,
     "metadata": {},
     "output_type": "execute_result"
    }
   ],
   "execution_count": 50
  },
  {
   "metadata": {
    "ExecuteTime": {
     "end_time": "2025-07-11T15:31:08.719793Z",
     "start_time": "2025-07-11T15:31:08.715350Z"
    }
   },
   "cell_type": "code",
   "source": [
    "\"\"\"\n",
    "1. now the Test data with the block_size/context = 3 is ready and o/p is also ready fo the model to get trained on.\n",
    "2.\n",
    "\"\"\""
   ],
   "id": "db5fdadbdf89bd9f",
   "outputs": [
    {
     "data": {
      "text/plain": [
       "'\\n1. now the Test data with the block_size/context = 3 is ready and o/p is also ready fo rthe model to get trianned on\\n'"
      ]
     },
     "execution_count": 51,
     "metadata": {},
     "output_type": "execute_result"
    }
   ],
   "execution_count": 51
  },
  {
   "metadata": {
    "ExecuteTime": {
     "end_time": "2025-07-11T15:32:07.860708Z",
     "start_time": "2025-07-11T15:32:07.856158Z"
    }
   },
   "cell_type": "code",
   "source": "(X.shape, X.dtype), (Y.shape, Y.dtype)",
   "id": "f6abc7661359b0cd",
   "outputs": [
    {
     "data": {
      "text/plain": [
       "((torch.Size([228146, 3]), torch.int64), (torch.Size([228146]), torch.int64))"
      ]
     },
     "execution_count": 53,
     "metadata": {},
     "output_type": "execute_result"
    }
   ],
   "execution_count": 53
  },
  {
   "metadata": {},
   "cell_type": "code",
   "outputs": [],
   "execution_count": null,
   "source": [
    "## so our tensor matrix x has 228146 rows and 3 columns only both of there dtype is integer\n",
    "\n",
    "## In paper they have 17,000 words and they embedded in 30 dimensional\n",
    "\n",
    "## in our case we have only 27 possible characters so let's consider 2- dimensional space so we have 27 charcter with 2 dimenisonal space(27*2) tensor"
   ],
   "id": "a8badac9970dacd9"
  },
  {
   "metadata": {
    "ExecuteTime": {
     "end_time": "2025-07-11T15:43:47.235606Z",
     "start_time": "2025-07-11T15:43:47.230144Z"
    }
   },
   "cell_type": "code",
   "source": [
    "# let embedded the 2 random numbers with 27*2\n",
    "\n",
    "C = torch.randn((27,2)) # the weight Matrix is C it is represented as C because of research paper\n",
    "C"
   ],
   "id": "90c4cf80a2bf2f3c",
   "outputs": [
    {
     "data": {
      "text/plain": [
       "tensor([[-0.5027,  0.8715],\n",
       "        [ 1.6704,  0.8234],\n",
       "        [-0.5630, -0.2439],\n",
       "        [ 0.2107, -1.3640],\n",
       "        [-0.7531,  0.3911],\n",
       "        [ 0.0965,  0.0613],\n",
       "        [ 0.6137, -2.2380],\n",
       "        [ 0.1893,  0.3401],\n",
       "        [-0.9191, -1.2767],\n",
       "        [ 0.9177, -0.0755],\n",
       "        [ 1.6452,  2.2990],\n",
       "        [-1.1870,  1.7304],\n",
       "        [-1.0177, -0.5633],\n",
       "        [ 1.0176,  0.5821],\n",
       "        [-0.5160, -1.0842],\n",
       "        [ 1.7583,  0.1848],\n",
       "        [-2.1371,  0.7803],\n",
       "        [-1.5838,  0.6372],\n",
       "        [-0.1884, -1.4087],\n",
       "        [-0.3574, -0.2132],\n",
       "        [-0.5377,  1.0338],\n",
       "        [ 0.6379,  0.3611],\n",
       "        [ 0.2035, -0.4935],\n",
       "        [ 0.1628, -0.7074],\n",
       "        [-1.0163,  0.7758],\n",
       "        [-1.0250,  0.1586],\n",
       "        [ 1.1187, -0.1005]])"
      ]
     },
     "execution_count": 60,
     "metadata": {},
     "output_type": "execute_result"
    }
   ],
   "execution_count": 60
  },
  {
   "metadata": {
    "ExecuteTime": {
     "end_time": "2025-07-11T15:41:22.164206Z",
     "start_time": "2025-07-11T15:41:22.159141Z"
    }
   },
   "cell_type": "code",
   "source": "C[5]",
   "id": "8d1c6c7ebbdd3d61",
   "outputs": [
    {
     "data": {
      "text/plain": [
       "tensor([0.5309, 0.3936])"
      ]
     },
     "execution_count": 57,
     "metadata": {},
     "output_type": "execute_result"
    }
   ],
   "execution_count": 57
  },
  {
   "metadata": {
    "ExecuteTime": {
     "end_time": "2025-07-11T15:47:49.624788Z",
     "start_time": "2025-07-11T15:47:49.614979Z"
    }
   },
   "cell_type": "code",
   "source": [
    "#Example\n",
    "\n",
    "(F.one_hot(torch.tensor(5), num_classes=27).float()) @ C"
   ],
   "id": "f3a337bff25f2141",
   "outputs": [
    {
     "data": {
      "text/plain": [
       "tensor([0.0965, 0.0613])"
      ]
     },
     "execution_count": 65,
     "metadata": {},
     "output_type": "execute_result"
    }
   ],
   "execution_count": 65
  },
  {
   "metadata": {},
   "cell_type": "code",
   "outputs": [],
   "execution_count": null,
   "source": "# if we multiply the weight vector(C) * index_vector/one_hot encoding vector of the input(X) = we get the Result from the first layer",
   "id": "91bf9541d1ecd513"
  },
  {
   "metadata": {
    "ExecuteTime": {
     "end_time": "2025-07-11T15:57:22.792084Z",
     "start_time": "2025-07-11T15:57:22.784271Z"
    }
   },
   "cell_type": "code",
   "source": [
    "C = torch.randn((27,2))\n",
    "C ## c is noting buit one type of encoding"
   ],
   "id": "9f163d4210a00987",
   "outputs": [
    {
     "data": {
      "text/plain": [
       "tensor([[-0.5978, -0.7147],\n",
       "        [-0.5285,  0.5865],\n",
       "        [-1.4994,  0.3971],\n",
       "        [ 0.4928,  0.8248],\n",
       "        [-0.2717,  1.1332],\n",
       "        [ 0.7461,  0.4762],\n",
       "        [ 1.1987,  0.3515],\n",
       "        [-0.7940, -0.7886],\n",
       "        [-0.5782, -0.0506],\n",
       "        [-0.6811,  0.1497],\n",
       "        [-0.1734, -0.1477],\n",
       "        [ 0.5712,  0.0527],\n",
       "        [-1.2045, -0.4160],\n",
       "        [ 0.9480,  0.9380],\n",
       "        [ 1.2135, -0.8686],\n",
       "        [-0.8709, -0.4112],\n",
       "        [-0.7289, -0.6578],\n",
       "        [ 1.2973,  0.4326],\n",
       "        [ 0.2009, -0.5566],\n",
       "        [ 0.1841, -0.1151],\n",
       "        [-0.1430,  0.0753],\n",
       "        [-0.7440,  0.4990],\n",
       "        [ 0.1834, -0.6401],\n",
       "        [ 1.3906,  2.0530],\n",
       "        [-1.4367, -0.9865],\n",
       "        [-0.3766,  0.1291],\n",
       "        [-0.0449,  1.5053]])"
      ]
     },
     "execution_count": 66,
     "metadata": {},
     "output_type": "execute_result"
    }
   ],
   "execution_count": 66
  },
  {
   "metadata": {
    "ExecuteTime": {
     "end_time": "2025-07-11T15:58:29.761104Z",
     "start_time": "2025-07-11T15:58:29.755261Z"
    }
   },
   "cell_type": "code",
   "source": [
    "# we want to encode one number 5 we can simply pass this number to the Embedding tensor C and get the output i.e.,\n",
    "\n",
    "C[5] #Give embedding of 5 in 2d Vector Space"
   ],
   "id": "655e7724225f6ce6",
   "outputs": [
    {
     "data": {
      "text/plain": [
       "tensor([0.7461, 0.4762])"
      ]
     },
     "execution_count": 67,
     "metadata": {},
     "output_type": "execute_result"
    }
   ],
   "execution_count": 67
  },
  {
   "metadata": {
    "ExecuteTime": {
     "end_time": "2025-07-11T15:59:15.750550Z",
     "start_time": "2025-07-11T15:59:15.745922Z"
    }
   },
   "cell_type": "code",
   "source": [
    "# what if the embedding is like list\n",
    "\n",
    "print(C[[2,3,4]]) # we got the embedding of 3 integer vector as below\n"
   ],
   "id": "7af03145d23088db",
   "outputs": [
    {
     "name": "stdout",
     "output_type": "stream",
     "text": [
      "tensor([[-1.4994,  0.3971],\n",
      "        [ 0.4928,  0.8248],\n",
      "        [-0.2717,  1.1332]])\n"
     ]
    }
   ],
   "execution_count": 69
  },
  {
   "metadata": {
    "ExecuteTime": {
     "end_time": "2025-07-11T16:00:34.183659Z",
     "start_time": "2025-07-11T16:00:34.178142Z"
    }
   },
   "cell_type": "code",
   "source": [
    "# what if we give the tensor input to get embedding\n",
    "\n",
    "print(C[torch.tensor([5,6,7,7,7,7,7,7,])]) # still we are able to get the embedding by giving tensor matrix as input"
   ],
   "id": "684794359b52802b",
   "outputs": [
    {
     "name": "stdout",
     "output_type": "stream",
     "text": [
      "tensor([[ 0.7461,  0.4762],\n",
      "        [ 1.1987,  0.3515],\n",
      "        [-0.7940, -0.7886],\n",
      "        [-0.7940, -0.7886],\n",
      "        [-0.7940, -0.7886],\n",
      "        [-0.7940, -0.7886],\n",
      "        [-0.7940, -0.7886],\n",
      "        [-0.7940, -0.7886]])\n"
     ]
    }
   ],
   "execution_count": 71
  },
  {
   "metadata": {},
   "cell_type": "code",
   "outputs": [],
   "execution_count": null,
   "source": [
    "\"\"\"\n",
    "Full explanation of C\n",
    "\n",
    " C is the embedding vector  when you pass the single integer -> we get the embedding of that single integer\n",
    "if we pass list to embedding vector c -> we goonna get embedding for that list passed\n",
    "if we pass the tensor to embedding vector -. we gonna get th emebedding for that tensor\n",
    "\n",
    "\n",
    "to get emebedding for anything we need to pass it to the C\n",
    "\n",
    "\"\"\""
   ],
   "id": "1e5bc35f693b87b6"
  },
  {
   "metadata": {
    "ExecuteTime": {
     "end_time": "2025-07-11T16:03:56.532241Z",
     "start_time": "2025-07-11T16:03:56.522748Z"
    }
   },
   "cell_type": "code",
   "source": "C[X]",
   "id": "84e3f5464cbff43f",
   "outputs": [
    {
     "data": {
      "text/plain": [
       "tensor([[[-0.5978, -0.7147],\n",
       "         [-0.5978, -0.7147],\n",
       "         [-0.5978, -0.7147]],\n",
       "\n",
       "        [[-0.5978, -0.7147],\n",
       "         [-0.5978, -0.7147],\n",
       "         [ 0.7461,  0.4762]],\n",
       "\n",
       "        [[-0.5978, -0.7147],\n",
       "         [ 0.7461,  0.4762],\n",
       "         [ 0.9480,  0.9380]],\n",
       "\n",
       "        ...,\n",
       "\n",
       "        [[-0.0449,  1.5053],\n",
       "         [-0.0449,  1.5053],\n",
       "         [-0.3766,  0.1291]],\n",
       "\n",
       "        [[-0.0449,  1.5053],\n",
       "         [-0.3766,  0.1291],\n",
       "         [-0.0449,  1.5053]],\n",
       "\n",
       "        [[-0.3766,  0.1291],\n",
       "         [-0.0449,  1.5053],\n",
       "         [-1.4367, -0.9865]]])"
      ]
     },
     "execution_count": 72,
     "metadata": {},
     "output_type": "execute_result"
    }
   ],
   "execution_count": 72
  },
  {
   "metadata": {
    "ExecuteTime": {
     "end_time": "2025-07-11T16:04:11.272022Z",
     "start_time": "2025-07-11T16:04:11.265102Z"
    }
   },
   "cell_type": "code",
   "source": "C[X].shape",
   "id": "fdfda423e7a1a6e3",
   "outputs": [
    {
     "data": {
      "text/plain": [
       "torch.Size([228146, 3, 2])"
      ]
     },
     "execution_count": 73,
     "metadata": {},
     "output_type": "execute_result"
    }
   ],
   "execution_count": 73
  },
  {
   "metadata": {},
   "cell_type": "markdown",
   "source": "now our input is embeeded",
   "id": "b540d145d62b6000"
  },
  {
   "metadata": {},
   "cell_type": "code",
   "outputs": [],
   "execution_count": null,
   "source": "",
   "id": "458f836736cf59cf"
  }
 ],
 "metadata": {
  "kernelspec": {
   "display_name": "Python 3",
   "language": "python",
   "name": "python3"
  },
  "language_info": {
   "codemirror_mode": {
    "name": "ipython",
    "version": 2
   },
   "file_extension": ".py",
   "mimetype": "text/x-python",
   "name": "python",
   "nbconvert_exporter": "python",
   "pygments_lexer": "ipython2",
   "version": "2.7.6"
  }
 },
 "nbformat": 4,
 "nbformat_minor": 5
}
