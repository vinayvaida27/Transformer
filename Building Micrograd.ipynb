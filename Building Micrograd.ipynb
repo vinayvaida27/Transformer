{
 "cells": [
  {
   "cell_type": "code",
   "id": "initial_id",
   "metadata": {
    "collapsed": true,
    "ExecuteTime": {
     "end_time": "2025-08-24T12:27:26.860805Z",
     "start_time": "2025-08-24T12:27:26.856486Z"
    }
   },
   "source": [
    "import math\n",
    "import numpy as np\n",
    "import matplotlib.pyplot as plt\n",
    "%matplotlib inline"
   ],
   "outputs": [],
   "execution_count": 2
  },
  {
   "metadata": {
    "ExecuteTime": {
     "end_time": "2025-08-21T17:52:17.891062Z",
     "start_time": "2025-08-21T17:52:17.882430Z"
    }
   },
   "cell_type": "markdown",
   "source": "## Creating function",
   "id": "acf6d7e830df5e69"
  },
  {
   "metadata": {
    "ExecuteTime": {
     "end_time": "2025-08-24T12:27:27.981855Z",
     "start_time": "2025-08-24T12:27:27.974724Z"
    }
   },
   "cell_type": "code",
   "source": [
    "def f(x):\n",
    "    return 3*x**2 - 4*x + 5\n",
    "f(3)"
   ],
   "id": "9d68b6cdf19affd9",
   "outputs": [
    {
     "data": {
      "text/plain": [
       "20"
      ]
     },
     "execution_count": 3,
     "metadata": {},
     "output_type": "execute_result"
    }
   ],
   "execution_count": 3
  },
  {
   "metadata": {
    "ExecuteTime": {
     "end_time": "2025-08-24T12:27:29.029958Z",
     "start_time": "2025-08-24T12:27:29.020943Z"
    }
   },
   "cell_type": "code",
   "source": "print(np.arange(-5,5,0.25))",
   "id": "498453cd02daab3d",
   "outputs": [
    {
     "name": "stdout",
     "output_type": "stream",
     "text": [
      "[-5.   -4.75 -4.5  -4.25 -4.   -3.75 -3.5  -3.25 -3.   -2.75 -2.5  -2.25\n",
      " -2.   -1.75 -1.5  -1.25 -1.   -0.75 -0.5  -0.25  0.    0.25  0.5   0.75\n",
      "  1.    1.25  1.5   1.75  2.    2.25  2.5   2.75  3.    3.25  3.5   3.75\n",
      "  4.    4.25  4.5   4.75]\n"
     ]
    }
   ],
   "execution_count": 4
  },
  {
   "metadata": {
    "ExecuteTime": {
     "end_time": "2025-08-24T12:27:30.075261Z",
     "start_time": "2025-08-24T12:27:29.881868Z"
    }
   },
   "cell_type": "code",
   "source": [
    "xs = np.arange(-5,5,0.25)\n",
    "ys = f(xs)\n",
    "plt.plot(xs,ys)"
   ],
   "id": "6670b21f1573083",
   "outputs": [
    {
     "data": {
      "text/plain": [
       "[<matplotlib.lines.Line2D at 0x1c8ffa50d90>]"
      ]
     },
     "execution_count": 5,
     "metadata": {},
     "output_type": "execute_result"
    },
    {
     "data": {
      "text/plain": [
       "<Figure size 640x480 with 1 Axes>"
      ],
      "image/png": "[encoded data removed]"
     },
     "metadata": {},
     "output_type": "display_data"
    }
   ],
   "execution_count": 5
  },
  {
   "metadata": {
    "ExecuteTime": {
     "end_time": "2025-08-24T12:27:30.915654Z",
     "start_time": "2025-08-24T12:27:30.909590Z"
    }
   },
   "cell_type": "code",
   "source": [
    "'''\n",
    "so Now we in general by hand we find the derivative of function by calculating (dx/dy) which is the slope of the curve\n",
    "\n",
    "but in general according to derivative formula it limit x->0 ((f(x+h)-f(x))/h) make h as small as you can\n",
    "\n",
    "'''\n",
    "\n",
    "h = 0.000001\n",
    "x = 2/3   #it's nothing but, we are trying to find the slope at point 2/3 on x asix\n",
    "(f(x+h)-f(x))/h"
   ],
   "id": "23389b19d33c74a1",
   "outputs": [
    {
     "data": {
      "text/plain": [
       "2.999378523327323e-06"
      ]
     },
     "execution_count": 6,
     "metadata": {},
     "output_type": "execute_result"
    }
   ],
   "execution_count": 6
  },
  {
   "metadata": {},
   "cell_type": "markdown",
   "source": [
    "# Understanding the Slope at a Point\n",
    "\n",
    "We want to find the slope of the function:\n",
    "\n",
    "$$\n",
    "f(x) = 3x^2 - 4x + 5\n",
    "$$\n",
    "\n",
    "at the point:\n",
    "\n",
    "$$\n",
    "x = \\tfrac{2}{3}\n",
    "$$\n",
    "\n",
    "---\n",
    "\n",
    "## What does slope mean?\n",
    "\n",
    "Think of the curve as a **hill**:\n",
    "\n",
    "- A **positive slope** → you are going uphill.  \n",
    "- A **negative slope** → you are going downhill.  \n",
    "- A slope of **0** → the ground is flat.  \n",
    "\n",
    "So, slope tells us how steep the curve is at a specific point.\n",
    "\n",
    "---\n",
    "\n",
    "## How do we calculate slope?\n",
    "\n",
    "We use the formula:\n",
    "\n",
    "$$\n",
    "\\frac{f(x+h) - f(x)}{h}\n",
    "$$\n",
    "\n",
    "where \\(h\\) is a very small step (e.g., `0.000001`).\n",
    "\n",
    "- \\(f(x+h)\\) = the function value a tiny step forward.  \n",
    "- \\(f(x)\\) = the function value at the point.  \n",
    "- Numerator: \\(f(x+h) - f(x)\\) → the change in height.  \n",
    "- Denominator: \\(h\\) → the change in step.  \n",
    "\n",
    "So the fraction gives **change per step** = slope.\n",
    "\n",
    "---\n",
    "\n",
    "## Why must \\(h\\) be small?\n",
    "\n",
    "- If \\(h\\) is **large** (like 1), you get the slope over a big interval → not accurate.  \n",
    "- If \\(h\\) is **tiny** (like 0.000001), you get the slope *right at the point*.  \n",
    "\n",
    "This is the idea of a **derivative**.\n",
    "\n",
    "---\n",
    "\n",
    "## The derivative shortcut\n",
    "\n",
    "Instead of approximating, calculus gives a direct formula:\n",
    "\n",
    "$$\n",
    "f'(x) = 6x - 4\n",
    "$$\n",
    "\n",
    "Now plug in \\(x = \\tfrac{2}{3}\\):\n",
    "\n",
    "$$\n",
    "f'(2/3) = 6 \\cdot \\tfrac{2}{3} - 4 = 0\n",
    "$$\n",
    "\n",
    "✅ The slope at \\(x = 2/3\\) is **0** → the curve is perfectly flat there.\n",
    "\n",
    "---\n",
    "\n",
    "## Python Example\n",
    "\n",
    "```python\n",
    "def f(x):\n",
    "    return 3*x**2 - 4*x + 5\n",
    "\n",
    "# Approximation with small h\n",
    "h = 0.000001\n",
    "x = 2/3\n",
    "approx_slope = (f(x+h) - f(x)) / h\n",
    "\n",
    "# Exact derivative\n",
    "exact_slope = 6*x - 4\n",
    "\n",
    "print(\"Approximate slope:\", approx_slope)\n",
    "print(\"Exact slope:\", exact_slope)\n",
    "```\n",
    "```yaml\n",
    "Approximate slope: ~0.000000\n",
    "Exact slope: 0\n",
    "```\n",
    "\n",
    "In neural networks, derivatives (slopes) show how much the error changes when weights change. They guide weight updates using gradient descent, ensuring the network learns patterns effectively. Without slopes, the model can’t know which direction improves predictions.\n",
    "\n",
    "\n"
   ],
   "id": "f238300949cb1b15"
  },
  {
   "metadata": {
    "ExecuteTime": {
     "end_time": "2025-08-24T13:00:59.880788Z",
     "start_time": "2025-08-24T13:00:59.875787Z"
    }
   },
   "cell_type": "code",
   "source": [
    "def f(x):\n",
    "    return 3*x**2 - 4*x + 5\n",
    "\n",
    "# Approximation with small h\n",
    "h = 0.00001\n",
    "x = 2/3\n",
    "approx_slope = (f(x+h) - f(x)) / h\n",
    "\n",
    "# Exact derivative\n",
    "exact_slope = 6*x - 4\n",
    "\n",
    "print(\"Approximate slope:\", round(approx_slope,4))\n",
    "print(\"Exact slope:\", exact_slope)"
   ],
   "id": "edf7ea00334fb325",
   "outputs": [
    {
     "name": "stdout",
     "output_type": "stream",
     "text": [
      "Approximate slope: 0.0\n",
      "Exact slope: 0.0\n"
     ]
    }
   ],
   "execution_count": 30
  },
  {
   "metadata": {
    "ExecuteTime": {
     "end_time": "2025-08-24T12:53:54.951272Z",
     "start_time": "2025-08-24T12:53:54.947117Z"
    }
   },
   "cell_type": "code",
   "source": [
    "## Now let's do complex problem\n",
    "\n",
    "a = 2.0\n",
    "b = -3.0\n",
    "c = 10.0\n",
    "d = a*b + c\n",
    "print(d)"
   ],
   "id": "6ecdbcc13d6aab4a",
   "outputs": [
    {
     "name": "stdout",
     "output_type": "stream",
     "text": [
      "4.0\n"
     ]
    }
   ],
   "execution_count": 18
  },
  {
   "metadata": {
    "ExecuteTime": {
     "end_time": "2025-08-24T12:27:32.406273Z",
     "start_time": "2025-08-24T12:27:32.399273Z"
    }
   },
   "cell_type": "code",
   "source": [
    "h = 0.000001\n",
    "\n",
    "a = 2.0\n",
    "b = -3.0\n",
    "c = 10.0\n",
    "\n",
    "# before updating weights\n",
    "d1 = a*b + c\n",
    "\n",
    "c = c + h\n",
    "\n",
    "#after updating weigths\n",
    "d2 = a*b + c\n",
    "\n",
    "print('d1',d1)\n",
    "print('d2', d2)\n",
    "print('slope ', (d2-d1)/h)"
   ],
   "id": "dee3d44c079e4a9d",
   "outputs": [
    {
     "name": "stdout",
     "output_type": "stream",
     "text": [
      "d1 4.0\n",
      "d2 4.000000999999999\n",
      "slope  0.9999999992515995\n"
     ]
    }
   ],
   "execution_count": 8
  },
  {
   "metadata": {},
   "cell_type": "markdown",
   "source": [
    "### Explaining the Concept of Slope with a Simple Example\n",
    "\n",
    "In simple words, **`d1` is like a curve going in one direction**.\n",
    "When we add a small value (`h`) to it, the curve will either **increase or decrease** based on the slope value.\n",
    "\n",
    "So we initialized a random variable `h`, added it, and calculated the slope at that particular point.\n",
    "\n",
    "Based on the slope, we can know whether increasing each variable (`a`, `b`, or `c`) will give us a **positive** or **negative** slope.\n",
    "\n",
    "---\n",
    "\n",
    "### Cases\n",
    "\n",
    "1. **When we increase the value of `a` by 0.00001**\n",
    "   → `d2` decreases, slope is **negative**.\n",
    "\n",
    "2. **When we increase the value of `b` by 0.00001**\n",
    "   → `d2` increases, slope is **positive**.\n",
    "\n",
    "3. **When we increase the value of `c` by 0.00001**\n",
    "   → `d2` increases, slope is **positive**.\n",
    "\n",
    "---\n",
    "\n",
    "### Imagine a Hill\n",
    "\n",
    "Think of a **hill** that you’re standing on:\n",
    "\n",
    "- If the hill goes **up** when you take a tiny step forward → slope is **positive**.\n",
    "- If the hill goes **down** when you take a tiny step forward → slope is **negative**.\n",
    "- If it stays **flat** → slope is **zero**.\n",
    "\n",
    "---\n",
    "\n",
    "### Cases Explained in Hill Analogy\n",
    "\n",
    "- **Change a little bit of `a`:**\n",
    "  If `d` gets smaller → slope is negative (hill goes down).\n",
    "\n",
    "- **Change a little bit of `b`:**\n",
    "  If `d` gets bigger → slope is positive (hill goes up).\n",
    "\n",
    "- **Change a little bit of `c`:**\n",
    "  If `d` gets bigger → slope is positive (hill goes up).\n",
    "\n",
    "---\n",
    "\n",
    "### What It Means\n",
    "\n",
    "This is exactly how a **computer learns in machine learning**:\n",
    "\n",
    "-> It keeps nudging numbers (like `a`, `b`, `c`) by a tiny step and checks: *“Did things get better or worse?”*\n",
    "\n",
    "- If **better** → keep going that way.\n",
    "- If **worse** → go the opposite way.\n",
    "\n",
    "It’s like playing **hot and cold** with math until you find the **lowest point of the hill**.\n"
   ],
   "id": "8a538298045f8669"
  },
  {
   "metadata": {
    "ExecuteTime": {
     "end_time": "2025-08-24T12:43:55.587317Z",
     "start_time": "2025-08-24T12:43:55.582269Z"
    }
   },
   "cell_type": "code",
   "source": [
    "class Value:\n",
    "    def __init__(self, data):\n",
    "        self.data = data\n",
    "    def __repr__(self):\n",
    "        return f\"value(data={self.data})\"\n",
    "\n",
    "# so we are trying  to show that value with the class such that we can print values and what the value is\n",
    "X = Value(10)\n",
    "print(X)\n",
    "print(X.data)"
   ],
   "id": "ffde83929d8414be",
   "outputs": [
    {
     "name": "stdout",
     "output_type": "stream",
     "text": [
      "value(data=10)\n",
      "10\n"
     ]
    }
   ],
   "execution_count": 9
  },
  {
   "metadata": {},
   "cell_type": "markdown",
   "source": "## Visual development of neurons",
   "id": "e1e4e52152a43188"
  },
  {
   "metadata": {
    "ExecuteTime": {
     "end_time": "2025-08-24T12:43:56.620316Z",
     "start_time": "2025-08-24T12:43:56.614054Z"
    }
   },
   "cell_type": "code",
   "source": [
    "class Value:\n",
    "    def __init__(self, data):\n",
    "        self.data = data\n",
    "    def __repr__(self):\n",
    "        return f\"value(data={self.data})\"\n",
    "    def __add__(self, other):\n",
    "        out = Value(self.data + other.data)\n",
    "        return out\n",
    "\n",
    "a = Value(2.0)\n",
    "b = Value(-3.0)\n",
    "\n",
    "print(a + b)\n",
    "## python will internally call a.__add__(b)\n",
    "\n",
    "print(a.data + b.data)"
   ],
   "id": "a408b5de6f1cea89",
   "outputs": [
    {
     "name": "stdout",
     "output_type": "stream",
     "text": [
      "value(data=-1.0)\n",
      "-1.0\n"
     ]
    }
   ],
   "execution_count": 10
  },
  {
   "metadata": {
    "ExecuteTime": {
     "end_time": "2025-08-24T12:43:56.996643Z",
     "start_time": "2025-08-24T12:43:56.989643Z"
    }
   },
   "cell_type": "code",
   "source": [
    "## Now we would like to multiplication to our class\n",
    "class Value:\n",
    "    def __init__(self, data, _children=()):\n",
    "        self.data = data\n",
    "        self._prev = set(_children)\n",
    "        \n",
    "    def __repr__(self):\n",
    "        return f\"value(data={self.data})\"\n",
    "    def __add__(self, other):\n",
    "        out = Value(self.data + other.data)\n",
    "        return out\n",
    "    def __mul__(self, other):\n",
    "        out = Value(self.data *  other.data)\n",
    "        return out\n",
    "a = Value(2.0)\n",
    "b = Value(-3.0)\n",
    "\n",
    "print(a * b)\n",
    "print(a.data * b.data)"
   ],
   "id": "75a1efb11454513c",
   "outputs": [
    {
     "name": "stdout",
     "output_type": "stream",
     "text": [
      "value(data=-6.0)\n",
      "-6.0\n"
     ]
    }
   ],
   "execution_count": 11
  },
  {
   "metadata": {
    "ExecuteTime": {
     "end_time": "2025-08-24T12:43:57.376146Z",
     "start_time": "2025-08-24T12:43:57.371147Z"
    }
   },
   "cell_type": "code",
   "source": [
    "a = Value(2.0)\n",
    "b = Value(-3.0)\n",
    "c = Value(10.0)\n",
    "\n",
    "a*b + c # what it does internally is (a.__mul__(b)).__add__(c)"
   ],
   "id": "d322084255a28a0b",
   "outputs": [
    {
     "data": {
      "text/plain": [
       "value(data=4.0)"
      ]
     },
     "execution_count": 12,
     "metadata": {},
     "output_type": "execute_result"
    }
   ],
   "execution_count": 12
  },
  {
   "metadata": {
    "ExecuteTime": {
     "end_time": "2025-08-24T12:43:57.797112Z",
     "start_time": "2025-08-24T12:43:57.791004Z"
    }
   },
   "cell_type": "code",
   "source": [
    "d = a*b + c\n",
    "d"
   ],
   "id": "4534bd6ea787435d",
   "outputs": [
    {
     "data": {
      "text/plain": [
       "value(data=4.0)"
      ]
     },
     "execution_count": 13,
     "metadata": {},
     "output_type": "execute_result"
    }
   ],
   "execution_count": 13
  },
  {
   "metadata": {
    "ExecuteTime": {
     "end_time": "2025-08-24T12:43:58.075800Z",
     "start_time": "2025-08-24T12:43:58.069757Z"
    }
   },
   "cell_type": "code",
   "source": "d._prev",
   "id": "ff583111ab4c9273",
   "outputs": [
    {
     "data": {
      "text/plain": [
       "set()"
      ]
     },
     "execution_count": 14,
     "metadata": {},
     "output_type": "execute_result"
    }
   ],
   "execution_count": 14
  },
  {
   "metadata": {
    "ExecuteTime": {
     "end_time": "2025-08-24T12:43:59.086632Z",
     "start_time": "2025-08-24T12:43:58.306641Z"
    }
   },
   "cell_type": "code",
   "source": [
    "from graphviz import Digraph\n",
    "\n",
    "def trace(root):\n",
    "  # builds a set of all nodes and edges in a graph\n",
    "  nodes, edges = set(), set()\n",
    "  def build(v):\n",
    "    if v not in nodes:\n",
    "      nodes.add(v)\n",
    "      for child in v._prev:\n",
    "        edges.add((child, v))\n",
    "        build(child)\n",
    "  build(root)\n",
    "  return nodes, edges\n",
    "\n",
    "def draw_dot(root):\n",
    "  dot = Digraph(format='svg', graph_attr={'rankdir': 'LR'}) # LR = left to right\n",
    "\n",
    "  nodes, edges = trace(root)\n",
    "  for n in nodes:\n",
    "    uid = str(id(n))\n",
    "    # for any value in the graph, create a rectangular ('record') node for it\n",
    "    dot.node(name = uid, label = \"{ %s | data %.4f }\" % (n.label, n.data), shape='record')\n",
    "    if n._op:\n",
    "      # if this value is a result of some operation, create an op node for it\n",
    "      dot.node(name = uid + n._op, label = n._op)\n",
    "      # and connect this node to it\n",
    "      dot.edge(uid + n._op, uid)\n",
    "\n",
    "  for n1, n2 in edges:\n",
    "    # connect n1 to the op node of n2\n",
    "    dot.edge(str(id(n1)), str(id(n2)) + n2._op)\n",
    "\n",
    "  return dot\n"
   ],
   "id": "35d38876acdc526",
   "outputs": [
    {
     "ename": "ModuleNotFoundError",
     "evalue": "No module named 'graphviz'",
     "output_type": "error",
     "traceback": [
      "\u001B[1;31m---------------------------------------------------------------------------\u001B[0m",
      "\u001B[1;31mModuleNotFoundError\u001B[0m                       Traceback (most recent call last)",
      "Cell \u001B[1;32mIn[15], line 1\u001B[0m\n\u001B[1;32m----> 1\u001B[0m \u001B[38;5;28;01mfrom\u001B[39;00m \u001B[38;5;21;01mgraphviz\u001B[39;00m \u001B[38;5;28;01mimport\u001B[39;00m Digraph\n\u001B[0;32m      3\u001B[0m \u001B[38;5;28;01mdef\u001B[39;00m \u001B[38;5;21mtrace\u001B[39m(root):\n\u001B[0;32m      4\u001B[0m   \u001B[38;5;66;03m# builds a set of all nodes and edges in a graph\u001B[39;00m\n\u001B[0;32m      5\u001B[0m   nodes, edges \u001B[38;5;241m=\u001B[39m \u001B[38;5;28mset\u001B[39m(), \u001B[38;5;28mset\u001B[39m()\n",
      "\u001B[1;31mModuleNotFoundError\u001B[0m: No module named 'graphviz'"
     ]
    }
   ],
   "execution_count": 15
  },
  {
   "metadata": {
    "ExecuteTime": {
     "end_time": "2025-08-24T12:43:59.087740Z",
     "start_time": "2025-08-24T12:43:59.087740Z"
    }
   },
   "cell_type": "code",
   "source": [
    "class Value:\n",
    "\n",
    "  def __init__(self, data, _children=(), _op='', label=''):\n",
    "    self.data = data\n",
    "    self._prev = set(_children)\n",
    "    self._op = _op\n",
    "    self.label = label\n",
    "\n",
    "  def __repr__(self):\n",
    "    return f\"Value(data={self.data})\"\n",
    "\n",
    "  def __add__(self, other):\n",
    "    out = Value(self.data + other.data, (self, other), '+')\n",
    "    return out\n",
    "\n",
    "  def __mul__(self, other):\n",
    "    out = Value(self.data * other.data, (self, other), '*')\n",
    "    return out\n",
    "\n",
    "\n",
    "\n",
    "a = Value(2.0, label='a')\n",
    "b = Value(-3.0, label = 'b')\n",
    "c = Value(10.0, label = 'c')\n",
    "e= a*b; e.label = 'e'\n",
    "d = e+c; d.label = 'd'\n",
    "f = Value(-2.0, label='f')\n",
    "L = d*f; L.label = 'L'\n",
    "L"
   ],
   "id": "c6c3d163044e5ebf",
   "outputs": [],
   "execution_count": null
  },
  {
   "metadata": {},
   "cell_type": "code",
   "source": "d._prev",
   "id": "e465737ae4923857",
   "outputs": [],
   "execution_count": null
  },
  {
   "metadata": {
    "ExecuteTime": {
     "end_time": "2025-08-24T12:43:59.765590Z",
     "start_time": "2025-08-24T12:43:59.747676Z"
    }
   },
   "cell_type": "code",
   "source": "d._op",
   "id": "3d520218f7d57e76",
   "outputs": [
    {
     "ename": "AttributeError",
     "evalue": "'Value' object has no attribute '_op'",
     "output_type": "error",
     "traceback": [
      "\u001B[1;31m---------------------------------------------------------------------------\u001B[0m",
      "\u001B[1;31mAttributeError\u001B[0m                            Traceback (most recent call last)",
      "Cell \u001B[1;32mIn[16], line 1\u001B[0m\n\u001B[1;32m----> 1\u001B[0m d\u001B[38;5;241m.\u001B[39m_op\n",
      "\u001B[1;31mAttributeError\u001B[0m: 'Value' object has no attribute '_op'"
     ]
    }
   ],
   "execution_count": 16
  },
  {
   "metadata": {
    "ExecuteTime": {
     "end_time": "2025-08-24T12:44:00.631321Z",
     "start_time": "2025-08-24T12:44:00.614489Z"
    }
   },
   "cell_type": "code",
   "source": "draw_dot(L)",
   "id": "7ec0b0dbc0fb1a90",
   "outputs": [
    {
     "ename": "NameError",
     "evalue": "name 'draw_dot' is not defined",
     "output_type": "error",
     "traceback": [
      "\u001B[1;31m---------------------------------------------------------------------------\u001B[0m",
      "\u001B[1;31mNameError\u001B[0m                                 Traceback (most recent call last)",
      "Cell \u001B[1;32mIn[17], line 1\u001B[0m\n\u001B[1;32m----> 1\u001B[0m draw_dot(L)\n",
      "\u001B[1;31mNameError\u001B[0m: name 'draw_dot' is not defined"
     ]
    }
   ],
   "execution_count": 17
  },
  {
   "metadata": {},
   "cell_type": "code",
   "outputs": [],
   "execution_count": null,
   "source": [
    "## Now we want to do back propogation for the above equation\n",
    "\n",
    "## We want to calculate the derivative of the node with respective to L and store its gradient"
   ],
   "id": "479e485193c88531"
  },
  {
   "metadata": {
    "ExecuteTime": {
     "end_time": "2025-08-21T19:30:51.567937Z",
     "start_time": "2025-08-21T19:30:51.559648Z"
    }
   },
   "cell_type": "code",
   "source": [
    "from graphviz import Digraph\n",
    "\n",
    "def trace(root):\n",
    "  # builds a set of all nodes and edges in a graph\n",
    "  nodes, edges = set(), set()\n",
    "  def build(v):\n",
    "    if v not in nodes:\n",
    "      nodes.add(v)\n",
    "      for child in v._prev:\n",
    "        edges.add((child, v))\n",
    "        build(child)\n",
    "  build(root)\n",
    "  return nodes, edges\n",
    "\n",
    "def draw_dot(root):\n",
    "  dot = Digraph(format='svg', graph_attr={'rankdir': 'LR'}) # LR = left to right\n",
    "\n",
    "  nodes, edges = trace(root)\n",
    "  for n in nodes:\n",
    "    uid = str(id(n))\n",
    "    # for any value in the graph, create a rectangular ('record') node for it\n",
    "    dot.node(name = uid, label = \"{ %s | data %.4f | grad %.4f }\" % (n.label, n.data, n.grad), shape='record')\n",
    "    if n._op:\n",
    "      # if this value is a result of some operation, create an op node for it\n",
    "      dot.node(name = uid + n._op, label = n._op)\n",
    "      # and connect this node to it\n",
    "      dot.edge(uid + n._op, uid)\n",
    "\n",
    "  for n1, n2 in edges:\n",
    "    # connect n1 to the op node of n2\n",
    "    dot.edge(str(id(n1)), str(id(n2)) + n2._op)\n",
    "\n",
    "  return dot\n",
    "\n",
    "\n",
    "\n",
    "class Value:\n",
    "\n",
    "  def __init__(self, data, _children=(), _op='', label=''):\n",
    "    self.data = data\n",
    "    self.grad = 0  #By default, at initialization we are setting our grad to zero\n",
    "    self._prev = set(_children)\n",
    "    self._op = _op\n",
    "    self.label = label\n",
    "\n",
    "  def __repr__(self):\n",
    "    return f\"Value(data={self.data})\"\n",
    "\n",
    "  def __add__(self, other):\n",
    "    out = Value(self.data + other.data, (self, other), '+')\n",
    "    return out\n",
    "\n",
    "  def __mul__(self, other):\n",
    "    out = Value(self.data * other.data, (self, other), '*')\n",
    "    return out\n",
    "\n",
    "\n",
    "\n",
    "a = Value(2.0, label='a')\n",
    "b = Value(-3.0, label = 'b')\n",
    "c = Value(10.0, label = 'c')\n",
    "e= a*b; e.label = 'e'\n",
    "d = e+c; d.label = 'd'\n",
    "f = Value(-2.0, label='f')\n",
    "L = d*f; L.label = 'L'\n",
    "L"
   ],
   "id": "f173e6a11c392b2d",
   "outputs": [
    {
     "data": {
      "text/plain": [
       "Value(data=-8.0)"
      ]
     },
     "execution_count": 107,
     "metadata": {},
     "output_type": "execute_result"
    }
   ],
   "execution_count": 107
  },
  {
   "metadata": {
    "ExecuteTime": {
     "end_time": "2025-08-21T19:31:04.355881Z",
     "start_time": "2025-08-21T19:31:04.273249Z"
    }
   },
   "cell_type": "code",
   "source": "draw_dot(L)",
   "id": "d9c3848f0dffe577",
   "outputs": [
    {
     "data": {
      "text/plain": [
       "<graphviz.dot.Digraph at 0x1f4e4646d80>"
      ],
      "image/svg+xml": "<?xml version=\"1.0\" encoding=\"UTF-8\" standalone=\"no\"?>\r\n<!DOCTYPE svg PUBLIC \"-//W3C//DTD SVG 1.1//EN\"\r\n \"http://www.w3.org/Graphics/SVG/1.1/DTD/svg11.dtd\">\r\n<!-- Generated by graphviz version 2.50.0 (0)\r\n -->\r\n<!-- Pages: 1 -->\r\n<svg width=\"1148pt\" height=\"156pt\"\r\n viewBox=\"0.00 0.00 1148.00 156.00\" xmlns=\"http://www.w3.org/2000/svg\" xmlns:xlink=\"http://www.w3.org/1999/xlink\">\r\n<g id=\"graph0\" class=\"graph\" transform=\"scale(1 1) rotate(0) translate(4 152)\">\r\n<polygon fill=\"white\" stroke=\"transparent\" points=\"-4,4 -4,-152 1144,-152 1144,4 -4,4\"/>\r\n<!-- 2151318661712 -->\r\n<g id=\"node1\" class=\"node\">\r\n<title>2151318661712</title>\r\n<polygon fill=\"none\" stroke=\"black\" points=\"0,-111.5 0,-147.5 190,-147.5 190,-111.5 0,-111.5\"/>\r\n<text text-anchor=\"middle\" x=\"11.5\" y=\"-125.8\" font-family=\"Times New Roman,serif\" font-size=\"14.00\">b</text>\r\n<polyline fill=\"none\" stroke=\"black\" points=\"23,-111.5 23,-147.5 \"/>\r\n<text text-anchor=\"middle\" x=\"65.5\" y=\"-125.8\" font-family=\"Times New Roman,serif\" font-size=\"14.00\">data &#45;3.0000</text>\r\n<polyline fill=\"none\" stroke=\"black\" points=\"108,-111.5 108,-147.5 \"/>\r\n<text text-anchor=\"middle\" x=\"149\" y=\"-125.8\" font-family=\"Times New Roman,serif\" font-size=\"14.00\">grad 0.0000</text>\r\n</g>\r\n<!-- 2151318666704* -->\r\n<g id=\"node8\" class=\"node\">\r\n<title>2151318666704*</title>\r\n<ellipse fill=\"none\" stroke=\"black\" cx=\"253\" cy=\"-101.5\" rx=\"27\" ry=\"18\"/>\r\n<text text-anchor=\"middle\" x=\"253\" y=\"-97.8\" font-family=\"Times New Roman,serif\" font-size=\"14.00\">*</text>\r\n</g>\r\n<!-- 2151318661712&#45;&gt;2151318666704* -->\r\n<g id=\"edge9\" class=\"edge\">\r\n<title>2151318661712&#45;&gt;2151318666704*</title>\r\n<path fill=\"none\" stroke=\"black\" d=\"M190.34,-112.57C199.62,-110.9 208.58,-109.29 216.66,-107.84\"/>\r\n<polygon fill=\"black\" stroke=\"black\" points=\"217.49,-111.25 226.72,-106.04 216.26,-104.36 217.49,-111.25\"/>\r\n</g>\r\n<!-- 2151318705824 -->\r\n<g id=\"node2\" class=\"node\">\r\n<title>2151318705824</title>\r\n<polygon fill=\"none\" stroke=\"black\" points=\"634,-0.5 634,-36.5 822,-36.5 822,-0.5 634,-0.5\"/>\r\n<text text-anchor=\"middle\" x=\"644.5\" y=\"-14.8\" font-family=\"Times New Roman,serif\" font-size=\"14.00\">f</text>\r\n<polyline fill=\"none\" stroke=\"black\" points=\"655,-0.5 655,-36.5 \"/>\r\n<text text-anchor=\"middle\" x=\"697.5\" y=\"-14.8\" font-family=\"Times New Roman,serif\" font-size=\"14.00\">data &#45;2.0000</text>\r\n<polyline fill=\"none\" stroke=\"black\" points=\"740,-0.5 740,-36.5 \"/>\r\n<text text-anchor=\"middle\" x=\"781\" y=\"-14.8\" font-family=\"Times New Roman,serif\" font-size=\"14.00\">grad 0.0000</text>\r\n</g>\r\n<!-- 2151318705632* -->\r\n<g id=\"node10\" class=\"node\">\r\n<title>2151318705632*</title>\r\n<ellipse fill=\"none\" stroke=\"black\" cx=\"885\" cy=\"-45.5\" rx=\"27\" ry=\"18\"/>\r\n<text text-anchor=\"middle\" x=\"885\" y=\"-41.8\" font-family=\"Times New Roman,serif\" font-size=\"14.00\">*</text>\r\n</g>\r\n<!-- 2151318705824&#45;&gt;2151318705632* -->\r\n<g id=\"edge6\" class=\"edge\">\r\n<title>2151318705824&#45;&gt;2151318705632*</title>\r\n<path fill=\"none\" stroke=\"black\" d=\"M822.29,-34.75C831.57,-36.37 840.52,-37.93 848.61,-39.33\"/>\r\n<polygon fill=\"black\" stroke=\"black\" points=\"848.22,-42.82 858.68,-41.09 849.42,-35.92 848.22,-42.82\"/>\r\n</g>\r\n<!-- 2151318651152 -->\r\n<g id=\"node3\" class=\"node\">\r\n<title>2151318651152</title>\r\n<polygon fill=\"none\" stroke=\"black\" points=\"316,-28.5 316,-64.5 508,-64.5 508,-28.5 316,-28.5\"/>\r\n<text text-anchor=\"middle\" x=\"327.5\" y=\"-42.8\" font-family=\"Times New Roman,serif\" font-size=\"14.00\">c</text>\r\n<polyline fill=\"none\" stroke=\"black\" points=\"339,-28.5 339,-64.5 \"/>\r\n<text text-anchor=\"middle\" x=\"382.5\" y=\"-42.8\" font-family=\"Times New Roman,serif\" font-size=\"14.00\">data 10.0000</text>\r\n<polyline fill=\"none\" stroke=\"black\" points=\"426,-28.5 426,-64.5 \"/>\r\n<text text-anchor=\"middle\" x=\"467\" y=\"-42.8\" font-family=\"Times New Roman,serif\" font-size=\"14.00\">grad 0.0000</text>\r\n</g>\r\n<!-- 2151318708560+ -->\r\n<g id=\"node5\" class=\"node\">\r\n<title>2151318708560+</title>\r\n<ellipse fill=\"none\" stroke=\"black\" cx=\"571\" cy=\"-73.5\" rx=\"27\" ry=\"18\"/>\r\n<text text-anchor=\"middle\" x=\"571\" y=\"-69.8\" font-family=\"Times New Roman,serif\" font-size=\"14.00\">+</text>\r\n</g>\r\n<!-- 2151318651152&#45;&gt;2151318708560+ -->\r\n<g id=\"edge5\" class=\"edge\">\r\n<title>2151318651152&#45;&gt;2151318708560+</title>\r\n<path fill=\"none\" stroke=\"black\" d=\"M508.4,-62.91C517.69,-64.5 526.64,-66.04 534.71,-67.43\"/>\r\n<polygon fill=\"black\" stroke=\"black\" points=\"534.32,-70.91 544.76,-69.16 535.5,-64.02 534.32,-70.91\"/>\r\n</g>\r\n<!-- 2151318708560 -->\r\n<g id=\"node4\" class=\"node\">\r\n<title>2151318708560</title>\r\n<polygon fill=\"none\" stroke=\"black\" points=\"635.5,-55.5 635.5,-91.5 820.5,-91.5 820.5,-55.5 635.5,-55.5\"/>\r\n<text text-anchor=\"middle\" x=\"647\" y=\"-69.8\" font-family=\"Times New Roman,serif\" font-size=\"14.00\">d</text>\r\n<polyline fill=\"none\" stroke=\"black\" points=\"658.5,-55.5 658.5,-91.5 \"/>\r\n<text text-anchor=\"middle\" x=\"698.5\" y=\"-69.8\" font-family=\"Times New Roman,serif\" font-size=\"14.00\">data 4.0000</text>\r\n<polyline fill=\"none\" stroke=\"black\" points=\"738.5,-55.5 738.5,-91.5 \"/>\r\n<text text-anchor=\"middle\" x=\"779.5\" y=\"-69.8\" font-family=\"Times New Roman,serif\" font-size=\"14.00\">grad 0.0000</text>\r\n</g>\r\n<!-- 2151318708560&#45;&gt;2151318705632* -->\r\n<g id=\"edge7\" class=\"edge\">\r\n<title>2151318708560&#45;&gt;2151318705632*</title>\r\n<path fill=\"none\" stroke=\"black\" d=\"M820.51,-56.97C830.48,-55.17 840.13,-53.42 848.77,-51.86\"/>\r\n<polygon fill=\"black\" stroke=\"black\" points=\"849.55,-55.28 858.77,-50.06 848.3,-48.39 849.55,-55.28\"/>\r\n</g>\r\n<!-- 2151318708560+&#45;&gt;2151318708560 -->\r\n<g id=\"edge1\" class=\"edge\">\r\n<title>2151318708560+&#45;&gt;2151318708560</title>\r\n<path fill=\"none\" stroke=\"black\" d=\"M598.29,-73.5C606.26,-73.5 615.54,-73.5 625.39,-73.5\"/>\r\n<polygon fill=\"black\" stroke=\"black\" points=\"625.41,-77 635.41,-73.5 625.41,-70 625.41,-77\"/>\r\n</g>\r\n<!-- 2151317984112 -->\r\n<g id=\"node6\" class=\"node\">\r\n<title>2151317984112</title>\r\n<polygon fill=\"none\" stroke=\"black\" points=\"2.5,-56.5 2.5,-92.5 187.5,-92.5 187.5,-56.5 2.5,-56.5\"/>\r\n<text text-anchor=\"middle\" x=\"14\" y=\"-70.8\" font-family=\"Times New Roman,serif\" font-size=\"14.00\">a</text>\r\n<polyline fill=\"none\" stroke=\"black\" points=\"25.5,-56.5 25.5,-92.5 \"/>\r\n<text text-anchor=\"middle\" x=\"65.5\" y=\"-70.8\" font-family=\"Times New Roman,serif\" font-size=\"14.00\">data 2.0000</text>\r\n<polyline fill=\"none\" stroke=\"black\" points=\"105.5,-56.5 105.5,-92.5 \"/>\r\n<text text-anchor=\"middle\" x=\"146.5\" y=\"-70.8\" font-family=\"Times New Roman,serif\" font-size=\"14.00\">grad 0.0000</text>\r\n</g>\r\n<!-- 2151317984112&#45;&gt;2151318666704* -->\r\n<g id=\"edge8\" class=\"edge\">\r\n<title>2151317984112&#45;&gt;2151318666704*</title>\r\n<path fill=\"none\" stroke=\"black\" d=\"M187.65,-90.36C197.94,-92.14 207.91,-93.87 216.81,-95.41\"/>\r\n<polygon fill=\"black\" stroke=\"black\" points=\"216.26,-98.87 226.71,-97.12 217.45,-91.97 216.26,-98.87\"/>\r\n</g>\r\n<!-- 2151318666704 -->\r\n<g id=\"node7\" class=\"node\">\r\n<title>2151318666704</title>\r\n<polygon fill=\"none\" stroke=\"black\" points=\"317,-83.5 317,-119.5 507,-119.5 507,-83.5 317,-83.5\"/>\r\n<text text-anchor=\"middle\" x=\"328.5\" y=\"-97.8\" font-family=\"Times New Roman,serif\" font-size=\"14.00\">e</text>\r\n<polyline fill=\"none\" stroke=\"black\" points=\"340,-83.5 340,-119.5 \"/>\r\n<text text-anchor=\"middle\" x=\"382.5\" y=\"-97.8\" font-family=\"Times New Roman,serif\" font-size=\"14.00\">data &#45;6.0000</text>\r\n<polyline fill=\"none\" stroke=\"black\" points=\"425,-83.5 425,-119.5 \"/>\r\n<text text-anchor=\"middle\" x=\"466\" y=\"-97.8\" font-family=\"Times New Roman,serif\" font-size=\"14.00\">grad 0.0000</text>\r\n</g>\r\n<!-- 2151318666704&#45;&gt;2151318708560+ -->\r\n<g id=\"edge4\" class=\"edge\">\r\n<title>2151318666704&#45;&gt;2151318708560+</title>\r\n<path fill=\"none\" stroke=\"black\" d=\"M507.05,-84.73C516.89,-82.97 526.39,-81.28 534.9,-79.76\"/>\r\n<polygon fill=\"black\" stroke=\"black\" points=\"535.52,-83.2 544.75,-78 534.29,-76.31 535.52,-83.2\"/>\r\n</g>\r\n<!-- 2151318666704*&#45;&gt;2151318666704 -->\r\n<g id=\"edge2\" class=\"edge\">\r\n<title>2151318666704*&#45;&gt;2151318666704</title>\r\n<path fill=\"none\" stroke=\"black\" d=\"M280.28,-101.5C288.05,-101.5 297.08,-101.5 306.68,-101.5\"/>\r\n<polygon fill=\"black\" stroke=\"black\" points=\"306.88,-105 316.88,-101.5 306.88,-98 306.88,-105\"/>\r\n</g>\r\n<!-- 2151318705632 -->\r\n<g id=\"node9\" class=\"node\">\r\n<title>2151318705632</title>\r\n<polygon fill=\"none\" stroke=\"black\" points=\"948,-27.5 948,-63.5 1140,-63.5 1140,-27.5 948,-27.5\"/>\r\n<text text-anchor=\"middle\" x=\"960.5\" y=\"-41.8\" font-family=\"Times New Roman,serif\" font-size=\"14.00\">L</text>\r\n<polyline fill=\"none\" stroke=\"black\" points=\"973,-27.5 973,-63.5 \"/>\r\n<text text-anchor=\"middle\" x=\"1015.5\" y=\"-41.8\" font-family=\"Times New Roman,serif\" font-size=\"14.00\">data &#45;8.0000</text>\r\n<polyline fill=\"none\" stroke=\"black\" points=\"1058,-27.5 1058,-63.5 \"/>\r\n<text text-anchor=\"middle\" x=\"1099\" y=\"-41.8\" font-family=\"Times New Roman,serif\" font-size=\"14.00\">grad 0.0000</text>\r\n</g>\r\n<!-- 2151318705632*&#45;&gt;2151318705632 -->\r\n<g id=\"edge3\" class=\"edge\">\r\n<title>2151318705632*&#45;&gt;2151318705632</title>\r\n<path fill=\"none\" stroke=\"black\" d=\"M912.28,-45.5C919.78,-45.5 928.44,-45.5 937.67,-45.5\"/>\r\n<polygon fill=\"black\" stroke=\"black\" points=\"937.87,-49 947.87,-45.5 937.87,-42 937.87,-49\"/>\r\n</g>\r\n</g>\r\n</svg>\r\n"
     },
     "execution_count": 108,
     "metadata": {},
     "output_type": "execute_result"
    }
   ],
   "execution_count": 108
  },
  {
   "metadata": {
    "ExecuteTime": {
     "end_time": "2025-08-21T19:52:03.738590Z",
     "start_time": "2025-08-21T19:52:03.733927Z"
    }
   },
   "cell_type": "code",
   "source": [
    "## now lets start back propagation\n",
    "\n",
    "def lol():\n",
    "\n",
    "\n",
    "    a = Value(2.0, label='a')\n",
    "    b = Value(-3.0, label = 'b')\n",
    "    c = Value(10.0, label = 'c')\n",
    "    e= a*b; e.label = 'e'\n",
    "    d = e+c; d.label = 'd'\n",
    "    f = Value(-2.0, label='f')\n",
    "    L = d*f; L.label = 'L'\n",
    "    L1 = L.data\n",
    "\n",
    "    #adding the derivative h to gradient of that value where h is added\n",
    "    h = 0.000001\n",
    "    a = Value(2.0 , label='a')\n",
    "    b = Value(-3.0, label = 'b')\n",
    "    c = Value(10.0, label = 'c')\n",
    "    e= a*b; e.label = 'e'\n",
    "    d = e+c; d.label = 'd'\n",
    "    d.data += h\n",
    "    f = Value(-2.0, label='f')\n",
    "    L = d*f; L.label = 'L'\n",
    "    L2 = L.data\n",
    "\n",
    "    print((L2 - L1)/h)\n",
    "\n",
    "lol()\n"
   ],
   "id": "d3adeb97e4f91ae0",
   "outputs": [
    {
     "name": "stdout",
     "output_type": "stream",
     "text": [
      "-2.000000000279556\n"
     ]
    }
   ],
   "execution_count": 122
  },
  {
   "metadata": {
    "ExecuteTime": {
     "end_time": "2025-08-21T19:49:37.267658Z",
     "start_time": "2025-08-21T19:49:37.182262Z"
    }
   },
   "cell_type": "code",
   "source": "draw_dot(L)",
   "id": "a2d891b2ba8d853b",
   "outputs": [
    {
     "data": {
      "text/plain": [
       "<graphviz.dot.Digraph at 0x1f4e496b6b0>"
      ],
      "image/svg+xml": "<?xml version=\"1.0\" encoding=\"UTF-8\" standalone=\"no\"?>\r\n<!DOCTYPE svg PUBLIC \"-//W3C//DTD SVG 1.1//EN\"\r\n \"http://www.w3.org/Graphics/SVG/1.1/DTD/svg11.dtd\">\r\n<!-- Generated by graphviz version 2.50.0 (0)\r\n -->\r\n<!-- Pages: 1 -->\r\n<svg width=\"1149pt\" height=\"156pt\"\r\n viewBox=\"0.00 0.00 1149.00 156.00\" xmlns=\"http://www.w3.org/2000/svg\" xmlns:xlink=\"http://www.w3.org/1999/xlink\">\r\n<g id=\"graph0\" class=\"graph\" transform=\"scale(1 1) rotate(0) translate(4 152)\">\r\n<polygon fill=\"white\" stroke=\"transparent\" points=\"-4,4 -4,-152 1145,-152 1145,4 -4,4\"/>\r\n<!-- 2151318661712 -->\r\n<g id=\"node1\" class=\"node\">\r\n<title>2151318661712</title>\r\n<polygon fill=\"none\" stroke=\"black\" points=\"0,-111.5 0,-147.5 190,-147.5 190,-111.5 0,-111.5\"/>\r\n<text text-anchor=\"middle\" x=\"11.5\" y=\"-125.8\" font-family=\"Times New Roman,serif\" font-size=\"14.00\">b</text>\r\n<polyline fill=\"none\" stroke=\"black\" points=\"23,-111.5 23,-147.5 \"/>\r\n<text text-anchor=\"middle\" x=\"65.5\" y=\"-125.8\" font-family=\"Times New Roman,serif\" font-size=\"14.00\">data &#45;3.0000</text>\r\n<polyline fill=\"none\" stroke=\"black\" points=\"108,-111.5 108,-147.5 \"/>\r\n<text text-anchor=\"middle\" x=\"149\" y=\"-125.8\" font-family=\"Times New Roman,serif\" font-size=\"14.00\">grad 0.0000</text>\r\n</g>\r\n<!-- 2151318666704* -->\r\n<g id=\"node8\" class=\"node\">\r\n<title>2151318666704*</title>\r\n<ellipse fill=\"none\" stroke=\"black\" cx=\"253\" cy=\"-101.5\" rx=\"27\" ry=\"18\"/>\r\n<text text-anchor=\"middle\" x=\"253\" y=\"-97.8\" font-family=\"Times New Roman,serif\" font-size=\"14.00\">*</text>\r\n</g>\r\n<!-- 2151318661712&#45;&gt;2151318666704* -->\r\n<g id=\"edge9\" class=\"edge\">\r\n<title>2151318661712&#45;&gt;2151318666704*</title>\r\n<path fill=\"none\" stroke=\"black\" d=\"M190.34,-112.57C199.62,-110.9 208.58,-109.29 216.66,-107.84\"/>\r\n<polygon fill=\"black\" stroke=\"black\" points=\"217.49,-111.25 226.72,-106.04 216.26,-104.36 217.49,-111.25\"/>\r\n</g>\r\n<!-- 2151318705824 -->\r\n<g id=\"node2\" class=\"node\">\r\n<title>2151318705824</title>\r\n<polygon fill=\"none\" stroke=\"black\" points=\"634.5,-0.5 634.5,-36.5 822.5,-36.5 822.5,-0.5 634.5,-0.5\"/>\r\n<text text-anchor=\"middle\" x=\"645\" y=\"-14.8\" font-family=\"Times New Roman,serif\" font-size=\"14.00\">f</text>\r\n<polyline fill=\"none\" stroke=\"black\" points=\"655.5,-0.5 655.5,-36.5 \"/>\r\n<text text-anchor=\"middle\" x=\"698\" y=\"-14.8\" font-family=\"Times New Roman,serif\" font-size=\"14.00\">data &#45;2.0000</text>\r\n<polyline fill=\"none\" stroke=\"black\" points=\"740.5,-0.5 740.5,-36.5 \"/>\r\n<text text-anchor=\"middle\" x=\"781.5\" y=\"-14.8\" font-family=\"Times New Roman,serif\" font-size=\"14.00\">grad 4.0000</text>\r\n</g>\r\n<!-- 2151318705632* -->\r\n<g id=\"node10\" class=\"node\">\r\n<title>2151318705632*</title>\r\n<ellipse fill=\"none\" stroke=\"black\" cx=\"886\" cy=\"-45.5\" rx=\"27\" ry=\"18\"/>\r\n<text text-anchor=\"middle\" x=\"886\" y=\"-41.8\" font-family=\"Times New Roman,serif\" font-size=\"14.00\">*</text>\r\n</g>\r\n<!-- 2151318705824&#45;&gt;2151318705632* -->\r\n<g id=\"edge6\" class=\"edge\">\r\n<title>2151318705824&#45;&gt;2151318705632*</title>\r\n<path fill=\"none\" stroke=\"black\" d=\"M822.65,-34.67C832.2,-36.33 841.43,-37.93 849.72,-39.37\"/>\r\n<polygon fill=\"black\" stroke=\"black\" points=\"849.24,-42.84 859.69,-41.11 850.44,-35.95 849.24,-42.84\"/>\r\n</g>\r\n<!-- 2151318651152 -->\r\n<g id=\"node3\" class=\"node\">\r\n<title>2151318651152</title>\r\n<polygon fill=\"none\" stroke=\"black\" points=\"316,-28.5 316,-64.5 508,-64.5 508,-28.5 316,-28.5\"/>\r\n<text text-anchor=\"middle\" x=\"327.5\" y=\"-42.8\" font-family=\"Times New Roman,serif\" font-size=\"14.00\">c</text>\r\n<polyline fill=\"none\" stroke=\"black\" points=\"339,-28.5 339,-64.5 \"/>\r\n<text text-anchor=\"middle\" x=\"382.5\" y=\"-42.8\" font-family=\"Times New Roman,serif\" font-size=\"14.00\">data 10.0000</text>\r\n<polyline fill=\"none\" stroke=\"black\" points=\"426,-28.5 426,-64.5 \"/>\r\n<text text-anchor=\"middle\" x=\"467\" y=\"-42.8\" font-family=\"Times New Roman,serif\" font-size=\"14.00\">grad 0.0000</text>\r\n</g>\r\n<!-- 2151318708560+ -->\r\n<g id=\"node5\" class=\"node\">\r\n<title>2151318708560+</title>\r\n<ellipse fill=\"none\" stroke=\"black\" cx=\"571\" cy=\"-73.5\" rx=\"27\" ry=\"18\"/>\r\n<text text-anchor=\"middle\" x=\"571\" y=\"-69.8\" font-family=\"Times New Roman,serif\" font-size=\"14.00\">+</text>\r\n</g>\r\n<!-- 2151318651152&#45;&gt;2151318708560+ -->\r\n<g id=\"edge5\" class=\"edge\">\r\n<title>2151318651152&#45;&gt;2151318708560+</title>\r\n<path fill=\"none\" stroke=\"black\" d=\"M508.4,-62.91C517.69,-64.5 526.64,-66.04 534.71,-67.43\"/>\r\n<polygon fill=\"black\" stroke=\"black\" points=\"534.32,-70.91 544.76,-69.16 535.5,-64.02 534.32,-70.91\"/>\r\n</g>\r\n<!-- 2151318708560 -->\r\n<g id=\"node4\" class=\"node\">\r\n<title>2151318708560</title>\r\n<polygon fill=\"none\" stroke=\"black\" points=\"634,-55.5 634,-91.5 823,-91.5 823,-55.5 634,-55.5\"/>\r\n<text text-anchor=\"middle\" x=\"645.5\" y=\"-69.8\" font-family=\"Times New Roman,serif\" font-size=\"14.00\">d</text>\r\n<polyline fill=\"none\" stroke=\"black\" points=\"657,-55.5 657,-91.5 \"/>\r\n<text text-anchor=\"middle\" x=\"697\" y=\"-69.8\" font-family=\"Times New Roman,serif\" font-size=\"14.00\">data 4.0000</text>\r\n<polyline fill=\"none\" stroke=\"black\" points=\"737,-55.5 737,-91.5 \"/>\r\n<text text-anchor=\"middle\" x=\"780\" y=\"-69.8\" font-family=\"Times New Roman,serif\" font-size=\"14.00\">grad &#45;2.0000</text>\r\n</g>\r\n<!-- 2151318708560&#45;&gt;2151318705632* -->\r\n<g id=\"edge7\" class=\"edge\">\r\n<title>2151318708560&#45;&gt;2151318705632*</title>\r\n<path fill=\"none\" stroke=\"black\" d=\"M823.1,-56.65C832.4,-54.97 841.38,-53.35 849.49,-51.89\"/>\r\n<polygon fill=\"black\" stroke=\"black\" points=\"850.37,-55.29 859.59,-50.07 849.13,-48.4 850.37,-55.29\"/>\r\n</g>\r\n<!-- 2151318708560+&#45;&gt;2151318708560 -->\r\n<g id=\"edge1\" class=\"edge\">\r\n<title>2151318708560+&#45;&gt;2151318708560</title>\r\n<path fill=\"none\" stroke=\"black\" d=\"M598.03,-73.5C605.66,-73.5 614.52,-73.5 623.94,-73.5\"/>\r\n<polygon fill=\"black\" stroke=\"black\" points=\"623.94,-77 633.94,-73.5 623.94,-70 623.94,-77\"/>\r\n</g>\r\n<!-- 2151317984112 -->\r\n<g id=\"node6\" class=\"node\">\r\n<title>2151317984112</title>\r\n<polygon fill=\"none\" stroke=\"black\" points=\"2.5,-56.5 2.5,-92.5 187.5,-92.5 187.5,-56.5 2.5,-56.5\"/>\r\n<text text-anchor=\"middle\" x=\"14\" y=\"-70.8\" font-family=\"Times New Roman,serif\" font-size=\"14.00\">a</text>\r\n<polyline fill=\"none\" stroke=\"black\" points=\"25.5,-56.5 25.5,-92.5 \"/>\r\n<text text-anchor=\"middle\" x=\"65.5\" y=\"-70.8\" font-family=\"Times New Roman,serif\" font-size=\"14.00\">data 2.0000</text>\r\n<polyline fill=\"none\" stroke=\"black\" points=\"105.5,-56.5 105.5,-92.5 \"/>\r\n<text text-anchor=\"middle\" x=\"146.5\" y=\"-70.8\" font-family=\"Times New Roman,serif\" font-size=\"14.00\">grad 0.0000</text>\r\n</g>\r\n<!-- 2151317984112&#45;&gt;2151318666704* -->\r\n<g id=\"edge8\" class=\"edge\">\r\n<title>2151317984112&#45;&gt;2151318666704*</title>\r\n<path fill=\"none\" stroke=\"black\" d=\"M187.65,-90.36C197.94,-92.14 207.91,-93.87 216.81,-95.41\"/>\r\n<polygon fill=\"black\" stroke=\"black\" points=\"216.26,-98.87 226.71,-97.12 217.45,-91.97 216.26,-98.87\"/>\r\n</g>\r\n<!-- 2151318666704 -->\r\n<g id=\"node7\" class=\"node\">\r\n<title>2151318666704</title>\r\n<polygon fill=\"none\" stroke=\"black\" points=\"317,-83.5 317,-119.5 507,-119.5 507,-83.5 317,-83.5\"/>\r\n<text text-anchor=\"middle\" x=\"328.5\" y=\"-97.8\" font-family=\"Times New Roman,serif\" font-size=\"14.00\">e</text>\r\n<polyline fill=\"none\" stroke=\"black\" points=\"340,-83.5 340,-119.5 \"/>\r\n<text text-anchor=\"middle\" x=\"382.5\" y=\"-97.8\" font-family=\"Times New Roman,serif\" font-size=\"14.00\">data &#45;6.0000</text>\r\n<polyline fill=\"none\" stroke=\"black\" points=\"425,-83.5 425,-119.5 \"/>\r\n<text text-anchor=\"middle\" x=\"466\" y=\"-97.8\" font-family=\"Times New Roman,serif\" font-size=\"14.00\">grad 0.0000</text>\r\n</g>\r\n<!-- 2151318666704&#45;&gt;2151318708560+ -->\r\n<g id=\"edge4\" class=\"edge\">\r\n<title>2151318666704&#45;&gt;2151318708560+</title>\r\n<path fill=\"none\" stroke=\"black\" d=\"M507.05,-84.73C516.89,-82.97 526.39,-81.28 534.9,-79.76\"/>\r\n<polygon fill=\"black\" stroke=\"black\" points=\"535.52,-83.2 544.75,-78 534.29,-76.31 535.52,-83.2\"/>\r\n</g>\r\n<!-- 2151318666704*&#45;&gt;2151318666704 -->\r\n<g id=\"edge2\" class=\"edge\">\r\n<title>2151318666704*&#45;&gt;2151318666704</title>\r\n<path fill=\"none\" stroke=\"black\" d=\"M280.28,-101.5C288.05,-101.5 297.08,-101.5 306.68,-101.5\"/>\r\n<polygon fill=\"black\" stroke=\"black\" points=\"306.88,-105 316.88,-101.5 306.88,-98 306.88,-105\"/>\r\n</g>\r\n<!-- 2151318705632 -->\r\n<g id=\"node9\" class=\"node\">\r\n<title>2151318705632</title>\r\n<polygon fill=\"none\" stroke=\"black\" points=\"949,-27.5 949,-63.5 1141,-63.5 1141,-27.5 949,-27.5\"/>\r\n<text text-anchor=\"middle\" x=\"961.5\" y=\"-41.8\" font-family=\"Times New Roman,serif\" font-size=\"14.00\">L</text>\r\n<polyline fill=\"none\" stroke=\"black\" points=\"974,-27.5 974,-63.5 \"/>\r\n<text text-anchor=\"middle\" x=\"1016.5\" y=\"-41.8\" font-family=\"Times New Roman,serif\" font-size=\"14.00\">data &#45;8.0000</text>\r\n<polyline fill=\"none\" stroke=\"black\" points=\"1059,-27.5 1059,-63.5 \"/>\r\n<text text-anchor=\"middle\" x=\"1100\" y=\"-41.8\" font-family=\"Times New Roman,serif\" font-size=\"14.00\">grad 1.0000</text>\r\n</g>\r\n<!-- 2151318705632*&#45;&gt;2151318705632 -->\r\n<g id=\"edge3\" class=\"edge\">\r\n<title>2151318705632*&#45;&gt;2151318705632</title>\r\n<path fill=\"none\" stroke=\"black\" d=\"M913.28,-45.5C920.78,-45.5 929.44,-45.5 938.67,-45.5\"/>\r\n<polygon fill=\"black\" stroke=\"black\" points=\"938.87,-49 948.87,-45.5 938.87,-42 938.87,-49\"/>\r\n</g>\r\n</g>\r\n</svg>\r\n"
     },
     "execution_count": 120,
     "metadata": {},
     "output_type": "execute_result"
    }
   ],
   "execution_count": 120
  },
  {
   "metadata": {},
   "cell_type": "code",
   "outputs": [],
   "execution_count": null,
   "source": [
    "'''\n",
    "\n",
    "simply to find the gradient of letter 'e' we need to add the h beside e i.e., e+h\n",
    "\n",
    "if we want to find gradient of letter 'c' we need too add the h beside c i.e., c+h\n",
    "\n",
    "dL / dc = (dL/dd)*(dd/dc)\n",
    "how to find dd/dc?\n",
    "\n",
    "wkt, d = c + e\n",
    "\n",
    " derivative = (f(x+h) - f(x))/h\n",
    "            = (c+e+h -(c+e))/h = 1.0\n",
    "\n",
    "\n",
    "\n",
    "'''"
   ],
   "id": "832bac898416a366"
  },
  {
   "metadata": {},
   "cell_type": "code",
   "outputs": [],
   "execution_count": null,
   "source": "",
   "id": "4869066009263f30"
  },
  {
   "metadata": {},
   "cell_type": "code",
   "outputs": [],
   "execution_count": null,
   "source": "",
   "id": "2050254ad40c4c4f"
  },
  {
   "metadata": {},
   "cell_type": "code",
   "outputs": [],
   "execution_count": null,
   "source": "",
   "id": "2cf20fb38787e6af"
  },
  {
   "metadata": {},
   "cell_type": "code",
   "outputs": [],
   "execution_count": null,
   "source": "",
   "id": "fa33f21dc2a5c7fc"
  },
  {
   "metadata": {},
   "cell_type": "code",
   "outputs": [],
   "execution_count": null,
   "source": "",
   "id": "96f6b2eb143e0b4c"
  },
  {
   "metadata": {},
   "cell_type": "code",
   "outputs": [],
   "execution_count": null,
   "source": "",
   "id": "37041f3eff7384fd"
  },
  {
   "metadata": {},
   "cell_type": "code",
   "outputs": [],
   "execution_count": null,
   "source": "",
   "id": "4be569b479fd78e9"
  },
  {
   "metadata": {},
   "cell_type": "code",
   "outputs": [],
   "execution_count": null,
   "source": "",
   "id": "402e5cf8406b09cc"
  },
  {
   "metadata": {},
   "cell_type": "code",
   "outputs": [],
   "execution_count": null,
   "source": "",
   "id": "e79b097e78a1006a"
  }
 ],
 "metadata": {
  "kernelspec": {
   "display_name": "Python 3",
   "language": "python",
   "name": "python3"
  },
  "language_info": {
   "codemirror_mode": {
    "name": "ipython",
    "version": 2
   },
   "file_extension": ".py",
   "mimetype": "text/x-python",
   "name": "python",
   "nbconvert_exporter": "python",
   "pygments_lexer": "ipython2",
   "version": "2.7.6"
  }
 },
 "nbformat": 4,
 "nbformat_minor": 5
}
