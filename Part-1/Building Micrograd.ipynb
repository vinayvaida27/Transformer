{
 "cells": [
  {
   "cell_type": "code",
   "id": "initial_id",
   "metadata": {
    "collapsed": true,
    "ExecuteTime": {
     "end_time": "2025-08-24T16:25:07.794454Z",
     "start_time": "2025-08-24T16:25:07.164712Z"
    }
   },
   "source": [
    "import math\n",
    "import numpy as np\n",
    "import matplotlib.pyplot as plt\n",
    "%matplotlib inline"
   ],
   "outputs": [],
   "execution_count": 1
  },
  {
   "metadata": {
    "ExecuteTime": {
     "end_time": "2025-08-21T17:52:17.891062Z",
     "start_time": "2025-08-21T17:52:17.882430Z"
    }
   },
   "cell_type": "markdown",
   "source": "## Creating function",
   "id": "acf6d7e830df5e69"
  },
  {
   "metadata": {
    "ExecuteTime": {
     "end_time": "2025-08-24T16:25:07.804698Z",
     "start_time": "2025-08-24T16:25:07.796465Z"
    }
   },
   "cell_type": "code",
   "source": [
    "def f(x):\n",
    "    return 3*x**2 - 4*x + 5\n",
    "f(3)"
   ],
   "id": "9d68b6cdf19affd9",
   "outputs": [
    {
     "data": {
      "text/plain": [
       "20"
      ]
     },
     "execution_count": 2,
     "metadata": {},
     "output_type": "execute_result"
    }
   ],
   "execution_count": 2
  },
  {
   "metadata": {
    "ExecuteTime": {
     "end_time": "2025-08-24T16:25:07.814709Z",
     "start_time": "2025-08-24T16:25:07.806707Z"
    }
   },
   "cell_type": "code",
   "source": "print(np.arange(-5,5,0.25))",
   "id": "498453cd02daab3d",
   "outputs": [
    {
     "name": "stdout",
     "output_type": "stream",
     "text": [
      "[-5.   -4.75 -4.5  -4.25 -4.   -3.75 -3.5  -3.25 -3.   -2.75 -2.5  -2.25\n",
      " -2.   -1.75 -1.5  -1.25 -1.   -0.75 -0.5  -0.25  0.    0.25  0.5   0.75\n",
      "  1.    1.25  1.5   1.75  2.    2.25  2.5   2.75  3.    3.25  3.5   3.75\n",
      "  4.    4.25  4.5   4.75]\n"
     ]
    }
   ],
   "execution_count": 3
  },
  {
   "metadata": {
    "ExecuteTime": {
     "end_time": "2025-08-24T16:25:07.980225Z",
     "start_time": "2025-08-24T16:25:07.817229Z"
    }
   },
   "cell_type": "code",
   "source": [
    "xs = np.arange(-5,5,0.25)\n",
    "ys = f(xs)\n",
    "plt.plot(xs,ys)"
   ],
   "id": "6670b21f1573083",
   "outputs": [
    {
     "data": {
      "text/plain": [
       "[<matplotlib.lines.Line2D at 0x1cd5599ac90>]"
      ]
     },
     "execution_count": 4,
     "metadata": {},
     "output_type": "execute_result"
    },
    {
     "data": {
      "text/plain": [
       "<Figure size 640x480 with 1 Axes>"
      ],
      "image/png": "[encoded data removed]"
     },
     "metadata": {},
     "output_type": "display_data"
    }
   ],
   "execution_count": 4
  },
  {
   "metadata": {
    "ExecuteTime": {
     "end_time": "2025-08-24T16:25:07.991646Z",
     "start_time": "2025-08-24T16:25:07.983735Z"
    }
   },
   "cell_type": "code",
   "source": [
    "'''\n",
    "so Now we in general by hand we find the derivative of function by calculating (dx/dy) which is the slope of the curve\n",
    "\n",
    "but in general according to derivative formula it limit x->0 ((f(x+h)-f(x))/h) make h as small as you can\n",
    "\n",
    "'''\n",
    "\n",
    "h = 0.000001\n",
    "x = 2/3   #it's nothing but, we are trying to find the slope at point 2/3 on x asix\n",
    "(f(x+h)-f(x))/h"
   ],
   "id": "23389b19d33c74a1",
   "outputs": [
    {
     "data": {
      "text/plain": [
       "2.999378523327323e-06"
      ]
     },
     "execution_count": 5,
     "metadata": {},
     "output_type": "execute_result"
    }
   ],
   "execution_count": 5
  },
  {
   "metadata": {},
   "cell_type": "markdown",
   "source": [
    "# Understanding the Slope at a Point\n",
    "\n",
    "We want to find the slope of the function:\n",
    "\n",
    "$$\n",
    "f(x) = 3x^2 - 4x + 5\n",
    "$$\n",
    "\n",
    "at the point:\n",
    "\n",
    "$$\n",
    "x = \\tfrac{2}{3}\n",
    "$$\n",
    "\n",
    "---\n",
    "\n",
    "## What does slope mean?\n",
    "\n",
    "Think of the curve as a **hill**:\n",
    "\n",
    "- A **positive slope** → you are going uphill.  \n",
    "- A **negative slope** → you are going downhill.  \n",
    "- A slope of **0** → the ground is flat.  \n",
    "\n",
    "So, slope tells us how steep the curve is at a specific point.\n",
    "\n",
    "---\n",
    "\n",
    "## How do we calculate slope?\n",
    "\n",
    "We use the formula:\n",
    "\n",
    "$$\n",
    "\\frac{f(x+h) - f(x)}{h}\n",
    "$$\n",
    "\n",
    "where \\(h\\) is a very small step (e.g., `0.000001`).\n",
    "\n",
    "- \\(f(x+h)\\) = the function value a tiny step forward.  \n",
    "- \\(f(x)\\) = the function value at the point.  \n",
    "- Numerator: \\(f(x+h) - f(x)\\) → the change in height.  \n",
    "- Denominator: \\(h\\) → the change in step.  \n",
    "\n",
    "So the fraction gives **change per step** = slope.\n",
    "\n",
    "---\n",
    "\n",
    "## Why must \\(h\\) be small?\n",
    "\n",
    "- If \\(h\\) is **large** (like 1), you get the slope over a big interval → not accurate.  \n",
    "- If \\(h\\) is **tiny** (like 0.000001), you get the slope *right at the point*.  \n",
    "\n",
    "This is the idea of a **derivative**.\n",
    "\n",
    "---\n",
    "\n",
    "## The derivative shortcut\n",
    "\n",
    "Instead of approximating, calculus gives a direct formula:\n",
    "\n",
    "$$\n",
    "f'(x) = 6x - 4\n",
    "$$\n",
    "\n",
    "Now plug in \\(x = \\tfrac{2}{3}\\):\n",
    "\n",
    "$$\n",
    "f'(2/3) = 6 \\cdot \\tfrac{2}{3} - 4 = 0\n",
    "$$\n",
    "\n",
    "✅ The slope at \\(x = 2/3\\) is **0** → the curve is perfectly flat there.\n",
    "\n",
    "---\n",
    "\n",
    "## Python Example\n",
    "\n",
    "```python\n",
    "def f(x):\n",
    "    return 3*x**2 - 4*x + 5\n",
    "\n",
    "# Approximation with small h\n",
    "h = 0.000001\n",
    "x = 2/3\n",
    "approx_slope = (f(x+h) - f(x)) / h\n",
    "\n",
    "# Exact derivative\n",
    "exact_slope = 6*x - 4\n",
    "\n",
    "print(\"Approximate slope:\", approx_slope)\n",
    "print(\"Exact slope:\", exact_slope)\n",
    "```\n",
    "```yaml\n",
    "Approximate slope: ~0.000000\n",
    "Exact slope: 0\n",
    "```\n",
    "\n",
    "In neural networks, derivatives (slopes) show how much the error changes when weights change. They guide weight updates using gradient descent, ensuring the network learns patterns effectively. Without slopes, the model can’t know which direction improves predictions.\n",
    "\n",
    "\n"
   ],
   "id": "f238300949cb1b15"
  },
  {
   "metadata": {
    "ExecuteTime": {
     "end_time": "2025-08-24T16:31:33.131391Z",
     "start_time": "2025-08-24T16:31:33.120392Z"
    }
   },
   "cell_type": "code",
   "source": [
    "def f(x):\n",
    "    return 3*x**2 - 4*x + 5\n",
    "\n",
    "# Approximation with small h\n",
    "h = 0.00001\n",
    "x = 2/3\n",
    "approx_slope = (f(x+h) - f(x)) / h\n",
    "\n",
    "# Exact derivative\n",
    "exact_slope = 6*x - 4\n",
    "\n",
    "print(\"Approximate slope:\", round(approx_slope,4))\n",
    "print(\"Exact slope:\", exact_slope)"
   ],
   "id": "edf7ea00334fb325",
   "outputs": [
    {
     "name": "stdout",
     "output_type": "stream",
     "text": [
      "Approximate slope: 0.0\n",
      "Exact slope: 0.0\n"
     ]
    }
   ],
   "execution_count": 1
  },
  {
   "metadata": {
    "ExecuteTime": {
     "end_time": "2025-08-24T16:31:33.331351Z",
     "start_time": "2025-08-24T16:31:33.325901Z"
    }
   },
   "cell_type": "code",
   "source": [
    "## Now let's do complex problem\n",
    "\n",
    "a = 2.0\n",
    "b = -3.0\n",
    "c = 10.0\n",
    "d = a*b + c\n",
    "print(d)"
   ],
   "id": "6ecdbcc13d6aab4a",
   "outputs": [
    {
     "name": "stdout",
     "output_type": "stream",
     "text": [
      "4.0\n"
     ]
    }
   ],
   "execution_count": 2
  },
  {
   "metadata": {
    "ExecuteTime": {
     "end_time": "2025-08-24T16:31:33.638645Z",
     "start_time": "2025-08-24T16:31:33.632645Z"
    }
   },
   "cell_type": "code",
   "source": [
    "h = 0.000001\n",
    "\n",
    "a = 2.0\n",
    "b = -3.0\n",
    "c = 10.0\n",
    "\n",
    "# before updating weights\n",
    "d1 = a*b + c\n",
    "\n",
    "c = c + h\n",
    "\n",
    "#after updating weigths\n",
    "d2 = a*b + c\n",
    "\n",
    "print('d1',d1)\n",
    "print('d2', d2)\n",
    "print('slope ', (d2-d1)/h)"
   ],
   "id": "dee3d44c079e4a9d",
   "outputs": [
    {
     "name": "stdout",
     "output_type": "stream",
     "text": [
      "d1 4.0\n",
      "d2 4.000000999999999\n",
      "slope  0.9999999992515995\n"
     ]
    }
   ],
   "execution_count": 3
  },
  {
   "metadata": {},
   "cell_type": "markdown",
   "source": [
    "### Explaining the Concept of Slope with a Simple Example\n",
    "\n",
    "In simple words, **`d1` is like a curve going in one direction**.\n",
    "When we add a small value (`h`) to it, the curve will either **increase or decrease** based on the slope value.\n",
    "\n",
    "So we initialized a random variable `h`, added it, and calculated the slope at that particular point.\n",
    "\n",
    "Based on the slope, we can know whether increasing each variable (`a`, `b`, or `c`) will give us a **positive** or **negative** slope.\n",
    "\n",
    "---\n",
    "\n",
    "### Cases\n",
    "\n",
    "1. **When we increase the value of `a` by 0.00001**\n",
    "   → `d2` decreases, slope is **negative**.\n",
    "\n",
    "2. **When we increase the value of `b` by 0.00001**\n",
    "   → `d2` increases, slope is **positive**.\n",
    "\n",
    "3. **When we increase the value of `c` by 0.00001**\n",
    "   → `d2` increases, slope is **positive**.\n",
    "\n",
    "---\n",
    "\n",
    "### Imagine a Hill\n",
    "\n",
    "Think of a **hill** that you’re standing on:\n",
    "\n",
    "- If the hill goes **up** when you take a tiny step forward → slope is **positive**.\n",
    "- If the hill goes **down** when you take a tiny step forward → slope is **negative**.\n",
    "- If it stays **flat** → slope is **zero**.\n",
    "\n",
    "---\n",
    "\n",
    "### Cases Explained in Hill Analogy\n",
    "\n",
    "- **Change a little bit of `a`:**\n",
    "  If `d` gets smaller → slope is negative (hill goes down).\n",
    "\n",
    "- **Change a little bit of `b`:**\n",
    "  If `d` gets bigger → slope is positive (hill goes up).\n",
    "\n",
    "- **Change a little bit of `c`:**\n",
    "  If `d` gets bigger → slope is positive (hill goes up).\n",
    "\n",
    "---\n",
    "\n",
    "### What It Means\n",
    "\n",
    "This is exactly how a **computer learns in machine learning**:\n",
    "\n",
    "-> It keeps nudging numbers (like `a`, `b`, `c`) by a tiny step and checks: *“Did things get better or worse?”*\n",
    "\n",
    "- If **better** → keep going that way.\n",
    "- If **worse** → go the opposite way.\n",
    "\n",
    "It’s like playing **hot and cold** with math until you find the **lowest point of the hill**.\n"
   ],
   "id": "8a538298045f8669"
  },
  {
   "metadata": {
    "ExecuteTime": {
     "end_time": "2025-08-24T16:31:35.059485Z",
     "start_time": "2025-08-24T16:31:35.052633Z"
    }
   },
   "cell_type": "code",
   "source": [
    "class Value:\n",
    "    def __init__(self, data):\n",
    "        self.data = data\n",
    "    def __repr__(self):\n",
    "        return f\"value(data={self.data})\"\n",
    "\n",
    "# so we are trying  to show that value with the class such that we can print values and what the value is\n",
    "X = Value(10)\n",
    "print(X)\n",
    "print(X.data)"
   ],
   "id": "ffde83929d8414be",
   "outputs": [
    {
     "name": "stdout",
     "output_type": "stream",
     "text": [
      "value(data=10)\n",
      "10\n"
     ]
    }
   ],
   "execution_count": 4
  },
  {
   "metadata": {},
   "cell_type": "markdown",
   "source": "## Visual development of neurons",
   "id": "e1e4e52152a43188"
  },
  {
   "metadata": {
    "ExecuteTime": {
     "end_time": "2025-08-24T16:31:36.068962Z",
     "start_time": "2025-08-24T16:31:36.063041Z"
    }
   },
   "cell_type": "code",
   "source": [
    "class Value:\n",
    "    def __init__(self, data):\n",
    "        self.data = data\n",
    "    def __repr__(self):\n",
    "        return f\"value(data={self.data})\"\n",
    "    def __add__(self, other):\n",
    "        out = Value(self.data + other.data)\n",
    "        return out\n",
    "\n",
    "a = Value(2.0)\n",
    "b = Value(-3.0)\n",
    "\n",
    "print(a + b)\n",
    "## python will internally call a.__add__(b)\n",
    "\n",
    "print(a.data + b.data)"
   ],
   "id": "a408b5de6f1cea89",
   "outputs": [
    {
     "name": "stdout",
     "output_type": "stream",
     "text": [
      "value(data=-1.0)\n",
      "-1.0\n"
     ]
    }
   ],
   "execution_count": 5
  },
  {
   "metadata": {
    "ExecuteTime": {
     "end_time": "2025-08-24T16:31:36.614010Z",
     "start_time": "2025-08-24T16:31:36.606006Z"
    }
   },
   "cell_type": "code",
   "source": [
    "## Now we would like to multiplication to our class\n",
    "class Value:\n",
    "    def __init__(self, data, _children=()):\n",
    "        self.data = data\n",
    "        self._prev = set(_children) # we are storing the previous values\n",
    "        \n",
    "    def __repr__(self):\n",
    "        return f\"value(data={self.data})\"\n",
    "    def __add__(self, other):\n",
    "        out = Value(self.data + other.data)\n",
    "        return out\n",
    "    def __mul__(self, other):\n",
    "        out = Value(self.data *  other.data)\n",
    "        return out\n",
    "a = Value(2.0)\n",
    "b = Value(-3.0)\n",
    "\n",
    "print(a * b)\n",
    "print(a.data * b.data)"
   ],
   "id": "75a1efb11454513c",
   "outputs": [
    {
     "name": "stdout",
     "output_type": "stream",
     "text": [
      "value(data=-6.0)\n",
      "-6.0\n"
     ]
    }
   ],
   "execution_count": 6
  },
  {
   "metadata": {
    "ExecuteTime": {
     "end_time": "2025-08-24T16:36:16.658441Z",
     "start_time": "2025-08-24T16:36:16.651279Z"
    }
   },
   "cell_type": "code",
   "source": [
    "a = Value(2.0)\n",
    "b = Value(-3.0)\n",
    "c = Value(10.0)\n",
    "\n",
    "a*b + c \n",
    "# what it does internally is (a.__mul__(b)).__add__(c)"
   ],
   "id": "d322084255a28a0b",
   "outputs": [
    {
     "data": {
      "text/plain": [
       "Value(data=4.0)"
      ]
     },
     "execution_count": 23,
     "metadata": {},
     "output_type": "execute_result"
    }
   ],
   "execution_count": 23
  },
  {
   "metadata": {
    "ExecuteTime": {
     "end_time": "2025-08-24T16:36:20.196203Z",
     "start_time": "2025-08-24T16:36:20.191077Z"
    }
   },
   "cell_type": "code",
   "source": [
    "d = a*b + c\n",
    "d"
   ],
   "id": "4534bd6ea787435d",
   "outputs": [
    {
     "data": {
      "text/plain": [
       "Value(data=4.0)"
      ]
     },
     "execution_count": 24,
     "metadata": {},
     "output_type": "execute_result"
    }
   ],
   "execution_count": 24
  },
  {
   "metadata": {
    "ExecuteTime": {
     "end_time": "2025-08-24T16:36:21.248055Z",
     "start_time": "2025-08-24T16:36:21.243055Z"
    }
   },
   "cell_type": "code",
   "source": "d._prev",
   "id": "ff583111ab4c9273",
   "outputs": [
    {
     "data": {
      "text/plain": [
       "{Value(data=-6.0), Value(data=10.0)}"
      ]
     },
     "execution_count": 25,
     "metadata": {},
     "output_type": "execute_result"
    }
   ],
   "execution_count": 25
  },
  {
   "metadata": {
    "ExecuteTime": {
     "end_time": "2025-08-24T16:37:11.761585Z",
     "start_time": "2025-08-24T16:37:11.754585Z"
    }
   },
   "cell_type": "code",
   "source": [
    "from graphviz import Digraph\n",
    "\n",
    "def trace(root):\n",
    "  # builds a set of all nodes and edges in a graph\n",
    "  nodes, edges = set(), set()\n",
    "  def build(v):\n",
    "    if v not in nodes:\n",
    "      nodes.add(v)\n",
    "      for child in v._prev:\n",
    "        edges.add((child, v))\n",
    "        build(child)\n",
    "  build(root)\n",
    "  return nodes, edges\n",
    "\n",
    "def draw_dot(root):\n",
    "  dot = Digraph(format='svg', graph_attr={'rankdir': 'LR'}) # LR = left to right\n",
    "\n",
    "  nodes, edges = trace(root)\n",
    "  for n in nodes:\n",
    "    uid = str(id(n))\n",
    "    # for any value in the graph, create a rectangular ('record') node for it\n",
    "    dot.node(name = uid, label = \"{ %s | data %.4f }\" % (n.label, n.data), shape='record')\n",
    "    if n._op:\n",
    "      # if this value is a result of some operation, create an op node for it\n",
    "      dot.node(name = uid + n._op, label = n._op)\n",
    "      # and connect this node to it\n",
    "      dot.edge(uid + n._op, uid)\n",
    "\n",
    "  for n1, n2 in edges:\n",
    "    # connect n1 to the op node of n2\n",
    "    dot.edge(str(id(n1)), str(id(n2)) + n2._op)\n",
    "\n",
    "  return dot\n"
   ],
   "id": "35d38876acdc526",
   "outputs": [],
   "execution_count": 26
  },
  {
   "metadata": {
    "ExecuteTime": {
     "end_time": "2025-08-24T17:14:26.460040Z",
     "start_time": "2025-08-24T17:14:26.452039Z"
    }
   },
   "cell_type": "code",
   "source": [
    "class Value:\n",
    "\n",
    "  def __init__(self, data, _children=(), _op='', label=''):\n",
    "    self.data = data\n",
    "    self._prev = set(_children)\n",
    "    self._op = _op\n",
    "    self.label = label\n",
    "\n",
    "  def __repr__(self):\n",
    "    return f\"Value(data={self.data})\"\n",
    "\n",
    "  def __add__(self, other):\n",
    "    out = Value(self.data + other.data, (self, other), '+')\n",
    "    return out\n",
    "\n",
    "  def __mul__(self, other):\n",
    "    out = Value(self.data * other.data, (self, other), '*')\n",
    "    return out\n",
    "  \n",
    "  def tanh(self):\n",
    "      x = self.data\n",
    "      t = (math.exp(2*x) - 1)/(math.exp(2*x) + 1)\n",
    "      out = Value(t, (self,), 'tanh')\n",
    "      return out\n",
    "\n",
    "\n",
    "\n",
    "a = Value(2.0, label='a')\n",
    "b = Value(-3.0, label = 'b')\n",
    "c = Value(10.0, label = 'c')\n",
    "e= a*b; e.label = 'e'\n",
    "d = e+c; d.label = 'd'\n",
    "f = Value(-2.0, label='f')\n",
    "L = d*f; L.label = 'L'\n",
    "L"
   ],
   "id": "c6c3d163044e5ebf",
   "outputs": [
    {
     "data": {
      "text/plain": [
       "Value(data=-8.0)"
      ]
     },
     "execution_count": 83,
     "metadata": {},
     "output_type": "execute_result"
    }
   ],
   "execution_count": 83
  },
  {
   "metadata": {
    "ExecuteTime": {
     "end_time": "2025-08-24T16:37:15.197309Z",
     "start_time": "2025-08-24T16:37:15.192423Z"
    }
   },
   "cell_type": "code",
   "source": "d._prev",
   "id": "e465737ae4923857",
   "outputs": [
    {
     "data": {
      "text/plain": [
       "{Value(data=-6.0), Value(data=10.0)}"
      ]
     },
     "execution_count": 28,
     "metadata": {},
     "output_type": "execute_result"
    }
   ],
   "execution_count": 28
  },
  {
   "metadata": {
    "ExecuteTime": {
     "end_time": "2025-08-24T16:37:23.638825Z",
     "start_time": "2025-08-24T16:37:23.633744Z"
    }
   },
   "cell_type": "code",
   "source": "d._op",
   "id": "3d520218f7d57e76",
   "outputs": [
    {
     "data": {
      "text/plain": [
       "'+'"
      ]
     },
     "execution_count": 29,
     "metadata": {},
     "output_type": "execute_result"
    }
   ],
   "execution_count": 29
  },
  {
   "metadata": {
    "ExecuteTime": {
     "end_time": "2025-08-24T16:37:25.601089Z",
     "start_time": "2025-08-24T16:37:25.183665Z"
    }
   },
   "cell_type": "code",
   "source": "draw_dot(L)",
   "id": "7ec0b0dbc0fb1a90",
   "outputs": [
    {
     "data": {
      "image/svg+xml": "<?xml version=\"1.0\" encoding=\"UTF-8\" standalone=\"no\"?>\n<!DOCTYPE svg PUBLIC \"-//W3C//DTD SVG 1.1//EN\"\n \"http://www.w3.org/Graphics/SVG/1.1/DTD/svg11.dtd\">\n<!-- Generated by graphviz version 13.1.2 (20250808.2320)\n -->\n<!-- Pages: 1 -->\n<svg width=\"815pt\" height=\"128pt\"\n viewBox=\"0.00 0.00 815.00 128.00\" xmlns=\"http://www.w3.org/2000/svg\" xmlns:xlink=\"http://www.w3.org/1999/xlink\">\n<g id=\"graph0\" class=\"graph\" transform=\"scale(1 1) rotate(0) translate(4 124)\">\n<polygon fill=\"white\" stroke=\"none\" points=\"-4,4 -4,-124 810.75,-124 810.75,4 -4,4\"/>\n<!-- 2840701891600 -->\n<g id=\"node1\" class=\"node\">\n<title>2840701891600</title>\n<polygon fill=\"none\" stroke=\"black\" points=\"467.5,-82.5 467.5,-118.5 572.25,-118.5 572.25,-82.5 467.5,-82.5\"/>\n<text xml:space=\"preserve\" text-anchor=\"middle\" x=\"477.75\" y=\"-95.7\" font-family=\"Times New Roman,serif\" font-size=\"14.00\">f</text>\n<polyline fill=\"none\" stroke=\"black\" points=\"488,-83 488,-118.5\"/>\n<text xml:space=\"preserve\" text-anchor=\"middle\" x=\"530.12\" y=\"-95.7\" font-family=\"Times New Roman,serif\" font-size=\"14.00\">data &#45;2.0000</text>\n</g>\n<!-- 2840701893072* -->\n<g id=\"node10\" class=\"node\">\n<title>2840701893072*</title>\n<ellipse fill=\"none\" stroke=\"black\" cx=\"635.25\" cy=\"-72.5\" rx=\"27\" ry=\"18\"/>\n<text xml:space=\"preserve\" text-anchor=\"middle\" x=\"635.25\" y=\"-67.45\" font-family=\"Times New Roman,serif\" font-size=\"14.00\">*</text>\n</g>\n<!-- 2840701891600&#45;&gt;2840701893072* -->\n<g id=\"edge8\" class=\"edge\">\n<title>2840701891600&#45;&gt;2840701893072*</title>\n<path fill=\"none\" stroke=\"black\" d=\"M572.59,-87.73C581.32,-85.57 590.21,-83.38 598.42,-81.35\"/>\n<polygon fill=\"black\" stroke=\"black\" points=\"599.16,-84.77 608.02,-78.98 597.48,-77.98 599.16,-84.77\"/>\n</g>\n<!-- 2840702105488 -->\n<g id=\"node2\" class=\"node\">\n<title>2840702105488</title>\n<polygon fill=\"none\" stroke=\"black\" points=\"0,-83.5 0,-119.5 107,-119.5 107,-83.5 0,-83.5\"/>\n<text xml:space=\"preserve\" text-anchor=\"middle\" x=\"11.38\" y=\"-96.7\" font-family=\"Times New Roman,serif\" font-size=\"14.00\">b</text>\n<polyline fill=\"none\" stroke=\"black\" points=\"22.75,-84 22.75,-119.5\"/>\n<text xml:space=\"preserve\" text-anchor=\"middle\" x=\"64.88\" y=\"-96.7\" font-family=\"Times New Roman,serif\" font-size=\"14.00\">data &#45;3.0000</text>\n</g>\n<!-- 2840702106320* -->\n<g id=\"node6\" class=\"node\">\n<title>2840702106320*</title>\n<ellipse fill=\"none\" stroke=\"black\" cx=\"170\" cy=\"-73.5\" rx=\"27\" ry=\"18\"/>\n<text xml:space=\"preserve\" text-anchor=\"middle\" x=\"170\" y=\"-68.45\" font-family=\"Times New Roman,serif\" font-size=\"14.00\">*</text>\n</g>\n<!-- 2840702105488&#45;&gt;2840702106320* -->\n<g id=\"edge7\" class=\"edge\">\n<title>2840702105488&#45;&gt;2840702106320*</title>\n<path fill=\"none\" stroke=\"black\" d=\"M107.39,-88.57C116.15,-86.42 125.05,-84.25 133.26,-82.24\"/>\n<polygon fill=\"black\" stroke=\"black\" points=\"133.97,-85.67 142.85,-79.89 132.3,-78.87 133.97,-85.67\"/>\n</g>\n<!-- 2840686955664 -->\n<g id=\"node3\" class=\"node\">\n<title>2840686955664</title>\n<polygon fill=\"none\" stroke=\"black\" points=\"468.62,-27.5 468.62,-63.5 571.12,-63.5 571.12,-27.5 468.62,-27.5\"/>\n<text xml:space=\"preserve\" text-anchor=\"middle\" x=\"480\" y=\"-40.7\" font-family=\"Times New Roman,serif\" font-size=\"14.00\">d</text>\n<polyline fill=\"none\" stroke=\"black\" points=\"491.38,-28 491.38,-63.5\"/>\n<text xml:space=\"preserve\" text-anchor=\"middle\" x=\"531.25\" y=\"-40.7\" font-family=\"Times New Roman,serif\" font-size=\"14.00\">data 4.0000</text>\n</g>\n<!-- 2840686955664&#45;&gt;2840701893072* -->\n<g id=\"edge4\" class=\"edge\">\n<title>2840686955664&#45;&gt;2840701893072*</title>\n<path fill=\"none\" stroke=\"black\" d=\"M571.59,-57.58C580.59,-59.72 589.79,-61.91 598.28,-63.93\"/>\n<polygon fill=\"black\" stroke=\"black\" points=\"597.3,-67.3 607.84,-66.21 598.93,-60.49 597.3,-67.3\"/>\n</g>\n<!-- 2840686955664+ -->\n<g id=\"node4\" class=\"node\">\n<title>2840686955664+</title>\n<ellipse fill=\"none\" stroke=\"black\" cx=\"404.5\" cy=\"-45.5\" rx=\"27\" ry=\"18\"/>\n<text xml:space=\"preserve\" text-anchor=\"middle\" x=\"404.5\" y=\"-40.45\" font-family=\"Times New Roman,serif\" font-size=\"14.00\">+</text>\n</g>\n<!-- 2840686955664+&#45;&gt;2840686955664 -->\n<g id=\"edge1\" class=\"edge\">\n<title>2840686955664+&#45;&gt;2840686955664</title>\n<path fill=\"none\" stroke=\"black\" d=\"M431.8,-45.5C439.43,-45.5 448.11,-45.5 456.96,-45.5\"/>\n<polygon fill=\"black\" stroke=\"black\" points=\"456.68,-49 466.68,-45.5 456.68,-42 456.68,-49\"/>\n</g>\n<!-- 2840702106320 -->\n<g id=\"node5\" class=\"node\">\n<title>2840702106320</title>\n<polygon fill=\"none\" stroke=\"black\" points=\"234.12,-55.5 234.12,-91.5 340.38,-91.5 340.38,-55.5 234.12,-55.5\"/>\n<text xml:space=\"preserve\" text-anchor=\"middle\" x=\"245.12\" y=\"-68.7\" font-family=\"Times New Roman,serif\" font-size=\"14.00\">e</text>\n<polyline fill=\"none\" stroke=\"black\" points=\"256.12,-56 256.12,-91.5\"/>\n<text xml:space=\"preserve\" text-anchor=\"middle\" x=\"298.25\" y=\"-68.7\" font-family=\"Times New Roman,serif\" font-size=\"14.00\">data &#45;6.0000</text>\n</g>\n<!-- 2840702106320&#45;&gt;2840686955664+ -->\n<g id=\"edge6\" class=\"edge\">\n<title>2840702106320&#45;&gt;2840686955664+</title>\n<path fill=\"none\" stroke=\"black\" d=\"M340.82,-60.73C349.88,-58.53 359.11,-56.29 367.6,-54.22\"/>\n<polygon fill=\"black\" stroke=\"black\" points=\"368.27,-57.66 377.16,-51.9 366.62,-50.86 368.27,-57.66\"/>\n</g>\n<!-- 2840702106320*&#45;&gt;2840702106320 -->\n<g id=\"edge2\" class=\"edge\">\n<title>2840702106320*&#45;&gt;2840702106320</title>\n<path fill=\"none\" stroke=\"black\" d=\"M197.44,-73.5C205.1,-73.5 213.82,-73.5 222.73,-73.5\"/>\n<polygon fill=\"black\" stroke=\"black\" points=\"222.53,-77 232.53,-73.5 222.53,-70 222.53,-77\"/>\n</g>\n<!-- 2840686262992 -->\n<g id=\"node7\" class=\"node\">\n<title>2840686262992</title>\n<polygon fill=\"none\" stroke=\"black\" points=\"233,-0.5 233,-36.5 341.5,-36.5 341.5,-0.5 233,-0.5\"/>\n<text xml:space=\"preserve\" text-anchor=\"middle\" x=\"244\" y=\"-13.7\" font-family=\"Times New Roman,serif\" font-size=\"14.00\">c</text>\n<polyline fill=\"none\" stroke=\"black\" points=\"255,-1 255,-36.5\"/>\n<text xml:space=\"preserve\" text-anchor=\"middle\" x=\"298.25\" y=\"-13.7\" font-family=\"Times New Roman,serif\" font-size=\"14.00\">data 10.0000</text>\n</g>\n<!-- 2840686262992&#45;&gt;2840686955664+ -->\n<g id=\"edge5\" class=\"edge\">\n<title>2840686262992&#45;&gt;2840686955664+</title>\n<path fill=\"none\" stroke=\"black\" d=\"M341.83,-31.05C350.54,-33.09 359.37,-35.16 367.53,-37.07\"/>\n<polygon fill=\"black\" stroke=\"black\" points=\"366.52,-40.43 377.05,-39.3 368.11,-33.61 366.52,-40.43\"/>\n</g>\n<!-- 2840686954896 -->\n<g id=\"node8\" class=\"node\">\n<title>2840686954896</title>\n<polygon fill=\"none\" stroke=\"black\" points=\"2.62,-28.5 2.62,-64.5 104.38,-64.5 104.38,-28.5 2.62,-28.5\"/>\n<text xml:space=\"preserve\" text-anchor=\"middle\" x=\"13.62\" y=\"-41.7\" font-family=\"Times New Roman,serif\" font-size=\"14.00\">a</text>\n<polyline fill=\"none\" stroke=\"black\" points=\"24.62,-29 24.62,-64.5\"/>\n<text xml:space=\"preserve\" text-anchor=\"middle\" x=\"64.5\" y=\"-41.7\" font-family=\"Times New Roman,serif\" font-size=\"14.00\">data 2.0000</text>\n</g>\n<!-- 2840686954896&#45;&gt;2840702106320* -->\n<g id=\"edge9\" class=\"edge\">\n<title>2840686954896&#45;&gt;2840702106320*</title>\n<path fill=\"none\" stroke=\"black\" d=\"M104.72,-58.34C114.16,-60.57 123.86,-62.86 132.78,-64.96\"/>\n<polygon fill=\"black\" stroke=\"black\" points=\"131.94,-68.36 142.48,-67.25 133.55,-61.54 131.94,-68.36\"/>\n</g>\n<!-- 2840701893072 -->\n<g id=\"node9\" class=\"node\">\n<title>2840701893072</title>\n<polygon fill=\"none\" stroke=\"black\" points=\"698.25,-54.5 698.25,-90.5 806.75,-90.5 806.75,-54.5 698.25,-54.5\"/>\n<text xml:space=\"preserve\" text-anchor=\"middle\" x=\"710.38\" y=\"-67.7\" font-family=\"Times New Roman,serif\" font-size=\"14.00\">L</text>\n<polyline fill=\"none\" stroke=\"black\" points=\"722.5,-55 722.5,-90.5\"/>\n<text xml:space=\"preserve\" text-anchor=\"middle\" x=\"764.62\" y=\"-67.7\" font-family=\"Times New Roman,serif\" font-size=\"14.00\">data &#45;8.0000</text>\n</g>\n<!-- 2840701893072*&#45;&gt;2840701893072 -->\n<g id=\"edge3\" class=\"edge\">\n<title>2840701893072*&#45;&gt;2840701893072</title>\n<path fill=\"none\" stroke=\"black\" d=\"M662.69,-72.5C669.91,-72.5 678.06,-72.5 686.43,-72.5\"/>\n<polygon fill=\"black\" stroke=\"black\" points=\"686.39,-76 696.39,-72.5 686.39,-69 686.39,-76\"/>\n</g>\n</g>\n</svg>\n",
      "text/plain": [
       "<graphviz.graphs.Digraph at 0x295666824d0>"
      ]
     },
     "execution_count": 30,
     "metadata": {},
     "output_type": "execute_result"
    }
   ],
   "execution_count": 30
  },
  {
   "metadata": {
    "ExecuteTime": {
     "end_time": "2025-08-24T16:37:53.572625Z",
     "start_time": "2025-08-24T16:37:53.568624Z"
    }
   },
   "cell_type": "code",
   "source": [
    "## Now we want to do back propogation for the above equation\n",
    "\n",
    "## We want to calculate the derivative of the node with respective to L and store its gradient in viusal so we can update the weights"
   ],
   "id": "479e485193c88531",
   "outputs": [],
   "execution_count": 31
  },
  {
   "metadata": {
    "ExecuteTime": {
     "end_time": "2025-08-24T17:54:20.051947Z",
     "start_time": "2025-08-24T17:54:20.041018Z"
    }
   },
   "cell_type": "code",
   "source": [
    "from graphviz import Digraph\n",
    "\n",
    "def trace(root):\n",
    "  # builds a set of all nodes and edges in a graph\n",
    "  nodes, edges = set(), set()\n",
    "  def build(v):\n",
    "    if v not in nodes:\n",
    "      nodes.add(v)\n",
    "      for child in v._prev:\n",
    "        edges.add((child, v))\n",
    "        build(child)\n",
    "  build(root)\n",
    "  return nodes, edges\n",
    "\n",
    "def draw_dot(root):\n",
    "  dot = Digraph(format='svg', graph_attr={'rankdir': 'LR'}) # LR = left to right\n",
    "\n",
    "  nodes, edges = trace(root)\n",
    "  for n in nodes:\n",
    "    uid = str(id(n))\n",
    "    # for any value in the graph, create a rectangular ('record') node for it\n",
    "    dot.node(name = uid, label = \"{ %s | data %.4f | grad %.4f }\" % (n.label, n.data, n.grad), shape='record')\n",
    "    if n._op:\n",
    "      # if this value is a result of some operation, create an op node for it\n",
    "      dot.node(name = uid + n._op, label = n._op)\n",
    "      # and connect this node to it\n",
    "      dot.edge(uid + n._op, uid)\n",
    "\n",
    "  for n1, n2 in edges:\n",
    "    # connect n1 to the op node of n2\n",
    "    dot.edge(str(id(n1)), str(id(n2)) + n2._op)\n",
    "\n",
    "  return dot\n",
    "\n",
    "\n",
    "\n",
    "class Value:\n",
    "\n",
    "  def __init__(self, data, _children=(), _op='', label=''):\n",
    "    self.data = data\n",
    "    self.grad = 0.0  #By default, at initialization we are setting our grad to zero\n",
    "    self._backward = lambda: None\n",
    "    self._prev = set(_children)\n",
    "    self._op = _op\n",
    "    self.label = label\n",
    "\n",
    "  def __repr__(self):\n",
    "    return f\"Value(data={self.data})\"\n",
    "\n",
    "  def __add__(self, other):\n",
    "    out = Value(self.data + other.data, (self, other), '+')\n",
    "    \n",
    "    def _backward():\n",
    "        self.grad = 1.0 * out.grad\n",
    "        other.grad = 1.0 * out.grad\n",
    "    out._backward = _backward\n",
    "    return out\n",
    "\n",
    "  def __mul__(self, other):\n",
    "    out = Value(self.data * other.data, (self, other), '*')\n",
    "    \n",
    "    def _backward():\n",
    "        self.grad = other.grad * out.grad\n",
    "        other.grad = self.data * out.grad\n",
    "    out._backward = _backward()\n",
    "    return out\n",
    "  \n",
    "  \n",
    "  def tanh(self):\n",
    "      x = self.data\n",
    "      t = (math.exp(2*x) - 1)/(math.exp(2*x) + 1)\n",
    "      out = Value(t, (self,), 'tanh')\n",
    "      \n",
    "      def _backward():\n",
    "          self.grad = (1- t**2 ) *out.grad\n",
    "      out._backward = _backward()\n",
    "      return out\n",
    "\n",
    "\n",
    "\n",
    "a = Value(2.0, label='a')\n",
    "b = Value(-3.0, label = 'b')\n",
    "c = Value(10.0, label = 'c')\n",
    "e= a*b; e.label = 'e'\n",
    "d = e+c; d.label = 'd'\n",
    "f = Value(-2.0, label='f')\n",
    "L = d*f; L.label = 'L'\n",
    "L"
   ],
   "id": "f173e6a11c392b2d",
   "outputs": [
    {
     "data": {
      "text/plain": [
       "Value(data=-8.0)"
      ]
     },
     "execution_count": 125,
     "metadata": {},
     "output_type": "execute_result"
    }
   ],
   "execution_count": 125
  },
  {
   "metadata": {},
   "cell_type": "markdown",
   "source": "## Here Gradient is set to zero",
   "id": "c56e908cea96e8cb"
  },
  {
   "metadata": {
    "ExecuteTime": {
     "end_time": "2025-08-24T17:54:21.952394Z",
     "start_time": "2025-08-24T17:54:21.447957Z"
    }
   },
   "cell_type": "code",
   "source": "draw_dot(L)",
   "id": "d9c3848f0dffe577",
   "outputs": [
    {
     "data": {
      "image/svg+xml": "<?xml version=\"1.0\" encoding=\"UTF-8\" standalone=\"no\"?>\n<!DOCTYPE svg PUBLIC \"-//W3C//DTD SVG 1.1//EN\"\n \"http://www.w3.org/Graphics/SVG/1.1/DTD/svg11.dtd\">\n<!-- Generated by graphviz version 13.1.2 (20250808.2320)\n -->\n<!-- Pages: 1 -->\n<svg width=\"1140pt\" height=\"154pt\"\n viewBox=\"0.00 0.00 1140.00 154.00\" xmlns=\"http://www.w3.org/2000/svg\" xmlns:xlink=\"http://www.w3.org/1999/xlink\">\n<g id=\"graph0\" class=\"graph\" transform=\"scale(1 1) rotate(0) translate(4 150)\">\n<polygon fill=\"white\" stroke=\"none\" points=\"-4,4 -4,-150 1135.75,-150 1135.75,4 -4,4\"/>\n<!-- 2840717023760 -->\n<g id=\"node1\" class=\"node\">\n<title>2840717023760</title>\n<polygon fill=\"none\" stroke=\"black\" points=\"942,-81.5 942,-117.5 1131.75,-117.5 1131.75,-81.5 942,-81.5\"/>\n<text xml:space=\"preserve\" text-anchor=\"middle\" x=\"954.12\" y=\"-94.7\" font-family=\"Times New Roman,serif\" font-size=\"14.00\">L</text>\n<polyline fill=\"none\" stroke=\"black\" points=\"966.25,-82 966.25,-117.5\"/>\n<text xml:space=\"preserve\" text-anchor=\"middle\" x=\"1008.38\" y=\"-94.7\" font-family=\"Times New Roman,serif\" font-size=\"14.00\">data &#45;8.0000</text>\n<polyline fill=\"none\" stroke=\"black\" points=\"1050.5,-82 1050.5,-117.5\"/>\n<text xml:space=\"preserve\" text-anchor=\"middle\" x=\"1091.12\" y=\"-94.7\" font-family=\"Times New Roman,serif\" font-size=\"14.00\">grad 0.0000</text>\n</g>\n<!-- 2840717023760* -->\n<g id=\"node2\" class=\"node\">\n<title>2840717023760*</title>\n<ellipse fill=\"none\" stroke=\"black\" cx=\"879\" cy=\"-99.5\" rx=\"27\" ry=\"18\"/>\n<text xml:space=\"preserve\" text-anchor=\"middle\" x=\"879\" y=\"-94.45\" font-family=\"Times New Roman,serif\" font-size=\"14.00\">*</text>\n</g>\n<!-- 2840717023760*&#45;&gt;2840717023760 -->\n<g id=\"edge1\" class=\"edge\">\n<title>2840717023760*&#45;&gt;2840717023760</title>\n<path fill=\"none\" stroke=\"black\" d=\"M906.44,-99.5C913.59,-99.5 921.78,-99.5 930.49,-99.5\"/>\n<polygon fill=\"black\" stroke=\"black\" points=\"930.26,-103 940.26,-99.5 930.26,-96 930.26,-103\"/>\n</g>\n<!-- 2840702102608 -->\n<g id=\"node3\" class=\"node\">\n<title>2840702102608</title>\n<polygon fill=\"none\" stroke=\"black\" points=\"0,-55.5 0,-91.5 188.25,-91.5 188.25,-55.5 0,-55.5\"/>\n<text xml:space=\"preserve\" text-anchor=\"middle\" x=\"11.38\" y=\"-68.7\" font-family=\"Times New Roman,serif\" font-size=\"14.00\">b</text>\n<polyline fill=\"none\" stroke=\"black\" points=\"22.75,-56 22.75,-91.5\"/>\n<text xml:space=\"preserve\" text-anchor=\"middle\" x=\"64.88\" y=\"-68.7\" font-family=\"Times New Roman,serif\" font-size=\"14.00\">data &#45;3.0000</text>\n<polyline fill=\"none\" stroke=\"black\" points=\"107,-56 107,-91.5\"/>\n<text xml:space=\"preserve\" text-anchor=\"middle\" x=\"147.62\" y=\"-68.7\" font-family=\"Times New Roman,serif\" font-size=\"14.00\">grad 0.0000</text>\n</g>\n<!-- 2840715339536* -->\n<g id=\"node8\" class=\"node\">\n<title>2840715339536*</title>\n<ellipse fill=\"none\" stroke=\"black\" cx=\"251.25\" cy=\"-45.5\" rx=\"27\" ry=\"18\"/>\n<text xml:space=\"preserve\" text-anchor=\"middle\" x=\"251.25\" y=\"-40.45\" font-family=\"Times New Roman,serif\" font-size=\"14.00\">*</text>\n</g>\n<!-- 2840702102608&#45;&gt;2840715339536* -->\n<g id=\"edge5\" class=\"edge\">\n<title>2840702102608&#45;&gt;2840715339536*</title>\n<path fill=\"none\" stroke=\"black\" d=\"M188.49,-56.65C197.36,-55.05 205.93,-53.5 213.73,-52.09\"/>\n<polygon fill=\"black\" stroke=\"black\" points=\"214.2,-55.56 223.42,-50.34 212.95,-48.68 214.2,-55.56\"/>\n</g>\n<!-- 2840715823760 -->\n<g id=\"node4\" class=\"node\">\n<title>2840715823760</title>\n<polygon fill=\"none\" stroke=\"black\" points=\"314.25,-82.5 314.25,-118.5 504,-118.5 504,-82.5 314.25,-82.5\"/>\n<text xml:space=\"preserve\" text-anchor=\"middle\" x=\"325.25\" y=\"-95.7\" font-family=\"Times New Roman,serif\" font-size=\"14.00\">c</text>\n<polyline fill=\"none\" stroke=\"black\" points=\"336.25,-83 336.25,-118.5\"/>\n<text xml:space=\"preserve\" text-anchor=\"middle\" x=\"379.5\" y=\"-95.7\" font-family=\"Times New Roman,serif\" font-size=\"14.00\">data 10.0000</text>\n<polyline fill=\"none\" stroke=\"black\" points=\"422.75,-83 422.75,-118.5\"/>\n<text xml:space=\"preserve\" text-anchor=\"middle\" x=\"463.38\" y=\"-95.7\" font-family=\"Times New Roman,serif\" font-size=\"14.00\">grad 0.0000</text>\n</g>\n<!-- 2840717017872+ -->\n<g id=\"node10\" class=\"node\">\n<title>2840717017872+</title>\n<ellipse fill=\"none\" stroke=\"black\" cx=\"567\" cy=\"-72.5\" rx=\"27\" ry=\"18\"/>\n<text xml:space=\"preserve\" text-anchor=\"middle\" x=\"567\" y=\"-67.45\" font-family=\"Times New Roman,serif\" font-size=\"14.00\">+</text>\n</g>\n<!-- 2840715823760&#45;&gt;2840717017872+ -->\n<g id=\"edge6\" class=\"edge\">\n<title>2840715823760&#45;&gt;2840717017872+</title>\n<path fill=\"none\" stroke=\"black\" d=\"M504.39,-83.57C513.16,-81.99 521.65,-80.47 529.37,-79.08\"/>\n<polygon fill=\"black\" stroke=\"black\" points=\"529.73,-82.57 538.95,-77.36 528.49,-75.68 529.73,-82.57\"/>\n</g>\n<!-- 2840715832528 -->\n<g id=\"node5\" class=\"node\">\n<title>2840715832528</title>\n<polygon fill=\"none\" stroke=\"black\" points=\"2.62,-0.5 2.62,-36.5 185.62,-36.5 185.62,-0.5 2.62,-0.5\"/>\n<text xml:space=\"preserve\" text-anchor=\"middle\" x=\"13.62\" y=\"-13.7\" font-family=\"Times New Roman,serif\" font-size=\"14.00\">a</text>\n<polyline fill=\"none\" stroke=\"black\" points=\"24.62,-1 24.62,-36.5\"/>\n<text xml:space=\"preserve\" text-anchor=\"middle\" x=\"64.5\" y=\"-13.7\" font-family=\"Times New Roman,serif\" font-size=\"14.00\">data 2.0000</text>\n<polyline fill=\"none\" stroke=\"black\" points=\"104.38,-1 104.38,-36.5\"/>\n<text xml:space=\"preserve\" text-anchor=\"middle\" x=\"145\" y=\"-13.7\" font-family=\"Times New Roman,serif\" font-size=\"14.00\">grad 0.0000</text>\n</g>\n<!-- 2840715832528&#45;&gt;2840715339536* -->\n<g id=\"edge4\" class=\"edge\">\n<title>2840715832528&#45;&gt;2840715339536*</title>\n<path fill=\"none\" stroke=\"black\" d=\"M185.81,-34.28C195.45,-35.96 204.82,-37.59 213.29,-39.07\"/>\n<polygon fill=\"black\" stroke=\"black\" points=\"212.65,-42.51 223.1,-40.77 213.85,-35.61 212.65,-42.51\"/>\n</g>\n<!-- 2840717019344 -->\n<g id=\"node6\" class=\"node\">\n<title>2840717019344</title>\n<polygon fill=\"none\" stroke=\"black\" points=\"630,-109.5 630,-145.5 816,-145.5 816,-109.5 630,-109.5\"/>\n<text xml:space=\"preserve\" text-anchor=\"middle\" x=\"640.25\" y=\"-122.7\" font-family=\"Times New Roman,serif\" font-size=\"14.00\">f</text>\n<polyline fill=\"none\" stroke=\"black\" points=\"650.5,-110 650.5,-145.5\"/>\n<text xml:space=\"preserve\" text-anchor=\"middle\" x=\"692.62\" y=\"-122.7\" font-family=\"Times New Roman,serif\" font-size=\"14.00\">data &#45;2.0000</text>\n<polyline fill=\"none\" stroke=\"black\" points=\"734.75,-110 734.75,-145.5\"/>\n<text xml:space=\"preserve\" text-anchor=\"middle\" x=\"775.38\" y=\"-122.7\" font-family=\"Times New Roman,serif\" font-size=\"14.00\">grad 0.0000</text>\n</g>\n<!-- 2840717019344&#45;&gt;2840717023760* -->\n<g id=\"edge8\" class=\"edge\">\n<title>2840717019344&#45;&gt;2840717023760*</title>\n<path fill=\"none\" stroke=\"black\" d=\"M816.25,-110.73C825.1,-109.12 833.67,-107.56 841.46,-106.14\"/>\n<polygon fill=\"black\" stroke=\"black\" points=\"841.93,-109.62 851.15,-104.38 840.68,-102.73 841.93,-109.62\"/>\n</g>\n<!-- 2840715339536 -->\n<g id=\"node7\" class=\"node\">\n<title>2840715339536</title>\n<polygon fill=\"none\" stroke=\"black\" points=\"315.38,-27.5 315.38,-63.5 502.88,-63.5 502.88,-27.5 315.38,-27.5\"/>\n<text xml:space=\"preserve\" text-anchor=\"middle\" x=\"326.38\" y=\"-40.7\" font-family=\"Times New Roman,serif\" font-size=\"14.00\">e</text>\n<polyline fill=\"none\" stroke=\"black\" points=\"337.38,-28 337.38,-63.5\"/>\n<text xml:space=\"preserve\" text-anchor=\"middle\" x=\"379.5\" y=\"-40.7\" font-family=\"Times New Roman,serif\" font-size=\"14.00\">data &#45;6.0000</text>\n<polyline fill=\"none\" stroke=\"black\" points=\"421.62,-28 421.62,-63.5\"/>\n<text xml:space=\"preserve\" text-anchor=\"middle\" x=\"462.25\" y=\"-40.7\" font-family=\"Times New Roman,serif\" font-size=\"14.00\">grad 0.0000</text>\n</g>\n<!-- 2840715339536&#45;&gt;2840717017872+ -->\n<g id=\"edge7\" class=\"edge\">\n<title>2840715339536&#45;&gt;2840717017872+</title>\n<path fill=\"none\" stroke=\"black\" d=\"M503.05,-61.6C512.25,-63.19 521.16,-64.73 529.24,-66.13\"/>\n<polygon fill=\"black\" stroke=\"black\" points=\"528.48,-69.55 538.93,-67.81 529.68,-62.66 528.48,-69.55\"/>\n</g>\n<!-- 2840715339536*&#45;&gt;2840715339536 -->\n<g id=\"edge2\" class=\"edge\">\n<title>2840715339536*&#45;&gt;2840715339536</title>\n<path fill=\"none\" stroke=\"black\" d=\"M278.69,-45.5C286.1,-45.5 294.64,-45.5 303.71,-45.5\"/>\n<polygon fill=\"black\" stroke=\"black\" points=\"303.51,-49 313.51,-45.5 303.51,-42 303.51,-49\"/>\n</g>\n<!-- 2840717017872 -->\n<g id=\"node9\" class=\"node\">\n<title>2840717017872</title>\n<polygon fill=\"none\" stroke=\"black\" points=\"631.12,-54.5 631.12,-90.5 814.88,-90.5 814.88,-54.5 631.12,-54.5\"/>\n<text xml:space=\"preserve\" text-anchor=\"middle\" x=\"642.5\" y=\"-67.7\" font-family=\"Times New Roman,serif\" font-size=\"14.00\">d</text>\n<polyline fill=\"none\" stroke=\"black\" points=\"653.88,-55 653.88,-90.5\"/>\n<text xml:space=\"preserve\" text-anchor=\"middle\" x=\"693.75\" y=\"-67.7\" font-family=\"Times New Roman,serif\" font-size=\"14.00\">data 4.0000</text>\n<polyline fill=\"none\" stroke=\"black\" points=\"733.62,-55 733.62,-90.5\"/>\n<text xml:space=\"preserve\" text-anchor=\"middle\" x=\"774.25\" y=\"-67.7\" font-family=\"Times New Roman,serif\" font-size=\"14.00\">grad 0.0000</text>\n</g>\n<!-- 2840717017872&#45;&gt;2840717023760* -->\n<g id=\"edge9\" class=\"edge\">\n<title>2840717017872&#45;&gt;2840717023760*</title>\n<path fill=\"none\" stroke=\"black\" d=\"M815.36,-88.52C824.5,-90.12 833.36,-91.67 841.4,-93.08\"/>\n<polygon fill=\"black\" stroke=\"black\" points=\"840.58,-96.49 851.04,-94.77 841.79,-89.6 840.58,-96.49\"/>\n</g>\n<!-- 2840717017872+&#45;&gt;2840717017872 -->\n<g id=\"edge3\" class=\"edge\">\n<title>2840717017872+&#45;&gt;2840717017872</title>\n<path fill=\"none\" stroke=\"black\" d=\"M594.47,-72.5C601.87,-72.5 610.38,-72.5 619.43,-72.5\"/>\n<polygon fill=\"black\" stroke=\"black\" points=\"619.17,-76 629.17,-72.5 619.17,-69 619.17,-76\"/>\n</g>\n</g>\n</svg>\n",
      "text/plain": [
       "<graphviz.graphs.Digraph at 0x29567df7310>"
      ]
     },
     "execution_count": 126,
     "metadata": {},
     "output_type": "execute_result"
    }
   ],
   "execution_count": 126
  },
  {
   "metadata": {
    "ExecuteTime": {
     "end_time": "2025-08-24T17:54:21.960404Z",
     "start_time": "2025-08-24T17:54:21.953401Z"
    }
   },
   "cell_type": "code",
   "source": [
    "## now lets start back propagation\n",
    "\n",
    "def lol():\n",
    "    h=0.0001\n",
    "\n",
    "    a = Value(2.0, label='a')\n",
    "    b = Value(-3.0, label = 'b')\n",
    "    c = Value(10.0, label = 'c')\n",
    "    e= a*b; e.label = 'e'\n",
    "    d = e+c; d.label = 'd'\n",
    "    f = Value(-2.0, label='f')\n",
    "    L = d*f; L.label = 'L'\n",
    "    L1 = L.data\n",
    "\n",
    "    #adding the derivative h to gradient of that value where h is added\n",
    "    h = 0.000001\n",
    "    a = Value(2.0 , label='a')\n",
    "    \n",
    "    b = Value(-3.0, label = 'b')\n",
    "    b.data += h\n",
    "    c = Value(10.0, label = 'c')\n",
    "    \n",
    "    e= a*b; e.label = 'e'\n",
    "    \n",
    "    d = e+c; d.label = 'd'\n",
    "    \n",
    "    f = Value(-2.0 , label='f')\n",
    "    L = d*f; L.label = 'L'\n",
    "    L2 = L.data\n",
    "\n",
    "    print((L2 - L1)/h)\n",
    "\n",
    "lol()\n"
   ],
   "id": "d3adeb97e4f91ae0",
   "outputs": [
    {
     "name": "stdout",
     "output_type": "stream",
     "text": [
      "-4.000000000559112\n"
     ]
    }
   ],
   "execution_count": 127
  },
  {
   "metadata": {
    "ExecuteTime": {
     "end_time": "2025-08-24T17:54:22.353436Z",
     "start_time": "2025-08-24T17:54:21.962918Z"
    }
   },
   "cell_type": "code",
   "source": "draw_dot(L)",
   "id": "a2d891b2ba8d853b",
   "outputs": [
    {
     "data": {
      "image/svg+xml": "<?xml version=\"1.0\" encoding=\"UTF-8\" standalone=\"no\"?>\n<!DOCTYPE svg PUBLIC \"-//W3C//DTD SVG 1.1//EN\"\n \"http://www.w3.org/Graphics/SVG/1.1/DTD/svg11.dtd\">\n<!-- Generated by graphviz version 13.1.2 (20250808.2320)\n -->\n<!-- Pages: 1 -->\n<svg width=\"1140pt\" height=\"154pt\"\n viewBox=\"0.00 0.00 1140.00 154.00\" xmlns=\"http://www.w3.org/2000/svg\" xmlns:xlink=\"http://www.w3.org/1999/xlink\">\n<g id=\"graph0\" class=\"graph\" transform=\"scale(1 1) rotate(0) translate(4 150)\">\n<polygon fill=\"white\" stroke=\"none\" points=\"-4,4 -4,-150 1135.75,-150 1135.75,4 -4,4\"/>\n<!-- 2840717023760 -->\n<g id=\"node1\" class=\"node\">\n<title>2840717023760</title>\n<polygon fill=\"none\" stroke=\"black\" points=\"942,-81.5 942,-117.5 1131.75,-117.5 1131.75,-81.5 942,-81.5\"/>\n<text xml:space=\"preserve\" text-anchor=\"middle\" x=\"954.12\" y=\"-94.7\" font-family=\"Times New Roman,serif\" font-size=\"14.00\">L</text>\n<polyline fill=\"none\" stroke=\"black\" points=\"966.25,-82 966.25,-117.5\"/>\n<text xml:space=\"preserve\" text-anchor=\"middle\" x=\"1008.38\" y=\"-94.7\" font-family=\"Times New Roman,serif\" font-size=\"14.00\">data &#45;8.0000</text>\n<polyline fill=\"none\" stroke=\"black\" points=\"1050.5,-82 1050.5,-117.5\"/>\n<text xml:space=\"preserve\" text-anchor=\"middle\" x=\"1091.12\" y=\"-94.7\" font-family=\"Times New Roman,serif\" font-size=\"14.00\">grad 0.0000</text>\n</g>\n<!-- 2840717023760* -->\n<g id=\"node2\" class=\"node\">\n<title>2840717023760*</title>\n<ellipse fill=\"none\" stroke=\"black\" cx=\"879\" cy=\"-99.5\" rx=\"27\" ry=\"18\"/>\n<text xml:space=\"preserve\" text-anchor=\"middle\" x=\"879\" y=\"-94.45\" font-family=\"Times New Roman,serif\" font-size=\"14.00\">*</text>\n</g>\n<!-- 2840717023760*&#45;&gt;2840717023760 -->\n<g id=\"edge1\" class=\"edge\">\n<title>2840717023760*&#45;&gt;2840717023760</title>\n<path fill=\"none\" stroke=\"black\" d=\"M906.44,-99.5C913.59,-99.5 921.78,-99.5 930.49,-99.5\"/>\n<polygon fill=\"black\" stroke=\"black\" points=\"930.26,-103 940.26,-99.5 930.26,-96 930.26,-103\"/>\n</g>\n<!-- 2840702102608 -->\n<g id=\"node3\" class=\"node\">\n<title>2840702102608</title>\n<polygon fill=\"none\" stroke=\"black\" points=\"0,-55.5 0,-91.5 188.25,-91.5 188.25,-55.5 0,-55.5\"/>\n<text xml:space=\"preserve\" text-anchor=\"middle\" x=\"11.38\" y=\"-68.7\" font-family=\"Times New Roman,serif\" font-size=\"14.00\">b</text>\n<polyline fill=\"none\" stroke=\"black\" points=\"22.75,-56 22.75,-91.5\"/>\n<text xml:space=\"preserve\" text-anchor=\"middle\" x=\"64.88\" y=\"-68.7\" font-family=\"Times New Roman,serif\" font-size=\"14.00\">data &#45;3.0000</text>\n<polyline fill=\"none\" stroke=\"black\" points=\"107,-56 107,-91.5\"/>\n<text xml:space=\"preserve\" text-anchor=\"middle\" x=\"147.62\" y=\"-68.7\" font-family=\"Times New Roman,serif\" font-size=\"14.00\">grad 0.0000</text>\n</g>\n<!-- 2840715339536* -->\n<g id=\"node8\" class=\"node\">\n<title>2840715339536*</title>\n<ellipse fill=\"none\" stroke=\"black\" cx=\"251.25\" cy=\"-45.5\" rx=\"27\" ry=\"18\"/>\n<text xml:space=\"preserve\" text-anchor=\"middle\" x=\"251.25\" y=\"-40.45\" font-family=\"Times New Roman,serif\" font-size=\"14.00\">*</text>\n</g>\n<!-- 2840702102608&#45;&gt;2840715339536* -->\n<g id=\"edge5\" class=\"edge\">\n<title>2840702102608&#45;&gt;2840715339536*</title>\n<path fill=\"none\" stroke=\"black\" d=\"M188.49,-56.65C197.36,-55.05 205.93,-53.5 213.73,-52.09\"/>\n<polygon fill=\"black\" stroke=\"black\" points=\"214.2,-55.56 223.42,-50.34 212.95,-48.68 214.2,-55.56\"/>\n</g>\n<!-- 2840715823760 -->\n<g id=\"node4\" class=\"node\">\n<title>2840715823760</title>\n<polygon fill=\"none\" stroke=\"black\" points=\"314.25,-82.5 314.25,-118.5 504,-118.5 504,-82.5 314.25,-82.5\"/>\n<text xml:space=\"preserve\" text-anchor=\"middle\" x=\"325.25\" y=\"-95.7\" font-family=\"Times New Roman,serif\" font-size=\"14.00\">c</text>\n<polyline fill=\"none\" stroke=\"black\" points=\"336.25,-83 336.25,-118.5\"/>\n<text xml:space=\"preserve\" text-anchor=\"middle\" x=\"379.5\" y=\"-95.7\" font-family=\"Times New Roman,serif\" font-size=\"14.00\">data 10.0000</text>\n<polyline fill=\"none\" stroke=\"black\" points=\"422.75,-83 422.75,-118.5\"/>\n<text xml:space=\"preserve\" text-anchor=\"middle\" x=\"463.38\" y=\"-95.7\" font-family=\"Times New Roman,serif\" font-size=\"14.00\">grad 0.0000</text>\n</g>\n<!-- 2840717017872+ -->\n<g id=\"node10\" class=\"node\">\n<title>2840717017872+</title>\n<ellipse fill=\"none\" stroke=\"black\" cx=\"567\" cy=\"-72.5\" rx=\"27\" ry=\"18\"/>\n<text xml:space=\"preserve\" text-anchor=\"middle\" x=\"567\" y=\"-67.45\" font-family=\"Times New Roman,serif\" font-size=\"14.00\">+</text>\n</g>\n<!-- 2840715823760&#45;&gt;2840717017872+ -->\n<g id=\"edge6\" class=\"edge\">\n<title>2840715823760&#45;&gt;2840717017872+</title>\n<path fill=\"none\" stroke=\"black\" d=\"M504.39,-83.57C513.16,-81.99 521.65,-80.47 529.37,-79.08\"/>\n<polygon fill=\"black\" stroke=\"black\" points=\"529.73,-82.57 538.95,-77.36 528.49,-75.68 529.73,-82.57\"/>\n</g>\n<!-- 2840715832528 -->\n<g id=\"node5\" class=\"node\">\n<title>2840715832528</title>\n<polygon fill=\"none\" stroke=\"black\" points=\"2.62,-0.5 2.62,-36.5 185.62,-36.5 185.62,-0.5 2.62,-0.5\"/>\n<text xml:space=\"preserve\" text-anchor=\"middle\" x=\"13.62\" y=\"-13.7\" font-family=\"Times New Roman,serif\" font-size=\"14.00\">a</text>\n<polyline fill=\"none\" stroke=\"black\" points=\"24.62,-1 24.62,-36.5\"/>\n<text xml:space=\"preserve\" text-anchor=\"middle\" x=\"64.5\" y=\"-13.7\" font-family=\"Times New Roman,serif\" font-size=\"14.00\">data 2.0000</text>\n<polyline fill=\"none\" stroke=\"black\" points=\"104.38,-1 104.38,-36.5\"/>\n<text xml:space=\"preserve\" text-anchor=\"middle\" x=\"145\" y=\"-13.7\" font-family=\"Times New Roman,serif\" font-size=\"14.00\">grad 0.0000</text>\n</g>\n<!-- 2840715832528&#45;&gt;2840715339536* -->\n<g id=\"edge4\" class=\"edge\">\n<title>2840715832528&#45;&gt;2840715339536*</title>\n<path fill=\"none\" stroke=\"black\" d=\"M185.81,-34.28C195.45,-35.96 204.82,-37.59 213.29,-39.07\"/>\n<polygon fill=\"black\" stroke=\"black\" points=\"212.65,-42.51 223.1,-40.77 213.85,-35.61 212.65,-42.51\"/>\n</g>\n<!-- 2840717019344 -->\n<g id=\"node6\" class=\"node\">\n<title>2840717019344</title>\n<polygon fill=\"none\" stroke=\"black\" points=\"630,-109.5 630,-145.5 816,-145.5 816,-109.5 630,-109.5\"/>\n<text xml:space=\"preserve\" text-anchor=\"middle\" x=\"640.25\" y=\"-122.7\" font-family=\"Times New Roman,serif\" font-size=\"14.00\">f</text>\n<polyline fill=\"none\" stroke=\"black\" points=\"650.5,-110 650.5,-145.5\"/>\n<text xml:space=\"preserve\" text-anchor=\"middle\" x=\"692.62\" y=\"-122.7\" font-family=\"Times New Roman,serif\" font-size=\"14.00\">data &#45;2.0000</text>\n<polyline fill=\"none\" stroke=\"black\" points=\"734.75,-110 734.75,-145.5\"/>\n<text xml:space=\"preserve\" text-anchor=\"middle\" x=\"775.38\" y=\"-122.7\" font-family=\"Times New Roman,serif\" font-size=\"14.00\">grad 0.0000</text>\n</g>\n<!-- 2840717019344&#45;&gt;2840717023760* -->\n<g id=\"edge8\" class=\"edge\">\n<title>2840717019344&#45;&gt;2840717023760*</title>\n<path fill=\"none\" stroke=\"black\" d=\"M816.25,-110.73C825.1,-109.12 833.67,-107.56 841.46,-106.14\"/>\n<polygon fill=\"black\" stroke=\"black\" points=\"841.93,-109.62 851.15,-104.38 840.68,-102.73 841.93,-109.62\"/>\n</g>\n<!-- 2840715339536 -->\n<g id=\"node7\" class=\"node\">\n<title>2840715339536</title>\n<polygon fill=\"none\" stroke=\"black\" points=\"315.38,-27.5 315.38,-63.5 502.88,-63.5 502.88,-27.5 315.38,-27.5\"/>\n<text xml:space=\"preserve\" text-anchor=\"middle\" x=\"326.38\" y=\"-40.7\" font-family=\"Times New Roman,serif\" font-size=\"14.00\">e</text>\n<polyline fill=\"none\" stroke=\"black\" points=\"337.38,-28 337.38,-63.5\"/>\n<text xml:space=\"preserve\" text-anchor=\"middle\" x=\"379.5\" y=\"-40.7\" font-family=\"Times New Roman,serif\" font-size=\"14.00\">data &#45;6.0000</text>\n<polyline fill=\"none\" stroke=\"black\" points=\"421.62,-28 421.62,-63.5\"/>\n<text xml:space=\"preserve\" text-anchor=\"middle\" x=\"462.25\" y=\"-40.7\" font-family=\"Times New Roman,serif\" font-size=\"14.00\">grad 0.0000</text>\n</g>\n<!-- 2840715339536&#45;&gt;2840717017872+ -->\n<g id=\"edge7\" class=\"edge\">\n<title>2840715339536&#45;&gt;2840717017872+</title>\n<path fill=\"none\" stroke=\"black\" d=\"M503.05,-61.6C512.25,-63.19 521.16,-64.73 529.24,-66.13\"/>\n<polygon fill=\"black\" stroke=\"black\" points=\"528.48,-69.55 538.93,-67.81 529.68,-62.66 528.48,-69.55\"/>\n</g>\n<!-- 2840715339536*&#45;&gt;2840715339536 -->\n<g id=\"edge2\" class=\"edge\">\n<title>2840715339536*&#45;&gt;2840715339536</title>\n<path fill=\"none\" stroke=\"black\" d=\"M278.69,-45.5C286.1,-45.5 294.64,-45.5 303.71,-45.5\"/>\n<polygon fill=\"black\" stroke=\"black\" points=\"303.51,-49 313.51,-45.5 303.51,-42 303.51,-49\"/>\n</g>\n<!-- 2840717017872 -->\n<g id=\"node9\" class=\"node\">\n<title>2840717017872</title>\n<polygon fill=\"none\" stroke=\"black\" points=\"631.12,-54.5 631.12,-90.5 814.88,-90.5 814.88,-54.5 631.12,-54.5\"/>\n<text xml:space=\"preserve\" text-anchor=\"middle\" x=\"642.5\" y=\"-67.7\" font-family=\"Times New Roman,serif\" font-size=\"14.00\">d</text>\n<polyline fill=\"none\" stroke=\"black\" points=\"653.88,-55 653.88,-90.5\"/>\n<text xml:space=\"preserve\" text-anchor=\"middle\" x=\"693.75\" y=\"-67.7\" font-family=\"Times New Roman,serif\" font-size=\"14.00\">data 4.0000</text>\n<polyline fill=\"none\" stroke=\"black\" points=\"733.62,-55 733.62,-90.5\"/>\n<text xml:space=\"preserve\" text-anchor=\"middle\" x=\"774.25\" y=\"-67.7\" font-family=\"Times New Roman,serif\" font-size=\"14.00\">grad 0.0000</text>\n</g>\n<!-- 2840717017872&#45;&gt;2840717023760* -->\n<g id=\"edge9\" class=\"edge\">\n<title>2840717017872&#45;&gt;2840717023760*</title>\n<path fill=\"none\" stroke=\"black\" d=\"M815.36,-88.52C824.5,-90.12 833.36,-91.67 841.4,-93.08\"/>\n<polygon fill=\"black\" stroke=\"black\" points=\"840.58,-96.49 851.04,-94.77 841.79,-89.6 840.58,-96.49\"/>\n</g>\n<!-- 2840717017872+&#45;&gt;2840717017872 -->\n<g id=\"edge3\" class=\"edge\">\n<title>2840717017872+&#45;&gt;2840717017872</title>\n<path fill=\"none\" stroke=\"black\" d=\"M594.47,-72.5C601.87,-72.5 610.38,-72.5 619.43,-72.5\"/>\n<polygon fill=\"black\" stroke=\"black\" points=\"619.17,-76 629.17,-72.5 619.17,-69 619.17,-76\"/>\n</g>\n</g>\n</svg>\n",
      "text/plain": [
       "<graphviz.graphs.Digraph at 0x29567eb83d0>"
      ]
     },
     "execution_count": 128,
     "metadata": {},
     "output_type": "execute_result"
    }
   ],
   "execution_count": 128
  },
  {
   "metadata": {
    "ExecuteTime": {
     "end_time": "2025-08-24T17:54:22.356565Z",
     "start_time": "2025-08-24T17:54:22.354452Z"
    }
   },
   "cell_type": "code",
   "source": "L.grad = 1.0",
   "id": "b82b89a1b945a47c",
   "outputs": [],
   "execution_count": 129
  },
  {
   "metadata": {
    "ExecuteTime": {
     "end_time": "2025-08-24T17:54:22.589680Z",
     "start_time": "2025-08-24T17:54:22.587188Z"
    }
   },
   "cell_type": "code",
   "source": [
    "f.grad =4.0\n",
    "d.grad = -2.0"
   ],
   "id": "8a3b6cf5c67bfcfd",
   "outputs": [],
   "execution_count": 130
  },
  {
   "metadata": {
    "ExecuteTime": {
     "end_time": "2025-08-24T17:54:22.931694Z",
     "start_time": "2025-08-24T17:54:22.928632Z"
    }
   },
   "cell_type": "code",
   "source": [
    "'''dL/dc = (dL/dd)*(dd/dc)\n",
    "dL/de = (dL/dd)*(dd/de)\n",
    "\n",
    "d = c + e\n",
    "dd/dc =1.0\n",
    "dd/dr =1.0'''\n",
    "e.grad = -2.0\n",
    "c.grad = -2.0\n"
   ],
   "id": "e115426e2de4bb6d",
   "outputs": [],
   "execution_count": 131
  },
  {
   "metadata": {
    "ExecuteTime": {
     "end_time": "2025-08-24T17:54:23.275510Z",
     "start_time": "2025-08-24T17:54:23.273014Z"
    }
   },
   "cell_type": "code",
   "source": [
    "'''\n",
    "dL/da = ?\n",
    "\n",
    "e = a * b\n",
    "de/da = b\n",
    "de/db =a\n",
    "\n",
    "(dL/da) = (dL/de) * (de/da) = (dL/de) * b = -2 * -3 = 6\n",
    "(dl/db) = -2 * 2 = -4\n",
    "\n",
    "\n",
    "'''\n",
    "a.grad = 6\n",
    "b.grad = -2"
   ],
   "id": "7831d59dd53a6d01",
   "outputs": [],
   "execution_count": 132
  },
  {
   "metadata": {
    "ExecuteTime": {
     "end_time": "2025-08-24T17:54:23.776336Z",
     "start_time": "2025-08-24T17:54:23.585176Z"
    }
   },
   "cell_type": "code",
   "source": "draw_dot(L)",
   "id": "4869066009263f30",
   "outputs": [
    {
     "data": {
      "image/svg+xml": "<?xml version=\"1.0\" encoding=\"UTF-8\" standalone=\"no\"?>\n<!DOCTYPE svg PUBLIC \"-//W3C//DTD SVG 1.1//EN\"\n \"http://www.w3.org/Graphics/SVG/1.1/DTD/svg11.dtd\">\n<!-- Generated by graphviz version 13.1.2 (20250808.2320)\n -->\n<!-- Pages: 1 -->\n<svg width=\"1151pt\" height=\"154pt\"\n viewBox=\"0.00 0.00 1151.00 154.00\" xmlns=\"http://www.w3.org/2000/svg\" xmlns:xlink=\"http://www.w3.org/1999/xlink\">\n<g id=\"graph0\" class=\"graph\" transform=\"scale(1 1) rotate(0) translate(4 150)\">\n<polygon fill=\"white\" stroke=\"none\" points=\"-4,4 -4,-150 1147,-150 1147,4 -4,4\"/>\n<!-- 2840717023760 -->\n<g id=\"node1\" class=\"node\">\n<title>2840717023760</title>\n<polygon fill=\"none\" stroke=\"black\" points=\"953.25,-81.5 953.25,-117.5 1143,-117.5 1143,-81.5 953.25,-81.5\"/>\n<text xml:space=\"preserve\" text-anchor=\"middle\" x=\"965.38\" y=\"-94.7\" font-family=\"Times New Roman,serif\" font-size=\"14.00\">L</text>\n<polyline fill=\"none\" stroke=\"black\" points=\"977.5,-82 977.5,-117.5\"/>\n<text xml:space=\"preserve\" text-anchor=\"middle\" x=\"1019.62\" y=\"-94.7\" font-family=\"Times New Roman,serif\" font-size=\"14.00\">data &#45;8.0000</text>\n<polyline fill=\"none\" stroke=\"black\" points=\"1061.75,-82 1061.75,-117.5\"/>\n<text xml:space=\"preserve\" text-anchor=\"middle\" x=\"1102.38\" y=\"-94.7\" font-family=\"Times New Roman,serif\" font-size=\"14.00\">grad 1.0000</text>\n</g>\n<!-- 2840717023760* -->\n<g id=\"node2\" class=\"node\">\n<title>2840717023760*</title>\n<ellipse fill=\"none\" stroke=\"black\" cx=\"890.25\" cy=\"-99.5\" rx=\"27\" ry=\"18\"/>\n<text xml:space=\"preserve\" text-anchor=\"middle\" x=\"890.25\" y=\"-94.45\" font-family=\"Times New Roman,serif\" font-size=\"14.00\">*</text>\n</g>\n<!-- 2840717023760*&#45;&gt;2840717023760 -->\n<g id=\"edge1\" class=\"edge\">\n<title>2840717023760*&#45;&gt;2840717023760</title>\n<path fill=\"none\" stroke=\"black\" d=\"M917.69,-99.5C924.84,-99.5 933.03,-99.5 941.74,-99.5\"/>\n<polygon fill=\"black\" stroke=\"black\" points=\"941.51,-103 951.51,-99.5 941.51,-96 941.51,-103\"/>\n</g>\n<!-- 2840702102608 -->\n<g id=\"node3\" class=\"node\">\n<title>2840702102608</title>\n<polygon fill=\"none\" stroke=\"black\" points=\"0,-55.5 0,-91.5 192.75,-91.5 192.75,-55.5 0,-55.5\"/>\n<text xml:space=\"preserve\" text-anchor=\"middle\" x=\"11.38\" y=\"-68.7\" font-family=\"Times New Roman,serif\" font-size=\"14.00\">b</text>\n<polyline fill=\"none\" stroke=\"black\" points=\"22.75,-56 22.75,-91.5\"/>\n<text xml:space=\"preserve\" text-anchor=\"middle\" x=\"64.88\" y=\"-68.7\" font-family=\"Times New Roman,serif\" font-size=\"14.00\">data &#45;3.0000</text>\n<polyline fill=\"none\" stroke=\"black\" points=\"107,-56 107,-91.5\"/>\n<text xml:space=\"preserve\" text-anchor=\"middle\" x=\"149.88\" y=\"-68.7\" font-family=\"Times New Roman,serif\" font-size=\"14.00\">grad &#45;2.0000</text>\n</g>\n<!-- 2840715339536* -->\n<g id=\"node8\" class=\"node\">\n<title>2840715339536*</title>\n<ellipse fill=\"none\" stroke=\"black\" cx=\"255.75\" cy=\"-45.5\" rx=\"27\" ry=\"18\"/>\n<text xml:space=\"preserve\" text-anchor=\"middle\" x=\"255.75\" y=\"-40.45\" font-family=\"Times New Roman,serif\" font-size=\"14.00\">*</text>\n</g>\n<!-- 2840702102608&#45;&gt;2840715339536* -->\n<g id=\"edge5\" class=\"edge\">\n<title>2840702102608&#45;&gt;2840715339536*</title>\n<path fill=\"none\" stroke=\"black\" d=\"M193,-56.49C201.81,-54.92 210.32,-53.41 218.06,-52.03\"/>\n<polygon fill=\"black\" stroke=\"black\" points=\"218.43,-55.52 227.66,-50.32 217.21,-48.62 218.43,-55.52\"/>\n</g>\n<!-- 2840715823760 -->\n<g id=\"node4\" class=\"node\">\n<title>2840715823760</title>\n<polygon fill=\"none\" stroke=\"black\" points=\"318.75,-82.5 318.75,-118.5 513,-118.5 513,-82.5 318.75,-82.5\"/>\n<text xml:space=\"preserve\" text-anchor=\"middle\" x=\"329.75\" y=\"-95.7\" font-family=\"Times New Roman,serif\" font-size=\"14.00\">c</text>\n<polyline fill=\"none\" stroke=\"black\" points=\"340.75,-83 340.75,-118.5\"/>\n<text xml:space=\"preserve\" text-anchor=\"middle\" x=\"384\" y=\"-95.7\" font-family=\"Times New Roman,serif\" font-size=\"14.00\">data 10.0000</text>\n<polyline fill=\"none\" stroke=\"black\" points=\"427.25,-83 427.25,-118.5\"/>\n<text xml:space=\"preserve\" text-anchor=\"middle\" x=\"470.12\" y=\"-95.7\" font-family=\"Times New Roman,serif\" font-size=\"14.00\">grad &#45;2.0000</text>\n</g>\n<!-- 2840717017872+ -->\n<g id=\"node10\" class=\"node\">\n<title>2840717017872+</title>\n<ellipse fill=\"none\" stroke=\"black\" cx=\"576\" cy=\"-72.5\" rx=\"27\" ry=\"18\"/>\n<text xml:space=\"preserve\" text-anchor=\"middle\" x=\"576\" y=\"-67.45\" font-family=\"Times New Roman,serif\" font-size=\"14.00\">+</text>\n</g>\n<!-- 2840715823760&#45;&gt;2840717017872+ -->\n<g id=\"edge6\" class=\"edge\">\n<title>2840715823760&#45;&gt;2840717017872+</title>\n<path fill=\"none\" stroke=\"black\" d=\"M513.41,-83.41C522.21,-81.85 530.7,-80.34 538.42,-78.98\"/>\n<polygon fill=\"black\" stroke=\"black\" points=\"538.77,-82.47 548,-77.28 537.55,-75.58 538.77,-82.47\"/>\n</g>\n<!-- 2840715832528 -->\n<g id=\"node5\" class=\"node\">\n<title>2840715832528</title>\n<polygon fill=\"none\" stroke=\"black\" points=\"4.88,-0.5 4.88,-36.5 187.88,-36.5 187.88,-0.5 4.88,-0.5\"/>\n<text xml:space=\"preserve\" text-anchor=\"middle\" x=\"15.88\" y=\"-13.7\" font-family=\"Times New Roman,serif\" font-size=\"14.00\">a</text>\n<polyline fill=\"none\" stroke=\"black\" points=\"26.88,-1 26.88,-36.5\"/>\n<text xml:space=\"preserve\" text-anchor=\"middle\" x=\"66.75\" y=\"-13.7\" font-family=\"Times New Roman,serif\" font-size=\"14.00\">data 2.0000</text>\n<polyline fill=\"none\" stroke=\"black\" points=\"106.62,-1 106.62,-36.5\"/>\n<text xml:space=\"preserve\" text-anchor=\"middle\" x=\"147.25\" y=\"-13.7\" font-family=\"Times New Roman,serif\" font-size=\"14.00\">grad 6.0000</text>\n</g>\n<!-- 2840715832528&#45;&gt;2840715339536* -->\n<g id=\"edge4\" class=\"edge\">\n<title>2840715832528&#45;&gt;2840715339536*</title>\n<path fill=\"none\" stroke=\"black\" d=\"M188.01,-34.05C198.46,-35.84 208.62,-37.59 217.74,-39.15\"/>\n<polygon fill=\"black\" stroke=\"black\" points=\"217.11,-42.59 227.56,-40.84 218.3,-35.69 217.11,-42.59\"/>\n</g>\n<!-- 2840717019344 -->\n<g id=\"node6\" class=\"node\">\n<title>2840717019344</title>\n<polygon fill=\"none\" stroke=\"black\" points=\"640.12,-109.5 640.12,-145.5 826.12,-145.5 826.12,-109.5 640.12,-109.5\"/>\n<text xml:space=\"preserve\" text-anchor=\"middle\" x=\"650.38\" y=\"-122.7\" font-family=\"Times New Roman,serif\" font-size=\"14.00\">f</text>\n<polyline fill=\"none\" stroke=\"black\" points=\"660.62,-110 660.62,-145.5\"/>\n<text xml:space=\"preserve\" text-anchor=\"middle\" x=\"702.75\" y=\"-122.7\" font-family=\"Times New Roman,serif\" font-size=\"14.00\">data &#45;2.0000</text>\n<polyline fill=\"none\" stroke=\"black\" points=\"744.88,-110 744.88,-145.5\"/>\n<text xml:space=\"preserve\" text-anchor=\"middle\" x=\"785.5\" y=\"-122.7\" font-family=\"Times New Roman,serif\" font-size=\"14.00\">grad 4.0000</text>\n</g>\n<!-- 2840717019344&#45;&gt;2840717023760* -->\n<g id=\"edge8\" class=\"edge\">\n<title>2840717019344&#45;&gt;2840717023760*</title>\n<path fill=\"none\" stroke=\"black\" d=\"M826.6,-110.81C835.76,-109.16 844.62,-107.56 852.67,-106.1\"/>\n<polygon fill=\"black\" stroke=\"black\" points=\"853.09,-109.58 862.31,-104.36 851.84,-102.7 853.09,-109.58\"/>\n</g>\n<!-- 2840715339536 -->\n<g id=\"node7\" class=\"node\">\n<title>2840715339536</title>\n<polygon fill=\"none\" stroke=\"black\" points=\"319.88,-27.5 319.88,-63.5 511.88,-63.5 511.88,-27.5 319.88,-27.5\"/>\n<text xml:space=\"preserve\" text-anchor=\"middle\" x=\"330.88\" y=\"-40.7\" font-family=\"Times New Roman,serif\" font-size=\"14.00\">e</text>\n<polyline fill=\"none\" stroke=\"black\" points=\"341.88,-28 341.88,-63.5\"/>\n<text xml:space=\"preserve\" text-anchor=\"middle\" x=\"384\" y=\"-40.7\" font-family=\"Times New Roman,serif\" font-size=\"14.00\">data &#45;6.0000</text>\n<polyline fill=\"none\" stroke=\"black\" points=\"426.12,-28 426.12,-63.5\"/>\n<text xml:space=\"preserve\" text-anchor=\"middle\" x=\"469\" y=\"-40.7\" font-family=\"Times New Roman,serif\" font-size=\"14.00\">grad &#45;2.0000</text>\n</g>\n<!-- 2840715339536&#45;&gt;2840717017872+ -->\n<g id=\"edge7\" class=\"edge\">\n<title>2840715339536&#45;&gt;2840717017872+</title>\n<path fill=\"none\" stroke=\"black\" d=\"M512.05,-61.75C521.28,-63.33 530.2,-64.85 538.29,-66.23\"/>\n<polygon fill=\"black\" stroke=\"black\" points=\"537.53,-69.65 547.98,-67.89 538.71,-62.75 537.53,-69.65\"/>\n</g>\n<!-- 2840715339536*&#45;&gt;2840715339536 -->\n<g id=\"edge2\" class=\"edge\">\n<title>2840715339536*&#45;&gt;2840715339536</title>\n<path fill=\"none\" stroke=\"black\" d=\"M283.22,-45.5C290.59,-45.5 299.09,-45.5 308.13,-45.5\"/>\n<polygon fill=\"black\" stroke=\"black\" points=\"307.89,-49 317.89,-45.5 307.89,-42 307.89,-49\"/>\n</g>\n<!-- 2840717017872 -->\n<g id=\"node9\" class=\"node\">\n<title>2840717017872</title>\n<polygon fill=\"none\" stroke=\"black\" points=\"639,-54.5 639,-90.5 827.25,-90.5 827.25,-54.5 639,-54.5\"/>\n<text xml:space=\"preserve\" text-anchor=\"middle\" x=\"650.38\" y=\"-67.7\" font-family=\"Times New Roman,serif\" font-size=\"14.00\">d</text>\n<polyline fill=\"none\" stroke=\"black\" points=\"661.75,-55 661.75,-90.5\"/>\n<text xml:space=\"preserve\" text-anchor=\"middle\" x=\"701.62\" y=\"-67.7\" font-family=\"Times New Roman,serif\" font-size=\"14.00\">data 4.0000</text>\n<polyline fill=\"none\" stroke=\"black\" points=\"741.5,-55 741.5,-90.5\"/>\n<text xml:space=\"preserve\" text-anchor=\"middle\" x=\"784.38\" y=\"-67.7\" font-family=\"Times New Roman,serif\" font-size=\"14.00\">grad &#45;2.0000</text>\n</g>\n<!-- 2840717017872&#45;&gt;2840717023760* -->\n<g id=\"edge9\" class=\"edge\">\n<title>2840717017872&#45;&gt;2840717023760*</title>\n<path fill=\"none\" stroke=\"black\" d=\"M827.49,-88.75C836.27,-90.28 844.77,-91.76 852.51,-93.1\"/>\n<polygon fill=\"black\" stroke=\"black\" points=\"851.66,-96.51 862.11,-94.78 852.86,-89.61 851.66,-96.51\"/>\n</g>\n<!-- 2840717017872+&#45;&gt;2840717017872 -->\n<g id=\"edge3\" class=\"edge\">\n<title>2840717017872+&#45;&gt;2840717017872</title>\n<path fill=\"none\" stroke=\"black\" d=\"M603.31,-72.5C610.49,-72.5 618.72,-72.5 627.47,-72.5\"/>\n<polygon fill=\"black\" stroke=\"black\" points=\"627.29,-76 637.29,-72.5 627.29,-69 627.29,-76\"/>\n</g>\n</g>\n</svg>\n",
      "text/plain": [
       "<graphviz.graphs.Digraph at 0x29567111e90>"
      ]
     },
     "execution_count": 133,
     "metadata": {},
     "output_type": "execute_result"
    }
   ],
   "execution_count": 133
  },
  {
   "metadata": {
    "ExecuteTime": {
     "end_time": "2025-08-24T17:54:23.812944Z",
     "start_time": "2025-08-24T17:54:23.809075Z"
    }
   },
   "cell_type": "code",
   "source": "L.data",
   "id": "2050254ad40c4c4f",
   "outputs": [
    {
     "data": {
      "text/plain": [
       "-8.0"
      ]
     },
     "execution_count": 134,
     "metadata": {},
     "output_type": "execute_result"
    }
   ],
   "execution_count": 134
  },
  {
   "metadata": {
    "ExecuteTime": {
     "end_time": "2025-08-24T17:54:24.030313Z",
     "start_time": "2025-08-24T17:54:24.027311Z"
    }
   },
   "cell_type": "code",
   "source": [
    "# we are doing the forward pass\n",
    "\n",
    "a.data += 0.01 * a.grad\n",
    "b.data += 0.01 * b.grad\n",
    "c.data += 0.01 * c.grad\n",
    "f.data += 0.01 * f.grad\n",
    "\n",
    "e = a * b\n",
    "d = c + e\n",
    "L = d * f\n",
    "print(L.data)"
   ],
   "id": "2cf20fb38787e6af",
   "outputs": [
    {
     "name": "stdout",
     "output_type": "stream",
     "text": [
      "-7.367248\n"
     ]
    }
   ],
   "execution_count": 135
  },
  {
   "metadata": {
    "ExecuteTime": {
     "end_time": "2025-08-24T18:16:18.316116Z",
     "start_time": "2025-08-24T18:16:18.148317Z"
    }
   },
   "cell_type": "code",
   "source": [
    "import matplotlib.pyplot as plt\n",
    "import numpy as np\n",
    "plt.plot(np.arange(-5,5,0.2), np.tanh(np.arange(-5,5,0.2))); plt.grid();"
   ],
   "id": "ac4336846c9292c5",
   "outputs": [
    {
     "data": {
      "text/plain": [
       "<Figure size 640x480 with 1 Axes>"
      ],
      "image/png": "[encoded data removed]"
     },
     "metadata": {},
     "output_type": "display_data"
    }
   ],
   "execution_count": 190
  },
  {
   "metadata": {
    "ExecuteTime": {
     "end_time": "2025-08-24T17:54:24.592757Z",
     "start_time": "2025-08-24T17:54:24.212185Z"
    }
   },
   "cell_type": "code",
   "source": [
    "import math\n",
    "x1 = Value(2.0, label = 'x1')\n",
    "x2 = Value(0.0, label = 'x2')\n",
    "\n",
    "w1 = Value(-3.0, label = 'w1')\n",
    "w2 = Value(1.0, label = 'w2')\n",
    "\n",
    "b = Value(6.88137, label = 'b')\n",
    "\n",
    "x1w1 = x1 * w1; x1w1.label = 'x1 * w1'\n",
    "\n",
    "x2w2 = x2 * w2; x2w2.label = 'x2 * w2'\n",
    "\n",
    "\n",
    "x1w1x2w2 = x1w1 + x2w2; x1w1x2w2.label = 'x1w1 + x2w2'\n",
    "\n",
    "n = x1w1x2w2 + b ; n.label = 'n'\n",
    "\n",
    "o = n.tanh(); o.label = 'o'\n",
    "\n",
    "draw_dot(o)"
   ],
   "id": "fa33f21dc2a5c7fc",
   "outputs": [
    {
     "data": {
      "image/svg+xml": "<?xml version=\"1.0\" encoding=\"UTF-8\" standalone=\"no\"?>\n<!DOCTYPE svg PUBLIC \"-//W3C//DTD SVG 1.1//EN\"\n \"http://www.w3.org/Graphics/SVG/1.1/DTD/svg11.dtd\">\n<!-- Generated by graphviz version 13.1.2 (20250808.2320)\n -->\n<!-- Pages: 1 -->\n<svg width=\"1561pt\" height=\"210pt\"\n viewBox=\"0.00 0.00 1561.00 210.00\" xmlns=\"http://www.w3.org/2000/svg\" xmlns:xlink=\"http://www.w3.org/1999/xlink\">\n<g id=\"graph0\" class=\"graph\" transform=\"scale(1 1) rotate(0) translate(4 206)\">\n<polygon fill=\"white\" stroke=\"none\" points=\"-4,4 -4,-206 1556.5,-206 1556.5,4 -4,4\"/>\n<!-- 2840716946448 -->\n<g id=\"node1\" class=\"node\">\n<title>2840716946448</title>\n<polygon fill=\"none\" stroke=\"black\" points=\"3.75,-165.5 3.75,-201.5 194.25,-201.5 194.25,-165.5 3.75,-165.5\"/>\n<text xml:space=\"preserve\" text-anchor=\"middle\" x=\"18.5\" y=\"-178.7\" font-family=\"Times New Roman,serif\" font-size=\"14.00\">x1</text>\n<polyline fill=\"none\" stroke=\"black\" points=\"33.25,-166 33.25,-201.5\"/>\n<text xml:space=\"preserve\" text-anchor=\"middle\" x=\"73.12\" y=\"-178.7\" font-family=\"Times New Roman,serif\" font-size=\"14.00\">data 2.0000</text>\n<polyline fill=\"none\" stroke=\"black\" points=\"113,-166 113,-201.5\"/>\n<text xml:space=\"preserve\" text-anchor=\"middle\" x=\"153.62\" y=\"-178.7\" font-family=\"Times New Roman,serif\" font-size=\"14.00\">grad 0.0000</text>\n</g>\n<!-- 2840716937936* -->\n<g id=\"node8\" class=\"node\">\n<title>2840716937936*</title>\n<ellipse fill=\"none\" stroke=\"black\" cx=\"261\" cy=\"-128.5\" rx=\"27\" ry=\"18\"/>\n<text xml:space=\"preserve\" text-anchor=\"middle\" x=\"261\" y=\"-123.45\" font-family=\"Times New Roman,serif\" font-size=\"14.00\">*</text>\n</g>\n<!-- 2840716946448&#45;&gt;2840716937936* -->\n<g id=\"edge6\" class=\"edge\">\n<title>2840716946448&#45;&gt;2840716937936*</title>\n<path fill=\"none\" stroke=\"black\" d=\"M172.12,-165.01C180.9,-162.35 189.7,-159.5 198,-156.5 208.09,-152.86 218.82,-148.27 228.47,-143.88\"/>\n<polygon fill=\"black\" stroke=\"black\" points=\"229.86,-147.09 237.45,-139.69 226.9,-140.75 229.86,-147.09\"/>\n</g>\n<!-- 2840716938256 -->\n<g id=\"node2\" class=\"node\">\n<title>2840716938256</title>\n<polygon fill=\"none\" stroke=\"black\" points=\"0,-110.5 0,-146.5 198,-146.5 198,-110.5 0,-110.5\"/>\n<text xml:space=\"preserve\" text-anchor=\"middle\" x=\"16.25\" y=\"-123.7\" font-family=\"Times New Roman,serif\" font-size=\"14.00\">w1</text>\n<polyline fill=\"none\" stroke=\"black\" points=\"32.5,-111 32.5,-146.5\"/>\n<text xml:space=\"preserve\" text-anchor=\"middle\" x=\"74.62\" y=\"-123.7\" font-family=\"Times New Roman,serif\" font-size=\"14.00\">data &#45;3.0000</text>\n<polyline fill=\"none\" stroke=\"black\" points=\"116.75,-111 116.75,-146.5\"/>\n<text xml:space=\"preserve\" text-anchor=\"middle\" x=\"157.38\" y=\"-123.7\" font-family=\"Times New Roman,serif\" font-size=\"14.00\">grad 0.0000</text>\n</g>\n<!-- 2840716938256&#45;&gt;2840716937936* -->\n<g id=\"edge14\" class=\"edge\">\n<title>2840716938256&#45;&gt;2840716937936*</title>\n<path fill=\"none\" stroke=\"black\" d=\"M198.14,-128.5C206.61,-128.5 214.8,-128.5 222.29,-128.5\"/>\n<polygon fill=\"black\" stroke=\"black\" points=\"222.29,-132 232.29,-128.5 222.29,-125 222.29,-132\"/>\n</g>\n<!-- 2840716951248 -->\n<g id=\"node3\" class=\"node\">\n<title>2840716951248</title>\n<polygon fill=\"none\" stroke=\"black\" points=\"326.25,-55.5 326.25,-91.5 547.5,-91.5 547.5,-55.5 326.25,-55.5\"/>\n<text xml:space=\"preserve\" text-anchor=\"middle\" x=\"356.38\" y=\"-68.7\" font-family=\"Times New Roman,serif\" font-size=\"14.00\">x2 * w2</text>\n<polyline fill=\"none\" stroke=\"black\" points=\"386.5,-56 386.5,-91.5\"/>\n<text xml:space=\"preserve\" text-anchor=\"middle\" x=\"426.38\" y=\"-68.7\" font-family=\"Times New Roman,serif\" font-size=\"14.00\">data 0.0000</text>\n<polyline fill=\"none\" stroke=\"black\" points=\"466.25,-56 466.25,-91.5\"/>\n<text xml:space=\"preserve\" text-anchor=\"middle\" x=\"506.88\" y=\"-68.7\" font-family=\"Times New Roman,serif\" font-size=\"14.00\">grad 0.0000</text>\n</g>\n<!-- 2840716888400+ -->\n<g id=\"node12\" class=\"node\">\n<title>2840716888400+</title>\n<ellipse fill=\"none\" stroke=\"black\" cx=\"612.75\" cy=\"-100.5\" rx=\"27\" ry=\"18\"/>\n<text xml:space=\"preserve\" text-anchor=\"middle\" x=\"612.75\" y=\"-95.45\" font-family=\"Times New Roman,serif\" font-size=\"14.00\">+</text>\n</g>\n<!-- 2840716951248&#45;&gt;2840716888400+ -->\n<g id=\"edge11\" class=\"edge\">\n<title>2840716951248&#45;&gt;2840716888400+</title>\n<path fill=\"none\" stroke=\"black\" d=\"M547.99,-90.6C557.5,-92.08 566.61,-93.49 574.82,-94.77\"/>\n<polygon fill=\"black\" stroke=\"black\" points=\"574.23,-98.22 584.65,-96.29 575.3,-91.3 574.23,-98.22\"/>\n</g>\n<!-- 2840716951248* -->\n<g id=\"node4\" class=\"node\">\n<title>2840716951248*</title>\n<ellipse fill=\"none\" stroke=\"black\" cx=\"261\" cy=\"-73.5\" rx=\"27\" ry=\"18\"/>\n<text xml:space=\"preserve\" text-anchor=\"middle\" x=\"261\" y=\"-68.45\" font-family=\"Times New Roman,serif\" font-size=\"14.00\">*</text>\n</g>\n<!-- 2840716951248*&#45;&gt;2840716951248 -->\n<g id=\"edge1\" class=\"edge\">\n<title>2840716951248*&#45;&gt;2840716951248</title>\n<path fill=\"none\" stroke=\"black\" d=\"M288.41,-73.5C296.06,-73.5 304.94,-73.5 314.49,-73.5\"/>\n<polygon fill=\"black\" stroke=\"black\" points=\"314.46,-77 324.46,-73.5 314.46,-70 314.46,-77\"/>\n</g>\n<!-- 2840716890832 -->\n<g id=\"node5\" class=\"node\">\n<title>2840716890832</title>\n<polygon fill=\"none\" stroke=\"black\" points=\"1368.75,-54.5 1368.75,-90.5 1552.5,-90.5 1552.5,-54.5 1368.75,-54.5\"/>\n<text xml:space=\"preserve\" text-anchor=\"middle\" x=\"1380.12\" y=\"-67.7\" font-family=\"Times New Roman,serif\" font-size=\"14.00\">o</text>\n<polyline fill=\"none\" stroke=\"black\" points=\"1391.5,-55 1391.5,-90.5\"/>\n<text xml:space=\"preserve\" text-anchor=\"middle\" x=\"1431.38\" y=\"-67.7\" font-family=\"Times New Roman,serif\" font-size=\"14.00\">data 0.7071</text>\n<polyline fill=\"none\" stroke=\"black\" points=\"1471.25,-55 1471.25,-90.5\"/>\n<text xml:space=\"preserve\" text-anchor=\"middle\" x=\"1511.88\" y=\"-67.7\" font-family=\"Times New Roman,serif\" font-size=\"14.00\">grad 0.0000</text>\n</g>\n<!-- 2840716890832tanh -->\n<g id=\"node6\" class=\"node\">\n<title>2840716890832tanh</title>\n<ellipse fill=\"none\" stroke=\"black\" cx=\"1305.75\" cy=\"-72.5\" rx=\"27\" ry=\"18\"/>\n<text xml:space=\"preserve\" text-anchor=\"middle\" x=\"1305.75\" y=\"-67.45\" font-family=\"Times New Roman,serif\" font-size=\"14.00\">tanh</text>\n</g>\n<!-- 2840716890832tanh&#45;&gt;2840716890832 -->\n<g id=\"edge2\" class=\"edge\">\n<title>2840716890832tanh&#45;&gt;2840716890832</title>\n<path fill=\"none\" stroke=\"black\" d=\"M1333.03,-72.5C1340.17,-72.5 1348.36,-72.5 1357.07,-72.5\"/>\n<polygon fill=\"black\" stroke=\"black\" points=\"1356.81,-76 1366.81,-72.5 1356.81,-69 1356.81,-76\"/>\n</g>\n<!-- 2840716937936 -->\n<g id=\"node7\" class=\"node\">\n<title>2840716937936</title>\n<polygon fill=\"none\" stroke=\"black\" points=\"324,-110.5 324,-146.5 549.75,-146.5 549.75,-110.5 324,-110.5\"/>\n<text xml:space=\"preserve\" text-anchor=\"middle\" x=\"354.12\" y=\"-123.7\" font-family=\"Times New Roman,serif\" font-size=\"14.00\">x1 * w1</text>\n<polyline fill=\"none\" stroke=\"black\" points=\"384.25,-111 384.25,-146.5\"/>\n<text xml:space=\"preserve\" text-anchor=\"middle\" x=\"426.38\" y=\"-123.7\" font-family=\"Times New Roman,serif\" font-size=\"14.00\">data &#45;6.0000</text>\n<polyline fill=\"none\" stroke=\"black\" points=\"468.5,-111 468.5,-146.5\"/>\n<text xml:space=\"preserve\" text-anchor=\"middle\" x=\"509.12\" y=\"-123.7\" font-family=\"Times New Roman,serif\" font-size=\"14.00\">grad 0.0000</text>\n</g>\n<!-- 2840716937936&#45;&gt;2840716888400+ -->\n<g id=\"edge9\" class=\"edge\">\n<title>2840716937936&#45;&gt;2840716888400+</title>\n<path fill=\"none\" stroke=\"black\" d=\"M549.96,-110.45C558.76,-109.03 567.18,-107.68 574.82,-106.45\"/>\n<polygon fill=\"black\" stroke=\"black\" points=\"575.31,-109.91 584.63,-104.87 574.2,-103 575.31,-109.91\"/>\n</g>\n<!-- 2840716937936*&#45;&gt;2840716937936 -->\n<g id=\"edge3\" class=\"edge\">\n<title>2840716937936*&#45;&gt;2840716937936</title>\n<path fill=\"none\" stroke=\"black\" d=\"M288.41,-128.5C295.49,-128.5 303.63,-128.5 312.38,-128.5\"/>\n<polygon fill=\"black\" stroke=\"black\" points=\"312.24,-132 322.24,-128.5 312.24,-125 312.24,-132\"/>\n</g>\n<!-- 2840716897616 -->\n<g id=\"node9\" class=\"node\">\n<title>2840716897616</title>\n<polygon fill=\"none\" stroke=\"black\" points=\"1059,-54.5 1059,-90.5 1242.75,-90.5 1242.75,-54.5 1059,-54.5\"/>\n<text xml:space=\"preserve\" text-anchor=\"middle\" x=\"1070.38\" y=\"-67.7\" font-family=\"Times New Roman,serif\" font-size=\"14.00\">n</text>\n<polyline fill=\"none\" stroke=\"black\" points=\"1081.75,-55 1081.75,-90.5\"/>\n<text xml:space=\"preserve\" text-anchor=\"middle\" x=\"1121.62\" y=\"-67.7\" font-family=\"Times New Roman,serif\" font-size=\"14.00\">data 0.8814</text>\n<polyline fill=\"none\" stroke=\"black\" points=\"1161.5,-55 1161.5,-90.5\"/>\n<text xml:space=\"preserve\" text-anchor=\"middle\" x=\"1202.12\" y=\"-67.7\" font-family=\"Times New Roman,serif\" font-size=\"14.00\">grad 0.0000</text>\n</g>\n<!-- 2840716897616&#45;&gt;2840716890832tanh -->\n<g id=\"edge12\" class=\"edge\">\n<title>2840716897616&#45;&gt;2840716890832tanh</title>\n<path fill=\"none\" stroke=\"black\" d=\"M1243.01,-72.5C1251.39,-72.5 1259.52,-72.5 1266.98,-72.5\"/>\n<polygon fill=\"black\" stroke=\"black\" points=\"1266.95,-76 1276.95,-72.5 1266.95,-69 1266.95,-76\"/>\n</g>\n<!-- 2840716897616+ -->\n<g id=\"node10\" class=\"node\">\n<title>2840716897616+</title>\n<ellipse fill=\"none\" stroke=\"black\" cx=\"996\" cy=\"-72.5\" rx=\"27\" ry=\"18\"/>\n<text xml:space=\"preserve\" text-anchor=\"middle\" x=\"996\" y=\"-67.45\" font-family=\"Times New Roman,serif\" font-size=\"14.00\">+</text>\n</g>\n<!-- 2840716897616+&#45;&gt;2840716897616 -->\n<g id=\"edge4\" class=\"edge\">\n<title>2840716897616+&#45;&gt;2840716897616</title>\n<path fill=\"none\" stroke=\"black\" d=\"M1023.28,-72.5C1030.42,-72.5 1038.61,-72.5 1047.32,-72.5\"/>\n<polygon fill=\"black\" stroke=\"black\" points=\"1047.06,-76 1057.06,-72.5 1047.06,-69 1047.06,-76\"/>\n</g>\n<!-- 2840716888400 -->\n<g id=\"node11\" class=\"node\">\n<title>2840716888400</title>\n<polygon fill=\"none\" stroke=\"black\" points=\"675.75,-82.5 675.75,-118.5 933,-118.5 933,-82.5 675.75,-82.5\"/>\n<text xml:space=\"preserve\" text-anchor=\"middle\" x=\"721.62\" y=\"-95.7\" font-family=\"Times New Roman,serif\" font-size=\"14.00\">x1w1 + x2w2</text>\n<polyline fill=\"none\" stroke=\"black\" points=\"767.5,-83 767.5,-118.5\"/>\n<text xml:space=\"preserve\" text-anchor=\"middle\" x=\"809.62\" y=\"-95.7\" font-family=\"Times New Roman,serif\" font-size=\"14.00\">data &#45;6.0000</text>\n<polyline fill=\"none\" stroke=\"black\" points=\"851.75,-83 851.75,-118.5\"/>\n<text xml:space=\"preserve\" text-anchor=\"middle\" x=\"892.38\" y=\"-95.7\" font-family=\"Times New Roman,serif\" font-size=\"14.00\">grad 0.0000</text>\n</g>\n<!-- 2840716888400&#45;&gt;2840716897616+ -->\n<g id=\"edge13\" class=\"edge\">\n<title>2840716888400&#45;&gt;2840716897616+</title>\n<path fill=\"none\" stroke=\"black\" d=\"M930.54,-82.02C940.4,-80.56 949.78,-79.18 958.17,-77.94\"/>\n<polygon fill=\"black\" stroke=\"black\" points=\"958.44,-81.44 967.83,-76.51 957.42,-74.51 958.44,-81.44\"/>\n</g>\n<!-- 2840716888400+&#45;&gt;2840716888400 -->\n<g id=\"edge5\" class=\"edge\">\n<title>2840716888400+&#45;&gt;2840716888400</title>\n<path fill=\"none\" stroke=\"black\" d=\"M640.12,-100.5C647.13,-100.5 655.21,-100.5 663.95,-100.5\"/>\n<polygon fill=\"black\" stroke=\"black\" points=\"663.82,-104 673.82,-100.5 663.82,-97 663.82,-104\"/>\n</g>\n<!-- 2840716943760 -->\n<g id=\"node13\" class=\"node\">\n<title>2840716943760</title>\n<polygon fill=\"none\" stroke=\"black\" points=\"3.75,-55.5 3.75,-91.5 194.25,-91.5 194.25,-55.5 3.75,-55.5\"/>\n<text xml:space=\"preserve\" text-anchor=\"middle\" x=\"18.5\" y=\"-68.7\" font-family=\"Times New Roman,serif\" font-size=\"14.00\">x2</text>\n<polyline fill=\"none\" stroke=\"black\" points=\"33.25,-56 33.25,-91.5\"/>\n<text xml:space=\"preserve\" text-anchor=\"middle\" x=\"73.12\" y=\"-68.7\" font-family=\"Times New Roman,serif\" font-size=\"14.00\">data 0.0000</text>\n<polyline fill=\"none\" stroke=\"black\" points=\"113,-56 113,-91.5\"/>\n<text xml:space=\"preserve\" text-anchor=\"middle\" x=\"153.62\" y=\"-68.7\" font-family=\"Times New Roman,serif\" font-size=\"14.00\">grad 0.0000</text>\n</g>\n<!-- 2840716943760&#45;&gt;2840716951248* -->\n<g id=\"edge10\" class=\"edge\">\n<title>2840716943760&#45;&gt;2840716951248*</title>\n<path fill=\"none\" stroke=\"black\" d=\"M194.46,-73.5C204.21,-73.5 213.66,-73.5 222.21,-73.5\"/>\n<polygon fill=\"black\" stroke=\"black\" points=\"222.12,-77 232.12,-73.5 222.12,-70 222.12,-77\"/>\n</g>\n<!-- 2840716938704 -->\n<g id=\"node14\" class=\"node\">\n<title>2840716938704</title>\n<polygon fill=\"none\" stroke=\"black\" points=\"712.5,-27.5 712.5,-63.5 896.25,-63.5 896.25,-27.5 712.5,-27.5\"/>\n<text xml:space=\"preserve\" text-anchor=\"middle\" x=\"723.88\" y=\"-40.7\" font-family=\"Times New Roman,serif\" font-size=\"14.00\">b</text>\n<polyline fill=\"none\" stroke=\"black\" points=\"735.25,-28 735.25,-63.5\"/>\n<text xml:space=\"preserve\" text-anchor=\"middle\" x=\"775.12\" y=\"-40.7\" font-family=\"Times New Roman,serif\" font-size=\"14.00\">data 6.8814</text>\n<polyline fill=\"none\" stroke=\"black\" points=\"815,-28 815,-63.5\"/>\n<text xml:space=\"preserve\" text-anchor=\"middle\" x=\"855.62\" y=\"-40.7\" font-family=\"Times New Roman,serif\" font-size=\"14.00\">grad 0.0000</text>\n</g>\n<!-- 2840716938704&#45;&gt;2840716897616+ -->\n<g id=\"edge8\" class=\"edge\">\n<title>2840716938704&#45;&gt;2840716897616+</title>\n<path fill=\"none\" stroke=\"black\" d=\"M896.58,-58.49C918.42,-61.6 940.52,-64.74 958.23,-67.26\"/>\n<polygon fill=\"black\" stroke=\"black\" points=\"957.57,-70.71 967.96,-68.65 958.55,-63.78 957.57,-70.71\"/>\n</g>\n<!-- 2840716935568 -->\n<g id=\"node15\" class=\"node\">\n<title>2840716935568</title>\n<polygon fill=\"none\" stroke=\"black\" points=\"2.25,-0.5 2.25,-36.5 195.75,-36.5 195.75,-0.5 2.25,-0.5\"/>\n<text xml:space=\"preserve\" text-anchor=\"middle\" x=\"18.5\" y=\"-13.7\" font-family=\"Times New Roman,serif\" font-size=\"14.00\">w2</text>\n<polyline fill=\"none\" stroke=\"black\" points=\"34.75,-1 34.75,-36.5\"/>\n<text xml:space=\"preserve\" text-anchor=\"middle\" x=\"74.62\" y=\"-13.7\" font-family=\"Times New Roman,serif\" font-size=\"14.00\">data 1.0000</text>\n<polyline fill=\"none\" stroke=\"black\" points=\"114.5,-1 114.5,-36.5\"/>\n<text xml:space=\"preserve\" text-anchor=\"middle\" x=\"155.12\" y=\"-13.7\" font-family=\"Times New Roman,serif\" font-size=\"14.00\">grad 0.0000</text>\n</g>\n<!-- 2840716935568&#45;&gt;2840716951248* -->\n<g id=\"edge7\" class=\"edge\">\n<title>2840716935568&#45;&gt;2840716951248*</title>\n<path fill=\"none\" stroke=\"black\" d=\"M172.12,-36.99C180.9,-39.65 189.7,-42.5 198,-45.5 208.09,-49.14 218.82,-53.73 228.47,-58.12\"/>\n<polygon fill=\"black\" stroke=\"black\" points=\"226.9,-61.25 237.45,-62.31 229.86,-54.91 226.9,-61.25\"/>\n</g>\n</g>\n</svg>\n",
      "text/plain": [
       "<graphviz.graphs.Digraph at 0x29567ca39d0>"
      ]
     },
     "execution_count": 136,
     "metadata": {},
     "output_type": "execute_result"
    }
   ],
   "execution_count": 136
  },
  {
   "metadata": {
    "ExecuteTime": {
     "end_time": "2025-08-24T17:54:24.874843Z",
     "start_time": "2025-08-24T17:54:24.593763Z"
    }
   },
   "cell_type": "code",
   "source": [
    "## lets do back propagation manually\n",
    "o.grad =1.0 #because (do/do) =1\n",
    "draw_dot(o)"
   ],
   "id": "96f6b2eb143e0b4c",
   "outputs": [
    {
     "data": {
      "image/svg+xml": "<?xml version=\"1.0\" encoding=\"UTF-8\" standalone=\"no\"?>\n<!DOCTYPE svg PUBLIC \"-//W3C//DTD SVG 1.1//EN\"\n \"http://www.w3.org/Graphics/SVG/1.1/DTD/svg11.dtd\">\n<!-- Generated by graphviz version 13.1.2 (20250808.2320)\n -->\n<!-- Pages: 1 -->\n<svg width=\"1561pt\" height=\"210pt\"\n viewBox=\"0.00 0.00 1561.00 210.00\" xmlns=\"http://www.w3.org/2000/svg\" xmlns:xlink=\"http://www.w3.org/1999/xlink\">\n<g id=\"graph0\" class=\"graph\" transform=\"scale(1 1) rotate(0) translate(4 206)\">\n<polygon fill=\"white\" stroke=\"none\" points=\"-4,4 -4,-206 1556.5,-206 1556.5,4 -4,4\"/>\n<!-- 2840716946448 -->\n<g id=\"node1\" class=\"node\">\n<title>2840716946448</title>\n<polygon fill=\"none\" stroke=\"black\" points=\"3.75,-165.5 3.75,-201.5 194.25,-201.5 194.25,-165.5 3.75,-165.5\"/>\n<text xml:space=\"preserve\" text-anchor=\"middle\" x=\"18.5\" y=\"-178.7\" font-family=\"Times New Roman,serif\" font-size=\"14.00\">x1</text>\n<polyline fill=\"none\" stroke=\"black\" points=\"33.25,-166 33.25,-201.5\"/>\n<text xml:space=\"preserve\" text-anchor=\"middle\" x=\"73.12\" y=\"-178.7\" font-family=\"Times New Roman,serif\" font-size=\"14.00\">data 2.0000</text>\n<polyline fill=\"none\" stroke=\"black\" points=\"113,-166 113,-201.5\"/>\n<text xml:space=\"preserve\" text-anchor=\"middle\" x=\"153.62\" y=\"-178.7\" font-family=\"Times New Roman,serif\" font-size=\"14.00\">grad 0.0000</text>\n</g>\n<!-- 2840716937936* -->\n<g id=\"node8\" class=\"node\">\n<title>2840716937936*</title>\n<ellipse fill=\"none\" stroke=\"black\" cx=\"261\" cy=\"-128.5\" rx=\"27\" ry=\"18\"/>\n<text xml:space=\"preserve\" text-anchor=\"middle\" x=\"261\" y=\"-123.45\" font-family=\"Times New Roman,serif\" font-size=\"14.00\">*</text>\n</g>\n<!-- 2840716946448&#45;&gt;2840716937936* -->\n<g id=\"edge6\" class=\"edge\">\n<title>2840716946448&#45;&gt;2840716937936*</title>\n<path fill=\"none\" stroke=\"black\" d=\"M172.12,-165.01C180.9,-162.35 189.7,-159.5 198,-156.5 208.09,-152.86 218.82,-148.27 228.47,-143.88\"/>\n<polygon fill=\"black\" stroke=\"black\" points=\"229.86,-147.09 237.45,-139.69 226.9,-140.75 229.86,-147.09\"/>\n</g>\n<!-- 2840716938256 -->\n<g id=\"node2\" class=\"node\">\n<title>2840716938256</title>\n<polygon fill=\"none\" stroke=\"black\" points=\"0,-110.5 0,-146.5 198,-146.5 198,-110.5 0,-110.5\"/>\n<text xml:space=\"preserve\" text-anchor=\"middle\" x=\"16.25\" y=\"-123.7\" font-family=\"Times New Roman,serif\" font-size=\"14.00\">w1</text>\n<polyline fill=\"none\" stroke=\"black\" points=\"32.5,-111 32.5,-146.5\"/>\n<text xml:space=\"preserve\" text-anchor=\"middle\" x=\"74.62\" y=\"-123.7\" font-family=\"Times New Roman,serif\" font-size=\"14.00\">data &#45;3.0000</text>\n<polyline fill=\"none\" stroke=\"black\" points=\"116.75,-111 116.75,-146.5\"/>\n<text xml:space=\"preserve\" text-anchor=\"middle\" x=\"157.38\" y=\"-123.7\" font-family=\"Times New Roman,serif\" font-size=\"14.00\">grad 0.0000</text>\n</g>\n<!-- 2840716938256&#45;&gt;2840716937936* -->\n<g id=\"edge14\" class=\"edge\">\n<title>2840716938256&#45;&gt;2840716937936*</title>\n<path fill=\"none\" stroke=\"black\" d=\"M198.14,-128.5C206.61,-128.5 214.8,-128.5 222.29,-128.5\"/>\n<polygon fill=\"black\" stroke=\"black\" points=\"222.29,-132 232.29,-128.5 222.29,-125 222.29,-132\"/>\n</g>\n<!-- 2840716951248 -->\n<g id=\"node3\" class=\"node\">\n<title>2840716951248</title>\n<polygon fill=\"none\" stroke=\"black\" points=\"326.25,-55.5 326.25,-91.5 547.5,-91.5 547.5,-55.5 326.25,-55.5\"/>\n<text xml:space=\"preserve\" text-anchor=\"middle\" x=\"356.38\" y=\"-68.7\" font-family=\"Times New Roman,serif\" font-size=\"14.00\">x2 * w2</text>\n<polyline fill=\"none\" stroke=\"black\" points=\"386.5,-56 386.5,-91.5\"/>\n<text xml:space=\"preserve\" text-anchor=\"middle\" x=\"426.38\" y=\"-68.7\" font-family=\"Times New Roman,serif\" font-size=\"14.00\">data 0.0000</text>\n<polyline fill=\"none\" stroke=\"black\" points=\"466.25,-56 466.25,-91.5\"/>\n<text xml:space=\"preserve\" text-anchor=\"middle\" x=\"506.88\" y=\"-68.7\" font-family=\"Times New Roman,serif\" font-size=\"14.00\">grad 0.0000</text>\n</g>\n<!-- 2840716888400+ -->\n<g id=\"node12\" class=\"node\">\n<title>2840716888400+</title>\n<ellipse fill=\"none\" stroke=\"black\" cx=\"612.75\" cy=\"-100.5\" rx=\"27\" ry=\"18\"/>\n<text xml:space=\"preserve\" text-anchor=\"middle\" x=\"612.75\" y=\"-95.45\" font-family=\"Times New Roman,serif\" font-size=\"14.00\">+</text>\n</g>\n<!-- 2840716951248&#45;&gt;2840716888400+ -->\n<g id=\"edge11\" class=\"edge\">\n<title>2840716951248&#45;&gt;2840716888400+</title>\n<path fill=\"none\" stroke=\"black\" d=\"M547.99,-90.6C557.5,-92.08 566.61,-93.49 574.82,-94.77\"/>\n<polygon fill=\"black\" stroke=\"black\" points=\"574.23,-98.22 584.65,-96.29 575.3,-91.3 574.23,-98.22\"/>\n</g>\n<!-- 2840716951248* -->\n<g id=\"node4\" class=\"node\">\n<title>2840716951248*</title>\n<ellipse fill=\"none\" stroke=\"black\" cx=\"261\" cy=\"-73.5\" rx=\"27\" ry=\"18\"/>\n<text xml:space=\"preserve\" text-anchor=\"middle\" x=\"261\" y=\"-68.45\" font-family=\"Times New Roman,serif\" font-size=\"14.00\">*</text>\n</g>\n<!-- 2840716951248*&#45;&gt;2840716951248 -->\n<g id=\"edge1\" class=\"edge\">\n<title>2840716951248*&#45;&gt;2840716951248</title>\n<path fill=\"none\" stroke=\"black\" d=\"M288.41,-73.5C296.06,-73.5 304.94,-73.5 314.49,-73.5\"/>\n<polygon fill=\"black\" stroke=\"black\" points=\"314.46,-77 324.46,-73.5 314.46,-70 314.46,-77\"/>\n</g>\n<!-- 2840716890832 -->\n<g id=\"node5\" class=\"node\">\n<title>2840716890832</title>\n<polygon fill=\"none\" stroke=\"black\" points=\"1368.75,-54.5 1368.75,-90.5 1552.5,-90.5 1552.5,-54.5 1368.75,-54.5\"/>\n<text xml:space=\"preserve\" text-anchor=\"middle\" x=\"1380.12\" y=\"-67.7\" font-family=\"Times New Roman,serif\" font-size=\"14.00\">o</text>\n<polyline fill=\"none\" stroke=\"black\" points=\"1391.5,-55 1391.5,-90.5\"/>\n<text xml:space=\"preserve\" text-anchor=\"middle\" x=\"1431.38\" y=\"-67.7\" font-family=\"Times New Roman,serif\" font-size=\"14.00\">data 0.7071</text>\n<polyline fill=\"none\" stroke=\"black\" points=\"1471.25,-55 1471.25,-90.5\"/>\n<text xml:space=\"preserve\" text-anchor=\"middle\" x=\"1511.88\" y=\"-67.7\" font-family=\"Times New Roman,serif\" font-size=\"14.00\">grad 1.0000</text>\n</g>\n<!-- 2840716890832tanh -->\n<g id=\"node6\" class=\"node\">\n<title>2840716890832tanh</title>\n<ellipse fill=\"none\" stroke=\"black\" cx=\"1305.75\" cy=\"-72.5\" rx=\"27\" ry=\"18\"/>\n<text xml:space=\"preserve\" text-anchor=\"middle\" x=\"1305.75\" y=\"-67.45\" font-family=\"Times New Roman,serif\" font-size=\"14.00\">tanh</text>\n</g>\n<!-- 2840716890832tanh&#45;&gt;2840716890832 -->\n<g id=\"edge2\" class=\"edge\">\n<title>2840716890832tanh&#45;&gt;2840716890832</title>\n<path fill=\"none\" stroke=\"black\" d=\"M1333.03,-72.5C1340.17,-72.5 1348.36,-72.5 1357.07,-72.5\"/>\n<polygon fill=\"black\" stroke=\"black\" points=\"1356.81,-76 1366.81,-72.5 1356.81,-69 1356.81,-76\"/>\n</g>\n<!-- 2840716937936 -->\n<g id=\"node7\" class=\"node\">\n<title>2840716937936</title>\n<polygon fill=\"none\" stroke=\"black\" points=\"324,-110.5 324,-146.5 549.75,-146.5 549.75,-110.5 324,-110.5\"/>\n<text xml:space=\"preserve\" text-anchor=\"middle\" x=\"354.12\" y=\"-123.7\" font-family=\"Times New Roman,serif\" font-size=\"14.00\">x1 * w1</text>\n<polyline fill=\"none\" stroke=\"black\" points=\"384.25,-111 384.25,-146.5\"/>\n<text xml:space=\"preserve\" text-anchor=\"middle\" x=\"426.38\" y=\"-123.7\" font-family=\"Times New Roman,serif\" font-size=\"14.00\">data &#45;6.0000</text>\n<polyline fill=\"none\" stroke=\"black\" points=\"468.5,-111 468.5,-146.5\"/>\n<text xml:space=\"preserve\" text-anchor=\"middle\" x=\"509.12\" y=\"-123.7\" font-family=\"Times New Roman,serif\" font-size=\"14.00\">grad 0.0000</text>\n</g>\n<!-- 2840716937936&#45;&gt;2840716888400+ -->\n<g id=\"edge9\" class=\"edge\">\n<title>2840716937936&#45;&gt;2840716888400+</title>\n<path fill=\"none\" stroke=\"black\" d=\"M549.96,-110.45C558.76,-109.03 567.18,-107.68 574.82,-106.45\"/>\n<polygon fill=\"black\" stroke=\"black\" points=\"575.31,-109.91 584.63,-104.87 574.2,-103 575.31,-109.91\"/>\n</g>\n<!-- 2840716937936*&#45;&gt;2840716937936 -->\n<g id=\"edge3\" class=\"edge\">\n<title>2840716937936*&#45;&gt;2840716937936</title>\n<path fill=\"none\" stroke=\"black\" d=\"M288.41,-128.5C295.49,-128.5 303.63,-128.5 312.38,-128.5\"/>\n<polygon fill=\"black\" stroke=\"black\" points=\"312.24,-132 322.24,-128.5 312.24,-125 312.24,-132\"/>\n</g>\n<!-- 2840716897616 -->\n<g id=\"node9\" class=\"node\">\n<title>2840716897616</title>\n<polygon fill=\"none\" stroke=\"black\" points=\"1059,-54.5 1059,-90.5 1242.75,-90.5 1242.75,-54.5 1059,-54.5\"/>\n<text xml:space=\"preserve\" text-anchor=\"middle\" x=\"1070.38\" y=\"-67.7\" font-family=\"Times New Roman,serif\" font-size=\"14.00\">n</text>\n<polyline fill=\"none\" stroke=\"black\" points=\"1081.75,-55 1081.75,-90.5\"/>\n<text xml:space=\"preserve\" text-anchor=\"middle\" x=\"1121.62\" y=\"-67.7\" font-family=\"Times New Roman,serif\" font-size=\"14.00\">data 0.8814</text>\n<polyline fill=\"none\" stroke=\"black\" points=\"1161.5,-55 1161.5,-90.5\"/>\n<text xml:space=\"preserve\" text-anchor=\"middle\" x=\"1202.12\" y=\"-67.7\" font-family=\"Times New Roman,serif\" font-size=\"14.00\">grad 0.0000</text>\n</g>\n<!-- 2840716897616&#45;&gt;2840716890832tanh -->\n<g id=\"edge12\" class=\"edge\">\n<title>2840716897616&#45;&gt;2840716890832tanh</title>\n<path fill=\"none\" stroke=\"black\" d=\"M1243.01,-72.5C1251.39,-72.5 1259.52,-72.5 1266.98,-72.5\"/>\n<polygon fill=\"black\" stroke=\"black\" points=\"1266.95,-76 1276.95,-72.5 1266.95,-69 1266.95,-76\"/>\n</g>\n<!-- 2840716897616+ -->\n<g id=\"node10\" class=\"node\">\n<title>2840716897616+</title>\n<ellipse fill=\"none\" stroke=\"black\" cx=\"996\" cy=\"-72.5\" rx=\"27\" ry=\"18\"/>\n<text xml:space=\"preserve\" text-anchor=\"middle\" x=\"996\" y=\"-67.45\" font-family=\"Times New Roman,serif\" font-size=\"14.00\">+</text>\n</g>\n<!-- 2840716897616+&#45;&gt;2840716897616 -->\n<g id=\"edge4\" class=\"edge\">\n<title>2840716897616+&#45;&gt;2840716897616</title>\n<path fill=\"none\" stroke=\"black\" d=\"M1023.28,-72.5C1030.42,-72.5 1038.61,-72.5 1047.32,-72.5\"/>\n<polygon fill=\"black\" stroke=\"black\" points=\"1047.06,-76 1057.06,-72.5 1047.06,-69 1047.06,-76\"/>\n</g>\n<!-- 2840716888400 -->\n<g id=\"node11\" class=\"node\">\n<title>2840716888400</title>\n<polygon fill=\"none\" stroke=\"black\" points=\"675.75,-82.5 675.75,-118.5 933,-118.5 933,-82.5 675.75,-82.5\"/>\n<text xml:space=\"preserve\" text-anchor=\"middle\" x=\"721.62\" y=\"-95.7\" font-family=\"Times New Roman,serif\" font-size=\"14.00\">x1w1 + x2w2</text>\n<polyline fill=\"none\" stroke=\"black\" points=\"767.5,-83 767.5,-118.5\"/>\n<text xml:space=\"preserve\" text-anchor=\"middle\" x=\"809.62\" y=\"-95.7\" font-family=\"Times New Roman,serif\" font-size=\"14.00\">data &#45;6.0000</text>\n<polyline fill=\"none\" stroke=\"black\" points=\"851.75,-83 851.75,-118.5\"/>\n<text xml:space=\"preserve\" text-anchor=\"middle\" x=\"892.38\" y=\"-95.7\" font-family=\"Times New Roman,serif\" font-size=\"14.00\">grad 0.0000</text>\n</g>\n<!-- 2840716888400&#45;&gt;2840716897616+ -->\n<g id=\"edge13\" class=\"edge\">\n<title>2840716888400&#45;&gt;2840716897616+</title>\n<path fill=\"none\" stroke=\"black\" d=\"M930.54,-82.02C940.4,-80.56 949.78,-79.18 958.17,-77.94\"/>\n<polygon fill=\"black\" stroke=\"black\" points=\"958.44,-81.44 967.83,-76.51 957.42,-74.51 958.44,-81.44\"/>\n</g>\n<!-- 2840716888400+&#45;&gt;2840716888400 -->\n<g id=\"edge5\" class=\"edge\">\n<title>2840716888400+&#45;&gt;2840716888400</title>\n<path fill=\"none\" stroke=\"black\" d=\"M640.12,-100.5C647.13,-100.5 655.21,-100.5 663.95,-100.5\"/>\n<polygon fill=\"black\" stroke=\"black\" points=\"663.82,-104 673.82,-100.5 663.82,-97 663.82,-104\"/>\n</g>\n<!-- 2840716943760 -->\n<g id=\"node13\" class=\"node\">\n<title>2840716943760</title>\n<polygon fill=\"none\" stroke=\"black\" points=\"3.75,-55.5 3.75,-91.5 194.25,-91.5 194.25,-55.5 3.75,-55.5\"/>\n<text xml:space=\"preserve\" text-anchor=\"middle\" x=\"18.5\" y=\"-68.7\" font-family=\"Times New Roman,serif\" font-size=\"14.00\">x2</text>\n<polyline fill=\"none\" stroke=\"black\" points=\"33.25,-56 33.25,-91.5\"/>\n<text xml:space=\"preserve\" text-anchor=\"middle\" x=\"73.12\" y=\"-68.7\" font-family=\"Times New Roman,serif\" font-size=\"14.00\">data 0.0000</text>\n<polyline fill=\"none\" stroke=\"black\" points=\"113,-56 113,-91.5\"/>\n<text xml:space=\"preserve\" text-anchor=\"middle\" x=\"153.62\" y=\"-68.7\" font-family=\"Times New Roman,serif\" font-size=\"14.00\">grad 0.0000</text>\n</g>\n<!-- 2840716943760&#45;&gt;2840716951248* -->\n<g id=\"edge10\" class=\"edge\">\n<title>2840716943760&#45;&gt;2840716951248*</title>\n<path fill=\"none\" stroke=\"black\" d=\"M194.46,-73.5C204.21,-73.5 213.66,-73.5 222.21,-73.5\"/>\n<polygon fill=\"black\" stroke=\"black\" points=\"222.12,-77 232.12,-73.5 222.12,-70 222.12,-77\"/>\n</g>\n<!-- 2840716938704 -->\n<g id=\"node14\" class=\"node\">\n<title>2840716938704</title>\n<polygon fill=\"none\" stroke=\"black\" points=\"712.5,-27.5 712.5,-63.5 896.25,-63.5 896.25,-27.5 712.5,-27.5\"/>\n<text xml:space=\"preserve\" text-anchor=\"middle\" x=\"723.88\" y=\"-40.7\" font-family=\"Times New Roman,serif\" font-size=\"14.00\">b</text>\n<polyline fill=\"none\" stroke=\"black\" points=\"735.25,-28 735.25,-63.5\"/>\n<text xml:space=\"preserve\" text-anchor=\"middle\" x=\"775.12\" y=\"-40.7\" font-family=\"Times New Roman,serif\" font-size=\"14.00\">data 6.8814</text>\n<polyline fill=\"none\" stroke=\"black\" points=\"815,-28 815,-63.5\"/>\n<text xml:space=\"preserve\" text-anchor=\"middle\" x=\"855.62\" y=\"-40.7\" font-family=\"Times New Roman,serif\" font-size=\"14.00\">grad 0.0000</text>\n</g>\n<!-- 2840716938704&#45;&gt;2840716897616+ -->\n<g id=\"edge8\" class=\"edge\">\n<title>2840716938704&#45;&gt;2840716897616+</title>\n<path fill=\"none\" stroke=\"black\" d=\"M896.58,-58.49C918.42,-61.6 940.52,-64.74 958.23,-67.26\"/>\n<polygon fill=\"black\" stroke=\"black\" points=\"957.57,-70.71 967.96,-68.65 958.55,-63.78 957.57,-70.71\"/>\n</g>\n<!-- 2840716935568 -->\n<g id=\"node15\" class=\"node\">\n<title>2840716935568</title>\n<polygon fill=\"none\" stroke=\"black\" points=\"2.25,-0.5 2.25,-36.5 195.75,-36.5 195.75,-0.5 2.25,-0.5\"/>\n<text xml:space=\"preserve\" text-anchor=\"middle\" x=\"18.5\" y=\"-13.7\" font-family=\"Times New Roman,serif\" font-size=\"14.00\">w2</text>\n<polyline fill=\"none\" stroke=\"black\" points=\"34.75,-1 34.75,-36.5\"/>\n<text xml:space=\"preserve\" text-anchor=\"middle\" x=\"74.62\" y=\"-13.7\" font-family=\"Times New Roman,serif\" font-size=\"14.00\">data 1.0000</text>\n<polyline fill=\"none\" stroke=\"black\" points=\"114.5,-1 114.5,-36.5\"/>\n<text xml:space=\"preserve\" text-anchor=\"middle\" x=\"155.12\" y=\"-13.7\" font-family=\"Times New Roman,serif\" font-size=\"14.00\">grad 0.0000</text>\n</g>\n<!-- 2840716935568&#45;&gt;2840716951248* -->\n<g id=\"edge7\" class=\"edge\">\n<title>2840716935568&#45;&gt;2840716951248*</title>\n<path fill=\"none\" stroke=\"black\" d=\"M172.12,-36.99C180.9,-39.65 189.7,-42.5 198,-45.5 208.09,-49.14 218.82,-53.73 228.47,-58.12\"/>\n<polygon fill=\"black\" stroke=\"black\" points=\"226.9,-61.25 237.45,-62.31 229.86,-54.91 226.9,-61.25\"/>\n</g>\n</g>\n</svg>\n",
      "text/plain": [
       "<graphviz.graphs.Digraph at 0x29567ba5690>"
      ]
     },
     "execution_count": 137,
     "metadata": {},
     "output_type": "execute_result"
    }
   ],
   "execution_count": 137
  },
  {
   "metadata": {
    "ExecuteTime": {
     "end_time": "2025-08-24T17:54:24.889949Z",
     "start_time": "2025-08-24T17:54:24.886950Z"
    }
   },
   "cell_type": "code",
   "source": [
    "# (do/dn) = (d(tanh(o))/do) = ( 1-(tanh(o)**2) formula of tanh derivative\n",
    "print(1-(o.data)**2)"
   ],
   "id": "37041f3eff7384fd",
   "outputs": [
    {
     "name": "stdout",
     "output_type": "stream",
     "text": [
      "0.5000025364090595\n"
     ]
    }
   ],
   "execution_count": 138
  },
  {
   "metadata": {
    "ExecuteTime": {
     "end_time": "2025-08-24T17:54:25.745152Z",
     "start_time": "2025-08-24T17:54:25.548154Z"
    }
   },
   "cell_type": "code",
   "source": [
    "n.grad = (1-(o.data)**2)\n",
    "draw_dot(o)"
   ],
   "id": "4be569b479fd78e9",
   "outputs": [
    {
     "data": {
      "image/svg+xml": "<?xml version=\"1.0\" encoding=\"UTF-8\" standalone=\"no\"?>\n<!DOCTYPE svg PUBLIC \"-//W3C//DTD SVG 1.1//EN\"\n \"http://www.w3.org/Graphics/SVG/1.1/DTD/svg11.dtd\">\n<!-- Generated by graphviz version 13.1.2 (20250808.2320)\n -->\n<!-- Pages: 1 -->\n<svg width=\"1561pt\" height=\"210pt\"\n viewBox=\"0.00 0.00 1561.00 210.00\" xmlns=\"http://www.w3.org/2000/svg\" xmlns:xlink=\"http://www.w3.org/1999/xlink\">\n<g id=\"graph0\" class=\"graph\" transform=\"scale(1 1) rotate(0) translate(4 206)\">\n<polygon fill=\"white\" stroke=\"none\" points=\"-4,4 -4,-206 1556.5,-206 1556.5,4 -4,4\"/>\n<!-- 2840716946448 -->\n<g id=\"node1\" class=\"node\">\n<title>2840716946448</title>\n<polygon fill=\"none\" stroke=\"black\" points=\"3.75,-165.5 3.75,-201.5 194.25,-201.5 194.25,-165.5 3.75,-165.5\"/>\n<text xml:space=\"preserve\" text-anchor=\"middle\" x=\"18.5\" y=\"-178.7\" font-family=\"Times New Roman,serif\" font-size=\"14.00\">x1</text>\n<polyline fill=\"none\" stroke=\"black\" points=\"33.25,-166 33.25,-201.5\"/>\n<text xml:space=\"preserve\" text-anchor=\"middle\" x=\"73.12\" y=\"-178.7\" font-family=\"Times New Roman,serif\" font-size=\"14.00\">data 2.0000</text>\n<polyline fill=\"none\" stroke=\"black\" points=\"113,-166 113,-201.5\"/>\n<text xml:space=\"preserve\" text-anchor=\"middle\" x=\"153.62\" y=\"-178.7\" font-family=\"Times New Roman,serif\" font-size=\"14.00\">grad 0.0000</text>\n</g>\n<!-- 2840716937936* -->\n<g id=\"node8\" class=\"node\">\n<title>2840716937936*</title>\n<ellipse fill=\"none\" stroke=\"black\" cx=\"261\" cy=\"-128.5\" rx=\"27\" ry=\"18\"/>\n<text xml:space=\"preserve\" text-anchor=\"middle\" x=\"261\" y=\"-123.45\" font-family=\"Times New Roman,serif\" font-size=\"14.00\">*</text>\n</g>\n<!-- 2840716946448&#45;&gt;2840716937936* -->\n<g id=\"edge6\" class=\"edge\">\n<title>2840716946448&#45;&gt;2840716937936*</title>\n<path fill=\"none\" stroke=\"black\" d=\"M172.12,-165.01C180.9,-162.35 189.7,-159.5 198,-156.5 208.09,-152.86 218.82,-148.27 228.47,-143.88\"/>\n<polygon fill=\"black\" stroke=\"black\" points=\"229.86,-147.09 237.45,-139.69 226.9,-140.75 229.86,-147.09\"/>\n</g>\n<!-- 2840716938256 -->\n<g id=\"node2\" class=\"node\">\n<title>2840716938256</title>\n<polygon fill=\"none\" stroke=\"black\" points=\"0,-110.5 0,-146.5 198,-146.5 198,-110.5 0,-110.5\"/>\n<text xml:space=\"preserve\" text-anchor=\"middle\" x=\"16.25\" y=\"-123.7\" font-family=\"Times New Roman,serif\" font-size=\"14.00\">w1</text>\n<polyline fill=\"none\" stroke=\"black\" points=\"32.5,-111 32.5,-146.5\"/>\n<text xml:space=\"preserve\" text-anchor=\"middle\" x=\"74.62\" y=\"-123.7\" font-family=\"Times New Roman,serif\" font-size=\"14.00\">data &#45;3.0000</text>\n<polyline fill=\"none\" stroke=\"black\" points=\"116.75,-111 116.75,-146.5\"/>\n<text xml:space=\"preserve\" text-anchor=\"middle\" x=\"157.38\" y=\"-123.7\" font-family=\"Times New Roman,serif\" font-size=\"14.00\">grad 0.0000</text>\n</g>\n<!-- 2840716938256&#45;&gt;2840716937936* -->\n<g id=\"edge14\" class=\"edge\">\n<title>2840716938256&#45;&gt;2840716937936*</title>\n<path fill=\"none\" stroke=\"black\" d=\"M198.14,-128.5C206.61,-128.5 214.8,-128.5 222.29,-128.5\"/>\n<polygon fill=\"black\" stroke=\"black\" points=\"222.29,-132 232.29,-128.5 222.29,-125 222.29,-132\"/>\n</g>\n<!-- 2840716951248 -->\n<g id=\"node3\" class=\"node\">\n<title>2840716951248</title>\n<polygon fill=\"none\" stroke=\"black\" points=\"326.25,-55.5 326.25,-91.5 547.5,-91.5 547.5,-55.5 326.25,-55.5\"/>\n<text xml:space=\"preserve\" text-anchor=\"middle\" x=\"356.38\" y=\"-68.7\" font-family=\"Times New Roman,serif\" font-size=\"14.00\">x2 * w2</text>\n<polyline fill=\"none\" stroke=\"black\" points=\"386.5,-56 386.5,-91.5\"/>\n<text xml:space=\"preserve\" text-anchor=\"middle\" x=\"426.38\" y=\"-68.7\" font-family=\"Times New Roman,serif\" font-size=\"14.00\">data 0.0000</text>\n<polyline fill=\"none\" stroke=\"black\" points=\"466.25,-56 466.25,-91.5\"/>\n<text xml:space=\"preserve\" text-anchor=\"middle\" x=\"506.88\" y=\"-68.7\" font-family=\"Times New Roman,serif\" font-size=\"14.00\">grad 0.0000</text>\n</g>\n<!-- 2840716888400+ -->\n<g id=\"node12\" class=\"node\">\n<title>2840716888400+</title>\n<ellipse fill=\"none\" stroke=\"black\" cx=\"612.75\" cy=\"-100.5\" rx=\"27\" ry=\"18\"/>\n<text xml:space=\"preserve\" text-anchor=\"middle\" x=\"612.75\" y=\"-95.45\" font-family=\"Times New Roman,serif\" font-size=\"14.00\">+</text>\n</g>\n<!-- 2840716951248&#45;&gt;2840716888400+ -->\n<g id=\"edge11\" class=\"edge\">\n<title>2840716951248&#45;&gt;2840716888400+</title>\n<path fill=\"none\" stroke=\"black\" d=\"M547.99,-90.6C557.5,-92.08 566.61,-93.49 574.82,-94.77\"/>\n<polygon fill=\"black\" stroke=\"black\" points=\"574.23,-98.22 584.65,-96.29 575.3,-91.3 574.23,-98.22\"/>\n</g>\n<!-- 2840716951248* -->\n<g id=\"node4\" class=\"node\">\n<title>2840716951248*</title>\n<ellipse fill=\"none\" stroke=\"black\" cx=\"261\" cy=\"-73.5\" rx=\"27\" ry=\"18\"/>\n<text xml:space=\"preserve\" text-anchor=\"middle\" x=\"261\" y=\"-68.45\" font-family=\"Times New Roman,serif\" font-size=\"14.00\">*</text>\n</g>\n<!-- 2840716951248*&#45;&gt;2840716951248 -->\n<g id=\"edge1\" class=\"edge\">\n<title>2840716951248*&#45;&gt;2840716951248</title>\n<path fill=\"none\" stroke=\"black\" d=\"M288.41,-73.5C296.06,-73.5 304.94,-73.5 314.49,-73.5\"/>\n<polygon fill=\"black\" stroke=\"black\" points=\"314.46,-77 324.46,-73.5 314.46,-70 314.46,-77\"/>\n</g>\n<!-- 2840716890832 -->\n<g id=\"node5\" class=\"node\">\n<title>2840716890832</title>\n<polygon fill=\"none\" stroke=\"black\" points=\"1368.75,-54.5 1368.75,-90.5 1552.5,-90.5 1552.5,-54.5 1368.75,-54.5\"/>\n<text xml:space=\"preserve\" text-anchor=\"middle\" x=\"1380.12\" y=\"-67.7\" font-family=\"Times New Roman,serif\" font-size=\"14.00\">o</text>\n<polyline fill=\"none\" stroke=\"black\" points=\"1391.5,-55 1391.5,-90.5\"/>\n<text xml:space=\"preserve\" text-anchor=\"middle\" x=\"1431.38\" y=\"-67.7\" font-family=\"Times New Roman,serif\" font-size=\"14.00\">data 0.7071</text>\n<polyline fill=\"none\" stroke=\"black\" points=\"1471.25,-55 1471.25,-90.5\"/>\n<text xml:space=\"preserve\" text-anchor=\"middle\" x=\"1511.88\" y=\"-67.7\" font-family=\"Times New Roman,serif\" font-size=\"14.00\">grad 1.0000</text>\n</g>\n<!-- 2840716890832tanh -->\n<g id=\"node6\" class=\"node\">\n<title>2840716890832tanh</title>\n<ellipse fill=\"none\" stroke=\"black\" cx=\"1305.75\" cy=\"-72.5\" rx=\"27\" ry=\"18\"/>\n<text xml:space=\"preserve\" text-anchor=\"middle\" x=\"1305.75\" y=\"-67.45\" font-family=\"Times New Roman,serif\" font-size=\"14.00\">tanh</text>\n</g>\n<!-- 2840716890832tanh&#45;&gt;2840716890832 -->\n<g id=\"edge2\" class=\"edge\">\n<title>2840716890832tanh&#45;&gt;2840716890832</title>\n<path fill=\"none\" stroke=\"black\" d=\"M1333.03,-72.5C1340.17,-72.5 1348.36,-72.5 1357.07,-72.5\"/>\n<polygon fill=\"black\" stroke=\"black\" points=\"1356.81,-76 1366.81,-72.5 1356.81,-69 1356.81,-76\"/>\n</g>\n<!-- 2840716937936 -->\n<g id=\"node7\" class=\"node\">\n<title>2840716937936</title>\n<polygon fill=\"none\" stroke=\"black\" points=\"324,-110.5 324,-146.5 549.75,-146.5 549.75,-110.5 324,-110.5\"/>\n<text xml:space=\"preserve\" text-anchor=\"middle\" x=\"354.12\" y=\"-123.7\" font-family=\"Times New Roman,serif\" font-size=\"14.00\">x1 * w1</text>\n<polyline fill=\"none\" stroke=\"black\" points=\"384.25,-111 384.25,-146.5\"/>\n<text xml:space=\"preserve\" text-anchor=\"middle\" x=\"426.38\" y=\"-123.7\" font-family=\"Times New Roman,serif\" font-size=\"14.00\">data &#45;6.0000</text>\n<polyline fill=\"none\" stroke=\"black\" points=\"468.5,-111 468.5,-146.5\"/>\n<text xml:space=\"preserve\" text-anchor=\"middle\" x=\"509.12\" y=\"-123.7\" font-family=\"Times New Roman,serif\" font-size=\"14.00\">grad 0.0000</text>\n</g>\n<!-- 2840716937936&#45;&gt;2840716888400+ -->\n<g id=\"edge9\" class=\"edge\">\n<title>2840716937936&#45;&gt;2840716888400+</title>\n<path fill=\"none\" stroke=\"black\" d=\"M549.96,-110.45C558.76,-109.03 567.18,-107.68 574.82,-106.45\"/>\n<polygon fill=\"black\" stroke=\"black\" points=\"575.31,-109.91 584.63,-104.87 574.2,-103 575.31,-109.91\"/>\n</g>\n<!-- 2840716937936*&#45;&gt;2840716937936 -->\n<g id=\"edge3\" class=\"edge\">\n<title>2840716937936*&#45;&gt;2840716937936</title>\n<path fill=\"none\" stroke=\"black\" d=\"M288.41,-128.5C295.49,-128.5 303.63,-128.5 312.38,-128.5\"/>\n<polygon fill=\"black\" stroke=\"black\" points=\"312.24,-132 322.24,-128.5 312.24,-125 312.24,-132\"/>\n</g>\n<!-- 2840716897616 -->\n<g id=\"node9\" class=\"node\">\n<title>2840716897616</title>\n<polygon fill=\"none\" stroke=\"black\" points=\"1059,-54.5 1059,-90.5 1242.75,-90.5 1242.75,-54.5 1059,-54.5\"/>\n<text xml:space=\"preserve\" text-anchor=\"middle\" x=\"1070.38\" y=\"-67.7\" font-family=\"Times New Roman,serif\" font-size=\"14.00\">n</text>\n<polyline fill=\"none\" stroke=\"black\" points=\"1081.75,-55 1081.75,-90.5\"/>\n<text xml:space=\"preserve\" text-anchor=\"middle\" x=\"1121.62\" y=\"-67.7\" font-family=\"Times New Roman,serif\" font-size=\"14.00\">data 0.8814</text>\n<polyline fill=\"none\" stroke=\"black\" points=\"1161.5,-55 1161.5,-90.5\"/>\n<text xml:space=\"preserve\" text-anchor=\"middle\" x=\"1202.12\" y=\"-67.7\" font-family=\"Times New Roman,serif\" font-size=\"14.00\">grad 0.5000</text>\n</g>\n<!-- 2840716897616&#45;&gt;2840716890832tanh -->\n<g id=\"edge12\" class=\"edge\">\n<title>2840716897616&#45;&gt;2840716890832tanh</title>\n<path fill=\"none\" stroke=\"black\" d=\"M1243.01,-72.5C1251.39,-72.5 1259.52,-72.5 1266.98,-72.5\"/>\n<polygon fill=\"black\" stroke=\"black\" points=\"1266.95,-76 1276.95,-72.5 1266.95,-69 1266.95,-76\"/>\n</g>\n<!-- 2840716897616+ -->\n<g id=\"node10\" class=\"node\">\n<title>2840716897616+</title>\n<ellipse fill=\"none\" stroke=\"black\" cx=\"996\" cy=\"-72.5\" rx=\"27\" ry=\"18\"/>\n<text xml:space=\"preserve\" text-anchor=\"middle\" x=\"996\" y=\"-67.45\" font-family=\"Times New Roman,serif\" font-size=\"14.00\">+</text>\n</g>\n<!-- 2840716897616+&#45;&gt;2840716897616 -->\n<g id=\"edge4\" class=\"edge\">\n<title>2840716897616+&#45;&gt;2840716897616</title>\n<path fill=\"none\" stroke=\"black\" d=\"M1023.28,-72.5C1030.42,-72.5 1038.61,-72.5 1047.32,-72.5\"/>\n<polygon fill=\"black\" stroke=\"black\" points=\"1047.06,-76 1057.06,-72.5 1047.06,-69 1047.06,-76\"/>\n</g>\n<!-- 2840716888400 -->\n<g id=\"node11\" class=\"node\">\n<title>2840716888400</title>\n<polygon fill=\"none\" stroke=\"black\" points=\"675.75,-82.5 675.75,-118.5 933,-118.5 933,-82.5 675.75,-82.5\"/>\n<text xml:space=\"preserve\" text-anchor=\"middle\" x=\"721.62\" y=\"-95.7\" font-family=\"Times New Roman,serif\" font-size=\"14.00\">x1w1 + x2w2</text>\n<polyline fill=\"none\" stroke=\"black\" points=\"767.5,-83 767.5,-118.5\"/>\n<text xml:space=\"preserve\" text-anchor=\"middle\" x=\"809.62\" y=\"-95.7\" font-family=\"Times New Roman,serif\" font-size=\"14.00\">data &#45;6.0000</text>\n<polyline fill=\"none\" stroke=\"black\" points=\"851.75,-83 851.75,-118.5\"/>\n<text xml:space=\"preserve\" text-anchor=\"middle\" x=\"892.38\" y=\"-95.7\" font-family=\"Times New Roman,serif\" font-size=\"14.00\">grad 0.0000</text>\n</g>\n<!-- 2840716888400&#45;&gt;2840716897616+ -->\n<g id=\"edge13\" class=\"edge\">\n<title>2840716888400&#45;&gt;2840716897616+</title>\n<path fill=\"none\" stroke=\"black\" d=\"M930.54,-82.02C940.4,-80.56 949.78,-79.18 958.17,-77.94\"/>\n<polygon fill=\"black\" stroke=\"black\" points=\"958.44,-81.44 967.83,-76.51 957.42,-74.51 958.44,-81.44\"/>\n</g>\n<!-- 2840716888400+&#45;&gt;2840716888400 -->\n<g id=\"edge5\" class=\"edge\">\n<title>2840716888400+&#45;&gt;2840716888400</title>\n<path fill=\"none\" stroke=\"black\" d=\"M640.12,-100.5C647.13,-100.5 655.21,-100.5 663.95,-100.5\"/>\n<polygon fill=\"black\" stroke=\"black\" points=\"663.82,-104 673.82,-100.5 663.82,-97 663.82,-104\"/>\n</g>\n<!-- 2840716943760 -->\n<g id=\"node13\" class=\"node\">\n<title>2840716943760</title>\n<polygon fill=\"none\" stroke=\"black\" points=\"3.75,-55.5 3.75,-91.5 194.25,-91.5 194.25,-55.5 3.75,-55.5\"/>\n<text xml:space=\"preserve\" text-anchor=\"middle\" x=\"18.5\" y=\"-68.7\" font-family=\"Times New Roman,serif\" font-size=\"14.00\">x2</text>\n<polyline fill=\"none\" stroke=\"black\" points=\"33.25,-56 33.25,-91.5\"/>\n<text xml:space=\"preserve\" text-anchor=\"middle\" x=\"73.12\" y=\"-68.7\" font-family=\"Times New Roman,serif\" font-size=\"14.00\">data 0.0000</text>\n<polyline fill=\"none\" stroke=\"black\" points=\"113,-56 113,-91.5\"/>\n<text xml:space=\"preserve\" text-anchor=\"middle\" x=\"153.62\" y=\"-68.7\" font-family=\"Times New Roman,serif\" font-size=\"14.00\">grad 0.0000</text>\n</g>\n<!-- 2840716943760&#45;&gt;2840716951248* -->\n<g id=\"edge10\" class=\"edge\">\n<title>2840716943760&#45;&gt;2840716951248*</title>\n<path fill=\"none\" stroke=\"black\" d=\"M194.46,-73.5C204.21,-73.5 213.66,-73.5 222.21,-73.5\"/>\n<polygon fill=\"black\" stroke=\"black\" points=\"222.12,-77 232.12,-73.5 222.12,-70 222.12,-77\"/>\n</g>\n<!-- 2840716938704 -->\n<g id=\"node14\" class=\"node\">\n<title>2840716938704</title>\n<polygon fill=\"none\" stroke=\"black\" points=\"712.5,-27.5 712.5,-63.5 896.25,-63.5 896.25,-27.5 712.5,-27.5\"/>\n<text xml:space=\"preserve\" text-anchor=\"middle\" x=\"723.88\" y=\"-40.7\" font-family=\"Times New Roman,serif\" font-size=\"14.00\">b</text>\n<polyline fill=\"none\" stroke=\"black\" points=\"735.25,-28 735.25,-63.5\"/>\n<text xml:space=\"preserve\" text-anchor=\"middle\" x=\"775.12\" y=\"-40.7\" font-family=\"Times New Roman,serif\" font-size=\"14.00\">data 6.8814</text>\n<polyline fill=\"none\" stroke=\"black\" points=\"815,-28 815,-63.5\"/>\n<text xml:space=\"preserve\" text-anchor=\"middle\" x=\"855.62\" y=\"-40.7\" font-family=\"Times New Roman,serif\" font-size=\"14.00\">grad 0.0000</text>\n</g>\n<!-- 2840716938704&#45;&gt;2840716897616+ -->\n<g id=\"edge8\" class=\"edge\">\n<title>2840716938704&#45;&gt;2840716897616+</title>\n<path fill=\"none\" stroke=\"black\" d=\"M896.58,-58.49C918.42,-61.6 940.52,-64.74 958.23,-67.26\"/>\n<polygon fill=\"black\" stroke=\"black\" points=\"957.57,-70.71 967.96,-68.65 958.55,-63.78 957.57,-70.71\"/>\n</g>\n<!-- 2840716935568 -->\n<g id=\"node15\" class=\"node\">\n<title>2840716935568</title>\n<polygon fill=\"none\" stroke=\"black\" points=\"2.25,-0.5 2.25,-36.5 195.75,-36.5 195.75,-0.5 2.25,-0.5\"/>\n<text xml:space=\"preserve\" text-anchor=\"middle\" x=\"18.5\" y=\"-13.7\" font-family=\"Times New Roman,serif\" font-size=\"14.00\">w2</text>\n<polyline fill=\"none\" stroke=\"black\" points=\"34.75,-1 34.75,-36.5\"/>\n<text xml:space=\"preserve\" text-anchor=\"middle\" x=\"74.62\" y=\"-13.7\" font-family=\"Times New Roman,serif\" font-size=\"14.00\">data 1.0000</text>\n<polyline fill=\"none\" stroke=\"black\" points=\"114.5,-1 114.5,-36.5\"/>\n<text xml:space=\"preserve\" text-anchor=\"middle\" x=\"155.12\" y=\"-13.7\" font-family=\"Times New Roman,serif\" font-size=\"14.00\">grad 0.0000</text>\n</g>\n<!-- 2840716935568&#45;&gt;2840716951248* -->\n<g id=\"edge7\" class=\"edge\">\n<title>2840716935568&#45;&gt;2840716951248*</title>\n<path fill=\"none\" stroke=\"black\" d=\"M172.12,-36.99C180.9,-39.65 189.7,-42.5 198,-45.5 208.09,-49.14 218.82,-53.73 228.47,-58.12\"/>\n<polygon fill=\"black\" stroke=\"black\" points=\"226.9,-61.25 237.45,-62.31 229.86,-54.91 226.9,-61.25\"/>\n</g>\n</g>\n</svg>\n",
      "text/plain": [
       "<graphviz.graphs.Digraph at 0x2956616c7d0>"
      ]
     },
     "execution_count": 139,
     "metadata": {},
     "output_type": "execute_result"
    }
   ],
   "execution_count": 139
  },
  {
   "metadata": {
    "ExecuteTime": {
     "end_time": "2025-08-24T17:54:26.139663Z",
     "start_time": "2025-08-24T17:54:25.824380Z"
    }
   },
   "cell_type": "code",
   "source": [
    "# n = b + x1w1+x2w2\n",
    "# (do/db) = (do/dn) * (dn/db) \n",
    "# = 0.5 * 1 = 0.5\n",
    "\n",
    "# (do/d(x1w1+x2w2)) = (do/dn) * (dn/d(x1w1+x2w2)) = 0.5 * 1  \n",
    "\n",
    "b.grad = 0.500\n",
    "x1w1x2w2.grad = 0.500\n",
    "\n",
    "x1w1.grad = 0.500\n",
    "x2w2.grad = 0.500\n",
    "\n",
    "draw_dot(o)"
   ],
   "id": "402e5cf8406b09cc",
   "outputs": [
    {
     "data": {
      "image/svg+xml": "<?xml version=\"1.0\" encoding=\"UTF-8\" standalone=\"no\"?>\n<!DOCTYPE svg PUBLIC \"-//W3C//DTD SVG 1.1//EN\"\n \"http://www.w3.org/Graphics/SVG/1.1/DTD/svg11.dtd\">\n<!-- Generated by graphviz version 13.1.2 (20250808.2320)\n -->\n<!-- Pages: 1 -->\n<svg width=\"1561pt\" height=\"210pt\"\n viewBox=\"0.00 0.00 1561.00 210.00\" xmlns=\"http://www.w3.org/2000/svg\" xmlns:xlink=\"http://www.w3.org/1999/xlink\">\n<g id=\"graph0\" class=\"graph\" transform=\"scale(1 1) rotate(0) translate(4 206)\">\n<polygon fill=\"white\" stroke=\"none\" points=\"-4,4 -4,-206 1556.5,-206 1556.5,4 -4,4\"/>\n<!-- 2840716946448 -->\n<g id=\"node1\" class=\"node\">\n<title>2840716946448</title>\n<polygon fill=\"none\" stroke=\"black\" points=\"3.75,-165.5 3.75,-201.5 194.25,-201.5 194.25,-165.5 3.75,-165.5\"/>\n<text xml:space=\"preserve\" text-anchor=\"middle\" x=\"18.5\" y=\"-178.7\" font-family=\"Times New Roman,serif\" font-size=\"14.00\">x1</text>\n<polyline fill=\"none\" stroke=\"black\" points=\"33.25,-166 33.25,-201.5\"/>\n<text xml:space=\"preserve\" text-anchor=\"middle\" x=\"73.12\" y=\"-178.7\" font-family=\"Times New Roman,serif\" font-size=\"14.00\">data 2.0000</text>\n<polyline fill=\"none\" stroke=\"black\" points=\"113,-166 113,-201.5\"/>\n<text xml:space=\"preserve\" text-anchor=\"middle\" x=\"153.62\" y=\"-178.7\" font-family=\"Times New Roman,serif\" font-size=\"14.00\">grad 0.0000</text>\n</g>\n<!-- 2840716937936* -->\n<g id=\"node8\" class=\"node\">\n<title>2840716937936*</title>\n<ellipse fill=\"none\" stroke=\"black\" cx=\"261\" cy=\"-128.5\" rx=\"27\" ry=\"18\"/>\n<text xml:space=\"preserve\" text-anchor=\"middle\" x=\"261\" y=\"-123.45\" font-family=\"Times New Roman,serif\" font-size=\"14.00\">*</text>\n</g>\n<!-- 2840716946448&#45;&gt;2840716937936* -->\n<g id=\"edge6\" class=\"edge\">\n<title>2840716946448&#45;&gt;2840716937936*</title>\n<path fill=\"none\" stroke=\"black\" d=\"M172.12,-165.01C180.9,-162.35 189.7,-159.5 198,-156.5 208.09,-152.86 218.82,-148.27 228.47,-143.88\"/>\n<polygon fill=\"black\" stroke=\"black\" points=\"229.86,-147.09 237.45,-139.69 226.9,-140.75 229.86,-147.09\"/>\n</g>\n<!-- 2840716938256 -->\n<g id=\"node2\" class=\"node\">\n<title>2840716938256</title>\n<polygon fill=\"none\" stroke=\"black\" points=\"0,-110.5 0,-146.5 198,-146.5 198,-110.5 0,-110.5\"/>\n<text xml:space=\"preserve\" text-anchor=\"middle\" x=\"16.25\" y=\"-123.7\" font-family=\"Times New Roman,serif\" font-size=\"14.00\">w1</text>\n<polyline fill=\"none\" stroke=\"black\" points=\"32.5,-111 32.5,-146.5\"/>\n<text xml:space=\"preserve\" text-anchor=\"middle\" x=\"74.62\" y=\"-123.7\" font-family=\"Times New Roman,serif\" font-size=\"14.00\">data &#45;3.0000</text>\n<polyline fill=\"none\" stroke=\"black\" points=\"116.75,-111 116.75,-146.5\"/>\n<text xml:space=\"preserve\" text-anchor=\"middle\" x=\"157.38\" y=\"-123.7\" font-family=\"Times New Roman,serif\" font-size=\"14.00\">grad 0.0000</text>\n</g>\n<!-- 2840716938256&#45;&gt;2840716937936* -->\n<g id=\"edge14\" class=\"edge\">\n<title>2840716938256&#45;&gt;2840716937936*</title>\n<path fill=\"none\" stroke=\"black\" d=\"M198.14,-128.5C206.61,-128.5 214.8,-128.5 222.29,-128.5\"/>\n<polygon fill=\"black\" stroke=\"black\" points=\"222.29,-132 232.29,-128.5 222.29,-125 222.29,-132\"/>\n</g>\n<!-- 2840716951248 -->\n<g id=\"node3\" class=\"node\">\n<title>2840716951248</title>\n<polygon fill=\"none\" stroke=\"black\" points=\"326.25,-55.5 326.25,-91.5 547.5,-91.5 547.5,-55.5 326.25,-55.5\"/>\n<text xml:space=\"preserve\" text-anchor=\"middle\" x=\"356.38\" y=\"-68.7\" font-family=\"Times New Roman,serif\" font-size=\"14.00\">x2 * w2</text>\n<polyline fill=\"none\" stroke=\"black\" points=\"386.5,-56 386.5,-91.5\"/>\n<text xml:space=\"preserve\" text-anchor=\"middle\" x=\"426.38\" y=\"-68.7\" font-family=\"Times New Roman,serif\" font-size=\"14.00\">data 0.0000</text>\n<polyline fill=\"none\" stroke=\"black\" points=\"466.25,-56 466.25,-91.5\"/>\n<text xml:space=\"preserve\" text-anchor=\"middle\" x=\"506.88\" y=\"-68.7\" font-family=\"Times New Roman,serif\" font-size=\"14.00\">grad 0.5000</text>\n</g>\n<!-- 2840716888400+ -->\n<g id=\"node12\" class=\"node\">\n<title>2840716888400+</title>\n<ellipse fill=\"none\" stroke=\"black\" cx=\"612.75\" cy=\"-100.5\" rx=\"27\" ry=\"18\"/>\n<text xml:space=\"preserve\" text-anchor=\"middle\" x=\"612.75\" y=\"-95.45\" font-family=\"Times New Roman,serif\" font-size=\"14.00\">+</text>\n</g>\n<!-- 2840716951248&#45;&gt;2840716888400+ -->\n<g id=\"edge11\" class=\"edge\">\n<title>2840716951248&#45;&gt;2840716888400+</title>\n<path fill=\"none\" stroke=\"black\" d=\"M547.99,-90.6C557.5,-92.08 566.61,-93.49 574.82,-94.77\"/>\n<polygon fill=\"black\" stroke=\"black\" points=\"574.23,-98.22 584.65,-96.29 575.3,-91.3 574.23,-98.22\"/>\n</g>\n<!-- 2840716951248* -->\n<g id=\"node4\" class=\"node\">\n<title>2840716951248*</title>\n<ellipse fill=\"none\" stroke=\"black\" cx=\"261\" cy=\"-73.5\" rx=\"27\" ry=\"18\"/>\n<text xml:space=\"preserve\" text-anchor=\"middle\" x=\"261\" y=\"-68.45\" font-family=\"Times New Roman,serif\" font-size=\"14.00\">*</text>\n</g>\n<!-- 2840716951248*&#45;&gt;2840716951248 -->\n<g id=\"edge1\" class=\"edge\">\n<title>2840716951248*&#45;&gt;2840716951248</title>\n<path fill=\"none\" stroke=\"black\" d=\"M288.41,-73.5C296.06,-73.5 304.94,-73.5 314.49,-73.5\"/>\n<polygon fill=\"black\" stroke=\"black\" points=\"314.46,-77 324.46,-73.5 314.46,-70 314.46,-77\"/>\n</g>\n<!-- 2840716890832 -->\n<g id=\"node5\" class=\"node\">\n<title>2840716890832</title>\n<polygon fill=\"none\" stroke=\"black\" points=\"1368.75,-54.5 1368.75,-90.5 1552.5,-90.5 1552.5,-54.5 1368.75,-54.5\"/>\n<text xml:space=\"preserve\" text-anchor=\"middle\" x=\"1380.12\" y=\"-67.7\" font-family=\"Times New Roman,serif\" font-size=\"14.00\">o</text>\n<polyline fill=\"none\" stroke=\"black\" points=\"1391.5,-55 1391.5,-90.5\"/>\n<text xml:space=\"preserve\" text-anchor=\"middle\" x=\"1431.38\" y=\"-67.7\" font-family=\"Times New Roman,serif\" font-size=\"14.00\">data 0.7071</text>\n<polyline fill=\"none\" stroke=\"black\" points=\"1471.25,-55 1471.25,-90.5\"/>\n<text xml:space=\"preserve\" text-anchor=\"middle\" x=\"1511.88\" y=\"-67.7\" font-family=\"Times New Roman,serif\" font-size=\"14.00\">grad 1.0000</text>\n</g>\n<!-- 2840716890832tanh -->\n<g id=\"node6\" class=\"node\">\n<title>2840716890832tanh</title>\n<ellipse fill=\"none\" stroke=\"black\" cx=\"1305.75\" cy=\"-72.5\" rx=\"27\" ry=\"18\"/>\n<text xml:space=\"preserve\" text-anchor=\"middle\" x=\"1305.75\" y=\"-67.45\" font-family=\"Times New Roman,serif\" font-size=\"14.00\">tanh</text>\n</g>\n<!-- 2840716890832tanh&#45;&gt;2840716890832 -->\n<g id=\"edge2\" class=\"edge\">\n<title>2840716890832tanh&#45;&gt;2840716890832</title>\n<path fill=\"none\" stroke=\"black\" d=\"M1333.03,-72.5C1340.17,-72.5 1348.36,-72.5 1357.07,-72.5\"/>\n<polygon fill=\"black\" stroke=\"black\" points=\"1356.81,-76 1366.81,-72.5 1356.81,-69 1356.81,-76\"/>\n</g>\n<!-- 2840716937936 -->\n<g id=\"node7\" class=\"node\">\n<title>2840716937936</title>\n<polygon fill=\"none\" stroke=\"black\" points=\"324,-110.5 324,-146.5 549.75,-146.5 549.75,-110.5 324,-110.5\"/>\n<text xml:space=\"preserve\" text-anchor=\"middle\" x=\"354.12\" y=\"-123.7\" font-family=\"Times New Roman,serif\" font-size=\"14.00\">x1 * w1</text>\n<polyline fill=\"none\" stroke=\"black\" points=\"384.25,-111 384.25,-146.5\"/>\n<text xml:space=\"preserve\" text-anchor=\"middle\" x=\"426.38\" y=\"-123.7\" font-family=\"Times New Roman,serif\" font-size=\"14.00\">data &#45;6.0000</text>\n<polyline fill=\"none\" stroke=\"black\" points=\"468.5,-111 468.5,-146.5\"/>\n<text xml:space=\"preserve\" text-anchor=\"middle\" x=\"509.12\" y=\"-123.7\" font-family=\"Times New Roman,serif\" font-size=\"14.00\">grad 0.5000</text>\n</g>\n<!-- 2840716937936&#45;&gt;2840716888400+ -->\n<g id=\"edge9\" class=\"edge\">\n<title>2840716937936&#45;&gt;2840716888400+</title>\n<path fill=\"none\" stroke=\"black\" d=\"M549.96,-110.45C558.76,-109.03 567.18,-107.68 574.82,-106.45\"/>\n<polygon fill=\"black\" stroke=\"black\" points=\"575.31,-109.91 584.63,-104.87 574.2,-103 575.31,-109.91\"/>\n</g>\n<!-- 2840716937936*&#45;&gt;2840716937936 -->\n<g id=\"edge3\" class=\"edge\">\n<title>2840716937936*&#45;&gt;2840716937936</title>\n<path fill=\"none\" stroke=\"black\" d=\"M288.41,-128.5C295.49,-128.5 303.63,-128.5 312.38,-128.5\"/>\n<polygon fill=\"black\" stroke=\"black\" points=\"312.24,-132 322.24,-128.5 312.24,-125 312.24,-132\"/>\n</g>\n<!-- 2840716897616 -->\n<g id=\"node9\" class=\"node\">\n<title>2840716897616</title>\n<polygon fill=\"none\" stroke=\"black\" points=\"1059,-54.5 1059,-90.5 1242.75,-90.5 1242.75,-54.5 1059,-54.5\"/>\n<text xml:space=\"preserve\" text-anchor=\"middle\" x=\"1070.38\" y=\"-67.7\" font-family=\"Times New Roman,serif\" font-size=\"14.00\">n</text>\n<polyline fill=\"none\" stroke=\"black\" points=\"1081.75,-55 1081.75,-90.5\"/>\n<text xml:space=\"preserve\" text-anchor=\"middle\" x=\"1121.62\" y=\"-67.7\" font-family=\"Times New Roman,serif\" font-size=\"14.00\">data 0.8814</text>\n<polyline fill=\"none\" stroke=\"black\" points=\"1161.5,-55 1161.5,-90.5\"/>\n<text xml:space=\"preserve\" text-anchor=\"middle\" x=\"1202.12\" y=\"-67.7\" font-family=\"Times New Roman,serif\" font-size=\"14.00\">grad 0.5000</text>\n</g>\n<!-- 2840716897616&#45;&gt;2840716890832tanh -->\n<g id=\"edge12\" class=\"edge\">\n<title>2840716897616&#45;&gt;2840716890832tanh</title>\n<path fill=\"none\" stroke=\"black\" d=\"M1243.01,-72.5C1251.39,-72.5 1259.52,-72.5 1266.98,-72.5\"/>\n<polygon fill=\"black\" stroke=\"black\" points=\"1266.95,-76 1276.95,-72.5 1266.95,-69 1266.95,-76\"/>\n</g>\n<!-- 2840716897616+ -->\n<g id=\"node10\" class=\"node\">\n<title>2840716897616+</title>\n<ellipse fill=\"none\" stroke=\"black\" cx=\"996\" cy=\"-72.5\" rx=\"27\" ry=\"18\"/>\n<text xml:space=\"preserve\" text-anchor=\"middle\" x=\"996\" y=\"-67.45\" font-family=\"Times New Roman,serif\" font-size=\"14.00\">+</text>\n</g>\n<!-- 2840716897616+&#45;&gt;2840716897616 -->\n<g id=\"edge4\" class=\"edge\">\n<title>2840716897616+&#45;&gt;2840716897616</title>\n<path fill=\"none\" stroke=\"black\" d=\"M1023.28,-72.5C1030.42,-72.5 1038.61,-72.5 1047.32,-72.5\"/>\n<polygon fill=\"black\" stroke=\"black\" points=\"1047.06,-76 1057.06,-72.5 1047.06,-69 1047.06,-76\"/>\n</g>\n<!-- 2840716888400 -->\n<g id=\"node11\" class=\"node\">\n<title>2840716888400</title>\n<polygon fill=\"none\" stroke=\"black\" points=\"675.75,-82.5 675.75,-118.5 933,-118.5 933,-82.5 675.75,-82.5\"/>\n<text xml:space=\"preserve\" text-anchor=\"middle\" x=\"721.62\" y=\"-95.7\" font-family=\"Times New Roman,serif\" font-size=\"14.00\">x1w1 + x2w2</text>\n<polyline fill=\"none\" stroke=\"black\" points=\"767.5,-83 767.5,-118.5\"/>\n<text xml:space=\"preserve\" text-anchor=\"middle\" x=\"809.62\" y=\"-95.7\" font-family=\"Times New Roman,serif\" font-size=\"14.00\">data &#45;6.0000</text>\n<polyline fill=\"none\" stroke=\"black\" points=\"851.75,-83 851.75,-118.5\"/>\n<text xml:space=\"preserve\" text-anchor=\"middle\" x=\"892.38\" y=\"-95.7\" font-family=\"Times New Roman,serif\" font-size=\"14.00\">grad 0.5000</text>\n</g>\n<!-- 2840716888400&#45;&gt;2840716897616+ -->\n<g id=\"edge13\" class=\"edge\">\n<title>2840716888400&#45;&gt;2840716897616+</title>\n<path fill=\"none\" stroke=\"black\" d=\"M930.54,-82.02C940.4,-80.56 949.78,-79.18 958.17,-77.94\"/>\n<polygon fill=\"black\" stroke=\"black\" points=\"958.44,-81.44 967.83,-76.51 957.42,-74.51 958.44,-81.44\"/>\n</g>\n<!-- 2840716888400+&#45;&gt;2840716888400 -->\n<g id=\"edge5\" class=\"edge\">\n<title>2840716888400+&#45;&gt;2840716888400</title>\n<path fill=\"none\" stroke=\"black\" d=\"M640.12,-100.5C647.13,-100.5 655.21,-100.5 663.95,-100.5\"/>\n<polygon fill=\"black\" stroke=\"black\" points=\"663.82,-104 673.82,-100.5 663.82,-97 663.82,-104\"/>\n</g>\n<!-- 2840716943760 -->\n<g id=\"node13\" class=\"node\">\n<title>2840716943760</title>\n<polygon fill=\"none\" stroke=\"black\" points=\"3.75,-55.5 3.75,-91.5 194.25,-91.5 194.25,-55.5 3.75,-55.5\"/>\n<text xml:space=\"preserve\" text-anchor=\"middle\" x=\"18.5\" y=\"-68.7\" font-family=\"Times New Roman,serif\" font-size=\"14.00\">x2</text>\n<polyline fill=\"none\" stroke=\"black\" points=\"33.25,-56 33.25,-91.5\"/>\n<text xml:space=\"preserve\" text-anchor=\"middle\" x=\"73.12\" y=\"-68.7\" font-family=\"Times New Roman,serif\" font-size=\"14.00\">data 0.0000</text>\n<polyline fill=\"none\" stroke=\"black\" points=\"113,-56 113,-91.5\"/>\n<text xml:space=\"preserve\" text-anchor=\"middle\" x=\"153.62\" y=\"-68.7\" font-family=\"Times New Roman,serif\" font-size=\"14.00\">grad 0.0000</text>\n</g>\n<!-- 2840716943760&#45;&gt;2840716951248* -->\n<g id=\"edge10\" class=\"edge\">\n<title>2840716943760&#45;&gt;2840716951248*</title>\n<path fill=\"none\" stroke=\"black\" d=\"M194.46,-73.5C204.21,-73.5 213.66,-73.5 222.21,-73.5\"/>\n<polygon fill=\"black\" stroke=\"black\" points=\"222.12,-77 232.12,-73.5 222.12,-70 222.12,-77\"/>\n</g>\n<!-- 2840716938704 -->\n<g id=\"node14\" class=\"node\">\n<title>2840716938704</title>\n<polygon fill=\"none\" stroke=\"black\" points=\"712.5,-27.5 712.5,-63.5 896.25,-63.5 896.25,-27.5 712.5,-27.5\"/>\n<text xml:space=\"preserve\" text-anchor=\"middle\" x=\"723.88\" y=\"-40.7\" font-family=\"Times New Roman,serif\" font-size=\"14.00\">b</text>\n<polyline fill=\"none\" stroke=\"black\" points=\"735.25,-28 735.25,-63.5\"/>\n<text xml:space=\"preserve\" text-anchor=\"middle\" x=\"775.12\" y=\"-40.7\" font-family=\"Times New Roman,serif\" font-size=\"14.00\">data 6.8814</text>\n<polyline fill=\"none\" stroke=\"black\" points=\"815,-28 815,-63.5\"/>\n<text xml:space=\"preserve\" text-anchor=\"middle\" x=\"855.62\" y=\"-40.7\" font-family=\"Times New Roman,serif\" font-size=\"14.00\">grad 0.5000</text>\n</g>\n<!-- 2840716938704&#45;&gt;2840716897616+ -->\n<g id=\"edge8\" class=\"edge\">\n<title>2840716938704&#45;&gt;2840716897616+</title>\n<path fill=\"none\" stroke=\"black\" d=\"M896.58,-58.49C918.42,-61.6 940.52,-64.74 958.23,-67.26\"/>\n<polygon fill=\"black\" stroke=\"black\" points=\"957.57,-70.71 967.96,-68.65 958.55,-63.78 957.57,-70.71\"/>\n</g>\n<!-- 2840716935568 -->\n<g id=\"node15\" class=\"node\">\n<title>2840716935568</title>\n<polygon fill=\"none\" stroke=\"black\" points=\"2.25,-0.5 2.25,-36.5 195.75,-36.5 195.75,-0.5 2.25,-0.5\"/>\n<text xml:space=\"preserve\" text-anchor=\"middle\" x=\"18.5\" y=\"-13.7\" font-family=\"Times New Roman,serif\" font-size=\"14.00\">w2</text>\n<polyline fill=\"none\" stroke=\"black\" points=\"34.75,-1 34.75,-36.5\"/>\n<text xml:space=\"preserve\" text-anchor=\"middle\" x=\"74.62\" y=\"-13.7\" font-family=\"Times New Roman,serif\" font-size=\"14.00\">data 1.0000</text>\n<polyline fill=\"none\" stroke=\"black\" points=\"114.5,-1 114.5,-36.5\"/>\n<text xml:space=\"preserve\" text-anchor=\"middle\" x=\"155.12\" y=\"-13.7\" font-family=\"Times New Roman,serif\" font-size=\"14.00\">grad 0.0000</text>\n</g>\n<!-- 2840716935568&#45;&gt;2840716951248* -->\n<g id=\"edge7\" class=\"edge\">\n<title>2840716935568&#45;&gt;2840716951248*</title>\n<path fill=\"none\" stroke=\"black\" d=\"M172.12,-36.99C180.9,-39.65 189.7,-42.5 198,-45.5 208.09,-49.14 218.82,-53.73 228.47,-58.12\"/>\n<polygon fill=\"black\" stroke=\"black\" points=\"226.9,-61.25 237.45,-62.31 229.86,-54.91 226.9,-61.25\"/>\n</g>\n</g>\n</svg>\n",
      "text/plain": [
       "<graphviz.graphs.Digraph at 0x29567e76d10>"
      ]
     },
     "execution_count": 140,
     "metadata": {},
     "output_type": "execute_result"
    }
   ],
   "execution_count": 140
  },
  {
   "metadata": {
    "ExecuteTime": {
     "end_time": "2025-08-24T17:54:26.602024Z",
     "start_time": "2025-08-24T17:54:26.140668Z"
    }
   },
   "cell_type": "code",
   "source": [
    "\"\"\"\n",
    "\n",
    "x1w1 = x1 * w1\n",
    "\n",
    "(dx1w1/dx1) = w1\n",
    "(dx1w1/dw1) = x1\n",
    "\n",
    "(do/dw1) = (do/dx1w1) * (dx1w1/dw1)\n",
    "(do/dw1) = 0.5 * 2.0\n",
    "(do/dx1) = 0.5 * -3\n",
    "\n",
    "(do/dx2) = 0.5 * 1\n",
    "(do/dw2) =0.5 * 0\n",
    "\n",
    "\n",
    "\"\"\"\n",
    "\n",
    "\n",
    "x1.grad = x1w1.grad * w1.data\n",
    "x2.grad = x2w2.grad * w2.data\n",
    "w1.grad = x1w1.grad * x1.data\n",
    "w2.grad = x2w2.grad * x2.data\n",
    "\n",
    "draw_dot(o)"
   ],
   "id": "e79b097e78a1006a",
   "outputs": [
    {
     "data": {
      "image/svg+xml": "<?xml version=\"1.0\" encoding=\"UTF-8\" standalone=\"no\"?>\n<!DOCTYPE svg PUBLIC \"-//W3C//DTD SVG 1.1//EN\"\n \"http://www.w3.org/Graphics/SVG/1.1/DTD/svg11.dtd\">\n<!-- Generated by graphviz version 13.1.2 (20250808.2320)\n -->\n<!-- Pages: 1 -->\n<svg width=\"1561pt\" height=\"210pt\"\n viewBox=\"0.00 0.00 1561.00 210.00\" xmlns=\"http://www.w3.org/2000/svg\" xmlns:xlink=\"http://www.w3.org/1999/xlink\">\n<g id=\"graph0\" class=\"graph\" transform=\"scale(1 1) rotate(0) translate(4 206)\">\n<polygon fill=\"white\" stroke=\"none\" points=\"-4,4 -4,-206 1556.5,-206 1556.5,4 -4,4\"/>\n<!-- 2840716946448 -->\n<g id=\"node1\" class=\"node\">\n<title>2840716946448</title>\n<polygon fill=\"none\" stroke=\"black\" points=\"1.5,-165.5 1.5,-201.5 196.5,-201.5 196.5,-165.5 1.5,-165.5\"/>\n<text xml:space=\"preserve\" text-anchor=\"middle\" x=\"16.25\" y=\"-178.7\" font-family=\"Times New Roman,serif\" font-size=\"14.00\">x1</text>\n<polyline fill=\"none\" stroke=\"black\" points=\"31,-166 31,-201.5\"/>\n<text xml:space=\"preserve\" text-anchor=\"middle\" x=\"70.88\" y=\"-178.7\" font-family=\"Times New Roman,serif\" font-size=\"14.00\">data 2.0000</text>\n<polyline fill=\"none\" stroke=\"black\" points=\"110.75,-166 110.75,-201.5\"/>\n<text xml:space=\"preserve\" text-anchor=\"middle\" x=\"153.62\" y=\"-178.7\" font-family=\"Times New Roman,serif\" font-size=\"14.00\">grad &#45;1.5000</text>\n</g>\n<!-- 2840716937936* -->\n<g id=\"node8\" class=\"node\">\n<title>2840716937936*</title>\n<ellipse fill=\"none\" stroke=\"black\" cx=\"261\" cy=\"-128.5\" rx=\"27\" ry=\"18\"/>\n<text xml:space=\"preserve\" text-anchor=\"middle\" x=\"261\" y=\"-123.45\" font-family=\"Times New Roman,serif\" font-size=\"14.00\">*</text>\n</g>\n<!-- 2840716946448&#45;&gt;2840716937936* -->\n<g id=\"edge6\" class=\"edge\">\n<title>2840716946448&#45;&gt;2840716937936*</title>\n<path fill=\"none\" stroke=\"black\" d=\"M172.12,-165.01C180.9,-162.35 189.7,-159.5 198,-156.5 208.09,-152.86 218.82,-148.27 228.47,-143.88\"/>\n<polygon fill=\"black\" stroke=\"black\" points=\"229.86,-147.09 237.45,-139.69 226.9,-140.75 229.86,-147.09\"/>\n</g>\n<!-- 2840716938256 -->\n<g id=\"node2\" class=\"node\">\n<title>2840716938256</title>\n<polygon fill=\"none\" stroke=\"black\" points=\"0,-110.5 0,-146.5 198,-146.5 198,-110.5 0,-110.5\"/>\n<text xml:space=\"preserve\" text-anchor=\"middle\" x=\"16.25\" y=\"-123.7\" font-family=\"Times New Roman,serif\" font-size=\"14.00\">w1</text>\n<polyline fill=\"none\" stroke=\"black\" points=\"32.5,-111 32.5,-146.5\"/>\n<text xml:space=\"preserve\" text-anchor=\"middle\" x=\"74.62\" y=\"-123.7\" font-family=\"Times New Roman,serif\" font-size=\"14.00\">data &#45;3.0000</text>\n<polyline fill=\"none\" stroke=\"black\" points=\"116.75,-111 116.75,-146.5\"/>\n<text xml:space=\"preserve\" text-anchor=\"middle\" x=\"157.38\" y=\"-123.7\" font-family=\"Times New Roman,serif\" font-size=\"14.00\">grad 1.0000</text>\n</g>\n<!-- 2840716938256&#45;&gt;2840716937936* -->\n<g id=\"edge14\" class=\"edge\">\n<title>2840716938256&#45;&gt;2840716937936*</title>\n<path fill=\"none\" stroke=\"black\" d=\"M198.14,-128.5C206.61,-128.5 214.8,-128.5 222.29,-128.5\"/>\n<polygon fill=\"black\" stroke=\"black\" points=\"222.29,-132 232.29,-128.5 222.29,-125 222.29,-132\"/>\n</g>\n<!-- 2840716951248 -->\n<g id=\"node3\" class=\"node\">\n<title>2840716951248</title>\n<polygon fill=\"none\" stroke=\"black\" points=\"326.25,-55.5 326.25,-91.5 547.5,-91.5 547.5,-55.5 326.25,-55.5\"/>\n<text xml:space=\"preserve\" text-anchor=\"middle\" x=\"356.38\" y=\"-68.7\" font-family=\"Times New Roman,serif\" font-size=\"14.00\">x2 * w2</text>\n<polyline fill=\"none\" stroke=\"black\" points=\"386.5,-56 386.5,-91.5\"/>\n<text xml:space=\"preserve\" text-anchor=\"middle\" x=\"426.38\" y=\"-68.7\" font-family=\"Times New Roman,serif\" font-size=\"14.00\">data 0.0000</text>\n<polyline fill=\"none\" stroke=\"black\" points=\"466.25,-56 466.25,-91.5\"/>\n<text xml:space=\"preserve\" text-anchor=\"middle\" x=\"506.88\" y=\"-68.7\" font-family=\"Times New Roman,serif\" font-size=\"14.00\">grad 0.5000</text>\n</g>\n<!-- 2840716888400+ -->\n<g id=\"node12\" class=\"node\">\n<title>2840716888400+</title>\n<ellipse fill=\"none\" stroke=\"black\" cx=\"612.75\" cy=\"-100.5\" rx=\"27\" ry=\"18\"/>\n<text xml:space=\"preserve\" text-anchor=\"middle\" x=\"612.75\" y=\"-95.45\" font-family=\"Times New Roman,serif\" font-size=\"14.00\">+</text>\n</g>\n<!-- 2840716951248&#45;&gt;2840716888400+ -->\n<g id=\"edge11\" class=\"edge\">\n<title>2840716951248&#45;&gt;2840716888400+</title>\n<path fill=\"none\" stroke=\"black\" d=\"M547.99,-90.6C557.5,-92.08 566.61,-93.49 574.82,-94.77\"/>\n<polygon fill=\"black\" stroke=\"black\" points=\"574.23,-98.22 584.65,-96.29 575.3,-91.3 574.23,-98.22\"/>\n</g>\n<!-- 2840716951248* -->\n<g id=\"node4\" class=\"node\">\n<title>2840716951248*</title>\n<ellipse fill=\"none\" stroke=\"black\" cx=\"261\" cy=\"-73.5\" rx=\"27\" ry=\"18\"/>\n<text xml:space=\"preserve\" text-anchor=\"middle\" x=\"261\" y=\"-68.45\" font-family=\"Times New Roman,serif\" font-size=\"14.00\">*</text>\n</g>\n<!-- 2840716951248*&#45;&gt;2840716951248 -->\n<g id=\"edge1\" class=\"edge\">\n<title>2840716951248*&#45;&gt;2840716951248</title>\n<path fill=\"none\" stroke=\"black\" d=\"M288.41,-73.5C296.06,-73.5 304.94,-73.5 314.49,-73.5\"/>\n<polygon fill=\"black\" stroke=\"black\" points=\"314.46,-77 324.46,-73.5 314.46,-70 314.46,-77\"/>\n</g>\n<!-- 2840716890832 -->\n<g id=\"node5\" class=\"node\">\n<title>2840716890832</title>\n<polygon fill=\"none\" stroke=\"black\" points=\"1368.75,-54.5 1368.75,-90.5 1552.5,-90.5 1552.5,-54.5 1368.75,-54.5\"/>\n<text xml:space=\"preserve\" text-anchor=\"middle\" x=\"1380.12\" y=\"-67.7\" font-family=\"Times New Roman,serif\" font-size=\"14.00\">o</text>\n<polyline fill=\"none\" stroke=\"black\" points=\"1391.5,-55 1391.5,-90.5\"/>\n<text xml:space=\"preserve\" text-anchor=\"middle\" x=\"1431.38\" y=\"-67.7\" font-family=\"Times New Roman,serif\" font-size=\"14.00\">data 0.7071</text>\n<polyline fill=\"none\" stroke=\"black\" points=\"1471.25,-55 1471.25,-90.5\"/>\n<text xml:space=\"preserve\" text-anchor=\"middle\" x=\"1511.88\" y=\"-67.7\" font-family=\"Times New Roman,serif\" font-size=\"14.00\">grad 1.0000</text>\n</g>\n<!-- 2840716890832tanh -->\n<g id=\"node6\" class=\"node\">\n<title>2840716890832tanh</title>\n<ellipse fill=\"none\" stroke=\"black\" cx=\"1305.75\" cy=\"-72.5\" rx=\"27\" ry=\"18\"/>\n<text xml:space=\"preserve\" text-anchor=\"middle\" x=\"1305.75\" y=\"-67.45\" font-family=\"Times New Roman,serif\" font-size=\"14.00\">tanh</text>\n</g>\n<!-- 2840716890832tanh&#45;&gt;2840716890832 -->\n<g id=\"edge2\" class=\"edge\">\n<title>2840716890832tanh&#45;&gt;2840716890832</title>\n<path fill=\"none\" stroke=\"black\" d=\"M1333.03,-72.5C1340.17,-72.5 1348.36,-72.5 1357.07,-72.5\"/>\n<polygon fill=\"black\" stroke=\"black\" points=\"1356.81,-76 1366.81,-72.5 1356.81,-69 1356.81,-76\"/>\n</g>\n<!-- 2840716937936 -->\n<g id=\"node7\" class=\"node\">\n<title>2840716937936</title>\n<polygon fill=\"none\" stroke=\"black\" points=\"324,-110.5 324,-146.5 549.75,-146.5 549.75,-110.5 324,-110.5\"/>\n<text xml:space=\"preserve\" text-anchor=\"middle\" x=\"354.12\" y=\"-123.7\" font-family=\"Times New Roman,serif\" font-size=\"14.00\">x1 * w1</text>\n<polyline fill=\"none\" stroke=\"black\" points=\"384.25,-111 384.25,-146.5\"/>\n<text xml:space=\"preserve\" text-anchor=\"middle\" x=\"426.38\" y=\"-123.7\" font-family=\"Times New Roman,serif\" font-size=\"14.00\">data &#45;6.0000</text>\n<polyline fill=\"none\" stroke=\"black\" points=\"468.5,-111 468.5,-146.5\"/>\n<text xml:space=\"preserve\" text-anchor=\"middle\" x=\"509.12\" y=\"-123.7\" font-family=\"Times New Roman,serif\" font-size=\"14.00\">grad 0.5000</text>\n</g>\n<!-- 2840716937936&#45;&gt;2840716888400+ -->\n<g id=\"edge9\" class=\"edge\">\n<title>2840716937936&#45;&gt;2840716888400+</title>\n<path fill=\"none\" stroke=\"black\" d=\"M549.96,-110.45C558.76,-109.03 567.18,-107.68 574.82,-106.45\"/>\n<polygon fill=\"black\" stroke=\"black\" points=\"575.31,-109.91 584.63,-104.87 574.2,-103 575.31,-109.91\"/>\n</g>\n<!-- 2840716937936*&#45;&gt;2840716937936 -->\n<g id=\"edge3\" class=\"edge\">\n<title>2840716937936*&#45;&gt;2840716937936</title>\n<path fill=\"none\" stroke=\"black\" d=\"M288.41,-128.5C295.49,-128.5 303.63,-128.5 312.38,-128.5\"/>\n<polygon fill=\"black\" stroke=\"black\" points=\"312.24,-132 322.24,-128.5 312.24,-125 312.24,-132\"/>\n</g>\n<!-- 2840716897616 -->\n<g id=\"node9\" class=\"node\">\n<title>2840716897616</title>\n<polygon fill=\"none\" stroke=\"black\" points=\"1059,-54.5 1059,-90.5 1242.75,-90.5 1242.75,-54.5 1059,-54.5\"/>\n<text xml:space=\"preserve\" text-anchor=\"middle\" x=\"1070.38\" y=\"-67.7\" font-family=\"Times New Roman,serif\" font-size=\"14.00\">n</text>\n<polyline fill=\"none\" stroke=\"black\" points=\"1081.75,-55 1081.75,-90.5\"/>\n<text xml:space=\"preserve\" text-anchor=\"middle\" x=\"1121.62\" y=\"-67.7\" font-family=\"Times New Roman,serif\" font-size=\"14.00\">data 0.8814</text>\n<polyline fill=\"none\" stroke=\"black\" points=\"1161.5,-55 1161.5,-90.5\"/>\n<text xml:space=\"preserve\" text-anchor=\"middle\" x=\"1202.12\" y=\"-67.7\" font-family=\"Times New Roman,serif\" font-size=\"14.00\">grad 0.5000</text>\n</g>\n<!-- 2840716897616&#45;&gt;2840716890832tanh -->\n<g id=\"edge12\" class=\"edge\">\n<title>2840716897616&#45;&gt;2840716890832tanh</title>\n<path fill=\"none\" stroke=\"black\" d=\"M1243.01,-72.5C1251.39,-72.5 1259.52,-72.5 1266.98,-72.5\"/>\n<polygon fill=\"black\" stroke=\"black\" points=\"1266.95,-76 1276.95,-72.5 1266.95,-69 1266.95,-76\"/>\n</g>\n<!-- 2840716897616+ -->\n<g id=\"node10\" class=\"node\">\n<title>2840716897616+</title>\n<ellipse fill=\"none\" stroke=\"black\" cx=\"996\" cy=\"-72.5\" rx=\"27\" ry=\"18\"/>\n<text xml:space=\"preserve\" text-anchor=\"middle\" x=\"996\" y=\"-67.45\" font-family=\"Times New Roman,serif\" font-size=\"14.00\">+</text>\n</g>\n<!-- 2840716897616+&#45;&gt;2840716897616 -->\n<g id=\"edge4\" class=\"edge\">\n<title>2840716897616+&#45;&gt;2840716897616</title>\n<path fill=\"none\" stroke=\"black\" d=\"M1023.28,-72.5C1030.42,-72.5 1038.61,-72.5 1047.32,-72.5\"/>\n<polygon fill=\"black\" stroke=\"black\" points=\"1047.06,-76 1057.06,-72.5 1047.06,-69 1047.06,-76\"/>\n</g>\n<!-- 2840716888400 -->\n<g id=\"node11\" class=\"node\">\n<title>2840716888400</title>\n<polygon fill=\"none\" stroke=\"black\" points=\"675.75,-82.5 675.75,-118.5 933,-118.5 933,-82.5 675.75,-82.5\"/>\n<text xml:space=\"preserve\" text-anchor=\"middle\" x=\"721.62\" y=\"-95.7\" font-family=\"Times New Roman,serif\" font-size=\"14.00\">x1w1 + x2w2</text>\n<polyline fill=\"none\" stroke=\"black\" points=\"767.5,-83 767.5,-118.5\"/>\n<text xml:space=\"preserve\" text-anchor=\"middle\" x=\"809.62\" y=\"-95.7\" font-family=\"Times New Roman,serif\" font-size=\"14.00\">data &#45;6.0000</text>\n<polyline fill=\"none\" stroke=\"black\" points=\"851.75,-83 851.75,-118.5\"/>\n<text xml:space=\"preserve\" text-anchor=\"middle\" x=\"892.38\" y=\"-95.7\" font-family=\"Times New Roman,serif\" font-size=\"14.00\">grad 0.5000</text>\n</g>\n<!-- 2840716888400&#45;&gt;2840716897616+ -->\n<g id=\"edge13\" class=\"edge\">\n<title>2840716888400&#45;&gt;2840716897616+</title>\n<path fill=\"none\" stroke=\"black\" d=\"M930.54,-82.02C940.4,-80.56 949.78,-79.18 958.17,-77.94\"/>\n<polygon fill=\"black\" stroke=\"black\" points=\"958.44,-81.44 967.83,-76.51 957.42,-74.51 958.44,-81.44\"/>\n</g>\n<!-- 2840716888400+&#45;&gt;2840716888400 -->\n<g id=\"edge5\" class=\"edge\">\n<title>2840716888400+&#45;&gt;2840716888400</title>\n<path fill=\"none\" stroke=\"black\" d=\"M640.12,-100.5C647.13,-100.5 655.21,-100.5 663.95,-100.5\"/>\n<polygon fill=\"black\" stroke=\"black\" points=\"663.82,-104 673.82,-100.5 663.82,-97 663.82,-104\"/>\n</g>\n<!-- 2840716943760 -->\n<g id=\"node13\" class=\"node\">\n<title>2840716943760</title>\n<polygon fill=\"none\" stroke=\"black\" points=\"3.75,-55.5 3.75,-91.5 194.25,-91.5 194.25,-55.5 3.75,-55.5\"/>\n<text xml:space=\"preserve\" text-anchor=\"middle\" x=\"18.5\" y=\"-68.7\" font-family=\"Times New Roman,serif\" font-size=\"14.00\">x2</text>\n<polyline fill=\"none\" stroke=\"black\" points=\"33.25,-56 33.25,-91.5\"/>\n<text xml:space=\"preserve\" text-anchor=\"middle\" x=\"73.12\" y=\"-68.7\" font-family=\"Times New Roman,serif\" font-size=\"14.00\">data 0.0000</text>\n<polyline fill=\"none\" stroke=\"black\" points=\"113,-56 113,-91.5\"/>\n<text xml:space=\"preserve\" text-anchor=\"middle\" x=\"153.62\" y=\"-68.7\" font-family=\"Times New Roman,serif\" font-size=\"14.00\">grad 0.5000</text>\n</g>\n<!-- 2840716943760&#45;&gt;2840716951248* -->\n<g id=\"edge10\" class=\"edge\">\n<title>2840716943760&#45;&gt;2840716951248*</title>\n<path fill=\"none\" stroke=\"black\" d=\"M194.46,-73.5C204.21,-73.5 213.66,-73.5 222.21,-73.5\"/>\n<polygon fill=\"black\" stroke=\"black\" points=\"222.12,-77 232.12,-73.5 222.12,-70 222.12,-77\"/>\n</g>\n<!-- 2840716938704 -->\n<g id=\"node14\" class=\"node\">\n<title>2840716938704</title>\n<polygon fill=\"none\" stroke=\"black\" points=\"712.5,-27.5 712.5,-63.5 896.25,-63.5 896.25,-27.5 712.5,-27.5\"/>\n<text xml:space=\"preserve\" text-anchor=\"middle\" x=\"723.88\" y=\"-40.7\" font-family=\"Times New Roman,serif\" font-size=\"14.00\">b</text>\n<polyline fill=\"none\" stroke=\"black\" points=\"735.25,-28 735.25,-63.5\"/>\n<text xml:space=\"preserve\" text-anchor=\"middle\" x=\"775.12\" y=\"-40.7\" font-family=\"Times New Roman,serif\" font-size=\"14.00\">data 6.8814</text>\n<polyline fill=\"none\" stroke=\"black\" points=\"815,-28 815,-63.5\"/>\n<text xml:space=\"preserve\" text-anchor=\"middle\" x=\"855.62\" y=\"-40.7\" font-family=\"Times New Roman,serif\" font-size=\"14.00\">grad 0.5000</text>\n</g>\n<!-- 2840716938704&#45;&gt;2840716897616+ -->\n<g id=\"edge8\" class=\"edge\">\n<title>2840716938704&#45;&gt;2840716897616+</title>\n<path fill=\"none\" stroke=\"black\" d=\"M896.58,-58.49C918.42,-61.6 940.52,-64.74 958.23,-67.26\"/>\n<polygon fill=\"black\" stroke=\"black\" points=\"957.57,-70.71 967.96,-68.65 958.55,-63.78 957.57,-70.71\"/>\n</g>\n<!-- 2840716935568 -->\n<g id=\"node15\" class=\"node\">\n<title>2840716935568</title>\n<polygon fill=\"none\" stroke=\"black\" points=\"2.25,-0.5 2.25,-36.5 195.75,-36.5 195.75,-0.5 2.25,-0.5\"/>\n<text xml:space=\"preserve\" text-anchor=\"middle\" x=\"18.5\" y=\"-13.7\" font-family=\"Times New Roman,serif\" font-size=\"14.00\">w2</text>\n<polyline fill=\"none\" stroke=\"black\" points=\"34.75,-1 34.75,-36.5\"/>\n<text xml:space=\"preserve\" text-anchor=\"middle\" x=\"74.62\" y=\"-13.7\" font-family=\"Times New Roman,serif\" font-size=\"14.00\">data 1.0000</text>\n<polyline fill=\"none\" stroke=\"black\" points=\"114.5,-1 114.5,-36.5\"/>\n<text xml:space=\"preserve\" text-anchor=\"middle\" x=\"155.12\" y=\"-13.7\" font-family=\"Times New Roman,serif\" font-size=\"14.00\">grad 0.0000</text>\n</g>\n<!-- 2840716935568&#45;&gt;2840716951248* -->\n<g id=\"edge7\" class=\"edge\">\n<title>2840716935568&#45;&gt;2840716951248*</title>\n<path fill=\"none\" stroke=\"black\" d=\"M172.12,-36.99C180.9,-39.65 189.7,-42.5 198,-45.5 208.09,-49.14 218.82,-53.73 228.47,-58.12\"/>\n<polygon fill=\"black\" stroke=\"black\" points=\"226.9,-61.25 237.45,-62.31 229.86,-54.91 226.9,-61.25\"/>\n</g>\n</g>\n</svg>\n",
      "text/plain": [
       "<graphviz.graphs.Digraph at 0x295670dac10>"
      ]
     },
     "execution_count": 141,
     "metadata": {},
     "output_type": "execute_result"
    }
   ],
   "execution_count": 141
  },
  {
   "metadata": {},
   "cell_type": "markdown",
   "source": "## Completed manual update of backprogation",
   "id": "2256a4ecd40eba9e"
  },
  {
   "metadata": {},
   "cell_type": "markdown",
   "source": "## Doing Backpropagation directly we are coding the above manual steps automatically to save time and make backpropogation faster",
   "id": "f5abfdc7f47e07f8"
  },
  {
   "metadata": {
    "ExecuteTime": {
     "end_time": "2025-08-24T17:56:41.338808Z",
     "start_time": "2025-08-24T17:56:41.333324Z"
    }
   },
   "cell_type": "code",
   "source": [
    "class Value:\n",
    "\n",
    "  def __init__(self, data, _children=(), _op='', label=''):\n",
    "    self.data = data\n",
    "    self.grad = 0.0  #By default, at initialization we are setting our grad to zero\n",
    "    self._backward = lambda: None\n",
    "    self._prev = set(_children)\n",
    "    self._op = _op\n",
    "    self.label = label\n",
    "\n",
    "  def __repr__(self):\n",
    "    return f\"Value(data={self.data})\"\n",
    "\n",
    "  def __add__(self, other):\n",
    "    out = Value(self.data + other.data, (self, other), '+')\n",
    "    \n",
    "    def _backward():\n",
    "        self.grad = 1.0 * out.grad\n",
    "        other.grad = 1.0 * out.grad\n",
    "    out._backward = _backward\n",
    "    return out\n",
    "\n",
    "  def __mul__(self, other):\n",
    "    out = Value(self.data * other.data, (self, other), '*')\n",
    "    \n",
    "    def _backward():\n",
    "        self.grad = other.grad * out.grad\n",
    "        other.grad = self.data * out.grad\n",
    "    out._backward = _backward\n",
    "    return out\n",
    "  \n",
    "  \n",
    "  def tanh(self):\n",
    "      x = self.data\n",
    "      t = (math.exp(2*x) - 1)/(math.exp(2*x) + 1)\n",
    "      out = Value(t, (self,), 'tanh')\n",
    "      \n",
    "      def _backward():\n",
    "          self.grad = (1- t**2 ) *out.grad\n",
    "      out._backward = _backward\n",
    "      return out"
   ],
   "id": "dc5c37c4452a168b",
   "outputs": [],
   "execution_count": 146
  },
  {
   "metadata": {
    "ExecuteTime": {
     "end_time": "2025-08-24T17:56:53.807545Z",
     "start_time": "2025-08-24T17:56:53.218224Z"
    }
   },
   "cell_type": "code",
   "source": [
    "import math\n",
    "x1 = Value(2.0, label = 'x1')\n",
    "x2 = Value(0.0, label = 'x2')\n",
    "\n",
    "w1 = Value(-3.0, label = 'w1')\n",
    "w2 = Value(1.0, label = 'w2')\n",
    "\n",
    "b = Value(6.88137, label = 'b')\n",
    "\n",
    "x1w1 = x1 * w1; x1w1.label = 'x1 * w1'\n",
    "\n",
    "x2w2 = x2 * w2; x2w2.label = 'x2 * w2'\n",
    "\n",
    "\n",
    "x1w1x2w2 = x1w1 + x2w2; x1w1x2w2.label = 'x1w1 + x2w2'\n",
    "\n",
    "n = x1w1x2w2 + b ; n.label = 'n'\n",
    "\n",
    "o = n.tanh(); o.label = 'o'\n",
    "\n",
    "draw_dot(o)"
   ],
   "id": "7c07967ffee58746",
   "outputs": [
    {
     "data": {
      "image/svg+xml": "<?xml version=\"1.0\" encoding=\"UTF-8\" standalone=\"no\"?>\n<!DOCTYPE svg PUBLIC \"-//W3C//DTD SVG 1.1//EN\"\n \"http://www.w3.org/Graphics/SVG/1.1/DTD/svg11.dtd\">\n<!-- Generated by graphviz version 13.1.2 (20250808.2320)\n -->\n<!-- Pages: 1 -->\n<svg width=\"1561pt\" height=\"210pt\"\n viewBox=\"0.00 0.00 1561.00 210.00\" xmlns=\"http://www.w3.org/2000/svg\" xmlns:xlink=\"http://www.w3.org/1999/xlink\">\n<g id=\"graph0\" class=\"graph\" transform=\"scale(1 1) rotate(0) translate(4 206)\">\n<polygon fill=\"white\" stroke=\"none\" points=\"-4,4 -4,-206 1556.5,-206 1556.5,4 -4,4\"/>\n<!-- 2840716888080 -->\n<g id=\"node1\" class=\"node\">\n<title>2840716888080</title>\n<polygon fill=\"none\" stroke=\"black\" points=\"1368.75,-54.5 1368.75,-90.5 1552.5,-90.5 1552.5,-54.5 1368.75,-54.5\"/>\n<text xml:space=\"preserve\" text-anchor=\"middle\" x=\"1380.12\" y=\"-67.7\" font-family=\"Times New Roman,serif\" font-size=\"14.00\">o</text>\n<polyline fill=\"none\" stroke=\"black\" points=\"1391.5,-55 1391.5,-90.5\"/>\n<text xml:space=\"preserve\" text-anchor=\"middle\" x=\"1431.38\" y=\"-67.7\" font-family=\"Times New Roman,serif\" font-size=\"14.00\">data 0.7071</text>\n<polyline fill=\"none\" stroke=\"black\" points=\"1471.25,-55 1471.25,-90.5\"/>\n<text xml:space=\"preserve\" text-anchor=\"middle\" x=\"1511.88\" y=\"-67.7\" font-family=\"Times New Roman,serif\" font-size=\"14.00\">grad 0.0000</text>\n</g>\n<!-- 2840716888080tanh -->\n<g id=\"node2\" class=\"node\">\n<title>2840716888080tanh</title>\n<ellipse fill=\"none\" stroke=\"black\" cx=\"1305.75\" cy=\"-72.5\" rx=\"27\" ry=\"18\"/>\n<text xml:space=\"preserve\" text-anchor=\"middle\" x=\"1305.75\" y=\"-67.45\" font-family=\"Times New Roman,serif\" font-size=\"14.00\">tanh</text>\n</g>\n<!-- 2840716888080tanh&#45;&gt;2840716888080 -->\n<g id=\"edge1\" class=\"edge\">\n<title>2840716888080tanh&#45;&gt;2840716888080</title>\n<path fill=\"none\" stroke=\"black\" d=\"M1333.03,-72.5C1340.17,-72.5 1348.36,-72.5 1357.07,-72.5\"/>\n<polygon fill=\"black\" stroke=\"black\" points=\"1356.81,-76 1366.81,-72.5 1356.81,-69 1356.81,-76\"/>\n</g>\n<!-- 2840715527184 -->\n<g id=\"node3\" class=\"node\">\n<title>2840715527184</title>\n<polygon fill=\"none\" stroke=\"black\" points=\"3.75,-55.5 3.75,-91.5 194.25,-91.5 194.25,-55.5 3.75,-55.5\"/>\n<text xml:space=\"preserve\" text-anchor=\"middle\" x=\"18.5\" y=\"-68.7\" font-family=\"Times New Roman,serif\" font-size=\"14.00\">x2</text>\n<polyline fill=\"none\" stroke=\"black\" points=\"33.25,-56 33.25,-91.5\"/>\n<text xml:space=\"preserve\" text-anchor=\"middle\" x=\"73.12\" y=\"-68.7\" font-family=\"Times New Roman,serif\" font-size=\"14.00\">data 0.0000</text>\n<polyline fill=\"none\" stroke=\"black\" points=\"113,-56 113,-91.5\"/>\n<text xml:space=\"preserve\" text-anchor=\"middle\" x=\"153.62\" y=\"-68.7\" font-family=\"Times New Roman,serif\" font-size=\"14.00\">grad 0.0000</text>\n</g>\n<!-- 2840715526416* -->\n<g id=\"node13\" class=\"node\">\n<title>2840715526416*</title>\n<ellipse fill=\"none\" stroke=\"black\" cx=\"261\" cy=\"-73.5\" rx=\"27\" ry=\"18\"/>\n<text xml:space=\"preserve\" text-anchor=\"middle\" x=\"261\" y=\"-68.45\" font-family=\"Times New Roman,serif\" font-size=\"14.00\">*</text>\n</g>\n<!-- 2840715527184&#45;&gt;2840715526416* -->\n<g id=\"edge6\" class=\"edge\">\n<title>2840715527184&#45;&gt;2840715526416*</title>\n<path fill=\"none\" stroke=\"black\" d=\"M194.46,-73.5C204.21,-73.5 213.66,-73.5 222.21,-73.5\"/>\n<polygon fill=\"black\" stroke=\"black\" points=\"222.12,-77 232.12,-73.5 222.12,-70 222.12,-77\"/>\n</g>\n<!-- 2840715533456 -->\n<g id=\"node4\" class=\"node\">\n<title>2840715533456</title>\n<polygon fill=\"none\" stroke=\"black\" points=\"324,-110.5 324,-146.5 549.75,-146.5 549.75,-110.5 324,-110.5\"/>\n<text xml:space=\"preserve\" text-anchor=\"middle\" x=\"354.12\" y=\"-123.7\" font-family=\"Times New Roman,serif\" font-size=\"14.00\">x1 * w1</text>\n<polyline fill=\"none\" stroke=\"black\" points=\"384.25,-111 384.25,-146.5\"/>\n<text xml:space=\"preserve\" text-anchor=\"middle\" x=\"426.38\" y=\"-123.7\" font-family=\"Times New Roman,serif\" font-size=\"14.00\">data &#45;6.0000</text>\n<polyline fill=\"none\" stroke=\"black\" points=\"468.5,-111 468.5,-146.5\"/>\n<text xml:space=\"preserve\" text-anchor=\"middle\" x=\"509.12\" y=\"-123.7\" font-family=\"Times New Roman,serif\" font-size=\"14.00\">grad 0.0000</text>\n</g>\n<!-- 2840715537104+ -->\n<g id=\"node9\" class=\"node\">\n<title>2840715537104+</title>\n<ellipse fill=\"none\" stroke=\"black\" cx=\"612.75\" cy=\"-100.5\" rx=\"27\" ry=\"18\"/>\n<text xml:space=\"preserve\" text-anchor=\"middle\" x=\"612.75\" y=\"-95.45\" font-family=\"Times New Roman,serif\" font-size=\"14.00\">+</text>\n</g>\n<!-- 2840715533456&#45;&gt;2840715537104+ -->\n<g id=\"edge11\" class=\"edge\">\n<title>2840715533456&#45;&gt;2840715537104+</title>\n<path fill=\"none\" stroke=\"black\" d=\"M549.96,-110.45C558.76,-109.03 567.18,-107.68 574.82,-106.45\"/>\n<polygon fill=\"black\" stroke=\"black\" points=\"575.31,-109.91 584.63,-104.87 574.2,-103 575.31,-109.91\"/>\n</g>\n<!-- 2840715533456* -->\n<g id=\"node5\" class=\"node\">\n<title>2840715533456*</title>\n<ellipse fill=\"none\" stroke=\"black\" cx=\"261\" cy=\"-128.5\" rx=\"27\" ry=\"18\"/>\n<text xml:space=\"preserve\" text-anchor=\"middle\" x=\"261\" y=\"-123.45\" font-family=\"Times New Roman,serif\" font-size=\"14.00\">*</text>\n</g>\n<!-- 2840715533456*&#45;&gt;2840715533456 -->\n<g id=\"edge2\" class=\"edge\">\n<title>2840715533456*&#45;&gt;2840715533456</title>\n<path fill=\"none\" stroke=\"black\" d=\"M288.41,-128.5C295.49,-128.5 303.63,-128.5 312.38,-128.5\"/>\n<polygon fill=\"black\" stroke=\"black\" points=\"312.24,-132 322.24,-128.5 312.24,-125 312.24,-132\"/>\n</g>\n<!-- 2840715530448 -->\n<g id=\"node6\" class=\"node\">\n<title>2840715530448</title>\n<polygon fill=\"none\" stroke=\"black\" points=\"1059,-54.5 1059,-90.5 1242.75,-90.5 1242.75,-54.5 1059,-54.5\"/>\n<text xml:space=\"preserve\" text-anchor=\"middle\" x=\"1070.38\" y=\"-67.7\" font-family=\"Times New Roman,serif\" font-size=\"14.00\">n</text>\n<polyline fill=\"none\" stroke=\"black\" points=\"1081.75,-55 1081.75,-90.5\"/>\n<text xml:space=\"preserve\" text-anchor=\"middle\" x=\"1121.62\" y=\"-67.7\" font-family=\"Times New Roman,serif\" font-size=\"14.00\">data 0.8814</text>\n<polyline fill=\"none\" stroke=\"black\" points=\"1161.5,-55 1161.5,-90.5\"/>\n<text xml:space=\"preserve\" text-anchor=\"middle\" x=\"1202.12\" y=\"-67.7\" font-family=\"Times New Roman,serif\" font-size=\"14.00\">grad 0.0000</text>\n</g>\n<!-- 2840715530448&#45;&gt;2840716888080tanh -->\n<g id=\"edge12\" class=\"edge\">\n<title>2840715530448&#45;&gt;2840716888080tanh</title>\n<path fill=\"none\" stroke=\"black\" d=\"M1243.01,-72.5C1251.39,-72.5 1259.52,-72.5 1266.98,-72.5\"/>\n<polygon fill=\"black\" stroke=\"black\" points=\"1266.95,-76 1276.95,-72.5 1266.95,-69 1266.95,-76\"/>\n</g>\n<!-- 2840715530448+ -->\n<g id=\"node7\" class=\"node\">\n<title>2840715530448+</title>\n<ellipse fill=\"none\" stroke=\"black\" cx=\"996\" cy=\"-72.5\" rx=\"27\" ry=\"18\"/>\n<text xml:space=\"preserve\" text-anchor=\"middle\" x=\"996\" y=\"-67.45\" font-family=\"Times New Roman,serif\" font-size=\"14.00\">+</text>\n</g>\n<!-- 2840715530448+&#45;&gt;2840715530448 -->\n<g id=\"edge3\" class=\"edge\">\n<title>2840715530448+&#45;&gt;2840715530448</title>\n<path fill=\"none\" stroke=\"black\" d=\"M1023.28,-72.5C1030.42,-72.5 1038.61,-72.5 1047.32,-72.5\"/>\n<polygon fill=\"black\" stroke=\"black\" points=\"1047.06,-76 1057.06,-72.5 1047.06,-69 1047.06,-76\"/>\n</g>\n<!-- 2840715537104 -->\n<g id=\"node8\" class=\"node\">\n<title>2840715537104</title>\n<polygon fill=\"none\" stroke=\"black\" points=\"675.75,-82.5 675.75,-118.5 933,-118.5 933,-82.5 675.75,-82.5\"/>\n<text xml:space=\"preserve\" text-anchor=\"middle\" x=\"721.62\" y=\"-95.7\" font-family=\"Times New Roman,serif\" font-size=\"14.00\">x1w1 + x2w2</text>\n<polyline fill=\"none\" stroke=\"black\" points=\"767.5,-83 767.5,-118.5\"/>\n<text xml:space=\"preserve\" text-anchor=\"middle\" x=\"809.62\" y=\"-95.7\" font-family=\"Times New Roman,serif\" font-size=\"14.00\">data &#45;6.0000</text>\n<polyline fill=\"none\" stroke=\"black\" points=\"851.75,-83 851.75,-118.5\"/>\n<text xml:space=\"preserve\" text-anchor=\"middle\" x=\"892.38\" y=\"-95.7\" font-family=\"Times New Roman,serif\" font-size=\"14.00\">grad 0.0000</text>\n</g>\n<!-- 2840715537104&#45;&gt;2840715530448+ -->\n<g id=\"edge14\" class=\"edge\">\n<title>2840715537104&#45;&gt;2840715530448+</title>\n<path fill=\"none\" stroke=\"black\" d=\"M930.54,-82.02C940.4,-80.56 949.78,-79.18 958.17,-77.94\"/>\n<polygon fill=\"black\" stroke=\"black\" points=\"958.44,-81.44 967.83,-76.51 957.42,-74.51 958.44,-81.44\"/>\n</g>\n<!-- 2840715537104+&#45;&gt;2840715537104 -->\n<g id=\"edge4\" class=\"edge\">\n<title>2840715537104+&#45;&gt;2840715537104</title>\n<path fill=\"none\" stroke=\"black\" d=\"M640.12,-100.5C647.13,-100.5 655.21,-100.5 663.95,-100.5\"/>\n<polygon fill=\"black\" stroke=\"black\" points=\"663.82,-104 673.82,-100.5 663.82,-97 663.82,-104\"/>\n</g>\n<!-- 2840715540176 -->\n<g id=\"node10\" class=\"node\">\n<title>2840715540176</title>\n<polygon fill=\"none\" stroke=\"black\" points=\"712.5,-27.5 712.5,-63.5 896.25,-63.5 896.25,-27.5 712.5,-27.5\"/>\n<text xml:space=\"preserve\" text-anchor=\"middle\" x=\"723.88\" y=\"-40.7\" font-family=\"Times New Roman,serif\" font-size=\"14.00\">b</text>\n<polyline fill=\"none\" stroke=\"black\" points=\"735.25,-28 735.25,-63.5\"/>\n<text xml:space=\"preserve\" text-anchor=\"middle\" x=\"775.12\" y=\"-40.7\" font-family=\"Times New Roman,serif\" font-size=\"14.00\">data 6.8814</text>\n<polyline fill=\"none\" stroke=\"black\" points=\"815,-28 815,-63.5\"/>\n<text xml:space=\"preserve\" text-anchor=\"middle\" x=\"855.62\" y=\"-40.7\" font-family=\"Times New Roman,serif\" font-size=\"14.00\">grad 0.0000</text>\n</g>\n<!-- 2840715540176&#45;&gt;2840715530448+ -->\n<g id=\"edge13\" class=\"edge\">\n<title>2840715540176&#45;&gt;2840715530448+</title>\n<path fill=\"none\" stroke=\"black\" d=\"M896.58,-58.49C918.42,-61.6 940.52,-64.74 958.23,-67.26\"/>\n<polygon fill=\"black\" stroke=\"black\" points=\"957.57,-70.71 967.96,-68.65 958.55,-63.78 957.57,-70.71\"/>\n</g>\n<!-- 2840715534096 -->\n<g id=\"node11\" class=\"node\">\n<title>2840715534096</title>\n<polygon fill=\"none\" stroke=\"black\" points=\"0,-165.5 0,-201.5 198,-201.5 198,-165.5 0,-165.5\"/>\n<text xml:space=\"preserve\" text-anchor=\"middle\" x=\"16.25\" y=\"-178.7\" font-family=\"Times New Roman,serif\" font-size=\"14.00\">w1</text>\n<polyline fill=\"none\" stroke=\"black\" points=\"32.5,-166 32.5,-201.5\"/>\n<text xml:space=\"preserve\" text-anchor=\"middle\" x=\"74.62\" y=\"-178.7\" font-family=\"Times New Roman,serif\" font-size=\"14.00\">data &#45;3.0000</text>\n<polyline fill=\"none\" stroke=\"black\" points=\"116.75,-166 116.75,-201.5\"/>\n<text xml:space=\"preserve\" text-anchor=\"middle\" x=\"157.38\" y=\"-178.7\" font-family=\"Times New Roman,serif\" font-size=\"14.00\">grad 0.0000</text>\n</g>\n<!-- 2840715534096&#45;&gt;2840715533456* -->\n<g id=\"edge7\" class=\"edge\">\n<title>2840715534096&#45;&gt;2840715533456*</title>\n<path fill=\"none\" stroke=\"black\" d=\"M172.12,-165.01C180.9,-162.35 189.7,-159.5 198,-156.5 208.09,-152.86 218.82,-148.27 228.47,-143.88\"/>\n<polygon fill=\"black\" stroke=\"black\" points=\"229.86,-147.09 237.45,-139.69 226.9,-140.75 229.86,-147.09\"/>\n</g>\n<!-- 2840715526416 -->\n<g id=\"node12\" class=\"node\">\n<title>2840715526416</title>\n<polygon fill=\"none\" stroke=\"black\" points=\"326.25,-55.5 326.25,-91.5 547.5,-91.5 547.5,-55.5 326.25,-55.5\"/>\n<text xml:space=\"preserve\" text-anchor=\"middle\" x=\"356.38\" y=\"-68.7\" font-family=\"Times New Roman,serif\" font-size=\"14.00\">x2 * w2</text>\n<polyline fill=\"none\" stroke=\"black\" points=\"386.5,-56 386.5,-91.5\"/>\n<text xml:space=\"preserve\" text-anchor=\"middle\" x=\"426.38\" y=\"-68.7\" font-family=\"Times New Roman,serif\" font-size=\"14.00\">data 0.0000</text>\n<polyline fill=\"none\" stroke=\"black\" points=\"466.25,-56 466.25,-91.5\"/>\n<text xml:space=\"preserve\" text-anchor=\"middle\" x=\"506.88\" y=\"-68.7\" font-family=\"Times New Roman,serif\" font-size=\"14.00\">grad 0.0000</text>\n</g>\n<!-- 2840715526416&#45;&gt;2840715537104+ -->\n<g id=\"edge9\" class=\"edge\">\n<title>2840715526416&#45;&gt;2840715537104+</title>\n<path fill=\"none\" stroke=\"black\" d=\"M547.99,-90.6C557.5,-92.08 566.61,-93.49 574.82,-94.77\"/>\n<polygon fill=\"black\" stroke=\"black\" points=\"574.23,-98.22 584.65,-96.29 575.3,-91.3 574.23,-98.22\"/>\n</g>\n<!-- 2840715526416*&#45;&gt;2840715526416 -->\n<g id=\"edge5\" class=\"edge\">\n<title>2840715526416*&#45;&gt;2840715526416</title>\n<path fill=\"none\" stroke=\"black\" d=\"M288.41,-73.5C296.06,-73.5 304.94,-73.5 314.49,-73.5\"/>\n<polygon fill=\"black\" stroke=\"black\" points=\"314.46,-77 324.46,-73.5 314.46,-70 314.46,-77\"/>\n</g>\n<!-- 2840702110096 -->\n<g id=\"node14\" class=\"node\">\n<title>2840702110096</title>\n<polygon fill=\"none\" stroke=\"black\" points=\"3.75,-110.5 3.75,-146.5 194.25,-146.5 194.25,-110.5 3.75,-110.5\"/>\n<text xml:space=\"preserve\" text-anchor=\"middle\" x=\"18.5\" y=\"-123.7\" font-family=\"Times New Roman,serif\" font-size=\"14.00\">x1</text>\n<polyline fill=\"none\" stroke=\"black\" points=\"33.25,-111 33.25,-146.5\"/>\n<text xml:space=\"preserve\" text-anchor=\"middle\" x=\"73.12\" y=\"-123.7\" font-family=\"Times New Roman,serif\" font-size=\"14.00\">data 2.0000</text>\n<polyline fill=\"none\" stroke=\"black\" points=\"113,-111 113,-146.5\"/>\n<text xml:space=\"preserve\" text-anchor=\"middle\" x=\"153.62\" y=\"-123.7\" font-family=\"Times New Roman,serif\" font-size=\"14.00\">grad 0.0000</text>\n</g>\n<!-- 2840702110096&#45;&gt;2840715533456* -->\n<g id=\"edge10\" class=\"edge\">\n<title>2840702110096&#45;&gt;2840715533456*</title>\n<path fill=\"none\" stroke=\"black\" d=\"M194.46,-128.5C204.21,-128.5 213.66,-128.5 222.21,-128.5\"/>\n<polygon fill=\"black\" stroke=\"black\" points=\"222.12,-132 232.12,-128.5 222.12,-125 222.12,-132\"/>\n</g>\n<!-- 2840715539408 -->\n<g id=\"node15\" class=\"node\">\n<title>2840715539408</title>\n<polygon fill=\"none\" stroke=\"black\" points=\"2.25,-0.5 2.25,-36.5 195.75,-36.5 195.75,-0.5 2.25,-0.5\"/>\n<text xml:space=\"preserve\" text-anchor=\"middle\" x=\"18.5\" y=\"-13.7\" font-family=\"Times New Roman,serif\" font-size=\"14.00\">w2</text>\n<polyline fill=\"none\" stroke=\"black\" points=\"34.75,-1 34.75,-36.5\"/>\n<text xml:space=\"preserve\" text-anchor=\"middle\" x=\"74.62\" y=\"-13.7\" font-family=\"Times New Roman,serif\" font-size=\"14.00\">data 1.0000</text>\n<polyline fill=\"none\" stroke=\"black\" points=\"114.5,-1 114.5,-36.5\"/>\n<text xml:space=\"preserve\" text-anchor=\"middle\" x=\"155.12\" y=\"-13.7\" font-family=\"Times New Roman,serif\" font-size=\"14.00\">grad 0.0000</text>\n</g>\n<!-- 2840715539408&#45;&gt;2840715526416* -->\n<g id=\"edge8\" class=\"edge\">\n<title>2840715539408&#45;&gt;2840715526416*</title>\n<path fill=\"none\" stroke=\"black\" d=\"M172.12,-36.99C180.9,-39.65 189.7,-42.5 198,-45.5 208.09,-49.14 218.82,-53.73 228.47,-58.12\"/>\n<polygon fill=\"black\" stroke=\"black\" points=\"226.9,-61.25 237.45,-62.31 229.86,-54.91 226.9,-61.25\"/>\n</g>\n</g>\n</svg>\n",
      "text/plain": [
       "<graphviz.graphs.Digraph at 0x29567ebdf10>"
      ]
     },
     "execution_count": 151,
     "metadata": {},
     "output_type": "execute_result"
    }
   ],
   "execution_count": 151
  },
  {
   "metadata": {
    "ExecuteTime": {
     "end_time": "2025-08-24T17:56:55.029566Z",
     "start_time": "2025-08-24T17:56:54.384287Z"
    }
   },
   "cell_type": "code",
   "source": [
    "o.grad =1.0\n",
    "draw_dot(o)"
   ],
   "id": "b2a1a155f15dafc2",
   "outputs": [
    {
     "data": {
      "image/svg+xml": "<?xml version=\"1.0\" encoding=\"UTF-8\" standalone=\"no\"?>\n<!DOCTYPE svg PUBLIC \"-//W3C//DTD SVG 1.1//EN\"\n \"http://www.w3.org/Graphics/SVG/1.1/DTD/svg11.dtd\">\n<!-- Generated by graphviz version 13.1.2 (20250808.2320)\n -->\n<!-- Pages: 1 -->\n<svg width=\"1561pt\" height=\"210pt\"\n viewBox=\"0.00 0.00 1561.00 210.00\" xmlns=\"http://www.w3.org/2000/svg\" xmlns:xlink=\"http://www.w3.org/1999/xlink\">\n<g id=\"graph0\" class=\"graph\" transform=\"scale(1 1) rotate(0) translate(4 206)\">\n<polygon fill=\"white\" stroke=\"none\" points=\"-4,4 -4,-206 1556.5,-206 1556.5,4 -4,4\"/>\n<!-- 2840716888080 -->\n<g id=\"node1\" class=\"node\">\n<title>2840716888080</title>\n<polygon fill=\"none\" stroke=\"black\" points=\"1368.75,-54.5 1368.75,-90.5 1552.5,-90.5 1552.5,-54.5 1368.75,-54.5\"/>\n<text xml:space=\"preserve\" text-anchor=\"middle\" x=\"1380.12\" y=\"-67.7\" font-family=\"Times New Roman,serif\" font-size=\"14.00\">o</text>\n<polyline fill=\"none\" stroke=\"black\" points=\"1391.5,-55 1391.5,-90.5\"/>\n<text xml:space=\"preserve\" text-anchor=\"middle\" x=\"1431.38\" y=\"-67.7\" font-family=\"Times New Roman,serif\" font-size=\"14.00\">data 0.7071</text>\n<polyline fill=\"none\" stroke=\"black\" points=\"1471.25,-55 1471.25,-90.5\"/>\n<text xml:space=\"preserve\" text-anchor=\"middle\" x=\"1511.88\" y=\"-67.7\" font-family=\"Times New Roman,serif\" font-size=\"14.00\">grad 1.0000</text>\n</g>\n<!-- 2840716888080tanh -->\n<g id=\"node2\" class=\"node\">\n<title>2840716888080tanh</title>\n<ellipse fill=\"none\" stroke=\"black\" cx=\"1305.75\" cy=\"-72.5\" rx=\"27\" ry=\"18\"/>\n<text xml:space=\"preserve\" text-anchor=\"middle\" x=\"1305.75\" y=\"-67.45\" font-family=\"Times New Roman,serif\" font-size=\"14.00\">tanh</text>\n</g>\n<!-- 2840716888080tanh&#45;&gt;2840716888080 -->\n<g id=\"edge1\" class=\"edge\">\n<title>2840716888080tanh&#45;&gt;2840716888080</title>\n<path fill=\"none\" stroke=\"black\" d=\"M1333.03,-72.5C1340.17,-72.5 1348.36,-72.5 1357.07,-72.5\"/>\n<polygon fill=\"black\" stroke=\"black\" points=\"1356.81,-76 1366.81,-72.5 1356.81,-69 1356.81,-76\"/>\n</g>\n<!-- 2840715527184 -->\n<g id=\"node3\" class=\"node\">\n<title>2840715527184</title>\n<polygon fill=\"none\" stroke=\"black\" points=\"3.75,-55.5 3.75,-91.5 194.25,-91.5 194.25,-55.5 3.75,-55.5\"/>\n<text xml:space=\"preserve\" text-anchor=\"middle\" x=\"18.5\" y=\"-68.7\" font-family=\"Times New Roman,serif\" font-size=\"14.00\">x2</text>\n<polyline fill=\"none\" stroke=\"black\" points=\"33.25,-56 33.25,-91.5\"/>\n<text xml:space=\"preserve\" text-anchor=\"middle\" x=\"73.12\" y=\"-68.7\" font-family=\"Times New Roman,serif\" font-size=\"14.00\">data 0.0000</text>\n<polyline fill=\"none\" stroke=\"black\" points=\"113,-56 113,-91.5\"/>\n<text xml:space=\"preserve\" text-anchor=\"middle\" x=\"153.62\" y=\"-68.7\" font-family=\"Times New Roman,serif\" font-size=\"14.00\">grad 0.0000</text>\n</g>\n<!-- 2840715526416* -->\n<g id=\"node13\" class=\"node\">\n<title>2840715526416*</title>\n<ellipse fill=\"none\" stroke=\"black\" cx=\"261\" cy=\"-73.5\" rx=\"27\" ry=\"18\"/>\n<text xml:space=\"preserve\" text-anchor=\"middle\" x=\"261\" y=\"-68.45\" font-family=\"Times New Roman,serif\" font-size=\"14.00\">*</text>\n</g>\n<!-- 2840715527184&#45;&gt;2840715526416* -->\n<g id=\"edge6\" class=\"edge\">\n<title>2840715527184&#45;&gt;2840715526416*</title>\n<path fill=\"none\" stroke=\"black\" d=\"M194.46,-73.5C204.21,-73.5 213.66,-73.5 222.21,-73.5\"/>\n<polygon fill=\"black\" stroke=\"black\" points=\"222.12,-77 232.12,-73.5 222.12,-70 222.12,-77\"/>\n</g>\n<!-- 2840715533456 -->\n<g id=\"node4\" class=\"node\">\n<title>2840715533456</title>\n<polygon fill=\"none\" stroke=\"black\" points=\"324,-110.5 324,-146.5 549.75,-146.5 549.75,-110.5 324,-110.5\"/>\n<text xml:space=\"preserve\" text-anchor=\"middle\" x=\"354.12\" y=\"-123.7\" font-family=\"Times New Roman,serif\" font-size=\"14.00\">x1 * w1</text>\n<polyline fill=\"none\" stroke=\"black\" points=\"384.25,-111 384.25,-146.5\"/>\n<text xml:space=\"preserve\" text-anchor=\"middle\" x=\"426.38\" y=\"-123.7\" font-family=\"Times New Roman,serif\" font-size=\"14.00\">data &#45;6.0000</text>\n<polyline fill=\"none\" stroke=\"black\" points=\"468.5,-111 468.5,-146.5\"/>\n<text xml:space=\"preserve\" text-anchor=\"middle\" x=\"509.12\" y=\"-123.7\" font-family=\"Times New Roman,serif\" font-size=\"14.00\">grad 0.0000</text>\n</g>\n<!-- 2840715537104+ -->\n<g id=\"node9\" class=\"node\">\n<title>2840715537104+</title>\n<ellipse fill=\"none\" stroke=\"black\" cx=\"612.75\" cy=\"-100.5\" rx=\"27\" ry=\"18\"/>\n<text xml:space=\"preserve\" text-anchor=\"middle\" x=\"612.75\" y=\"-95.45\" font-family=\"Times New Roman,serif\" font-size=\"14.00\">+</text>\n</g>\n<!-- 2840715533456&#45;&gt;2840715537104+ -->\n<g id=\"edge11\" class=\"edge\">\n<title>2840715533456&#45;&gt;2840715537104+</title>\n<path fill=\"none\" stroke=\"black\" d=\"M549.96,-110.45C558.76,-109.03 567.18,-107.68 574.82,-106.45\"/>\n<polygon fill=\"black\" stroke=\"black\" points=\"575.31,-109.91 584.63,-104.87 574.2,-103 575.31,-109.91\"/>\n</g>\n<!-- 2840715533456* -->\n<g id=\"node5\" class=\"node\">\n<title>2840715533456*</title>\n<ellipse fill=\"none\" stroke=\"black\" cx=\"261\" cy=\"-128.5\" rx=\"27\" ry=\"18\"/>\n<text xml:space=\"preserve\" text-anchor=\"middle\" x=\"261\" y=\"-123.45\" font-family=\"Times New Roman,serif\" font-size=\"14.00\">*</text>\n</g>\n<!-- 2840715533456*&#45;&gt;2840715533456 -->\n<g id=\"edge2\" class=\"edge\">\n<title>2840715533456*&#45;&gt;2840715533456</title>\n<path fill=\"none\" stroke=\"black\" d=\"M288.41,-128.5C295.49,-128.5 303.63,-128.5 312.38,-128.5\"/>\n<polygon fill=\"black\" stroke=\"black\" points=\"312.24,-132 322.24,-128.5 312.24,-125 312.24,-132\"/>\n</g>\n<!-- 2840715530448 -->\n<g id=\"node6\" class=\"node\">\n<title>2840715530448</title>\n<polygon fill=\"none\" stroke=\"black\" points=\"1059,-54.5 1059,-90.5 1242.75,-90.5 1242.75,-54.5 1059,-54.5\"/>\n<text xml:space=\"preserve\" text-anchor=\"middle\" x=\"1070.38\" y=\"-67.7\" font-family=\"Times New Roman,serif\" font-size=\"14.00\">n</text>\n<polyline fill=\"none\" stroke=\"black\" points=\"1081.75,-55 1081.75,-90.5\"/>\n<text xml:space=\"preserve\" text-anchor=\"middle\" x=\"1121.62\" y=\"-67.7\" font-family=\"Times New Roman,serif\" font-size=\"14.00\">data 0.8814</text>\n<polyline fill=\"none\" stroke=\"black\" points=\"1161.5,-55 1161.5,-90.5\"/>\n<text xml:space=\"preserve\" text-anchor=\"middle\" x=\"1202.12\" y=\"-67.7\" font-family=\"Times New Roman,serif\" font-size=\"14.00\">grad 0.0000</text>\n</g>\n<!-- 2840715530448&#45;&gt;2840716888080tanh -->\n<g id=\"edge12\" class=\"edge\">\n<title>2840715530448&#45;&gt;2840716888080tanh</title>\n<path fill=\"none\" stroke=\"black\" d=\"M1243.01,-72.5C1251.39,-72.5 1259.52,-72.5 1266.98,-72.5\"/>\n<polygon fill=\"black\" stroke=\"black\" points=\"1266.95,-76 1276.95,-72.5 1266.95,-69 1266.95,-76\"/>\n</g>\n<!-- 2840715530448+ -->\n<g id=\"node7\" class=\"node\">\n<title>2840715530448+</title>\n<ellipse fill=\"none\" stroke=\"black\" cx=\"996\" cy=\"-72.5\" rx=\"27\" ry=\"18\"/>\n<text xml:space=\"preserve\" text-anchor=\"middle\" x=\"996\" y=\"-67.45\" font-family=\"Times New Roman,serif\" font-size=\"14.00\">+</text>\n</g>\n<!-- 2840715530448+&#45;&gt;2840715530448 -->\n<g id=\"edge3\" class=\"edge\">\n<title>2840715530448+&#45;&gt;2840715530448</title>\n<path fill=\"none\" stroke=\"black\" d=\"M1023.28,-72.5C1030.42,-72.5 1038.61,-72.5 1047.32,-72.5\"/>\n<polygon fill=\"black\" stroke=\"black\" points=\"1047.06,-76 1057.06,-72.5 1047.06,-69 1047.06,-76\"/>\n</g>\n<!-- 2840715537104 -->\n<g id=\"node8\" class=\"node\">\n<title>2840715537104</title>\n<polygon fill=\"none\" stroke=\"black\" points=\"675.75,-82.5 675.75,-118.5 933,-118.5 933,-82.5 675.75,-82.5\"/>\n<text xml:space=\"preserve\" text-anchor=\"middle\" x=\"721.62\" y=\"-95.7\" font-family=\"Times New Roman,serif\" font-size=\"14.00\">x1w1 + x2w2</text>\n<polyline fill=\"none\" stroke=\"black\" points=\"767.5,-83 767.5,-118.5\"/>\n<text xml:space=\"preserve\" text-anchor=\"middle\" x=\"809.62\" y=\"-95.7\" font-family=\"Times New Roman,serif\" font-size=\"14.00\">data &#45;6.0000</text>\n<polyline fill=\"none\" stroke=\"black\" points=\"851.75,-83 851.75,-118.5\"/>\n<text xml:space=\"preserve\" text-anchor=\"middle\" x=\"892.38\" y=\"-95.7\" font-family=\"Times New Roman,serif\" font-size=\"14.00\">grad 0.0000</text>\n</g>\n<!-- 2840715537104&#45;&gt;2840715530448+ -->\n<g id=\"edge14\" class=\"edge\">\n<title>2840715537104&#45;&gt;2840715530448+</title>\n<path fill=\"none\" stroke=\"black\" d=\"M930.54,-82.02C940.4,-80.56 949.78,-79.18 958.17,-77.94\"/>\n<polygon fill=\"black\" stroke=\"black\" points=\"958.44,-81.44 967.83,-76.51 957.42,-74.51 958.44,-81.44\"/>\n</g>\n<!-- 2840715537104+&#45;&gt;2840715537104 -->\n<g id=\"edge4\" class=\"edge\">\n<title>2840715537104+&#45;&gt;2840715537104</title>\n<path fill=\"none\" stroke=\"black\" d=\"M640.12,-100.5C647.13,-100.5 655.21,-100.5 663.95,-100.5\"/>\n<polygon fill=\"black\" stroke=\"black\" points=\"663.82,-104 673.82,-100.5 663.82,-97 663.82,-104\"/>\n</g>\n<!-- 2840715540176 -->\n<g id=\"node10\" class=\"node\">\n<title>2840715540176</title>\n<polygon fill=\"none\" stroke=\"black\" points=\"712.5,-27.5 712.5,-63.5 896.25,-63.5 896.25,-27.5 712.5,-27.5\"/>\n<text xml:space=\"preserve\" text-anchor=\"middle\" x=\"723.88\" y=\"-40.7\" font-family=\"Times New Roman,serif\" font-size=\"14.00\">b</text>\n<polyline fill=\"none\" stroke=\"black\" points=\"735.25,-28 735.25,-63.5\"/>\n<text xml:space=\"preserve\" text-anchor=\"middle\" x=\"775.12\" y=\"-40.7\" font-family=\"Times New Roman,serif\" font-size=\"14.00\">data 6.8814</text>\n<polyline fill=\"none\" stroke=\"black\" points=\"815,-28 815,-63.5\"/>\n<text xml:space=\"preserve\" text-anchor=\"middle\" x=\"855.62\" y=\"-40.7\" font-family=\"Times New Roman,serif\" font-size=\"14.00\">grad 0.0000</text>\n</g>\n<!-- 2840715540176&#45;&gt;2840715530448+ -->\n<g id=\"edge13\" class=\"edge\">\n<title>2840715540176&#45;&gt;2840715530448+</title>\n<path fill=\"none\" stroke=\"black\" d=\"M896.58,-58.49C918.42,-61.6 940.52,-64.74 958.23,-67.26\"/>\n<polygon fill=\"black\" stroke=\"black\" points=\"957.57,-70.71 967.96,-68.65 958.55,-63.78 957.57,-70.71\"/>\n</g>\n<!-- 2840715534096 -->\n<g id=\"node11\" class=\"node\">\n<title>2840715534096</title>\n<polygon fill=\"none\" stroke=\"black\" points=\"0,-165.5 0,-201.5 198,-201.5 198,-165.5 0,-165.5\"/>\n<text xml:space=\"preserve\" text-anchor=\"middle\" x=\"16.25\" y=\"-178.7\" font-family=\"Times New Roman,serif\" font-size=\"14.00\">w1</text>\n<polyline fill=\"none\" stroke=\"black\" points=\"32.5,-166 32.5,-201.5\"/>\n<text xml:space=\"preserve\" text-anchor=\"middle\" x=\"74.62\" y=\"-178.7\" font-family=\"Times New Roman,serif\" font-size=\"14.00\">data &#45;3.0000</text>\n<polyline fill=\"none\" stroke=\"black\" points=\"116.75,-166 116.75,-201.5\"/>\n<text xml:space=\"preserve\" text-anchor=\"middle\" x=\"157.38\" y=\"-178.7\" font-family=\"Times New Roman,serif\" font-size=\"14.00\">grad 0.0000</text>\n</g>\n<!-- 2840715534096&#45;&gt;2840715533456* -->\n<g id=\"edge7\" class=\"edge\">\n<title>2840715534096&#45;&gt;2840715533456*</title>\n<path fill=\"none\" stroke=\"black\" d=\"M172.12,-165.01C180.9,-162.35 189.7,-159.5 198,-156.5 208.09,-152.86 218.82,-148.27 228.47,-143.88\"/>\n<polygon fill=\"black\" stroke=\"black\" points=\"229.86,-147.09 237.45,-139.69 226.9,-140.75 229.86,-147.09\"/>\n</g>\n<!-- 2840715526416 -->\n<g id=\"node12\" class=\"node\">\n<title>2840715526416</title>\n<polygon fill=\"none\" stroke=\"black\" points=\"326.25,-55.5 326.25,-91.5 547.5,-91.5 547.5,-55.5 326.25,-55.5\"/>\n<text xml:space=\"preserve\" text-anchor=\"middle\" x=\"356.38\" y=\"-68.7\" font-family=\"Times New Roman,serif\" font-size=\"14.00\">x2 * w2</text>\n<polyline fill=\"none\" stroke=\"black\" points=\"386.5,-56 386.5,-91.5\"/>\n<text xml:space=\"preserve\" text-anchor=\"middle\" x=\"426.38\" y=\"-68.7\" font-family=\"Times New Roman,serif\" font-size=\"14.00\">data 0.0000</text>\n<polyline fill=\"none\" stroke=\"black\" points=\"466.25,-56 466.25,-91.5\"/>\n<text xml:space=\"preserve\" text-anchor=\"middle\" x=\"506.88\" y=\"-68.7\" font-family=\"Times New Roman,serif\" font-size=\"14.00\">grad 0.0000</text>\n</g>\n<!-- 2840715526416&#45;&gt;2840715537104+ -->\n<g id=\"edge9\" class=\"edge\">\n<title>2840715526416&#45;&gt;2840715537104+</title>\n<path fill=\"none\" stroke=\"black\" d=\"M547.99,-90.6C557.5,-92.08 566.61,-93.49 574.82,-94.77\"/>\n<polygon fill=\"black\" stroke=\"black\" points=\"574.23,-98.22 584.65,-96.29 575.3,-91.3 574.23,-98.22\"/>\n</g>\n<!-- 2840715526416*&#45;&gt;2840715526416 -->\n<g id=\"edge5\" class=\"edge\">\n<title>2840715526416*&#45;&gt;2840715526416</title>\n<path fill=\"none\" stroke=\"black\" d=\"M288.41,-73.5C296.06,-73.5 304.94,-73.5 314.49,-73.5\"/>\n<polygon fill=\"black\" stroke=\"black\" points=\"314.46,-77 324.46,-73.5 314.46,-70 314.46,-77\"/>\n</g>\n<!-- 2840702110096 -->\n<g id=\"node14\" class=\"node\">\n<title>2840702110096</title>\n<polygon fill=\"none\" stroke=\"black\" points=\"3.75,-110.5 3.75,-146.5 194.25,-146.5 194.25,-110.5 3.75,-110.5\"/>\n<text xml:space=\"preserve\" text-anchor=\"middle\" x=\"18.5\" y=\"-123.7\" font-family=\"Times New Roman,serif\" font-size=\"14.00\">x1</text>\n<polyline fill=\"none\" stroke=\"black\" points=\"33.25,-111 33.25,-146.5\"/>\n<text xml:space=\"preserve\" text-anchor=\"middle\" x=\"73.12\" y=\"-123.7\" font-family=\"Times New Roman,serif\" font-size=\"14.00\">data 2.0000</text>\n<polyline fill=\"none\" stroke=\"black\" points=\"113,-111 113,-146.5\"/>\n<text xml:space=\"preserve\" text-anchor=\"middle\" x=\"153.62\" y=\"-123.7\" font-family=\"Times New Roman,serif\" font-size=\"14.00\">grad 0.0000</text>\n</g>\n<!-- 2840702110096&#45;&gt;2840715533456* -->\n<g id=\"edge10\" class=\"edge\">\n<title>2840702110096&#45;&gt;2840715533456*</title>\n<path fill=\"none\" stroke=\"black\" d=\"M194.46,-128.5C204.21,-128.5 213.66,-128.5 222.21,-128.5\"/>\n<polygon fill=\"black\" stroke=\"black\" points=\"222.12,-132 232.12,-128.5 222.12,-125 222.12,-132\"/>\n</g>\n<!-- 2840715539408 -->\n<g id=\"node15\" class=\"node\">\n<title>2840715539408</title>\n<polygon fill=\"none\" stroke=\"black\" points=\"2.25,-0.5 2.25,-36.5 195.75,-36.5 195.75,-0.5 2.25,-0.5\"/>\n<text xml:space=\"preserve\" text-anchor=\"middle\" x=\"18.5\" y=\"-13.7\" font-family=\"Times New Roman,serif\" font-size=\"14.00\">w2</text>\n<polyline fill=\"none\" stroke=\"black\" points=\"34.75,-1 34.75,-36.5\"/>\n<text xml:space=\"preserve\" text-anchor=\"middle\" x=\"74.62\" y=\"-13.7\" font-family=\"Times New Roman,serif\" font-size=\"14.00\">data 1.0000</text>\n<polyline fill=\"none\" stroke=\"black\" points=\"114.5,-1 114.5,-36.5\"/>\n<text xml:space=\"preserve\" text-anchor=\"middle\" x=\"155.12\" y=\"-13.7\" font-family=\"Times New Roman,serif\" font-size=\"14.00\">grad 0.0000</text>\n</g>\n<!-- 2840715539408&#45;&gt;2840715526416* -->\n<g id=\"edge8\" class=\"edge\">\n<title>2840715539408&#45;&gt;2840715526416*</title>\n<path fill=\"none\" stroke=\"black\" d=\"M172.12,-36.99C180.9,-39.65 189.7,-42.5 198,-45.5 208.09,-49.14 218.82,-53.73 228.47,-58.12\"/>\n<polygon fill=\"black\" stroke=\"black\" points=\"226.9,-61.25 237.45,-62.31 229.86,-54.91 226.9,-61.25\"/>\n</g>\n</g>\n</svg>\n",
      "text/plain": [
       "<graphviz.graphs.Digraph at 0x29567d88110>"
      ]
     },
     "execution_count": 152,
     "metadata": {},
     "output_type": "execute_result"
    }
   ],
   "execution_count": 152
  },
  {
   "metadata": {
    "ExecuteTime": {
     "end_time": "2025-08-24T17:56:56.596812Z",
     "start_time": "2025-08-24T17:56:56.006467Z"
    }
   },
   "cell_type": "code",
   "source": [
    "o._backward()\n",
    "draw_dot(o)"
   ],
   "id": "20fee1b0efbf6442",
   "outputs": [
    {
     "data": {
      "image/svg+xml": "<?xml version=\"1.0\" encoding=\"UTF-8\" standalone=\"no\"?>\n<!DOCTYPE svg PUBLIC \"-//W3C//DTD SVG 1.1//EN\"\n \"http://www.w3.org/Graphics/SVG/1.1/DTD/svg11.dtd\">\n<!-- Generated by graphviz version 13.1.2 (20250808.2320)\n -->\n<!-- Pages: 1 -->\n<svg width=\"1561pt\" height=\"210pt\"\n viewBox=\"0.00 0.00 1561.00 210.00\" xmlns=\"http://www.w3.org/2000/svg\" xmlns:xlink=\"http://www.w3.org/1999/xlink\">\n<g id=\"graph0\" class=\"graph\" transform=\"scale(1 1) rotate(0) translate(4 206)\">\n<polygon fill=\"white\" stroke=\"none\" points=\"-4,4 -4,-206 1556.5,-206 1556.5,4 -4,4\"/>\n<!-- 2840716888080 -->\n<g id=\"node1\" class=\"node\">\n<title>2840716888080</title>\n<polygon fill=\"none\" stroke=\"black\" points=\"1368.75,-54.5 1368.75,-90.5 1552.5,-90.5 1552.5,-54.5 1368.75,-54.5\"/>\n<text xml:space=\"preserve\" text-anchor=\"middle\" x=\"1380.12\" y=\"-67.7\" font-family=\"Times New Roman,serif\" font-size=\"14.00\">o</text>\n<polyline fill=\"none\" stroke=\"black\" points=\"1391.5,-55 1391.5,-90.5\"/>\n<text xml:space=\"preserve\" text-anchor=\"middle\" x=\"1431.38\" y=\"-67.7\" font-family=\"Times New Roman,serif\" font-size=\"14.00\">data 0.7071</text>\n<polyline fill=\"none\" stroke=\"black\" points=\"1471.25,-55 1471.25,-90.5\"/>\n<text xml:space=\"preserve\" text-anchor=\"middle\" x=\"1511.88\" y=\"-67.7\" font-family=\"Times New Roman,serif\" font-size=\"14.00\">grad 1.0000</text>\n</g>\n<!-- 2840716888080tanh -->\n<g id=\"node2\" class=\"node\">\n<title>2840716888080tanh</title>\n<ellipse fill=\"none\" stroke=\"black\" cx=\"1305.75\" cy=\"-72.5\" rx=\"27\" ry=\"18\"/>\n<text xml:space=\"preserve\" text-anchor=\"middle\" x=\"1305.75\" y=\"-67.45\" font-family=\"Times New Roman,serif\" font-size=\"14.00\">tanh</text>\n</g>\n<!-- 2840716888080tanh&#45;&gt;2840716888080 -->\n<g id=\"edge1\" class=\"edge\">\n<title>2840716888080tanh&#45;&gt;2840716888080</title>\n<path fill=\"none\" stroke=\"black\" d=\"M1333.03,-72.5C1340.17,-72.5 1348.36,-72.5 1357.07,-72.5\"/>\n<polygon fill=\"black\" stroke=\"black\" points=\"1356.81,-76 1366.81,-72.5 1356.81,-69 1356.81,-76\"/>\n</g>\n<!-- 2840715527184 -->\n<g id=\"node3\" class=\"node\">\n<title>2840715527184</title>\n<polygon fill=\"none\" stroke=\"black\" points=\"3.75,-55.5 3.75,-91.5 194.25,-91.5 194.25,-55.5 3.75,-55.5\"/>\n<text xml:space=\"preserve\" text-anchor=\"middle\" x=\"18.5\" y=\"-68.7\" font-family=\"Times New Roman,serif\" font-size=\"14.00\">x2</text>\n<polyline fill=\"none\" stroke=\"black\" points=\"33.25,-56 33.25,-91.5\"/>\n<text xml:space=\"preserve\" text-anchor=\"middle\" x=\"73.12\" y=\"-68.7\" font-family=\"Times New Roman,serif\" font-size=\"14.00\">data 0.0000</text>\n<polyline fill=\"none\" stroke=\"black\" points=\"113,-56 113,-91.5\"/>\n<text xml:space=\"preserve\" text-anchor=\"middle\" x=\"153.62\" y=\"-68.7\" font-family=\"Times New Roman,serif\" font-size=\"14.00\">grad 0.0000</text>\n</g>\n<!-- 2840715526416* -->\n<g id=\"node13\" class=\"node\">\n<title>2840715526416*</title>\n<ellipse fill=\"none\" stroke=\"black\" cx=\"261\" cy=\"-73.5\" rx=\"27\" ry=\"18\"/>\n<text xml:space=\"preserve\" text-anchor=\"middle\" x=\"261\" y=\"-68.45\" font-family=\"Times New Roman,serif\" font-size=\"14.00\">*</text>\n</g>\n<!-- 2840715527184&#45;&gt;2840715526416* -->\n<g id=\"edge6\" class=\"edge\">\n<title>2840715527184&#45;&gt;2840715526416*</title>\n<path fill=\"none\" stroke=\"black\" d=\"M194.46,-73.5C204.21,-73.5 213.66,-73.5 222.21,-73.5\"/>\n<polygon fill=\"black\" stroke=\"black\" points=\"222.12,-77 232.12,-73.5 222.12,-70 222.12,-77\"/>\n</g>\n<!-- 2840715533456 -->\n<g id=\"node4\" class=\"node\">\n<title>2840715533456</title>\n<polygon fill=\"none\" stroke=\"black\" points=\"324,-110.5 324,-146.5 549.75,-146.5 549.75,-110.5 324,-110.5\"/>\n<text xml:space=\"preserve\" text-anchor=\"middle\" x=\"354.12\" y=\"-123.7\" font-family=\"Times New Roman,serif\" font-size=\"14.00\">x1 * w1</text>\n<polyline fill=\"none\" stroke=\"black\" points=\"384.25,-111 384.25,-146.5\"/>\n<text xml:space=\"preserve\" text-anchor=\"middle\" x=\"426.38\" y=\"-123.7\" font-family=\"Times New Roman,serif\" font-size=\"14.00\">data &#45;6.0000</text>\n<polyline fill=\"none\" stroke=\"black\" points=\"468.5,-111 468.5,-146.5\"/>\n<text xml:space=\"preserve\" text-anchor=\"middle\" x=\"509.12\" y=\"-123.7\" font-family=\"Times New Roman,serif\" font-size=\"14.00\">grad 0.0000</text>\n</g>\n<!-- 2840715537104+ -->\n<g id=\"node9\" class=\"node\">\n<title>2840715537104+</title>\n<ellipse fill=\"none\" stroke=\"black\" cx=\"612.75\" cy=\"-100.5\" rx=\"27\" ry=\"18\"/>\n<text xml:space=\"preserve\" text-anchor=\"middle\" x=\"612.75\" y=\"-95.45\" font-family=\"Times New Roman,serif\" font-size=\"14.00\">+</text>\n</g>\n<!-- 2840715533456&#45;&gt;2840715537104+ -->\n<g id=\"edge11\" class=\"edge\">\n<title>2840715533456&#45;&gt;2840715537104+</title>\n<path fill=\"none\" stroke=\"black\" d=\"M549.96,-110.45C558.76,-109.03 567.18,-107.68 574.82,-106.45\"/>\n<polygon fill=\"black\" stroke=\"black\" points=\"575.31,-109.91 584.63,-104.87 574.2,-103 575.31,-109.91\"/>\n</g>\n<!-- 2840715533456* -->\n<g id=\"node5\" class=\"node\">\n<title>2840715533456*</title>\n<ellipse fill=\"none\" stroke=\"black\" cx=\"261\" cy=\"-128.5\" rx=\"27\" ry=\"18\"/>\n<text xml:space=\"preserve\" text-anchor=\"middle\" x=\"261\" y=\"-123.45\" font-family=\"Times New Roman,serif\" font-size=\"14.00\">*</text>\n</g>\n<!-- 2840715533456*&#45;&gt;2840715533456 -->\n<g id=\"edge2\" class=\"edge\">\n<title>2840715533456*&#45;&gt;2840715533456</title>\n<path fill=\"none\" stroke=\"black\" d=\"M288.41,-128.5C295.49,-128.5 303.63,-128.5 312.38,-128.5\"/>\n<polygon fill=\"black\" stroke=\"black\" points=\"312.24,-132 322.24,-128.5 312.24,-125 312.24,-132\"/>\n</g>\n<!-- 2840715530448 -->\n<g id=\"node6\" class=\"node\">\n<title>2840715530448</title>\n<polygon fill=\"none\" stroke=\"black\" points=\"1059,-54.5 1059,-90.5 1242.75,-90.5 1242.75,-54.5 1059,-54.5\"/>\n<text xml:space=\"preserve\" text-anchor=\"middle\" x=\"1070.38\" y=\"-67.7\" font-family=\"Times New Roman,serif\" font-size=\"14.00\">n</text>\n<polyline fill=\"none\" stroke=\"black\" points=\"1081.75,-55 1081.75,-90.5\"/>\n<text xml:space=\"preserve\" text-anchor=\"middle\" x=\"1121.62\" y=\"-67.7\" font-family=\"Times New Roman,serif\" font-size=\"14.00\">data 0.8814</text>\n<polyline fill=\"none\" stroke=\"black\" points=\"1161.5,-55 1161.5,-90.5\"/>\n<text xml:space=\"preserve\" text-anchor=\"middle\" x=\"1202.12\" y=\"-67.7\" font-family=\"Times New Roman,serif\" font-size=\"14.00\">grad 0.5000</text>\n</g>\n<!-- 2840715530448&#45;&gt;2840716888080tanh -->\n<g id=\"edge12\" class=\"edge\">\n<title>2840715530448&#45;&gt;2840716888080tanh</title>\n<path fill=\"none\" stroke=\"black\" d=\"M1243.01,-72.5C1251.39,-72.5 1259.52,-72.5 1266.98,-72.5\"/>\n<polygon fill=\"black\" stroke=\"black\" points=\"1266.95,-76 1276.95,-72.5 1266.95,-69 1266.95,-76\"/>\n</g>\n<!-- 2840715530448+ -->\n<g id=\"node7\" class=\"node\">\n<title>2840715530448+</title>\n<ellipse fill=\"none\" stroke=\"black\" cx=\"996\" cy=\"-72.5\" rx=\"27\" ry=\"18\"/>\n<text xml:space=\"preserve\" text-anchor=\"middle\" x=\"996\" y=\"-67.45\" font-family=\"Times New Roman,serif\" font-size=\"14.00\">+</text>\n</g>\n<!-- 2840715530448+&#45;&gt;2840715530448 -->\n<g id=\"edge3\" class=\"edge\">\n<title>2840715530448+&#45;&gt;2840715530448</title>\n<path fill=\"none\" stroke=\"black\" d=\"M1023.28,-72.5C1030.42,-72.5 1038.61,-72.5 1047.32,-72.5\"/>\n<polygon fill=\"black\" stroke=\"black\" points=\"1047.06,-76 1057.06,-72.5 1047.06,-69 1047.06,-76\"/>\n</g>\n<!-- 2840715537104 -->\n<g id=\"node8\" class=\"node\">\n<title>2840715537104</title>\n<polygon fill=\"none\" stroke=\"black\" points=\"675.75,-82.5 675.75,-118.5 933,-118.5 933,-82.5 675.75,-82.5\"/>\n<text xml:space=\"preserve\" text-anchor=\"middle\" x=\"721.62\" y=\"-95.7\" font-family=\"Times New Roman,serif\" font-size=\"14.00\">x1w1 + x2w2</text>\n<polyline fill=\"none\" stroke=\"black\" points=\"767.5,-83 767.5,-118.5\"/>\n<text xml:space=\"preserve\" text-anchor=\"middle\" x=\"809.62\" y=\"-95.7\" font-family=\"Times New Roman,serif\" font-size=\"14.00\">data &#45;6.0000</text>\n<polyline fill=\"none\" stroke=\"black\" points=\"851.75,-83 851.75,-118.5\"/>\n<text xml:space=\"preserve\" text-anchor=\"middle\" x=\"892.38\" y=\"-95.7\" font-family=\"Times New Roman,serif\" font-size=\"14.00\">grad 0.0000</text>\n</g>\n<!-- 2840715537104&#45;&gt;2840715530448+ -->\n<g id=\"edge14\" class=\"edge\">\n<title>2840715537104&#45;&gt;2840715530448+</title>\n<path fill=\"none\" stroke=\"black\" d=\"M930.54,-82.02C940.4,-80.56 949.78,-79.18 958.17,-77.94\"/>\n<polygon fill=\"black\" stroke=\"black\" points=\"958.44,-81.44 967.83,-76.51 957.42,-74.51 958.44,-81.44\"/>\n</g>\n<!-- 2840715537104+&#45;&gt;2840715537104 -->\n<g id=\"edge4\" class=\"edge\">\n<title>2840715537104+&#45;&gt;2840715537104</title>\n<path fill=\"none\" stroke=\"black\" d=\"M640.12,-100.5C647.13,-100.5 655.21,-100.5 663.95,-100.5\"/>\n<polygon fill=\"black\" stroke=\"black\" points=\"663.82,-104 673.82,-100.5 663.82,-97 663.82,-104\"/>\n</g>\n<!-- 2840715540176 -->\n<g id=\"node10\" class=\"node\">\n<title>2840715540176</title>\n<polygon fill=\"none\" stroke=\"black\" points=\"712.5,-27.5 712.5,-63.5 896.25,-63.5 896.25,-27.5 712.5,-27.5\"/>\n<text xml:space=\"preserve\" text-anchor=\"middle\" x=\"723.88\" y=\"-40.7\" font-family=\"Times New Roman,serif\" font-size=\"14.00\">b</text>\n<polyline fill=\"none\" stroke=\"black\" points=\"735.25,-28 735.25,-63.5\"/>\n<text xml:space=\"preserve\" text-anchor=\"middle\" x=\"775.12\" y=\"-40.7\" font-family=\"Times New Roman,serif\" font-size=\"14.00\">data 6.8814</text>\n<polyline fill=\"none\" stroke=\"black\" points=\"815,-28 815,-63.5\"/>\n<text xml:space=\"preserve\" text-anchor=\"middle\" x=\"855.62\" y=\"-40.7\" font-family=\"Times New Roman,serif\" font-size=\"14.00\">grad 0.0000</text>\n</g>\n<!-- 2840715540176&#45;&gt;2840715530448+ -->\n<g id=\"edge13\" class=\"edge\">\n<title>2840715540176&#45;&gt;2840715530448+</title>\n<path fill=\"none\" stroke=\"black\" d=\"M896.58,-58.49C918.42,-61.6 940.52,-64.74 958.23,-67.26\"/>\n<polygon fill=\"black\" stroke=\"black\" points=\"957.57,-70.71 967.96,-68.65 958.55,-63.78 957.57,-70.71\"/>\n</g>\n<!-- 2840715534096 -->\n<g id=\"node11\" class=\"node\">\n<title>2840715534096</title>\n<polygon fill=\"none\" stroke=\"black\" points=\"0,-165.5 0,-201.5 198,-201.5 198,-165.5 0,-165.5\"/>\n<text xml:space=\"preserve\" text-anchor=\"middle\" x=\"16.25\" y=\"-178.7\" font-family=\"Times New Roman,serif\" font-size=\"14.00\">w1</text>\n<polyline fill=\"none\" stroke=\"black\" points=\"32.5,-166 32.5,-201.5\"/>\n<text xml:space=\"preserve\" text-anchor=\"middle\" x=\"74.62\" y=\"-178.7\" font-family=\"Times New Roman,serif\" font-size=\"14.00\">data &#45;3.0000</text>\n<polyline fill=\"none\" stroke=\"black\" points=\"116.75,-166 116.75,-201.5\"/>\n<text xml:space=\"preserve\" text-anchor=\"middle\" x=\"157.38\" y=\"-178.7\" font-family=\"Times New Roman,serif\" font-size=\"14.00\">grad 0.0000</text>\n</g>\n<!-- 2840715534096&#45;&gt;2840715533456* -->\n<g id=\"edge7\" class=\"edge\">\n<title>2840715534096&#45;&gt;2840715533456*</title>\n<path fill=\"none\" stroke=\"black\" d=\"M172.12,-165.01C180.9,-162.35 189.7,-159.5 198,-156.5 208.09,-152.86 218.82,-148.27 228.47,-143.88\"/>\n<polygon fill=\"black\" stroke=\"black\" points=\"229.86,-147.09 237.45,-139.69 226.9,-140.75 229.86,-147.09\"/>\n</g>\n<!-- 2840715526416 -->\n<g id=\"node12\" class=\"node\">\n<title>2840715526416</title>\n<polygon fill=\"none\" stroke=\"black\" points=\"326.25,-55.5 326.25,-91.5 547.5,-91.5 547.5,-55.5 326.25,-55.5\"/>\n<text xml:space=\"preserve\" text-anchor=\"middle\" x=\"356.38\" y=\"-68.7\" font-family=\"Times New Roman,serif\" font-size=\"14.00\">x2 * w2</text>\n<polyline fill=\"none\" stroke=\"black\" points=\"386.5,-56 386.5,-91.5\"/>\n<text xml:space=\"preserve\" text-anchor=\"middle\" x=\"426.38\" y=\"-68.7\" font-family=\"Times New Roman,serif\" font-size=\"14.00\">data 0.0000</text>\n<polyline fill=\"none\" stroke=\"black\" points=\"466.25,-56 466.25,-91.5\"/>\n<text xml:space=\"preserve\" text-anchor=\"middle\" x=\"506.88\" y=\"-68.7\" font-family=\"Times New Roman,serif\" font-size=\"14.00\">grad 0.0000</text>\n</g>\n<!-- 2840715526416&#45;&gt;2840715537104+ -->\n<g id=\"edge9\" class=\"edge\">\n<title>2840715526416&#45;&gt;2840715537104+</title>\n<path fill=\"none\" stroke=\"black\" d=\"M547.99,-90.6C557.5,-92.08 566.61,-93.49 574.82,-94.77\"/>\n<polygon fill=\"black\" stroke=\"black\" points=\"574.23,-98.22 584.65,-96.29 575.3,-91.3 574.23,-98.22\"/>\n</g>\n<!-- 2840715526416*&#45;&gt;2840715526416 -->\n<g id=\"edge5\" class=\"edge\">\n<title>2840715526416*&#45;&gt;2840715526416</title>\n<path fill=\"none\" stroke=\"black\" d=\"M288.41,-73.5C296.06,-73.5 304.94,-73.5 314.49,-73.5\"/>\n<polygon fill=\"black\" stroke=\"black\" points=\"314.46,-77 324.46,-73.5 314.46,-70 314.46,-77\"/>\n</g>\n<!-- 2840702110096 -->\n<g id=\"node14\" class=\"node\">\n<title>2840702110096</title>\n<polygon fill=\"none\" stroke=\"black\" points=\"3.75,-110.5 3.75,-146.5 194.25,-146.5 194.25,-110.5 3.75,-110.5\"/>\n<text xml:space=\"preserve\" text-anchor=\"middle\" x=\"18.5\" y=\"-123.7\" font-family=\"Times New Roman,serif\" font-size=\"14.00\">x1</text>\n<polyline fill=\"none\" stroke=\"black\" points=\"33.25,-111 33.25,-146.5\"/>\n<text xml:space=\"preserve\" text-anchor=\"middle\" x=\"73.12\" y=\"-123.7\" font-family=\"Times New Roman,serif\" font-size=\"14.00\">data 2.0000</text>\n<polyline fill=\"none\" stroke=\"black\" points=\"113,-111 113,-146.5\"/>\n<text xml:space=\"preserve\" text-anchor=\"middle\" x=\"153.62\" y=\"-123.7\" font-family=\"Times New Roman,serif\" font-size=\"14.00\">grad 0.0000</text>\n</g>\n<!-- 2840702110096&#45;&gt;2840715533456* -->\n<g id=\"edge10\" class=\"edge\">\n<title>2840702110096&#45;&gt;2840715533456*</title>\n<path fill=\"none\" stroke=\"black\" d=\"M194.46,-128.5C204.21,-128.5 213.66,-128.5 222.21,-128.5\"/>\n<polygon fill=\"black\" stroke=\"black\" points=\"222.12,-132 232.12,-128.5 222.12,-125 222.12,-132\"/>\n</g>\n<!-- 2840715539408 -->\n<g id=\"node15\" class=\"node\">\n<title>2840715539408</title>\n<polygon fill=\"none\" stroke=\"black\" points=\"2.25,-0.5 2.25,-36.5 195.75,-36.5 195.75,-0.5 2.25,-0.5\"/>\n<text xml:space=\"preserve\" text-anchor=\"middle\" x=\"18.5\" y=\"-13.7\" font-family=\"Times New Roman,serif\" font-size=\"14.00\">w2</text>\n<polyline fill=\"none\" stroke=\"black\" points=\"34.75,-1 34.75,-36.5\"/>\n<text xml:space=\"preserve\" text-anchor=\"middle\" x=\"74.62\" y=\"-13.7\" font-family=\"Times New Roman,serif\" font-size=\"14.00\">data 1.0000</text>\n<polyline fill=\"none\" stroke=\"black\" points=\"114.5,-1 114.5,-36.5\"/>\n<text xml:space=\"preserve\" text-anchor=\"middle\" x=\"155.12\" y=\"-13.7\" font-family=\"Times New Roman,serif\" font-size=\"14.00\">grad 0.0000</text>\n</g>\n<!-- 2840715539408&#45;&gt;2840715526416* -->\n<g id=\"edge8\" class=\"edge\">\n<title>2840715539408&#45;&gt;2840715526416*</title>\n<path fill=\"none\" stroke=\"black\" d=\"M172.12,-36.99C180.9,-39.65 189.7,-42.5 198,-45.5 208.09,-49.14 218.82,-53.73 228.47,-58.12\"/>\n<polygon fill=\"black\" stroke=\"black\" points=\"226.9,-61.25 237.45,-62.31 229.86,-54.91 226.9,-61.25\"/>\n</g>\n</g>\n</svg>\n",
      "text/plain": [
       "<graphviz.graphs.Digraph at 0x29567d3f4d0>"
      ]
     },
     "execution_count": 153,
     "metadata": {},
     "output_type": "execute_result"
    }
   ],
   "execution_count": 153
  },
  {
   "metadata": {
    "ExecuteTime": {
     "end_time": "2025-08-24T17:57:28.183780Z",
     "start_time": "2025-08-24T17:57:27.208628Z"
    }
   },
   "cell_type": "code",
   "source": [
    "n._backward()\n",
    "draw_dot(o)"
   ],
   "id": "bb3647b1c8227ecc",
   "outputs": [
    {
     "data": {
      "image/svg+xml": "<?xml version=\"1.0\" encoding=\"UTF-8\" standalone=\"no\"?>\n<!DOCTYPE svg PUBLIC \"-//W3C//DTD SVG 1.1//EN\"\n \"http://www.w3.org/Graphics/SVG/1.1/DTD/svg11.dtd\">\n<!-- Generated by graphviz version 13.1.2 (20250808.2320)\n -->\n<!-- Pages: 1 -->\n<svg width=\"1561pt\" height=\"210pt\"\n viewBox=\"0.00 0.00 1561.00 210.00\" xmlns=\"http://www.w3.org/2000/svg\" xmlns:xlink=\"http://www.w3.org/1999/xlink\">\n<g id=\"graph0\" class=\"graph\" transform=\"scale(1 1) rotate(0) translate(4 206)\">\n<polygon fill=\"white\" stroke=\"none\" points=\"-4,4 -4,-206 1556.5,-206 1556.5,4 -4,4\"/>\n<!-- 2840716888080 -->\n<g id=\"node1\" class=\"node\">\n<title>2840716888080</title>\n<polygon fill=\"none\" stroke=\"black\" points=\"1368.75,-54.5 1368.75,-90.5 1552.5,-90.5 1552.5,-54.5 1368.75,-54.5\"/>\n<text xml:space=\"preserve\" text-anchor=\"middle\" x=\"1380.12\" y=\"-67.7\" font-family=\"Times New Roman,serif\" font-size=\"14.00\">o</text>\n<polyline fill=\"none\" stroke=\"black\" points=\"1391.5,-55 1391.5,-90.5\"/>\n<text xml:space=\"preserve\" text-anchor=\"middle\" x=\"1431.38\" y=\"-67.7\" font-family=\"Times New Roman,serif\" font-size=\"14.00\">data 0.7071</text>\n<polyline fill=\"none\" stroke=\"black\" points=\"1471.25,-55 1471.25,-90.5\"/>\n<text xml:space=\"preserve\" text-anchor=\"middle\" x=\"1511.88\" y=\"-67.7\" font-family=\"Times New Roman,serif\" font-size=\"14.00\">grad 1.0000</text>\n</g>\n<!-- 2840716888080tanh -->\n<g id=\"node2\" class=\"node\">\n<title>2840716888080tanh</title>\n<ellipse fill=\"none\" stroke=\"black\" cx=\"1305.75\" cy=\"-72.5\" rx=\"27\" ry=\"18\"/>\n<text xml:space=\"preserve\" text-anchor=\"middle\" x=\"1305.75\" y=\"-67.45\" font-family=\"Times New Roman,serif\" font-size=\"14.00\">tanh</text>\n</g>\n<!-- 2840716888080tanh&#45;&gt;2840716888080 -->\n<g id=\"edge1\" class=\"edge\">\n<title>2840716888080tanh&#45;&gt;2840716888080</title>\n<path fill=\"none\" stroke=\"black\" d=\"M1333.03,-72.5C1340.17,-72.5 1348.36,-72.5 1357.07,-72.5\"/>\n<polygon fill=\"black\" stroke=\"black\" points=\"1356.81,-76 1366.81,-72.5 1356.81,-69 1356.81,-76\"/>\n</g>\n<!-- 2840715527184 -->\n<g id=\"node3\" class=\"node\">\n<title>2840715527184</title>\n<polygon fill=\"none\" stroke=\"black\" points=\"3.75,-55.5 3.75,-91.5 194.25,-91.5 194.25,-55.5 3.75,-55.5\"/>\n<text xml:space=\"preserve\" text-anchor=\"middle\" x=\"18.5\" y=\"-68.7\" font-family=\"Times New Roman,serif\" font-size=\"14.00\">x2</text>\n<polyline fill=\"none\" stroke=\"black\" points=\"33.25,-56 33.25,-91.5\"/>\n<text xml:space=\"preserve\" text-anchor=\"middle\" x=\"73.12\" y=\"-68.7\" font-family=\"Times New Roman,serif\" font-size=\"14.00\">data 0.0000</text>\n<polyline fill=\"none\" stroke=\"black\" points=\"113,-56 113,-91.5\"/>\n<text xml:space=\"preserve\" text-anchor=\"middle\" x=\"153.62\" y=\"-68.7\" font-family=\"Times New Roman,serif\" font-size=\"14.00\">grad 0.0000</text>\n</g>\n<!-- 2840715526416* -->\n<g id=\"node13\" class=\"node\">\n<title>2840715526416*</title>\n<ellipse fill=\"none\" stroke=\"black\" cx=\"261\" cy=\"-73.5\" rx=\"27\" ry=\"18\"/>\n<text xml:space=\"preserve\" text-anchor=\"middle\" x=\"261\" y=\"-68.45\" font-family=\"Times New Roman,serif\" font-size=\"14.00\">*</text>\n</g>\n<!-- 2840715527184&#45;&gt;2840715526416* -->\n<g id=\"edge6\" class=\"edge\">\n<title>2840715527184&#45;&gt;2840715526416*</title>\n<path fill=\"none\" stroke=\"black\" d=\"M194.46,-73.5C204.21,-73.5 213.66,-73.5 222.21,-73.5\"/>\n<polygon fill=\"black\" stroke=\"black\" points=\"222.12,-77 232.12,-73.5 222.12,-70 222.12,-77\"/>\n</g>\n<!-- 2840715533456 -->\n<g id=\"node4\" class=\"node\">\n<title>2840715533456</title>\n<polygon fill=\"none\" stroke=\"black\" points=\"324,-110.5 324,-146.5 549.75,-146.5 549.75,-110.5 324,-110.5\"/>\n<text xml:space=\"preserve\" text-anchor=\"middle\" x=\"354.12\" y=\"-123.7\" font-family=\"Times New Roman,serif\" font-size=\"14.00\">x1 * w1</text>\n<polyline fill=\"none\" stroke=\"black\" points=\"384.25,-111 384.25,-146.5\"/>\n<text xml:space=\"preserve\" text-anchor=\"middle\" x=\"426.38\" y=\"-123.7\" font-family=\"Times New Roman,serif\" font-size=\"14.00\">data &#45;6.0000</text>\n<polyline fill=\"none\" stroke=\"black\" points=\"468.5,-111 468.5,-146.5\"/>\n<text xml:space=\"preserve\" text-anchor=\"middle\" x=\"509.12\" y=\"-123.7\" font-family=\"Times New Roman,serif\" font-size=\"14.00\">grad 0.0000</text>\n</g>\n<!-- 2840715537104+ -->\n<g id=\"node9\" class=\"node\">\n<title>2840715537104+</title>\n<ellipse fill=\"none\" stroke=\"black\" cx=\"612.75\" cy=\"-100.5\" rx=\"27\" ry=\"18\"/>\n<text xml:space=\"preserve\" text-anchor=\"middle\" x=\"612.75\" y=\"-95.45\" font-family=\"Times New Roman,serif\" font-size=\"14.00\">+</text>\n</g>\n<!-- 2840715533456&#45;&gt;2840715537104+ -->\n<g id=\"edge11\" class=\"edge\">\n<title>2840715533456&#45;&gt;2840715537104+</title>\n<path fill=\"none\" stroke=\"black\" d=\"M549.96,-110.45C558.76,-109.03 567.18,-107.68 574.82,-106.45\"/>\n<polygon fill=\"black\" stroke=\"black\" points=\"575.31,-109.91 584.63,-104.87 574.2,-103 575.31,-109.91\"/>\n</g>\n<!-- 2840715533456* -->\n<g id=\"node5\" class=\"node\">\n<title>2840715533456*</title>\n<ellipse fill=\"none\" stroke=\"black\" cx=\"261\" cy=\"-128.5\" rx=\"27\" ry=\"18\"/>\n<text xml:space=\"preserve\" text-anchor=\"middle\" x=\"261\" y=\"-123.45\" font-family=\"Times New Roman,serif\" font-size=\"14.00\">*</text>\n</g>\n<!-- 2840715533456*&#45;&gt;2840715533456 -->\n<g id=\"edge2\" class=\"edge\">\n<title>2840715533456*&#45;&gt;2840715533456</title>\n<path fill=\"none\" stroke=\"black\" d=\"M288.41,-128.5C295.49,-128.5 303.63,-128.5 312.38,-128.5\"/>\n<polygon fill=\"black\" stroke=\"black\" points=\"312.24,-132 322.24,-128.5 312.24,-125 312.24,-132\"/>\n</g>\n<!-- 2840715530448 -->\n<g id=\"node6\" class=\"node\">\n<title>2840715530448</title>\n<polygon fill=\"none\" stroke=\"black\" points=\"1059,-54.5 1059,-90.5 1242.75,-90.5 1242.75,-54.5 1059,-54.5\"/>\n<text xml:space=\"preserve\" text-anchor=\"middle\" x=\"1070.38\" y=\"-67.7\" font-family=\"Times New Roman,serif\" font-size=\"14.00\">n</text>\n<polyline fill=\"none\" stroke=\"black\" points=\"1081.75,-55 1081.75,-90.5\"/>\n<text xml:space=\"preserve\" text-anchor=\"middle\" x=\"1121.62\" y=\"-67.7\" font-family=\"Times New Roman,serif\" font-size=\"14.00\">data 0.8814</text>\n<polyline fill=\"none\" stroke=\"black\" points=\"1161.5,-55 1161.5,-90.5\"/>\n<text xml:space=\"preserve\" text-anchor=\"middle\" x=\"1202.12\" y=\"-67.7\" font-family=\"Times New Roman,serif\" font-size=\"14.00\">grad 0.5000</text>\n</g>\n<!-- 2840715530448&#45;&gt;2840716888080tanh -->\n<g id=\"edge12\" class=\"edge\">\n<title>2840715530448&#45;&gt;2840716888080tanh</title>\n<path fill=\"none\" stroke=\"black\" d=\"M1243.01,-72.5C1251.39,-72.5 1259.52,-72.5 1266.98,-72.5\"/>\n<polygon fill=\"black\" stroke=\"black\" points=\"1266.95,-76 1276.95,-72.5 1266.95,-69 1266.95,-76\"/>\n</g>\n<!-- 2840715530448+ -->\n<g id=\"node7\" class=\"node\">\n<title>2840715530448+</title>\n<ellipse fill=\"none\" stroke=\"black\" cx=\"996\" cy=\"-72.5\" rx=\"27\" ry=\"18\"/>\n<text xml:space=\"preserve\" text-anchor=\"middle\" x=\"996\" y=\"-67.45\" font-family=\"Times New Roman,serif\" font-size=\"14.00\">+</text>\n</g>\n<!-- 2840715530448+&#45;&gt;2840715530448 -->\n<g id=\"edge3\" class=\"edge\">\n<title>2840715530448+&#45;&gt;2840715530448</title>\n<path fill=\"none\" stroke=\"black\" d=\"M1023.28,-72.5C1030.42,-72.5 1038.61,-72.5 1047.32,-72.5\"/>\n<polygon fill=\"black\" stroke=\"black\" points=\"1047.06,-76 1057.06,-72.5 1047.06,-69 1047.06,-76\"/>\n</g>\n<!-- 2840715537104 -->\n<g id=\"node8\" class=\"node\">\n<title>2840715537104</title>\n<polygon fill=\"none\" stroke=\"black\" points=\"675.75,-82.5 675.75,-118.5 933,-118.5 933,-82.5 675.75,-82.5\"/>\n<text xml:space=\"preserve\" text-anchor=\"middle\" x=\"721.62\" y=\"-95.7\" font-family=\"Times New Roman,serif\" font-size=\"14.00\">x1w1 + x2w2</text>\n<polyline fill=\"none\" stroke=\"black\" points=\"767.5,-83 767.5,-118.5\"/>\n<text xml:space=\"preserve\" text-anchor=\"middle\" x=\"809.62\" y=\"-95.7\" font-family=\"Times New Roman,serif\" font-size=\"14.00\">data &#45;6.0000</text>\n<polyline fill=\"none\" stroke=\"black\" points=\"851.75,-83 851.75,-118.5\"/>\n<text xml:space=\"preserve\" text-anchor=\"middle\" x=\"892.38\" y=\"-95.7\" font-family=\"Times New Roman,serif\" font-size=\"14.00\">grad 0.5000</text>\n</g>\n<!-- 2840715537104&#45;&gt;2840715530448+ -->\n<g id=\"edge14\" class=\"edge\">\n<title>2840715537104&#45;&gt;2840715530448+</title>\n<path fill=\"none\" stroke=\"black\" d=\"M930.54,-82.02C940.4,-80.56 949.78,-79.18 958.17,-77.94\"/>\n<polygon fill=\"black\" stroke=\"black\" points=\"958.44,-81.44 967.83,-76.51 957.42,-74.51 958.44,-81.44\"/>\n</g>\n<!-- 2840715537104+&#45;&gt;2840715537104 -->\n<g id=\"edge4\" class=\"edge\">\n<title>2840715537104+&#45;&gt;2840715537104</title>\n<path fill=\"none\" stroke=\"black\" d=\"M640.12,-100.5C647.13,-100.5 655.21,-100.5 663.95,-100.5\"/>\n<polygon fill=\"black\" stroke=\"black\" points=\"663.82,-104 673.82,-100.5 663.82,-97 663.82,-104\"/>\n</g>\n<!-- 2840715540176 -->\n<g id=\"node10\" class=\"node\">\n<title>2840715540176</title>\n<polygon fill=\"none\" stroke=\"black\" points=\"712.5,-27.5 712.5,-63.5 896.25,-63.5 896.25,-27.5 712.5,-27.5\"/>\n<text xml:space=\"preserve\" text-anchor=\"middle\" x=\"723.88\" y=\"-40.7\" font-family=\"Times New Roman,serif\" font-size=\"14.00\">b</text>\n<polyline fill=\"none\" stroke=\"black\" points=\"735.25,-28 735.25,-63.5\"/>\n<text xml:space=\"preserve\" text-anchor=\"middle\" x=\"775.12\" y=\"-40.7\" font-family=\"Times New Roman,serif\" font-size=\"14.00\">data 6.8814</text>\n<polyline fill=\"none\" stroke=\"black\" points=\"815,-28 815,-63.5\"/>\n<text xml:space=\"preserve\" text-anchor=\"middle\" x=\"855.62\" y=\"-40.7\" font-family=\"Times New Roman,serif\" font-size=\"14.00\">grad 0.5000</text>\n</g>\n<!-- 2840715540176&#45;&gt;2840715530448+ -->\n<g id=\"edge13\" class=\"edge\">\n<title>2840715540176&#45;&gt;2840715530448+</title>\n<path fill=\"none\" stroke=\"black\" d=\"M896.58,-58.49C918.42,-61.6 940.52,-64.74 958.23,-67.26\"/>\n<polygon fill=\"black\" stroke=\"black\" points=\"957.57,-70.71 967.96,-68.65 958.55,-63.78 957.57,-70.71\"/>\n</g>\n<!-- 2840715534096 -->\n<g id=\"node11\" class=\"node\">\n<title>2840715534096</title>\n<polygon fill=\"none\" stroke=\"black\" points=\"0,-165.5 0,-201.5 198,-201.5 198,-165.5 0,-165.5\"/>\n<text xml:space=\"preserve\" text-anchor=\"middle\" x=\"16.25\" y=\"-178.7\" font-family=\"Times New Roman,serif\" font-size=\"14.00\">w1</text>\n<polyline fill=\"none\" stroke=\"black\" points=\"32.5,-166 32.5,-201.5\"/>\n<text xml:space=\"preserve\" text-anchor=\"middle\" x=\"74.62\" y=\"-178.7\" font-family=\"Times New Roman,serif\" font-size=\"14.00\">data &#45;3.0000</text>\n<polyline fill=\"none\" stroke=\"black\" points=\"116.75,-166 116.75,-201.5\"/>\n<text xml:space=\"preserve\" text-anchor=\"middle\" x=\"157.38\" y=\"-178.7\" font-family=\"Times New Roman,serif\" font-size=\"14.00\">grad 0.0000</text>\n</g>\n<!-- 2840715534096&#45;&gt;2840715533456* -->\n<g id=\"edge7\" class=\"edge\">\n<title>2840715534096&#45;&gt;2840715533456*</title>\n<path fill=\"none\" stroke=\"black\" d=\"M172.12,-165.01C180.9,-162.35 189.7,-159.5 198,-156.5 208.09,-152.86 218.82,-148.27 228.47,-143.88\"/>\n<polygon fill=\"black\" stroke=\"black\" points=\"229.86,-147.09 237.45,-139.69 226.9,-140.75 229.86,-147.09\"/>\n</g>\n<!-- 2840715526416 -->\n<g id=\"node12\" class=\"node\">\n<title>2840715526416</title>\n<polygon fill=\"none\" stroke=\"black\" points=\"326.25,-55.5 326.25,-91.5 547.5,-91.5 547.5,-55.5 326.25,-55.5\"/>\n<text xml:space=\"preserve\" text-anchor=\"middle\" x=\"356.38\" y=\"-68.7\" font-family=\"Times New Roman,serif\" font-size=\"14.00\">x2 * w2</text>\n<polyline fill=\"none\" stroke=\"black\" points=\"386.5,-56 386.5,-91.5\"/>\n<text xml:space=\"preserve\" text-anchor=\"middle\" x=\"426.38\" y=\"-68.7\" font-family=\"Times New Roman,serif\" font-size=\"14.00\">data 0.0000</text>\n<polyline fill=\"none\" stroke=\"black\" points=\"466.25,-56 466.25,-91.5\"/>\n<text xml:space=\"preserve\" text-anchor=\"middle\" x=\"506.88\" y=\"-68.7\" font-family=\"Times New Roman,serif\" font-size=\"14.00\">grad 0.0000</text>\n</g>\n<!-- 2840715526416&#45;&gt;2840715537104+ -->\n<g id=\"edge9\" class=\"edge\">\n<title>2840715526416&#45;&gt;2840715537104+</title>\n<path fill=\"none\" stroke=\"black\" d=\"M547.99,-90.6C557.5,-92.08 566.61,-93.49 574.82,-94.77\"/>\n<polygon fill=\"black\" stroke=\"black\" points=\"574.23,-98.22 584.65,-96.29 575.3,-91.3 574.23,-98.22\"/>\n</g>\n<!-- 2840715526416*&#45;&gt;2840715526416 -->\n<g id=\"edge5\" class=\"edge\">\n<title>2840715526416*&#45;&gt;2840715526416</title>\n<path fill=\"none\" stroke=\"black\" d=\"M288.41,-73.5C296.06,-73.5 304.94,-73.5 314.49,-73.5\"/>\n<polygon fill=\"black\" stroke=\"black\" points=\"314.46,-77 324.46,-73.5 314.46,-70 314.46,-77\"/>\n</g>\n<!-- 2840702110096 -->\n<g id=\"node14\" class=\"node\">\n<title>2840702110096</title>\n<polygon fill=\"none\" stroke=\"black\" points=\"3.75,-110.5 3.75,-146.5 194.25,-146.5 194.25,-110.5 3.75,-110.5\"/>\n<text xml:space=\"preserve\" text-anchor=\"middle\" x=\"18.5\" y=\"-123.7\" font-family=\"Times New Roman,serif\" font-size=\"14.00\">x1</text>\n<polyline fill=\"none\" stroke=\"black\" points=\"33.25,-111 33.25,-146.5\"/>\n<text xml:space=\"preserve\" text-anchor=\"middle\" x=\"73.12\" y=\"-123.7\" font-family=\"Times New Roman,serif\" font-size=\"14.00\">data 2.0000</text>\n<polyline fill=\"none\" stroke=\"black\" points=\"113,-111 113,-146.5\"/>\n<text xml:space=\"preserve\" text-anchor=\"middle\" x=\"153.62\" y=\"-123.7\" font-family=\"Times New Roman,serif\" font-size=\"14.00\">grad 0.0000</text>\n</g>\n<!-- 2840702110096&#45;&gt;2840715533456* -->\n<g id=\"edge10\" class=\"edge\">\n<title>2840702110096&#45;&gt;2840715533456*</title>\n<path fill=\"none\" stroke=\"black\" d=\"M194.46,-128.5C204.21,-128.5 213.66,-128.5 222.21,-128.5\"/>\n<polygon fill=\"black\" stroke=\"black\" points=\"222.12,-132 232.12,-128.5 222.12,-125 222.12,-132\"/>\n</g>\n<!-- 2840715539408 -->\n<g id=\"node15\" class=\"node\">\n<title>2840715539408</title>\n<polygon fill=\"none\" stroke=\"black\" points=\"2.25,-0.5 2.25,-36.5 195.75,-36.5 195.75,-0.5 2.25,-0.5\"/>\n<text xml:space=\"preserve\" text-anchor=\"middle\" x=\"18.5\" y=\"-13.7\" font-family=\"Times New Roman,serif\" font-size=\"14.00\">w2</text>\n<polyline fill=\"none\" stroke=\"black\" points=\"34.75,-1 34.75,-36.5\"/>\n<text xml:space=\"preserve\" text-anchor=\"middle\" x=\"74.62\" y=\"-13.7\" font-family=\"Times New Roman,serif\" font-size=\"14.00\">data 1.0000</text>\n<polyline fill=\"none\" stroke=\"black\" points=\"114.5,-1 114.5,-36.5\"/>\n<text xml:space=\"preserve\" text-anchor=\"middle\" x=\"155.12\" y=\"-13.7\" font-family=\"Times New Roman,serif\" font-size=\"14.00\">grad 0.0000</text>\n</g>\n<!-- 2840715539408&#45;&gt;2840715526416* -->\n<g id=\"edge8\" class=\"edge\">\n<title>2840715539408&#45;&gt;2840715526416*</title>\n<path fill=\"none\" stroke=\"black\" d=\"M172.12,-36.99C180.9,-39.65 189.7,-42.5 198,-45.5 208.09,-49.14 218.82,-53.73 228.47,-58.12\"/>\n<polygon fill=\"black\" stroke=\"black\" points=\"226.9,-61.25 237.45,-62.31 229.86,-54.91 226.9,-61.25\"/>\n</g>\n</g>\n</svg>\n",
      "text/plain": [
       "<graphviz.graphs.Digraph at 0x29567d88190>"
      ]
     },
     "execution_count": 155,
     "metadata": {},
     "output_type": "execute_result"
    }
   ],
   "execution_count": 155
  },
  {
   "metadata": {
    "ExecuteTime": {
     "end_time": "2025-08-24T17:58:01.835230Z",
     "start_time": "2025-08-24T17:58:00.932854Z"
    }
   },
   "cell_type": "code",
   "source": [
    "b._backward()\n",
    "draw_dot(o)"
   ],
   "id": "9dd8ac26694d4d38",
   "outputs": [
    {
     "data": {
      "image/svg+xml": "<?xml version=\"1.0\" encoding=\"UTF-8\" standalone=\"no\"?>\n<!DOCTYPE svg PUBLIC \"-//W3C//DTD SVG 1.1//EN\"\n \"http://www.w3.org/Graphics/SVG/1.1/DTD/svg11.dtd\">\n<!-- Generated by graphviz version 13.1.2 (20250808.2320)\n -->\n<!-- Pages: 1 -->\n<svg width=\"1561pt\" height=\"210pt\"\n viewBox=\"0.00 0.00 1561.00 210.00\" xmlns=\"http://www.w3.org/2000/svg\" xmlns:xlink=\"http://www.w3.org/1999/xlink\">\n<g id=\"graph0\" class=\"graph\" transform=\"scale(1 1) rotate(0) translate(4 206)\">\n<polygon fill=\"white\" stroke=\"none\" points=\"-4,4 -4,-206 1556.5,-206 1556.5,4 -4,4\"/>\n<!-- 2840716888080 -->\n<g id=\"node1\" class=\"node\">\n<title>2840716888080</title>\n<polygon fill=\"none\" stroke=\"black\" points=\"1368.75,-54.5 1368.75,-90.5 1552.5,-90.5 1552.5,-54.5 1368.75,-54.5\"/>\n<text xml:space=\"preserve\" text-anchor=\"middle\" x=\"1380.12\" y=\"-67.7\" font-family=\"Times New Roman,serif\" font-size=\"14.00\">o</text>\n<polyline fill=\"none\" stroke=\"black\" points=\"1391.5,-55 1391.5,-90.5\"/>\n<text xml:space=\"preserve\" text-anchor=\"middle\" x=\"1431.38\" y=\"-67.7\" font-family=\"Times New Roman,serif\" font-size=\"14.00\">data 0.7071</text>\n<polyline fill=\"none\" stroke=\"black\" points=\"1471.25,-55 1471.25,-90.5\"/>\n<text xml:space=\"preserve\" text-anchor=\"middle\" x=\"1511.88\" y=\"-67.7\" font-family=\"Times New Roman,serif\" font-size=\"14.00\">grad 1.0000</text>\n</g>\n<!-- 2840716888080tanh -->\n<g id=\"node2\" class=\"node\">\n<title>2840716888080tanh</title>\n<ellipse fill=\"none\" stroke=\"black\" cx=\"1305.75\" cy=\"-72.5\" rx=\"27\" ry=\"18\"/>\n<text xml:space=\"preserve\" text-anchor=\"middle\" x=\"1305.75\" y=\"-67.45\" font-family=\"Times New Roman,serif\" font-size=\"14.00\">tanh</text>\n</g>\n<!-- 2840716888080tanh&#45;&gt;2840716888080 -->\n<g id=\"edge1\" class=\"edge\">\n<title>2840716888080tanh&#45;&gt;2840716888080</title>\n<path fill=\"none\" stroke=\"black\" d=\"M1333.03,-72.5C1340.17,-72.5 1348.36,-72.5 1357.07,-72.5\"/>\n<polygon fill=\"black\" stroke=\"black\" points=\"1356.81,-76 1366.81,-72.5 1356.81,-69 1356.81,-76\"/>\n</g>\n<!-- 2840715527184 -->\n<g id=\"node3\" class=\"node\">\n<title>2840715527184</title>\n<polygon fill=\"none\" stroke=\"black\" points=\"3.75,-55.5 3.75,-91.5 194.25,-91.5 194.25,-55.5 3.75,-55.5\"/>\n<text xml:space=\"preserve\" text-anchor=\"middle\" x=\"18.5\" y=\"-68.7\" font-family=\"Times New Roman,serif\" font-size=\"14.00\">x2</text>\n<polyline fill=\"none\" stroke=\"black\" points=\"33.25,-56 33.25,-91.5\"/>\n<text xml:space=\"preserve\" text-anchor=\"middle\" x=\"73.12\" y=\"-68.7\" font-family=\"Times New Roman,serif\" font-size=\"14.00\">data 0.0000</text>\n<polyline fill=\"none\" stroke=\"black\" points=\"113,-56 113,-91.5\"/>\n<text xml:space=\"preserve\" text-anchor=\"middle\" x=\"153.62\" y=\"-68.7\" font-family=\"Times New Roman,serif\" font-size=\"14.00\">grad 0.0000</text>\n</g>\n<!-- 2840715526416* -->\n<g id=\"node13\" class=\"node\">\n<title>2840715526416*</title>\n<ellipse fill=\"none\" stroke=\"black\" cx=\"261\" cy=\"-73.5\" rx=\"27\" ry=\"18\"/>\n<text xml:space=\"preserve\" text-anchor=\"middle\" x=\"261\" y=\"-68.45\" font-family=\"Times New Roman,serif\" font-size=\"14.00\">*</text>\n</g>\n<!-- 2840715527184&#45;&gt;2840715526416* -->\n<g id=\"edge6\" class=\"edge\">\n<title>2840715527184&#45;&gt;2840715526416*</title>\n<path fill=\"none\" stroke=\"black\" d=\"M194.46,-73.5C204.21,-73.5 213.66,-73.5 222.21,-73.5\"/>\n<polygon fill=\"black\" stroke=\"black\" points=\"222.12,-77 232.12,-73.5 222.12,-70 222.12,-77\"/>\n</g>\n<!-- 2840715533456 -->\n<g id=\"node4\" class=\"node\">\n<title>2840715533456</title>\n<polygon fill=\"none\" stroke=\"black\" points=\"324,-110.5 324,-146.5 549.75,-146.5 549.75,-110.5 324,-110.5\"/>\n<text xml:space=\"preserve\" text-anchor=\"middle\" x=\"354.12\" y=\"-123.7\" font-family=\"Times New Roman,serif\" font-size=\"14.00\">x1 * w1</text>\n<polyline fill=\"none\" stroke=\"black\" points=\"384.25,-111 384.25,-146.5\"/>\n<text xml:space=\"preserve\" text-anchor=\"middle\" x=\"426.38\" y=\"-123.7\" font-family=\"Times New Roman,serif\" font-size=\"14.00\">data &#45;6.0000</text>\n<polyline fill=\"none\" stroke=\"black\" points=\"468.5,-111 468.5,-146.5\"/>\n<text xml:space=\"preserve\" text-anchor=\"middle\" x=\"509.12\" y=\"-123.7\" font-family=\"Times New Roman,serif\" font-size=\"14.00\">grad 0.0000</text>\n</g>\n<!-- 2840715537104+ -->\n<g id=\"node9\" class=\"node\">\n<title>2840715537104+</title>\n<ellipse fill=\"none\" stroke=\"black\" cx=\"612.75\" cy=\"-100.5\" rx=\"27\" ry=\"18\"/>\n<text xml:space=\"preserve\" text-anchor=\"middle\" x=\"612.75\" y=\"-95.45\" font-family=\"Times New Roman,serif\" font-size=\"14.00\">+</text>\n</g>\n<!-- 2840715533456&#45;&gt;2840715537104+ -->\n<g id=\"edge11\" class=\"edge\">\n<title>2840715533456&#45;&gt;2840715537104+</title>\n<path fill=\"none\" stroke=\"black\" d=\"M549.96,-110.45C558.76,-109.03 567.18,-107.68 574.82,-106.45\"/>\n<polygon fill=\"black\" stroke=\"black\" points=\"575.31,-109.91 584.63,-104.87 574.2,-103 575.31,-109.91\"/>\n</g>\n<!-- 2840715533456* -->\n<g id=\"node5\" class=\"node\">\n<title>2840715533456*</title>\n<ellipse fill=\"none\" stroke=\"black\" cx=\"261\" cy=\"-128.5\" rx=\"27\" ry=\"18\"/>\n<text xml:space=\"preserve\" text-anchor=\"middle\" x=\"261\" y=\"-123.45\" font-family=\"Times New Roman,serif\" font-size=\"14.00\">*</text>\n</g>\n<!-- 2840715533456*&#45;&gt;2840715533456 -->\n<g id=\"edge2\" class=\"edge\">\n<title>2840715533456*&#45;&gt;2840715533456</title>\n<path fill=\"none\" stroke=\"black\" d=\"M288.41,-128.5C295.49,-128.5 303.63,-128.5 312.38,-128.5\"/>\n<polygon fill=\"black\" stroke=\"black\" points=\"312.24,-132 322.24,-128.5 312.24,-125 312.24,-132\"/>\n</g>\n<!-- 2840715530448 -->\n<g id=\"node6\" class=\"node\">\n<title>2840715530448</title>\n<polygon fill=\"none\" stroke=\"black\" points=\"1059,-54.5 1059,-90.5 1242.75,-90.5 1242.75,-54.5 1059,-54.5\"/>\n<text xml:space=\"preserve\" text-anchor=\"middle\" x=\"1070.38\" y=\"-67.7\" font-family=\"Times New Roman,serif\" font-size=\"14.00\">n</text>\n<polyline fill=\"none\" stroke=\"black\" points=\"1081.75,-55 1081.75,-90.5\"/>\n<text xml:space=\"preserve\" text-anchor=\"middle\" x=\"1121.62\" y=\"-67.7\" font-family=\"Times New Roman,serif\" font-size=\"14.00\">data 0.8814</text>\n<polyline fill=\"none\" stroke=\"black\" points=\"1161.5,-55 1161.5,-90.5\"/>\n<text xml:space=\"preserve\" text-anchor=\"middle\" x=\"1202.12\" y=\"-67.7\" font-family=\"Times New Roman,serif\" font-size=\"14.00\">grad 0.5000</text>\n</g>\n<!-- 2840715530448&#45;&gt;2840716888080tanh -->\n<g id=\"edge12\" class=\"edge\">\n<title>2840715530448&#45;&gt;2840716888080tanh</title>\n<path fill=\"none\" stroke=\"black\" d=\"M1243.01,-72.5C1251.39,-72.5 1259.52,-72.5 1266.98,-72.5\"/>\n<polygon fill=\"black\" stroke=\"black\" points=\"1266.95,-76 1276.95,-72.5 1266.95,-69 1266.95,-76\"/>\n</g>\n<!-- 2840715530448+ -->\n<g id=\"node7\" class=\"node\">\n<title>2840715530448+</title>\n<ellipse fill=\"none\" stroke=\"black\" cx=\"996\" cy=\"-72.5\" rx=\"27\" ry=\"18\"/>\n<text xml:space=\"preserve\" text-anchor=\"middle\" x=\"996\" y=\"-67.45\" font-family=\"Times New Roman,serif\" font-size=\"14.00\">+</text>\n</g>\n<!-- 2840715530448+&#45;&gt;2840715530448 -->\n<g id=\"edge3\" class=\"edge\">\n<title>2840715530448+&#45;&gt;2840715530448</title>\n<path fill=\"none\" stroke=\"black\" d=\"M1023.28,-72.5C1030.42,-72.5 1038.61,-72.5 1047.32,-72.5\"/>\n<polygon fill=\"black\" stroke=\"black\" points=\"1047.06,-76 1057.06,-72.5 1047.06,-69 1047.06,-76\"/>\n</g>\n<!-- 2840715537104 -->\n<g id=\"node8\" class=\"node\">\n<title>2840715537104</title>\n<polygon fill=\"none\" stroke=\"black\" points=\"675.75,-82.5 675.75,-118.5 933,-118.5 933,-82.5 675.75,-82.5\"/>\n<text xml:space=\"preserve\" text-anchor=\"middle\" x=\"721.62\" y=\"-95.7\" font-family=\"Times New Roman,serif\" font-size=\"14.00\">x1w1 + x2w2</text>\n<polyline fill=\"none\" stroke=\"black\" points=\"767.5,-83 767.5,-118.5\"/>\n<text xml:space=\"preserve\" text-anchor=\"middle\" x=\"809.62\" y=\"-95.7\" font-family=\"Times New Roman,serif\" font-size=\"14.00\">data &#45;6.0000</text>\n<polyline fill=\"none\" stroke=\"black\" points=\"851.75,-83 851.75,-118.5\"/>\n<text xml:space=\"preserve\" text-anchor=\"middle\" x=\"892.38\" y=\"-95.7\" font-family=\"Times New Roman,serif\" font-size=\"14.00\">grad 0.5000</text>\n</g>\n<!-- 2840715537104&#45;&gt;2840715530448+ -->\n<g id=\"edge14\" class=\"edge\">\n<title>2840715537104&#45;&gt;2840715530448+</title>\n<path fill=\"none\" stroke=\"black\" d=\"M930.54,-82.02C940.4,-80.56 949.78,-79.18 958.17,-77.94\"/>\n<polygon fill=\"black\" stroke=\"black\" points=\"958.44,-81.44 967.83,-76.51 957.42,-74.51 958.44,-81.44\"/>\n</g>\n<!-- 2840715537104+&#45;&gt;2840715537104 -->\n<g id=\"edge4\" class=\"edge\">\n<title>2840715537104+&#45;&gt;2840715537104</title>\n<path fill=\"none\" stroke=\"black\" d=\"M640.12,-100.5C647.13,-100.5 655.21,-100.5 663.95,-100.5\"/>\n<polygon fill=\"black\" stroke=\"black\" points=\"663.82,-104 673.82,-100.5 663.82,-97 663.82,-104\"/>\n</g>\n<!-- 2840715540176 -->\n<g id=\"node10\" class=\"node\">\n<title>2840715540176</title>\n<polygon fill=\"none\" stroke=\"black\" points=\"712.5,-27.5 712.5,-63.5 896.25,-63.5 896.25,-27.5 712.5,-27.5\"/>\n<text xml:space=\"preserve\" text-anchor=\"middle\" x=\"723.88\" y=\"-40.7\" font-family=\"Times New Roman,serif\" font-size=\"14.00\">b</text>\n<polyline fill=\"none\" stroke=\"black\" points=\"735.25,-28 735.25,-63.5\"/>\n<text xml:space=\"preserve\" text-anchor=\"middle\" x=\"775.12\" y=\"-40.7\" font-family=\"Times New Roman,serif\" font-size=\"14.00\">data 6.8814</text>\n<polyline fill=\"none\" stroke=\"black\" points=\"815,-28 815,-63.5\"/>\n<text xml:space=\"preserve\" text-anchor=\"middle\" x=\"855.62\" y=\"-40.7\" font-family=\"Times New Roman,serif\" font-size=\"14.00\">grad 0.5000</text>\n</g>\n<!-- 2840715540176&#45;&gt;2840715530448+ -->\n<g id=\"edge13\" class=\"edge\">\n<title>2840715540176&#45;&gt;2840715530448+</title>\n<path fill=\"none\" stroke=\"black\" d=\"M896.58,-58.49C918.42,-61.6 940.52,-64.74 958.23,-67.26\"/>\n<polygon fill=\"black\" stroke=\"black\" points=\"957.57,-70.71 967.96,-68.65 958.55,-63.78 957.57,-70.71\"/>\n</g>\n<!-- 2840715534096 -->\n<g id=\"node11\" class=\"node\">\n<title>2840715534096</title>\n<polygon fill=\"none\" stroke=\"black\" points=\"0,-165.5 0,-201.5 198,-201.5 198,-165.5 0,-165.5\"/>\n<text xml:space=\"preserve\" text-anchor=\"middle\" x=\"16.25\" y=\"-178.7\" font-family=\"Times New Roman,serif\" font-size=\"14.00\">w1</text>\n<polyline fill=\"none\" stroke=\"black\" points=\"32.5,-166 32.5,-201.5\"/>\n<text xml:space=\"preserve\" text-anchor=\"middle\" x=\"74.62\" y=\"-178.7\" font-family=\"Times New Roman,serif\" font-size=\"14.00\">data &#45;3.0000</text>\n<polyline fill=\"none\" stroke=\"black\" points=\"116.75,-166 116.75,-201.5\"/>\n<text xml:space=\"preserve\" text-anchor=\"middle\" x=\"157.38\" y=\"-178.7\" font-family=\"Times New Roman,serif\" font-size=\"14.00\">grad 0.0000</text>\n</g>\n<!-- 2840715534096&#45;&gt;2840715533456* -->\n<g id=\"edge7\" class=\"edge\">\n<title>2840715534096&#45;&gt;2840715533456*</title>\n<path fill=\"none\" stroke=\"black\" d=\"M172.12,-165.01C180.9,-162.35 189.7,-159.5 198,-156.5 208.09,-152.86 218.82,-148.27 228.47,-143.88\"/>\n<polygon fill=\"black\" stroke=\"black\" points=\"229.86,-147.09 237.45,-139.69 226.9,-140.75 229.86,-147.09\"/>\n</g>\n<!-- 2840715526416 -->\n<g id=\"node12\" class=\"node\">\n<title>2840715526416</title>\n<polygon fill=\"none\" stroke=\"black\" points=\"326.25,-55.5 326.25,-91.5 547.5,-91.5 547.5,-55.5 326.25,-55.5\"/>\n<text xml:space=\"preserve\" text-anchor=\"middle\" x=\"356.38\" y=\"-68.7\" font-family=\"Times New Roman,serif\" font-size=\"14.00\">x2 * w2</text>\n<polyline fill=\"none\" stroke=\"black\" points=\"386.5,-56 386.5,-91.5\"/>\n<text xml:space=\"preserve\" text-anchor=\"middle\" x=\"426.38\" y=\"-68.7\" font-family=\"Times New Roman,serif\" font-size=\"14.00\">data 0.0000</text>\n<polyline fill=\"none\" stroke=\"black\" points=\"466.25,-56 466.25,-91.5\"/>\n<text xml:space=\"preserve\" text-anchor=\"middle\" x=\"506.88\" y=\"-68.7\" font-family=\"Times New Roman,serif\" font-size=\"14.00\">grad 0.0000</text>\n</g>\n<!-- 2840715526416&#45;&gt;2840715537104+ -->\n<g id=\"edge9\" class=\"edge\">\n<title>2840715526416&#45;&gt;2840715537104+</title>\n<path fill=\"none\" stroke=\"black\" d=\"M547.99,-90.6C557.5,-92.08 566.61,-93.49 574.82,-94.77\"/>\n<polygon fill=\"black\" stroke=\"black\" points=\"574.23,-98.22 584.65,-96.29 575.3,-91.3 574.23,-98.22\"/>\n</g>\n<!-- 2840715526416*&#45;&gt;2840715526416 -->\n<g id=\"edge5\" class=\"edge\">\n<title>2840715526416*&#45;&gt;2840715526416</title>\n<path fill=\"none\" stroke=\"black\" d=\"M288.41,-73.5C296.06,-73.5 304.94,-73.5 314.49,-73.5\"/>\n<polygon fill=\"black\" stroke=\"black\" points=\"314.46,-77 324.46,-73.5 314.46,-70 314.46,-77\"/>\n</g>\n<!-- 2840702110096 -->\n<g id=\"node14\" class=\"node\">\n<title>2840702110096</title>\n<polygon fill=\"none\" stroke=\"black\" points=\"3.75,-110.5 3.75,-146.5 194.25,-146.5 194.25,-110.5 3.75,-110.5\"/>\n<text xml:space=\"preserve\" text-anchor=\"middle\" x=\"18.5\" y=\"-123.7\" font-family=\"Times New Roman,serif\" font-size=\"14.00\">x1</text>\n<polyline fill=\"none\" stroke=\"black\" points=\"33.25,-111 33.25,-146.5\"/>\n<text xml:space=\"preserve\" text-anchor=\"middle\" x=\"73.12\" y=\"-123.7\" font-family=\"Times New Roman,serif\" font-size=\"14.00\">data 2.0000</text>\n<polyline fill=\"none\" stroke=\"black\" points=\"113,-111 113,-146.5\"/>\n<text xml:space=\"preserve\" text-anchor=\"middle\" x=\"153.62\" y=\"-123.7\" font-family=\"Times New Roman,serif\" font-size=\"14.00\">grad 0.0000</text>\n</g>\n<!-- 2840702110096&#45;&gt;2840715533456* -->\n<g id=\"edge10\" class=\"edge\">\n<title>2840702110096&#45;&gt;2840715533456*</title>\n<path fill=\"none\" stroke=\"black\" d=\"M194.46,-128.5C204.21,-128.5 213.66,-128.5 222.21,-128.5\"/>\n<polygon fill=\"black\" stroke=\"black\" points=\"222.12,-132 232.12,-128.5 222.12,-125 222.12,-132\"/>\n</g>\n<!-- 2840715539408 -->\n<g id=\"node15\" class=\"node\">\n<title>2840715539408</title>\n<polygon fill=\"none\" stroke=\"black\" points=\"2.25,-0.5 2.25,-36.5 195.75,-36.5 195.75,-0.5 2.25,-0.5\"/>\n<text xml:space=\"preserve\" text-anchor=\"middle\" x=\"18.5\" y=\"-13.7\" font-family=\"Times New Roman,serif\" font-size=\"14.00\">w2</text>\n<polyline fill=\"none\" stroke=\"black\" points=\"34.75,-1 34.75,-36.5\"/>\n<text xml:space=\"preserve\" text-anchor=\"middle\" x=\"74.62\" y=\"-13.7\" font-family=\"Times New Roman,serif\" font-size=\"14.00\">data 1.0000</text>\n<polyline fill=\"none\" stroke=\"black\" points=\"114.5,-1 114.5,-36.5\"/>\n<text xml:space=\"preserve\" text-anchor=\"middle\" x=\"155.12\" y=\"-13.7\" font-family=\"Times New Roman,serif\" font-size=\"14.00\">grad 0.0000</text>\n</g>\n<!-- 2840715539408&#45;&gt;2840715526416* -->\n<g id=\"edge8\" class=\"edge\">\n<title>2840715539408&#45;&gt;2840715526416*</title>\n<path fill=\"none\" stroke=\"black\" d=\"M172.12,-36.99C180.9,-39.65 189.7,-42.5 198,-45.5 208.09,-49.14 218.82,-53.73 228.47,-58.12\"/>\n<polygon fill=\"black\" stroke=\"black\" points=\"226.9,-61.25 237.45,-62.31 229.86,-54.91 226.9,-61.25\"/>\n</g>\n</g>\n</svg>\n",
      "text/plain": [
       "<graphviz.graphs.Digraph at 0x29567dcfb90>"
      ]
     },
     "execution_count": 157,
     "metadata": {},
     "output_type": "execute_result"
    }
   ],
   "execution_count": 157
  },
  {
   "metadata": {
    "ExecuteTime": {
     "end_time": "2025-08-24T17:58:32.302520Z",
     "start_time": "2025-08-24T17:58:31.648834Z"
    }
   },
   "cell_type": "code",
   "source": [
    "x1w1x2w2._backward()\n",
    "draw_dot(o)"
   ],
   "id": "ab40215d88fbba47",
   "outputs": [
    {
     "data": {
      "image/svg+xml": "<?xml version=\"1.0\" encoding=\"UTF-8\" standalone=\"no\"?>\n<!DOCTYPE svg PUBLIC \"-//W3C//DTD SVG 1.1//EN\"\n \"http://www.w3.org/Graphics/SVG/1.1/DTD/svg11.dtd\">\n<!-- Generated by graphviz version 13.1.2 (20250808.2320)\n -->\n<!-- Pages: 1 -->\n<svg width=\"1561pt\" height=\"210pt\"\n viewBox=\"0.00 0.00 1561.00 210.00\" xmlns=\"http://www.w3.org/2000/svg\" xmlns:xlink=\"http://www.w3.org/1999/xlink\">\n<g id=\"graph0\" class=\"graph\" transform=\"scale(1 1) rotate(0) translate(4 206)\">\n<polygon fill=\"white\" stroke=\"none\" points=\"-4,4 -4,-206 1556.5,-206 1556.5,4 -4,4\"/>\n<!-- 2840716888080 -->\n<g id=\"node1\" class=\"node\">\n<title>2840716888080</title>\n<polygon fill=\"none\" stroke=\"black\" points=\"1368.75,-54.5 1368.75,-90.5 1552.5,-90.5 1552.5,-54.5 1368.75,-54.5\"/>\n<text xml:space=\"preserve\" text-anchor=\"middle\" x=\"1380.12\" y=\"-67.7\" font-family=\"Times New Roman,serif\" font-size=\"14.00\">o</text>\n<polyline fill=\"none\" stroke=\"black\" points=\"1391.5,-55 1391.5,-90.5\"/>\n<text xml:space=\"preserve\" text-anchor=\"middle\" x=\"1431.38\" y=\"-67.7\" font-family=\"Times New Roman,serif\" font-size=\"14.00\">data 0.7071</text>\n<polyline fill=\"none\" stroke=\"black\" points=\"1471.25,-55 1471.25,-90.5\"/>\n<text xml:space=\"preserve\" text-anchor=\"middle\" x=\"1511.88\" y=\"-67.7\" font-family=\"Times New Roman,serif\" font-size=\"14.00\">grad 1.0000</text>\n</g>\n<!-- 2840716888080tanh -->\n<g id=\"node2\" class=\"node\">\n<title>2840716888080tanh</title>\n<ellipse fill=\"none\" stroke=\"black\" cx=\"1305.75\" cy=\"-72.5\" rx=\"27\" ry=\"18\"/>\n<text xml:space=\"preserve\" text-anchor=\"middle\" x=\"1305.75\" y=\"-67.45\" font-family=\"Times New Roman,serif\" font-size=\"14.00\">tanh</text>\n</g>\n<!-- 2840716888080tanh&#45;&gt;2840716888080 -->\n<g id=\"edge1\" class=\"edge\">\n<title>2840716888080tanh&#45;&gt;2840716888080</title>\n<path fill=\"none\" stroke=\"black\" d=\"M1333.03,-72.5C1340.17,-72.5 1348.36,-72.5 1357.07,-72.5\"/>\n<polygon fill=\"black\" stroke=\"black\" points=\"1356.81,-76 1366.81,-72.5 1356.81,-69 1356.81,-76\"/>\n</g>\n<!-- 2840715527184 -->\n<g id=\"node3\" class=\"node\">\n<title>2840715527184</title>\n<polygon fill=\"none\" stroke=\"black\" points=\"3.75,-55.5 3.75,-91.5 194.25,-91.5 194.25,-55.5 3.75,-55.5\"/>\n<text xml:space=\"preserve\" text-anchor=\"middle\" x=\"18.5\" y=\"-68.7\" font-family=\"Times New Roman,serif\" font-size=\"14.00\">x2</text>\n<polyline fill=\"none\" stroke=\"black\" points=\"33.25,-56 33.25,-91.5\"/>\n<text xml:space=\"preserve\" text-anchor=\"middle\" x=\"73.12\" y=\"-68.7\" font-family=\"Times New Roman,serif\" font-size=\"14.00\">data 0.0000</text>\n<polyline fill=\"none\" stroke=\"black\" points=\"113,-56 113,-91.5\"/>\n<text xml:space=\"preserve\" text-anchor=\"middle\" x=\"153.62\" y=\"-68.7\" font-family=\"Times New Roman,serif\" font-size=\"14.00\">grad 0.0000</text>\n</g>\n<!-- 2840715526416* -->\n<g id=\"node13\" class=\"node\">\n<title>2840715526416*</title>\n<ellipse fill=\"none\" stroke=\"black\" cx=\"261\" cy=\"-73.5\" rx=\"27\" ry=\"18\"/>\n<text xml:space=\"preserve\" text-anchor=\"middle\" x=\"261\" y=\"-68.45\" font-family=\"Times New Roman,serif\" font-size=\"14.00\">*</text>\n</g>\n<!-- 2840715527184&#45;&gt;2840715526416* -->\n<g id=\"edge6\" class=\"edge\">\n<title>2840715527184&#45;&gt;2840715526416*</title>\n<path fill=\"none\" stroke=\"black\" d=\"M194.46,-73.5C204.21,-73.5 213.66,-73.5 222.21,-73.5\"/>\n<polygon fill=\"black\" stroke=\"black\" points=\"222.12,-77 232.12,-73.5 222.12,-70 222.12,-77\"/>\n</g>\n<!-- 2840715533456 -->\n<g id=\"node4\" class=\"node\">\n<title>2840715533456</title>\n<polygon fill=\"none\" stroke=\"black\" points=\"324,-110.5 324,-146.5 549.75,-146.5 549.75,-110.5 324,-110.5\"/>\n<text xml:space=\"preserve\" text-anchor=\"middle\" x=\"354.12\" y=\"-123.7\" font-family=\"Times New Roman,serif\" font-size=\"14.00\">x1 * w1</text>\n<polyline fill=\"none\" stroke=\"black\" points=\"384.25,-111 384.25,-146.5\"/>\n<text xml:space=\"preserve\" text-anchor=\"middle\" x=\"426.38\" y=\"-123.7\" font-family=\"Times New Roman,serif\" font-size=\"14.00\">data &#45;6.0000</text>\n<polyline fill=\"none\" stroke=\"black\" points=\"468.5,-111 468.5,-146.5\"/>\n<text xml:space=\"preserve\" text-anchor=\"middle\" x=\"509.12\" y=\"-123.7\" font-family=\"Times New Roman,serif\" font-size=\"14.00\">grad 0.5000</text>\n</g>\n<!-- 2840715537104+ -->\n<g id=\"node9\" class=\"node\">\n<title>2840715537104+</title>\n<ellipse fill=\"none\" stroke=\"black\" cx=\"612.75\" cy=\"-100.5\" rx=\"27\" ry=\"18\"/>\n<text xml:space=\"preserve\" text-anchor=\"middle\" x=\"612.75\" y=\"-95.45\" font-family=\"Times New Roman,serif\" font-size=\"14.00\">+</text>\n</g>\n<!-- 2840715533456&#45;&gt;2840715537104+ -->\n<g id=\"edge11\" class=\"edge\">\n<title>2840715533456&#45;&gt;2840715537104+</title>\n<path fill=\"none\" stroke=\"black\" d=\"M549.96,-110.45C558.76,-109.03 567.18,-107.68 574.82,-106.45\"/>\n<polygon fill=\"black\" stroke=\"black\" points=\"575.31,-109.91 584.63,-104.87 574.2,-103 575.31,-109.91\"/>\n</g>\n<!-- 2840715533456* -->\n<g id=\"node5\" class=\"node\">\n<title>2840715533456*</title>\n<ellipse fill=\"none\" stroke=\"black\" cx=\"261\" cy=\"-128.5\" rx=\"27\" ry=\"18\"/>\n<text xml:space=\"preserve\" text-anchor=\"middle\" x=\"261\" y=\"-123.45\" font-family=\"Times New Roman,serif\" font-size=\"14.00\">*</text>\n</g>\n<!-- 2840715533456*&#45;&gt;2840715533456 -->\n<g id=\"edge2\" class=\"edge\">\n<title>2840715533456*&#45;&gt;2840715533456</title>\n<path fill=\"none\" stroke=\"black\" d=\"M288.41,-128.5C295.49,-128.5 303.63,-128.5 312.38,-128.5\"/>\n<polygon fill=\"black\" stroke=\"black\" points=\"312.24,-132 322.24,-128.5 312.24,-125 312.24,-132\"/>\n</g>\n<!-- 2840715530448 -->\n<g id=\"node6\" class=\"node\">\n<title>2840715530448</title>\n<polygon fill=\"none\" stroke=\"black\" points=\"1059,-54.5 1059,-90.5 1242.75,-90.5 1242.75,-54.5 1059,-54.5\"/>\n<text xml:space=\"preserve\" text-anchor=\"middle\" x=\"1070.38\" y=\"-67.7\" font-family=\"Times New Roman,serif\" font-size=\"14.00\">n</text>\n<polyline fill=\"none\" stroke=\"black\" points=\"1081.75,-55 1081.75,-90.5\"/>\n<text xml:space=\"preserve\" text-anchor=\"middle\" x=\"1121.62\" y=\"-67.7\" font-family=\"Times New Roman,serif\" font-size=\"14.00\">data 0.8814</text>\n<polyline fill=\"none\" stroke=\"black\" points=\"1161.5,-55 1161.5,-90.5\"/>\n<text xml:space=\"preserve\" text-anchor=\"middle\" x=\"1202.12\" y=\"-67.7\" font-family=\"Times New Roman,serif\" font-size=\"14.00\">grad 0.5000</text>\n</g>\n<!-- 2840715530448&#45;&gt;2840716888080tanh -->\n<g id=\"edge12\" class=\"edge\">\n<title>2840715530448&#45;&gt;2840716888080tanh</title>\n<path fill=\"none\" stroke=\"black\" d=\"M1243.01,-72.5C1251.39,-72.5 1259.52,-72.5 1266.98,-72.5\"/>\n<polygon fill=\"black\" stroke=\"black\" points=\"1266.95,-76 1276.95,-72.5 1266.95,-69 1266.95,-76\"/>\n</g>\n<!-- 2840715530448+ -->\n<g id=\"node7\" class=\"node\">\n<title>2840715530448+</title>\n<ellipse fill=\"none\" stroke=\"black\" cx=\"996\" cy=\"-72.5\" rx=\"27\" ry=\"18\"/>\n<text xml:space=\"preserve\" text-anchor=\"middle\" x=\"996\" y=\"-67.45\" font-family=\"Times New Roman,serif\" font-size=\"14.00\">+</text>\n</g>\n<!-- 2840715530448+&#45;&gt;2840715530448 -->\n<g id=\"edge3\" class=\"edge\">\n<title>2840715530448+&#45;&gt;2840715530448</title>\n<path fill=\"none\" stroke=\"black\" d=\"M1023.28,-72.5C1030.42,-72.5 1038.61,-72.5 1047.32,-72.5\"/>\n<polygon fill=\"black\" stroke=\"black\" points=\"1047.06,-76 1057.06,-72.5 1047.06,-69 1047.06,-76\"/>\n</g>\n<!-- 2840715537104 -->\n<g id=\"node8\" class=\"node\">\n<title>2840715537104</title>\n<polygon fill=\"none\" stroke=\"black\" points=\"675.75,-82.5 675.75,-118.5 933,-118.5 933,-82.5 675.75,-82.5\"/>\n<text xml:space=\"preserve\" text-anchor=\"middle\" x=\"721.62\" y=\"-95.7\" font-family=\"Times New Roman,serif\" font-size=\"14.00\">x1w1 + x2w2</text>\n<polyline fill=\"none\" stroke=\"black\" points=\"767.5,-83 767.5,-118.5\"/>\n<text xml:space=\"preserve\" text-anchor=\"middle\" x=\"809.62\" y=\"-95.7\" font-family=\"Times New Roman,serif\" font-size=\"14.00\">data &#45;6.0000</text>\n<polyline fill=\"none\" stroke=\"black\" points=\"851.75,-83 851.75,-118.5\"/>\n<text xml:space=\"preserve\" text-anchor=\"middle\" x=\"892.38\" y=\"-95.7\" font-family=\"Times New Roman,serif\" font-size=\"14.00\">grad 0.5000</text>\n</g>\n<!-- 2840715537104&#45;&gt;2840715530448+ -->\n<g id=\"edge14\" class=\"edge\">\n<title>2840715537104&#45;&gt;2840715530448+</title>\n<path fill=\"none\" stroke=\"black\" d=\"M930.54,-82.02C940.4,-80.56 949.78,-79.18 958.17,-77.94\"/>\n<polygon fill=\"black\" stroke=\"black\" points=\"958.44,-81.44 967.83,-76.51 957.42,-74.51 958.44,-81.44\"/>\n</g>\n<!-- 2840715537104+&#45;&gt;2840715537104 -->\n<g id=\"edge4\" class=\"edge\">\n<title>2840715537104+&#45;&gt;2840715537104</title>\n<path fill=\"none\" stroke=\"black\" d=\"M640.12,-100.5C647.13,-100.5 655.21,-100.5 663.95,-100.5\"/>\n<polygon fill=\"black\" stroke=\"black\" points=\"663.82,-104 673.82,-100.5 663.82,-97 663.82,-104\"/>\n</g>\n<!-- 2840715540176 -->\n<g id=\"node10\" class=\"node\">\n<title>2840715540176</title>\n<polygon fill=\"none\" stroke=\"black\" points=\"712.5,-27.5 712.5,-63.5 896.25,-63.5 896.25,-27.5 712.5,-27.5\"/>\n<text xml:space=\"preserve\" text-anchor=\"middle\" x=\"723.88\" y=\"-40.7\" font-family=\"Times New Roman,serif\" font-size=\"14.00\">b</text>\n<polyline fill=\"none\" stroke=\"black\" points=\"735.25,-28 735.25,-63.5\"/>\n<text xml:space=\"preserve\" text-anchor=\"middle\" x=\"775.12\" y=\"-40.7\" font-family=\"Times New Roman,serif\" font-size=\"14.00\">data 6.8814</text>\n<polyline fill=\"none\" stroke=\"black\" points=\"815,-28 815,-63.5\"/>\n<text xml:space=\"preserve\" text-anchor=\"middle\" x=\"855.62\" y=\"-40.7\" font-family=\"Times New Roman,serif\" font-size=\"14.00\">grad 0.5000</text>\n</g>\n<!-- 2840715540176&#45;&gt;2840715530448+ -->\n<g id=\"edge13\" class=\"edge\">\n<title>2840715540176&#45;&gt;2840715530448+</title>\n<path fill=\"none\" stroke=\"black\" d=\"M896.58,-58.49C918.42,-61.6 940.52,-64.74 958.23,-67.26\"/>\n<polygon fill=\"black\" stroke=\"black\" points=\"957.57,-70.71 967.96,-68.65 958.55,-63.78 957.57,-70.71\"/>\n</g>\n<!-- 2840715534096 -->\n<g id=\"node11\" class=\"node\">\n<title>2840715534096</title>\n<polygon fill=\"none\" stroke=\"black\" points=\"0,-165.5 0,-201.5 198,-201.5 198,-165.5 0,-165.5\"/>\n<text xml:space=\"preserve\" text-anchor=\"middle\" x=\"16.25\" y=\"-178.7\" font-family=\"Times New Roman,serif\" font-size=\"14.00\">w1</text>\n<polyline fill=\"none\" stroke=\"black\" points=\"32.5,-166 32.5,-201.5\"/>\n<text xml:space=\"preserve\" text-anchor=\"middle\" x=\"74.62\" y=\"-178.7\" font-family=\"Times New Roman,serif\" font-size=\"14.00\">data &#45;3.0000</text>\n<polyline fill=\"none\" stroke=\"black\" points=\"116.75,-166 116.75,-201.5\"/>\n<text xml:space=\"preserve\" text-anchor=\"middle\" x=\"157.38\" y=\"-178.7\" font-family=\"Times New Roman,serif\" font-size=\"14.00\">grad 0.0000</text>\n</g>\n<!-- 2840715534096&#45;&gt;2840715533456* -->\n<g id=\"edge7\" class=\"edge\">\n<title>2840715534096&#45;&gt;2840715533456*</title>\n<path fill=\"none\" stroke=\"black\" d=\"M172.12,-165.01C180.9,-162.35 189.7,-159.5 198,-156.5 208.09,-152.86 218.82,-148.27 228.47,-143.88\"/>\n<polygon fill=\"black\" stroke=\"black\" points=\"229.86,-147.09 237.45,-139.69 226.9,-140.75 229.86,-147.09\"/>\n</g>\n<!-- 2840715526416 -->\n<g id=\"node12\" class=\"node\">\n<title>2840715526416</title>\n<polygon fill=\"none\" stroke=\"black\" points=\"326.25,-55.5 326.25,-91.5 547.5,-91.5 547.5,-55.5 326.25,-55.5\"/>\n<text xml:space=\"preserve\" text-anchor=\"middle\" x=\"356.38\" y=\"-68.7\" font-family=\"Times New Roman,serif\" font-size=\"14.00\">x2 * w2</text>\n<polyline fill=\"none\" stroke=\"black\" points=\"386.5,-56 386.5,-91.5\"/>\n<text xml:space=\"preserve\" text-anchor=\"middle\" x=\"426.38\" y=\"-68.7\" font-family=\"Times New Roman,serif\" font-size=\"14.00\">data 0.0000</text>\n<polyline fill=\"none\" stroke=\"black\" points=\"466.25,-56 466.25,-91.5\"/>\n<text xml:space=\"preserve\" text-anchor=\"middle\" x=\"506.88\" y=\"-68.7\" font-family=\"Times New Roman,serif\" font-size=\"14.00\">grad 0.5000</text>\n</g>\n<!-- 2840715526416&#45;&gt;2840715537104+ -->\n<g id=\"edge9\" class=\"edge\">\n<title>2840715526416&#45;&gt;2840715537104+</title>\n<path fill=\"none\" stroke=\"black\" d=\"M547.99,-90.6C557.5,-92.08 566.61,-93.49 574.82,-94.77\"/>\n<polygon fill=\"black\" stroke=\"black\" points=\"574.23,-98.22 584.65,-96.29 575.3,-91.3 574.23,-98.22\"/>\n</g>\n<!-- 2840715526416*&#45;&gt;2840715526416 -->\n<g id=\"edge5\" class=\"edge\">\n<title>2840715526416*&#45;&gt;2840715526416</title>\n<path fill=\"none\" stroke=\"black\" d=\"M288.41,-73.5C296.06,-73.5 304.94,-73.5 314.49,-73.5\"/>\n<polygon fill=\"black\" stroke=\"black\" points=\"314.46,-77 324.46,-73.5 314.46,-70 314.46,-77\"/>\n</g>\n<!-- 2840702110096 -->\n<g id=\"node14\" class=\"node\">\n<title>2840702110096</title>\n<polygon fill=\"none\" stroke=\"black\" points=\"3.75,-110.5 3.75,-146.5 194.25,-146.5 194.25,-110.5 3.75,-110.5\"/>\n<text xml:space=\"preserve\" text-anchor=\"middle\" x=\"18.5\" y=\"-123.7\" font-family=\"Times New Roman,serif\" font-size=\"14.00\">x1</text>\n<polyline fill=\"none\" stroke=\"black\" points=\"33.25,-111 33.25,-146.5\"/>\n<text xml:space=\"preserve\" text-anchor=\"middle\" x=\"73.12\" y=\"-123.7\" font-family=\"Times New Roman,serif\" font-size=\"14.00\">data 2.0000</text>\n<polyline fill=\"none\" stroke=\"black\" points=\"113,-111 113,-146.5\"/>\n<text xml:space=\"preserve\" text-anchor=\"middle\" x=\"153.62\" y=\"-123.7\" font-family=\"Times New Roman,serif\" font-size=\"14.00\">grad 0.0000</text>\n</g>\n<!-- 2840702110096&#45;&gt;2840715533456* -->\n<g id=\"edge10\" class=\"edge\">\n<title>2840702110096&#45;&gt;2840715533456*</title>\n<path fill=\"none\" stroke=\"black\" d=\"M194.46,-128.5C204.21,-128.5 213.66,-128.5 222.21,-128.5\"/>\n<polygon fill=\"black\" stroke=\"black\" points=\"222.12,-132 232.12,-128.5 222.12,-125 222.12,-132\"/>\n</g>\n<!-- 2840715539408 -->\n<g id=\"node15\" class=\"node\">\n<title>2840715539408</title>\n<polygon fill=\"none\" stroke=\"black\" points=\"2.25,-0.5 2.25,-36.5 195.75,-36.5 195.75,-0.5 2.25,-0.5\"/>\n<text xml:space=\"preserve\" text-anchor=\"middle\" x=\"18.5\" y=\"-13.7\" font-family=\"Times New Roman,serif\" font-size=\"14.00\">w2</text>\n<polyline fill=\"none\" stroke=\"black\" points=\"34.75,-1 34.75,-36.5\"/>\n<text xml:space=\"preserve\" text-anchor=\"middle\" x=\"74.62\" y=\"-13.7\" font-family=\"Times New Roman,serif\" font-size=\"14.00\">data 1.0000</text>\n<polyline fill=\"none\" stroke=\"black\" points=\"114.5,-1 114.5,-36.5\"/>\n<text xml:space=\"preserve\" text-anchor=\"middle\" x=\"155.12\" y=\"-13.7\" font-family=\"Times New Roman,serif\" font-size=\"14.00\">grad 0.0000</text>\n</g>\n<!-- 2840715539408&#45;&gt;2840715526416* -->\n<g id=\"edge8\" class=\"edge\">\n<title>2840715539408&#45;&gt;2840715526416*</title>\n<path fill=\"none\" stroke=\"black\" d=\"M172.12,-36.99C180.9,-39.65 189.7,-42.5 198,-45.5 208.09,-49.14 218.82,-53.73 228.47,-58.12\"/>\n<polygon fill=\"black\" stroke=\"black\" points=\"226.9,-61.25 237.45,-62.31 229.86,-54.91 226.9,-61.25\"/>\n</g>\n</g>\n</svg>\n",
      "text/plain": [
       "<graphviz.graphs.Digraph at 0x29567cceb10>"
      ]
     },
     "execution_count": 158,
     "metadata": {},
     "output_type": "execute_result"
    }
   ],
   "execution_count": 158
  },
  {
   "metadata": {
    "ExecuteTime": {
     "end_time": "2025-08-24T17:59:43.173063Z",
     "start_time": "2025-08-24T17:59:42.237760Z"
    }
   },
   "cell_type": "code",
   "source": [
    "x1w1._backward()\n",
    "x2w2._backward()\n",
    "w1._backward()\n",
    "w2._backward()\n",
    "x1._backward()\n",
    "x2._backward()\n",
    "draw_dot(o)"
   ],
   "id": "dd2e63d0a4ba360f",
   "outputs": [
    {
     "data": {
      "image/svg+xml": "<?xml version=\"1.0\" encoding=\"UTF-8\" standalone=\"no\"?>\n<!DOCTYPE svg PUBLIC \"-//W3C//DTD SVG 1.1//EN\"\n \"http://www.w3.org/Graphics/SVG/1.1/DTD/svg11.dtd\">\n<!-- Generated by graphviz version 13.1.2 (20250808.2320)\n -->\n<!-- Pages: 1 -->\n<svg width=\"1561pt\" height=\"210pt\"\n viewBox=\"0.00 0.00 1561.00 210.00\" xmlns=\"http://www.w3.org/2000/svg\" xmlns:xlink=\"http://www.w3.org/1999/xlink\">\n<g id=\"graph0\" class=\"graph\" transform=\"scale(1 1) rotate(0) translate(4 206)\">\n<polygon fill=\"white\" stroke=\"none\" points=\"-4,4 -4,-206 1556.5,-206 1556.5,4 -4,4\"/>\n<!-- 2840716888080 -->\n<g id=\"node1\" class=\"node\">\n<title>2840716888080</title>\n<polygon fill=\"none\" stroke=\"black\" points=\"1368.75,-54.5 1368.75,-90.5 1552.5,-90.5 1552.5,-54.5 1368.75,-54.5\"/>\n<text xml:space=\"preserve\" text-anchor=\"middle\" x=\"1380.12\" y=\"-67.7\" font-family=\"Times New Roman,serif\" font-size=\"14.00\">o</text>\n<polyline fill=\"none\" stroke=\"black\" points=\"1391.5,-55 1391.5,-90.5\"/>\n<text xml:space=\"preserve\" text-anchor=\"middle\" x=\"1431.38\" y=\"-67.7\" font-family=\"Times New Roman,serif\" font-size=\"14.00\">data 0.7071</text>\n<polyline fill=\"none\" stroke=\"black\" points=\"1471.25,-55 1471.25,-90.5\"/>\n<text xml:space=\"preserve\" text-anchor=\"middle\" x=\"1511.88\" y=\"-67.7\" font-family=\"Times New Roman,serif\" font-size=\"14.00\">grad 1.0000</text>\n</g>\n<!-- 2840716888080tanh -->\n<g id=\"node2\" class=\"node\">\n<title>2840716888080tanh</title>\n<ellipse fill=\"none\" stroke=\"black\" cx=\"1305.75\" cy=\"-72.5\" rx=\"27\" ry=\"18\"/>\n<text xml:space=\"preserve\" text-anchor=\"middle\" x=\"1305.75\" y=\"-67.45\" font-family=\"Times New Roman,serif\" font-size=\"14.00\">tanh</text>\n</g>\n<!-- 2840716888080tanh&#45;&gt;2840716888080 -->\n<g id=\"edge1\" class=\"edge\">\n<title>2840716888080tanh&#45;&gt;2840716888080</title>\n<path fill=\"none\" stroke=\"black\" d=\"M1333.03,-72.5C1340.17,-72.5 1348.36,-72.5 1357.07,-72.5\"/>\n<polygon fill=\"black\" stroke=\"black\" points=\"1356.81,-76 1366.81,-72.5 1356.81,-69 1356.81,-76\"/>\n</g>\n<!-- 2840715527184 -->\n<g id=\"node3\" class=\"node\">\n<title>2840715527184</title>\n<polygon fill=\"none\" stroke=\"black\" points=\"3.75,-55.5 3.75,-91.5 194.25,-91.5 194.25,-55.5 3.75,-55.5\"/>\n<text xml:space=\"preserve\" text-anchor=\"middle\" x=\"18.5\" y=\"-68.7\" font-family=\"Times New Roman,serif\" font-size=\"14.00\">x2</text>\n<polyline fill=\"none\" stroke=\"black\" points=\"33.25,-56 33.25,-91.5\"/>\n<text xml:space=\"preserve\" text-anchor=\"middle\" x=\"73.12\" y=\"-68.7\" font-family=\"Times New Roman,serif\" font-size=\"14.00\">data 0.0000</text>\n<polyline fill=\"none\" stroke=\"black\" points=\"113,-56 113,-91.5\"/>\n<text xml:space=\"preserve\" text-anchor=\"middle\" x=\"153.62\" y=\"-68.7\" font-family=\"Times New Roman,serif\" font-size=\"14.00\">grad 0.0000</text>\n</g>\n<!-- 2840715526416* -->\n<g id=\"node13\" class=\"node\">\n<title>2840715526416*</title>\n<ellipse fill=\"none\" stroke=\"black\" cx=\"261\" cy=\"-73.5\" rx=\"27\" ry=\"18\"/>\n<text xml:space=\"preserve\" text-anchor=\"middle\" x=\"261\" y=\"-68.45\" font-family=\"Times New Roman,serif\" font-size=\"14.00\">*</text>\n</g>\n<!-- 2840715527184&#45;&gt;2840715526416* -->\n<g id=\"edge6\" class=\"edge\">\n<title>2840715527184&#45;&gt;2840715526416*</title>\n<path fill=\"none\" stroke=\"black\" d=\"M194.46,-73.5C204.21,-73.5 213.66,-73.5 222.21,-73.5\"/>\n<polygon fill=\"black\" stroke=\"black\" points=\"222.12,-77 232.12,-73.5 222.12,-70 222.12,-77\"/>\n</g>\n<!-- 2840715533456 -->\n<g id=\"node4\" class=\"node\">\n<title>2840715533456</title>\n<polygon fill=\"none\" stroke=\"black\" points=\"324,-110.5 324,-146.5 549.75,-146.5 549.75,-110.5 324,-110.5\"/>\n<text xml:space=\"preserve\" text-anchor=\"middle\" x=\"354.12\" y=\"-123.7\" font-family=\"Times New Roman,serif\" font-size=\"14.00\">x1 * w1</text>\n<polyline fill=\"none\" stroke=\"black\" points=\"384.25,-111 384.25,-146.5\"/>\n<text xml:space=\"preserve\" text-anchor=\"middle\" x=\"426.38\" y=\"-123.7\" font-family=\"Times New Roman,serif\" font-size=\"14.00\">data &#45;6.0000</text>\n<polyline fill=\"none\" stroke=\"black\" points=\"468.5,-111 468.5,-146.5\"/>\n<text xml:space=\"preserve\" text-anchor=\"middle\" x=\"509.12\" y=\"-123.7\" font-family=\"Times New Roman,serif\" font-size=\"14.00\">grad 0.5000</text>\n</g>\n<!-- 2840715537104+ -->\n<g id=\"node9\" class=\"node\">\n<title>2840715537104+</title>\n<ellipse fill=\"none\" stroke=\"black\" cx=\"612.75\" cy=\"-100.5\" rx=\"27\" ry=\"18\"/>\n<text xml:space=\"preserve\" text-anchor=\"middle\" x=\"612.75\" y=\"-95.45\" font-family=\"Times New Roman,serif\" font-size=\"14.00\">+</text>\n</g>\n<!-- 2840715533456&#45;&gt;2840715537104+ -->\n<g id=\"edge11\" class=\"edge\">\n<title>2840715533456&#45;&gt;2840715537104+</title>\n<path fill=\"none\" stroke=\"black\" d=\"M549.96,-110.45C558.76,-109.03 567.18,-107.68 574.82,-106.45\"/>\n<polygon fill=\"black\" stroke=\"black\" points=\"575.31,-109.91 584.63,-104.87 574.2,-103 575.31,-109.91\"/>\n</g>\n<!-- 2840715533456* -->\n<g id=\"node5\" class=\"node\">\n<title>2840715533456*</title>\n<ellipse fill=\"none\" stroke=\"black\" cx=\"261\" cy=\"-128.5\" rx=\"27\" ry=\"18\"/>\n<text xml:space=\"preserve\" text-anchor=\"middle\" x=\"261\" y=\"-123.45\" font-family=\"Times New Roman,serif\" font-size=\"14.00\">*</text>\n</g>\n<!-- 2840715533456*&#45;&gt;2840715533456 -->\n<g id=\"edge2\" class=\"edge\">\n<title>2840715533456*&#45;&gt;2840715533456</title>\n<path fill=\"none\" stroke=\"black\" d=\"M288.41,-128.5C295.49,-128.5 303.63,-128.5 312.38,-128.5\"/>\n<polygon fill=\"black\" stroke=\"black\" points=\"312.24,-132 322.24,-128.5 312.24,-125 312.24,-132\"/>\n</g>\n<!-- 2840715530448 -->\n<g id=\"node6\" class=\"node\">\n<title>2840715530448</title>\n<polygon fill=\"none\" stroke=\"black\" points=\"1059,-54.5 1059,-90.5 1242.75,-90.5 1242.75,-54.5 1059,-54.5\"/>\n<text xml:space=\"preserve\" text-anchor=\"middle\" x=\"1070.38\" y=\"-67.7\" font-family=\"Times New Roman,serif\" font-size=\"14.00\">n</text>\n<polyline fill=\"none\" stroke=\"black\" points=\"1081.75,-55 1081.75,-90.5\"/>\n<text xml:space=\"preserve\" text-anchor=\"middle\" x=\"1121.62\" y=\"-67.7\" font-family=\"Times New Roman,serif\" font-size=\"14.00\">data 0.8814</text>\n<polyline fill=\"none\" stroke=\"black\" points=\"1161.5,-55 1161.5,-90.5\"/>\n<text xml:space=\"preserve\" text-anchor=\"middle\" x=\"1202.12\" y=\"-67.7\" font-family=\"Times New Roman,serif\" font-size=\"14.00\">grad 0.5000</text>\n</g>\n<!-- 2840715530448&#45;&gt;2840716888080tanh -->\n<g id=\"edge12\" class=\"edge\">\n<title>2840715530448&#45;&gt;2840716888080tanh</title>\n<path fill=\"none\" stroke=\"black\" d=\"M1243.01,-72.5C1251.39,-72.5 1259.52,-72.5 1266.98,-72.5\"/>\n<polygon fill=\"black\" stroke=\"black\" points=\"1266.95,-76 1276.95,-72.5 1266.95,-69 1266.95,-76\"/>\n</g>\n<!-- 2840715530448+ -->\n<g id=\"node7\" class=\"node\">\n<title>2840715530448+</title>\n<ellipse fill=\"none\" stroke=\"black\" cx=\"996\" cy=\"-72.5\" rx=\"27\" ry=\"18\"/>\n<text xml:space=\"preserve\" text-anchor=\"middle\" x=\"996\" y=\"-67.45\" font-family=\"Times New Roman,serif\" font-size=\"14.00\">+</text>\n</g>\n<!-- 2840715530448+&#45;&gt;2840715530448 -->\n<g id=\"edge3\" class=\"edge\">\n<title>2840715530448+&#45;&gt;2840715530448</title>\n<path fill=\"none\" stroke=\"black\" d=\"M1023.28,-72.5C1030.42,-72.5 1038.61,-72.5 1047.32,-72.5\"/>\n<polygon fill=\"black\" stroke=\"black\" points=\"1047.06,-76 1057.06,-72.5 1047.06,-69 1047.06,-76\"/>\n</g>\n<!-- 2840715537104 -->\n<g id=\"node8\" class=\"node\">\n<title>2840715537104</title>\n<polygon fill=\"none\" stroke=\"black\" points=\"675.75,-82.5 675.75,-118.5 933,-118.5 933,-82.5 675.75,-82.5\"/>\n<text xml:space=\"preserve\" text-anchor=\"middle\" x=\"721.62\" y=\"-95.7\" font-family=\"Times New Roman,serif\" font-size=\"14.00\">x1w1 + x2w2</text>\n<polyline fill=\"none\" stroke=\"black\" points=\"767.5,-83 767.5,-118.5\"/>\n<text xml:space=\"preserve\" text-anchor=\"middle\" x=\"809.62\" y=\"-95.7\" font-family=\"Times New Roman,serif\" font-size=\"14.00\">data &#45;6.0000</text>\n<polyline fill=\"none\" stroke=\"black\" points=\"851.75,-83 851.75,-118.5\"/>\n<text xml:space=\"preserve\" text-anchor=\"middle\" x=\"892.38\" y=\"-95.7\" font-family=\"Times New Roman,serif\" font-size=\"14.00\">grad 0.5000</text>\n</g>\n<!-- 2840715537104&#45;&gt;2840715530448+ -->\n<g id=\"edge14\" class=\"edge\">\n<title>2840715537104&#45;&gt;2840715530448+</title>\n<path fill=\"none\" stroke=\"black\" d=\"M930.54,-82.02C940.4,-80.56 949.78,-79.18 958.17,-77.94\"/>\n<polygon fill=\"black\" stroke=\"black\" points=\"958.44,-81.44 967.83,-76.51 957.42,-74.51 958.44,-81.44\"/>\n</g>\n<!-- 2840715537104+&#45;&gt;2840715537104 -->\n<g id=\"edge4\" class=\"edge\">\n<title>2840715537104+&#45;&gt;2840715537104</title>\n<path fill=\"none\" stroke=\"black\" d=\"M640.12,-100.5C647.13,-100.5 655.21,-100.5 663.95,-100.5\"/>\n<polygon fill=\"black\" stroke=\"black\" points=\"663.82,-104 673.82,-100.5 663.82,-97 663.82,-104\"/>\n</g>\n<!-- 2840715540176 -->\n<g id=\"node10\" class=\"node\">\n<title>2840715540176</title>\n<polygon fill=\"none\" stroke=\"black\" points=\"712.5,-27.5 712.5,-63.5 896.25,-63.5 896.25,-27.5 712.5,-27.5\"/>\n<text xml:space=\"preserve\" text-anchor=\"middle\" x=\"723.88\" y=\"-40.7\" font-family=\"Times New Roman,serif\" font-size=\"14.00\">b</text>\n<polyline fill=\"none\" stroke=\"black\" points=\"735.25,-28 735.25,-63.5\"/>\n<text xml:space=\"preserve\" text-anchor=\"middle\" x=\"775.12\" y=\"-40.7\" font-family=\"Times New Roman,serif\" font-size=\"14.00\">data 6.8814</text>\n<polyline fill=\"none\" stroke=\"black\" points=\"815,-28 815,-63.5\"/>\n<text xml:space=\"preserve\" text-anchor=\"middle\" x=\"855.62\" y=\"-40.7\" font-family=\"Times New Roman,serif\" font-size=\"14.00\">grad 0.5000</text>\n</g>\n<!-- 2840715540176&#45;&gt;2840715530448+ -->\n<g id=\"edge13\" class=\"edge\">\n<title>2840715540176&#45;&gt;2840715530448+</title>\n<path fill=\"none\" stroke=\"black\" d=\"M896.58,-58.49C918.42,-61.6 940.52,-64.74 958.23,-67.26\"/>\n<polygon fill=\"black\" stroke=\"black\" points=\"957.57,-70.71 967.96,-68.65 958.55,-63.78 957.57,-70.71\"/>\n</g>\n<!-- 2840715534096 -->\n<g id=\"node11\" class=\"node\">\n<title>2840715534096</title>\n<polygon fill=\"none\" stroke=\"black\" points=\"0,-165.5 0,-201.5 198,-201.5 198,-165.5 0,-165.5\"/>\n<text xml:space=\"preserve\" text-anchor=\"middle\" x=\"16.25\" y=\"-178.7\" font-family=\"Times New Roman,serif\" font-size=\"14.00\">w1</text>\n<polyline fill=\"none\" stroke=\"black\" points=\"32.5,-166 32.5,-201.5\"/>\n<text xml:space=\"preserve\" text-anchor=\"middle\" x=\"74.62\" y=\"-178.7\" font-family=\"Times New Roman,serif\" font-size=\"14.00\">data &#45;3.0000</text>\n<polyline fill=\"none\" stroke=\"black\" points=\"116.75,-166 116.75,-201.5\"/>\n<text xml:space=\"preserve\" text-anchor=\"middle\" x=\"157.38\" y=\"-178.7\" font-family=\"Times New Roman,serif\" font-size=\"14.00\">grad 1.0000</text>\n</g>\n<!-- 2840715534096&#45;&gt;2840715533456* -->\n<g id=\"edge7\" class=\"edge\">\n<title>2840715534096&#45;&gt;2840715533456*</title>\n<path fill=\"none\" stroke=\"black\" d=\"M172.12,-165.01C180.9,-162.35 189.7,-159.5 198,-156.5 208.09,-152.86 218.82,-148.27 228.47,-143.88\"/>\n<polygon fill=\"black\" stroke=\"black\" points=\"229.86,-147.09 237.45,-139.69 226.9,-140.75 229.86,-147.09\"/>\n</g>\n<!-- 2840715526416 -->\n<g id=\"node12\" class=\"node\">\n<title>2840715526416</title>\n<polygon fill=\"none\" stroke=\"black\" points=\"326.25,-55.5 326.25,-91.5 547.5,-91.5 547.5,-55.5 326.25,-55.5\"/>\n<text xml:space=\"preserve\" text-anchor=\"middle\" x=\"356.38\" y=\"-68.7\" font-family=\"Times New Roman,serif\" font-size=\"14.00\">x2 * w2</text>\n<polyline fill=\"none\" stroke=\"black\" points=\"386.5,-56 386.5,-91.5\"/>\n<text xml:space=\"preserve\" text-anchor=\"middle\" x=\"426.38\" y=\"-68.7\" font-family=\"Times New Roman,serif\" font-size=\"14.00\">data 0.0000</text>\n<polyline fill=\"none\" stroke=\"black\" points=\"466.25,-56 466.25,-91.5\"/>\n<text xml:space=\"preserve\" text-anchor=\"middle\" x=\"506.88\" y=\"-68.7\" font-family=\"Times New Roman,serif\" font-size=\"14.00\">grad 0.5000</text>\n</g>\n<!-- 2840715526416&#45;&gt;2840715537104+ -->\n<g id=\"edge9\" class=\"edge\">\n<title>2840715526416&#45;&gt;2840715537104+</title>\n<path fill=\"none\" stroke=\"black\" d=\"M547.99,-90.6C557.5,-92.08 566.61,-93.49 574.82,-94.77\"/>\n<polygon fill=\"black\" stroke=\"black\" points=\"574.23,-98.22 584.65,-96.29 575.3,-91.3 574.23,-98.22\"/>\n</g>\n<!-- 2840715526416*&#45;&gt;2840715526416 -->\n<g id=\"edge5\" class=\"edge\">\n<title>2840715526416*&#45;&gt;2840715526416</title>\n<path fill=\"none\" stroke=\"black\" d=\"M288.41,-73.5C296.06,-73.5 304.94,-73.5 314.49,-73.5\"/>\n<polygon fill=\"black\" stroke=\"black\" points=\"314.46,-77 324.46,-73.5 314.46,-70 314.46,-77\"/>\n</g>\n<!-- 2840702110096 -->\n<g id=\"node14\" class=\"node\">\n<title>2840702110096</title>\n<polygon fill=\"none\" stroke=\"black\" points=\"3.75,-110.5 3.75,-146.5 194.25,-146.5 194.25,-110.5 3.75,-110.5\"/>\n<text xml:space=\"preserve\" text-anchor=\"middle\" x=\"18.5\" y=\"-123.7\" font-family=\"Times New Roman,serif\" font-size=\"14.00\">x1</text>\n<polyline fill=\"none\" stroke=\"black\" points=\"33.25,-111 33.25,-146.5\"/>\n<text xml:space=\"preserve\" text-anchor=\"middle\" x=\"73.12\" y=\"-123.7\" font-family=\"Times New Roman,serif\" font-size=\"14.00\">data 2.0000</text>\n<polyline fill=\"none\" stroke=\"black\" points=\"113,-111 113,-146.5\"/>\n<text xml:space=\"preserve\" text-anchor=\"middle\" x=\"153.62\" y=\"-123.7\" font-family=\"Times New Roman,serif\" font-size=\"14.00\">grad 0.5000</text>\n</g>\n<!-- 2840702110096&#45;&gt;2840715533456* -->\n<g id=\"edge10\" class=\"edge\">\n<title>2840702110096&#45;&gt;2840715533456*</title>\n<path fill=\"none\" stroke=\"black\" d=\"M194.46,-128.5C204.21,-128.5 213.66,-128.5 222.21,-128.5\"/>\n<polygon fill=\"black\" stroke=\"black\" points=\"222.12,-132 232.12,-128.5 222.12,-125 222.12,-132\"/>\n</g>\n<!-- 2840715539408 -->\n<g id=\"node15\" class=\"node\">\n<title>2840715539408</title>\n<polygon fill=\"none\" stroke=\"black\" points=\"2.25,-0.5 2.25,-36.5 195.75,-36.5 195.75,-0.5 2.25,-0.5\"/>\n<text xml:space=\"preserve\" text-anchor=\"middle\" x=\"18.5\" y=\"-13.7\" font-family=\"Times New Roman,serif\" font-size=\"14.00\">w2</text>\n<polyline fill=\"none\" stroke=\"black\" points=\"34.75,-1 34.75,-36.5\"/>\n<text xml:space=\"preserve\" text-anchor=\"middle\" x=\"74.62\" y=\"-13.7\" font-family=\"Times New Roman,serif\" font-size=\"14.00\">data 1.0000</text>\n<polyline fill=\"none\" stroke=\"black\" points=\"114.5,-1 114.5,-36.5\"/>\n<text xml:space=\"preserve\" text-anchor=\"middle\" x=\"155.12\" y=\"-13.7\" font-family=\"Times New Roman,serif\" font-size=\"14.00\">grad 0.0000</text>\n</g>\n<!-- 2840715539408&#45;&gt;2840715526416* -->\n<g id=\"edge8\" class=\"edge\">\n<title>2840715539408&#45;&gt;2840715526416*</title>\n<path fill=\"none\" stroke=\"black\" d=\"M172.12,-36.99C180.9,-39.65 189.7,-42.5 198,-45.5 208.09,-49.14 218.82,-53.73 228.47,-58.12\"/>\n<polygon fill=\"black\" stroke=\"black\" points=\"226.9,-61.25 237.45,-62.31 229.86,-54.91 226.9,-61.25\"/>\n</g>\n</g>\n</svg>\n",
      "text/plain": [
       "<graphviz.graphs.Digraph at 0x29567f07610>"
      ]
     },
     "execution_count": 160,
     "metadata": {},
     "output_type": "execute_result"
    }
   ],
   "execution_count": 160
  },
  {
   "metadata": {
    "ExecuteTime": {
     "end_time": "2025-08-24T18:14:46.179235Z",
     "start_time": "2025-08-24T18:14:46.169233Z"
    }
   },
   "cell_type": "code",
   "source": [
    "class Value:\n",
    "  \n",
    "  def __init__(self, data, _children=(), _op='', label=''):\n",
    "    self.data = data\n",
    "    self.grad = 0.0\n",
    "    self._backward = lambda: None\n",
    "    self._prev = set(_children)\n",
    "    self._op = _op\n",
    "    self.label = label\n",
    "\n",
    "  def __repr__(self):\n",
    "    return f\"Value(data={self.data})\"\n",
    "  \n",
    "  def __add__(self, other):\n",
    "    out = Value(self.data + other.data, (self, other), '+')\n",
    "    \n",
    "    def _backward():\n",
    "      self.grad += 1.0 * out.grad\n",
    "      other.grad += 1.0 * out.grad\n",
    "    out._backward = _backward\n",
    "    \n",
    "    return out\n",
    "\n",
    "  def __mul__(self, other):\n",
    "    out = Value(self.data * other.data, (self, other), '*')\n",
    "    \n",
    "    def _backward():\n",
    "      self.grad += other.data * out.grad\n",
    "      other.grad += self.data * out.grad\n",
    "    out._backward = _backward\n",
    "      \n",
    "    return out\n",
    "  \n",
    "  def tanh(self):\n",
    "    x = self.data\n",
    "    t = (math.exp(2*x) - 1)/(math.exp(2*x) + 1)\n",
    "    out = Value(t, (self, ), 'tanh')\n",
    "    \n",
    "    def _backward():\n",
    "      self.grad += (1 - t**2) * out.grad\n",
    "    out._backward = _backward\n",
    "    \n",
    "    return out\n",
    "  \n",
    "  def backward(self):\n",
    "    \n",
    "    topo = []\n",
    "    visited = set()\n",
    "    def build_topo(v):\n",
    "      if v not in visited:\n",
    "        visited.add(v)\n",
    "        for child in v._prev:\n",
    "          build_topo(child)\n",
    "        topo.append(v)\n",
    "    build_topo(self)\n",
    "    \n",
    "    self.grad = 1.0\n",
    "    for node in reversed(topo):\n",
    "      node._backward()\n"
   ],
   "id": "c0d371602f664c0f",
   "outputs": [],
   "execution_count": 184
  },
  {
   "metadata": {
    "ExecuteTime": {
     "end_time": "2025-08-24T18:14:47.251323Z",
     "start_time": "2025-08-24T18:14:46.513563Z"
    }
   },
   "cell_type": "code",
   "source": [
    "import math\n",
    "x1 = Value(2.0, label = 'x1')\n",
    "x2 = Value(0.0, label = 'x2')\n",
    "\n",
    "w1 = Value(-3.0, label = 'w1')\n",
    "w2 = Value(1.0, label = 'w2')\n",
    "\n",
    "b = Value(6.88137, label = 'b')\n",
    "\n",
    "x1w1 = x1 * w1; x1w1.label = 'x1 * w1'\n",
    "\n",
    "x2w2 = x2 * w2; x2w2.label = 'x2 * w2'\n",
    "\n",
    "\n",
    "x1w1x2w2 = x1w1 + x2w2; x1w1x2w2.label = 'x1w1 + x2w2'\n",
    "\n",
    "n = x1w1x2w2 + b ; n.label = 'n'\n",
    "\n",
    "o = n.tanh(); o.label = 'o'\n",
    "\n",
    "draw_dot(o)"
   ],
   "id": "cc21a7c7e9186e35",
   "outputs": [
    {
     "data": {
      "image/svg+xml": "<?xml version=\"1.0\" encoding=\"UTF-8\" standalone=\"no\"?>\n<!DOCTYPE svg PUBLIC \"-//W3C//DTD SVG 1.1//EN\"\n \"http://www.w3.org/Graphics/SVG/1.1/DTD/svg11.dtd\">\n<!-- Generated by graphviz version 13.1.2 (20250808.2320)\n -->\n<!-- Pages: 1 -->\n<svg width=\"1561pt\" height=\"210pt\"\n viewBox=\"0.00 0.00 1561.00 210.00\" xmlns=\"http://www.w3.org/2000/svg\" xmlns:xlink=\"http://www.w3.org/1999/xlink\">\n<g id=\"graph0\" class=\"graph\" transform=\"scale(1 1) rotate(0) translate(4 206)\">\n<polygon fill=\"white\" stroke=\"none\" points=\"-4,4 -4,-206 1556.5,-206 1556.5,4 -4,4\"/>\n<!-- 2840718201872 -->\n<g id=\"node1\" class=\"node\">\n<title>2840718201872</title>\n<polygon fill=\"none\" stroke=\"black\" points=\"3.75,-165.5 3.75,-201.5 194.25,-201.5 194.25,-165.5 3.75,-165.5\"/>\n<text xml:space=\"preserve\" text-anchor=\"middle\" x=\"18.5\" y=\"-178.7\" font-family=\"Times New Roman,serif\" font-size=\"14.00\">x2</text>\n<polyline fill=\"none\" stroke=\"black\" points=\"33.25,-166 33.25,-201.5\"/>\n<text xml:space=\"preserve\" text-anchor=\"middle\" x=\"73.12\" y=\"-178.7\" font-family=\"Times New Roman,serif\" font-size=\"14.00\">data 0.0000</text>\n<polyline fill=\"none\" stroke=\"black\" points=\"113,-166 113,-201.5\"/>\n<text xml:space=\"preserve\" text-anchor=\"middle\" x=\"153.62\" y=\"-178.7\" font-family=\"Times New Roman,serif\" font-size=\"14.00\">grad 0.0000</text>\n</g>\n<!-- 2840718198096* -->\n<g id=\"node12\" class=\"node\">\n<title>2840718198096*</title>\n<ellipse fill=\"none\" stroke=\"black\" cx=\"261\" cy=\"-128.5\" rx=\"27\" ry=\"18\"/>\n<text xml:space=\"preserve\" text-anchor=\"middle\" x=\"261\" y=\"-123.45\" font-family=\"Times New Roman,serif\" font-size=\"14.00\">*</text>\n</g>\n<!-- 2840718201872&#45;&gt;2840718198096* -->\n<g id=\"edge9\" class=\"edge\">\n<title>2840718201872&#45;&gt;2840718198096*</title>\n<path fill=\"none\" stroke=\"black\" d=\"M172.12,-165.01C180.9,-162.35 189.7,-159.5 198,-156.5 208.09,-152.86 218.82,-148.27 228.47,-143.88\"/>\n<polygon fill=\"black\" stroke=\"black\" points=\"229.86,-147.09 237.45,-139.69 226.9,-140.75 229.86,-147.09\"/>\n</g>\n<!-- 2840718043728 -->\n<g id=\"node2\" class=\"node\">\n<title>2840718043728</title>\n<polygon fill=\"none\" stroke=\"black\" points=\"3.75,-55.5 3.75,-91.5 194.25,-91.5 194.25,-55.5 3.75,-55.5\"/>\n<text xml:space=\"preserve\" text-anchor=\"middle\" x=\"18.5\" y=\"-68.7\" font-family=\"Times New Roman,serif\" font-size=\"14.00\">x1</text>\n<polyline fill=\"none\" stroke=\"black\" points=\"33.25,-56 33.25,-91.5\"/>\n<text xml:space=\"preserve\" text-anchor=\"middle\" x=\"73.12\" y=\"-68.7\" font-family=\"Times New Roman,serif\" font-size=\"14.00\">data 2.0000</text>\n<polyline fill=\"none\" stroke=\"black\" points=\"113,-56 113,-91.5\"/>\n<text xml:space=\"preserve\" text-anchor=\"middle\" x=\"153.62\" y=\"-68.7\" font-family=\"Times New Roman,serif\" font-size=\"14.00\">grad 0.0000</text>\n</g>\n<!-- 2840718202128* -->\n<g id=\"node7\" class=\"node\">\n<title>2840718202128*</title>\n<ellipse fill=\"none\" stroke=\"black\" cx=\"261\" cy=\"-73.5\" rx=\"27\" ry=\"18\"/>\n<text xml:space=\"preserve\" text-anchor=\"middle\" x=\"261\" y=\"-68.45\" font-family=\"Times New Roman,serif\" font-size=\"14.00\">*</text>\n</g>\n<!-- 2840718043728&#45;&gt;2840718202128* -->\n<g id=\"edge6\" class=\"edge\">\n<title>2840718043728&#45;&gt;2840718202128*</title>\n<path fill=\"none\" stroke=\"black\" d=\"M194.46,-73.5C204.21,-73.5 213.66,-73.5 222.21,-73.5\"/>\n<polygon fill=\"black\" stroke=\"black\" points=\"222.12,-77 232.12,-73.5 222.12,-70 222.12,-77\"/>\n</g>\n<!-- 2840718207120 -->\n<g id=\"node3\" class=\"node\">\n<title>2840718207120</title>\n<polygon fill=\"none\" stroke=\"black\" points=\"0,-0.5 0,-36.5 198,-36.5 198,-0.5 0,-0.5\"/>\n<text xml:space=\"preserve\" text-anchor=\"middle\" x=\"16.25\" y=\"-13.7\" font-family=\"Times New Roman,serif\" font-size=\"14.00\">w1</text>\n<polyline fill=\"none\" stroke=\"black\" points=\"32.5,-1 32.5,-36.5\"/>\n<text xml:space=\"preserve\" text-anchor=\"middle\" x=\"74.62\" y=\"-13.7\" font-family=\"Times New Roman,serif\" font-size=\"14.00\">data &#45;3.0000</text>\n<polyline fill=\"none\" stroke=\"black\" points=\"116.75,-1 116.75,-36.5\"/>\n<text xml:space=\"preserve\" text-anchor=\"middle\" x=\"157.38\" y=\"-13.7\" font-family=\"Times New Roman,serif\" font-size=\"14.00\">grad 0.0000</text>\n</g>\n<!-- 2840718207120&#45;&gt;2840718202128* -->\n<g id=\"edge8\" class=\"edge\">\n<title>2840718207120&#45;&gt;2840718202128*</title>\n<path fill=\"none\" stroke=\"black\" d=\"M172.12,-36.99C180.9,-39.65 189.7,-42.5 198,-45.5 208.09,-49.14 218.82,-53.73 228.47,-58.12\"/>\n<polygon fill=\"black\" stroke=\"black\" points=\"226.9,-61.25 237.45,-62.31 229.86,-54.91 226.9,-61.25\"/>\n</g>\n<!-- 2840718156496 -->\n<g id=\"node4\" class=\"node\">\n<title>2840718156496</title>\n<polygon fill=\"none\" stroke=\"black\" points=\"1368.75,-54.5 1368.75,-90.5 1552.5,-90.5 1552.5,-54.5 1368.75,-54.5\"/>\n<text xml:space=\"preserve\" text-anchor=\"middle\" x=\"1380.12\" y=\"-67.7\" font-family=\"Times New Roman,serif\" font-size=\"14.00\">o</text>\n<polyline fill=\"none\" stroke=\"black\" points=\"1391.5,-55 1391.5,-90.5\"/>\n<text xml:space=\"preserve\" text-anchor=\"middle\" x=\"1431.38\" y=\"-67.7\" font-family=\"Times New Roman,serif\" font-size=\"14.00\">data 0.7071</text>\n<polyline fill=\"none\" stroke=\"black\" points=\"1471.25,-55 1471.25,-90.5\"/>\n<text xml:space=\"preserve\" text-anchor=\"middle\" x=\"1511.88\" y=\"-67.7\" font-family=\"Times New Roman,serif\" font-size=\"14.00\">grad 0.0000</text>\n</g>\n<!-- 2840718156496tanh -->\n<g id=\"node5\" class=\"node\">\n<title>2840718156496tanh</title>\n<ellipse fill=\"none\" stroke=\"black\" cx=\"1305.75\" cy=\"-72.5\" rx=\"27\" ry=\"18\"/>\n<text xml:space=\"preserve\" text-anchor=\"middle\" x=\"1305.75\" y=\"-67.45\" font-family=\"Times New Roman,serif\" font-size=\"14.00\">tanh</text>\n</g>\n<!-- 2840718156496tanh&#45;&gt;2840718156496 -->\n<g id=\"edge1\" class=\"edge\">\n<title>2840718156496tanh&#45;&gt;2840718156496</title>\n<path fill=\"none\" stroke=\"black\" d=\"M1333.03,-72.5C1340.17,-72.5 1348.36,-72.5 1357.07,-72.5\"/>\n<polygon fill=\"black\" stroke=\"black\" points=\"1356.81,-76 1366.81,-72.5 1356.81,-69 1356.81,-76\"/>\n</g>\n<!-- 2840718202128 -->\n<g id=\"node6\" class=\"node\">\n<title>2840718202128</title>\n<polygon fill=\"none\" stroke=\"black\" points=\"324,-55.5 324,-91.5 549.75,-91.5 549.75,-55.5 324,-55.5\"/>\n<text xml:space=\"preserve\" text-anchor=\"middle\" x=\"354.12\" y=\"-68.7\" font-family=\"Times New Roman,serif\" font-size=\"14.00\">x1 * w1</text>\n<polyline fill=\"none\" stroke=\"black\" points=\"384.25,-56 384.25,-91.5\"/>\n<text xml:space=\"preserve\" text-anchor=\"middle\" x=\"426.38\" y=\"-68.7\" font-family=\"Times New Roman,serif\" font-size=\"14.00\">data &#45;6.0000</text>\n<polyline fill=\"none\" stroke=\"black\" points=\"468.5,-56 468.5,-91.5\"/>\n<text xml:space=\"preserve\" text-anchor=\"middle\" x=\"509.12\" y=\"-68.7\" font-family=\"Times New Roman,serif\" font-size=\"14.00\">grad 0.0000</text>\n</g>\n<!-- 2840718199760+ -->\n<g id=\"node15\" class=\"node\">\n<title>2840718199760+</title>\n<ellipse fill=\"none\" stroke=\"black\" cx=\"612.75\" cy=\"-100.5\" rx=\"27\" ry=\"18\"/>\n<text xml:space=\"preserve\" text-anchor=\"middle\" x=\"612.75\" y=\"-95.45\" font-family=\"Times New Roman,serif\" font-size=\"14.00\">+</text>\n</g>\n<!-- 2840718202128&#45;&gt;2840718199760+ -->\n<g id=\"edge10\" class=\"edge\">\n<title>2840718202128&#45;&gt;2840718199760+</title>\n<path fill=\"none\" stroke=\"black\" d=\"M549.96,-90.9C558.76,-92.27 567.18,-93.58 574.82,-94.76\"/>\n<polygon fill=\"black\" stroke=\"black\" points=\"574.21,-98.21 584.63,-96.29 575.28,-91.3 574.21,-98.21\"/>\n</g>\n<!-- 2840718202128*&#45;&gt;2840718202128 -->\n<g id=\"edge2\" class=\"edge\">\n<title>2840718202128*&#45;&gt;2840718202128</title>\n<path fill=\"none\" stroke=\"black\" d=\"M288.41,-73.5C295.49,-73.5 303.63,-73.5 312.38,-73.5\"/>\n<polygon fill=\"black\" stroke=\"black\" points=\"312.24,-77 322.24,-73.5 312.24,-70 312.24,-77\"/>\n</g>\n<!-- 2840718208272 -->\n<g id=\"node8\" class=\"node\">\n<title>2840718208272</title>\n<polygon fill=\"none\" stroke=\"black\" points=\"1059,-54.5 1059,-90.5 1242.75,-90.5 1242.75,-54.5 1059,-54.5\"/>\n<text xml:space=\"preserve\" text-anchor=\"middle\" x=\"1070.38\" y=\"-67.7\" font-family=\"Times New Roman,serif\" font-size=\"14.00\">n</text>\n<polyline fill=\"none\" stroke=\"black\" points=\"1081.75,-55 1081.75,-90.5\"/>\n<text xml:space=\"preserve\" text-anchor=\"middle\" x=\"1121.62\" y=\"-67.7\" font-family=\"Times New Roman,serif\" font-size=\"14.00\">data 0.8814</text>\n<polyline fill=\"none\" stroke=\"black\" points=\"1161.5,-55 1161.5,-90.5\"/>\n<text xml:space=\"preserve\" text-anchor=\"middle\" x=\"1202.12\" y=\"-67.7\" font-family=\"Times New Roman,serif\" font-size=\"14.00\">grad 0.0000</text>\n</g>\n<!-- 2840718208272&#45;&gt;2840718156496tanh -->\n<g id=\"edge13\" class=\"edge\">\n<title>2840718208272&#45;&gt;2840718156496tanh</title>\n<path fill=\"none\" stroke=\"black\" d=\"M1243.01,-72.5C1251.39,-72.5 1259.52,-72.5 1266.98,-72.5\"/>\n<polygon fill=\"black\" stroke=\"black\" points=\"1266.95,-76 1276.95,-72.5 1266.95,-69 1266.95,-76\"/>\n</g>\n<!-- 2840718208272+ -->\n<g id=\"node9\" class=\"node\">\n<title>2840718208272+</title>\n<ellipse fill=\"none\" stroke=\"black\" cx=\"996\" cy=\"-72.5\" rx=\"27\" ry=\"18\"/>\n<text xml:space=\"preserve\" text-anchor=\"middle\" x=\"996\" y=\"-67.45\" font-family=\"Times New Roman,serif\" font-size=\"14.00\">+</text>\n</g>\n<!-- 2840718208272+&#45;&gt;2840718208272 -->\n<g id=\"edge3\" class=\"edge\">\n<title>2840718208272+&#45;&gt;2840718208272</title>\n<path fill=\"none\" stroke=\"black\" d=\"M1023.28,-72.5C1030.42,-72.5 1038.61,-72.5 1047.32,-72.5\"/>\n<polygon fill=\"black\" stroke=\"black\" points=\"1047.06,-76 1057.06,-72.5 1047.06,-69 1047.06,-76\"/>\n</g>\n<!-- 2840718203152 -->\n<g id=\"node10\" class=\"node\">\n<title>2840718203152</title>\n<polygon fill=\"none\" stroke=\"black\" points=\"712.5,-27.5 712.5,-63.5 896.25,-63.5 896.25,-27.5 712.5,-27.5\"/>\n<text xml:space=\"preserve\" text-anchor=\"middle\" x=\"723.88\" y=\"-40.7\" font-family=\"Times New Roman,serif\" font-size=\"14.00\">b</text>\n<polyline fill=\"none\" stroke=\"black\" points=\"735.25,-28 735.25,-63.5\"/>\n<text xml:space=\"preserve\" text-anchor=\"middle\" x=\"775.12\" y=\"-40.7\" font-family=\"Times New Roman,serif\" font-size=\"14.00\">data 6.8814</text>\n<polyline fill=\"none\" stroke=\"black\" points=\"815,-28 815,-63.5\"/>\n<text xml:space=\"preserve\" text-anchor=\"middle\" x=\"855.62\" y=\"-40.7\" font-family=\"Times New Roman,serif\" font-size=\"14.00\">grad 0.0000</text>\n</g>\n<!-- 2840718203152&#45;&gt;2840718208272+ -->\n<g id=\"edge14\" class=\"edge\">\n<title>2840718203152&#45;&gt;2840718208272+</title>\n<path fill=\"none\" stroke=\"black\" d=\"M896.58,-58.49C918.42,-61.6 940.52,-64.74 958.23,-67.26\"/>\n<polygon fill=\"black\" stroke=\"black\" points=\"957.57,-70.71 967.96,-68.65 958.55,-63.78 957.57,-70.71\"/>\n</g>\n<!-- 2840718198096 -->\n<g id=\"node11\" class=\"node\">\n<title>2840718198096</title>\n<polygon fill=\"none\" stroke=\"black\" points=\"326.25,-110.5 326.25,-146.5 547.5,-146.5 547.5,-110.5 326.25,-110.5\"/>\n<text xml:space=\"preserve\" text-anchor=\"middle\" x=\"356.38\" y=\"-123.7\" font-family=\"Times New Roman,serif\" font-size=\"14.00\">x2 * w2</text>\n<polyline fill=\"none\" stroke=\"black\" points=\"386.5,-111 386.5,-146.5\"/>\n<text xml:space=\"preserve\" text-anchor=\"middle\" x=\"426.38\" y=\"-123.7\" font-family=\"Times New Roman,serif\" font-size=\"14.00\">data 0.0000</text>\n<polyline fill=\"none\" stroke=\"black\" points=\"466.25,-111 466.25,-146.5\"/>\n<text xml:space=\"preserve\" text-anchor=\"middle\" x=\"506.88\" y=\"-123.7\" font-family=\"Times New Roman,serif\" font-size=\"14.00\">grad 0.0000</text>\n</g>\n<!-- 2840718198096&#45;&gt;2840718199760+ -->\n<g id=\"edge7\" class=\"edge\">\n<title>2840718198096&#45;&gt;2840718199760+</title>\n<path fill=\"none\" stroke=\"black\" d=\"M547.99,-110.77C557.5,-109.24 566.61,-107.77 574.82,-106.45\"/>\n<polygon fill=\"black\" stroke=\"black\" points=\"575.33,-109.91 584.65,-104.86 574.22,-103 575.33,-109.91\"/>\n</g>\n<!-- 2840718198096*&#45;&gt;2840718198096 -->\n<g id=\"edge4\" class=\"edge\">\n<title>2840718198096*&#45;&gt;2840718198096</title>\n<path fill=\"none\" stroke=\"black\" d=\"M288.41,-128.5C296.06,-128.5 304.94,-128.5 314.49,-128.5\"/>\n<polygon fill=\"black\" stroke=\"black\" points=\"314.46,-132 324.46,-128.5 314.46,-125 314.46,-132\"/>\n</g>\n<!-- 2840718199120 -->\n<g id=\"node13\" class=\"node\">\n<title>2840718199120</title>\n<polygon fill=\"none\" stroke=\"black\" points=\"2.25,-110.5 2.25,-146.5 195.75,-146.5 195.75,-110.5 2.25,-110.5\"/>\n<text xml:space=\"preserve\" text-anchor=\"middle\" x=\"18.5\" y=\"-123.7\" font-family=\"Times New Roman,serif\" font-size=\"14.00\">w2</text>\n<polyline fill=\"none\" stroke=\"black\" points=\"34.75,-111 34.75,-146.5\"/>\n<text xml:space=\"preserve\" text-anchor=\"middle\" x=\"74.62\" y=\"-123.7\" font-family=\"Times New Roman,serif\" font-size=\"14.00\">data 1.0000</text>\n<polyline fill=\"none\" stroke=\"black\" points=\"114.5,-111 114.5,-146.5\"/>\n<text xml:space=\"preserve\" text-anchor=\"middle\" x=\"155.12\" y=\"-123.7\" font-family=\"Times New Roman,serif\" font-size=\"14.00\">grad 0.0000</text>\n</g>\n<!-- 2840718199120&#45;&gt;2840718198096* -->\n<g id=\"edge12\" class=\"edge\">\n<title>2840718199120&#45;&gt;2840718198096*</title>\n<path fill=\"none\" stroke=\"black\" d=\"M195.84,-128.5C205.14,-128.5 214.15,-128.5 222.32,-128.5\"/>\n<polygon fill=\"black\" stroke=\"black\" points=\"222.13,-132 232.13,-128.5 222.13,-125 222.13,-132\"/>\n</g>\n<!-- 2840718199760 -->\n<g id=\"node14\" class=\"node\">\n<title>2840718199760</title>\n<polygon fill=\"none\" stroke=\"black\" points=\"675.75,-82.5 675.75,-118.5 933,-118.5 933,-82.5 675.75,-82.5\"/>\n<text xml:space=\"preserve\" text-anchor=\"middle\" x=\"721.62\" y=\"-95.7\" font-family=\"Times New Roman,serif\" font-size=\"14.00\">x1w1 + x2w2</text>\n<polyline fill=\"none\" stroke=\"black\" points=\"767.5,-83 767.5,-118.5\"/>\n<text xml:space=\"preserve\" text-anchor=\"middle\" x=\"809.62\" y=\"-95.7\" font-family=\"Times New Roman,serif\" font-size=\"14.00\">data &#45;6.0000</text>\n<polyline fill=\"none\" stroke=\"black\" points=\"851.75,-83 851.75,-118.5\"/>\n<text xml:space=\"preserve\" text-anchor=\"middle\" x=\"892.38\" y=\"-95.7\" font-family=\"Times New Roman,serif\" font-size=\"14.00\">grad 0.0000</text>\n</g>\n<!-- 2840718199760&#45;&gt;2840718208272+ -->\n<g id=\"edge11\" class=\"edge\">\n<title>2840718199760&#45;&gt;2840718208272+</title>\n<path fill=\"none\" stroke=\"black\" d=\"M930.54,-82.02C940.4,-80.56 949.78,-79.18 958.17,-77.94\"/>\n<polygon fill=\"black\" stroke=\"black\" points=\"958.44,-81.44 967.83,-76.51 957.42,-74.51 958.44,-81.44\"/>\n</g>\n<!-- 2840718199760+&#45;&gt;2840718199760 -->\n<g id=\"edge5\" class=\"edge\">\n<title>2840718199760+&#45;&gt;2840718199760</title>\n<path fill=\"none\" stroke=\"black\" d=\"M640.12,-100.5C647.13,-100.5 655.21,-100.5 663.95,-100.5\"/>\n<polygon fill=\"black\" stroke=\"black\" points=\"663.82,-104 673.82,-100.5 663.82,-97 663.82,-104\"/>\n</g>\n</g>\n</svg>\n",
      "text/plain": [
       "<graphviz.graphs.Digraph at 0x29567ffef50>"
      ]
     },
     "execution_count": 185,
     "metadata": {},
     "output_type": "execute_result"
    }
   ],
   "execution_count": 185
  },
  {
   "metadata": {
    "ExecuteTime": {
     "end_time": "2025-08-24T18:14:48.425293Z",
     "start_time": "2025-08-24T18:14:48.112744Z"
    }
   },
   "cell_type": "code",
   "source": [
    "# in one step we updated the gradients here \n",
    "\n",
    "o.backward()\n",
    "draw_dot(o)"
   ],
   "id": "9c70b28aab01514c",
   "outputs": [
    {
     "data": {
      "image/svg+xml": "<?xml version=\"1.0\" encoding=\"UTF-8\" standalone=\"no\"?>\n<!DOCTYPE svg PUBLIC \"-//W3C//DTD SVG 1.1//EN\"\n \"http://www.w3.org/Graphics/SVG/1.1/DTD/svg11.dtd\">\n<!-- Generated by graphviz version 13.1.2 (20250808.2320)\n -->\n<!-- Pages: 1 -->\n<svg width=\"1561pt\" height=\"210pt\"\n viewBox=\"0.00 0.00 1561.00 210.00\" xmlns=\"http://www.w3.org/2000/svg\" xmlns:xlink=\"http://www.w3.org/1999/xlink\">\n<g id=\"graph0\" class=\"graph\" transform=\"scale(1 1) rotate(0) translate(4 206)\">\n<polygon fill=\"white\" stroke=\"none\" points=\"-4,4 -4,-206 1556.5,-206 1556.5,4 -4,4\"/>\n<!-- 2840718201872 -->\n<g id=\"node1\" class=\"node\">\n<title>2840718201872</title>\n<polygon fill=\"none\" stroke=\"black\" points=\"3.75,-165.5 3.75,-201.5 194.25,-201.5 194.25,-165.5 3.75,-165.5\"/>\n<text xml:space=\"preserve\" text-anchor=\"middle\" x=\"18.5\" y=\"-178.7\" font-family=\"Times New Roman,serif\" font-size=\"14.00\">x2</text>\n<polyline fill=\"none\" stroke=\"black\" points=\"33.25,-166 33.25,-201.5\"/>\n<text xml:space=\"preserve\" text-anchor=\"middle\" x=\"73.12\" y=\"-178.7\" font-family=\"Times New Roman,serif\" font-size=\"14.00\">data 0.0000</text>\n<polyline fill=\"none\" stroke=\"black\" points=\"113,-166 113,-201.5\"/>\n<text xml:space=\"preserve\" text-anchor=\"middle\" x=\"153.62\" y=\"-178.7\" font-family=\"Times New Roman,serif\" font-size=\"14.00\">grad 0.5000</text>\n</g>\n<!-- 2840718198096* -->\n<g id=\"node12\" class=\"node\">\n<title>2840718198096*</title>\n<ellipse fill=\"none\" stroke=\"black\" cx=\"261\" cy=\"-128.5\" rx=\"27\" ry=\"18\"/>\n<text xml:space=\"preserve\" text-anchor=\"middle\" x=\"261\" y=\"-123.45\" font-family=\"Times New Roman,serif\" font-size=\"14.00\">*</text>\n</g>\n<!-- 2840718201872&#45;&gt;2840718198096* -->\n<g id=\"edge9\" class=\"edge\">\n<title>2840718201872&#45;&gt;2840718198096*</title>\n<path fill=\"none\" stroke=\"black\" d=\"M172.12,-165.01C180.9,-162.35 189.7,-159.5 198,-156.5 208.09,-152.86 218.82,-148.27 228.47,-143.88\"/>\n<polygon fill=\"black\" stroke=\"black\" points=\"229.86,-147.09 237.45,-139.69 226.9,-140.75 229.86,-147.09\"/>\n</g>\n<!-- 2840718043728 -->\n<g id=\"node2\" class=\"node\">\n<title>2840718043728</title>\n<polygon fill=\"none\" stroke=\"black\" points=\"1.5,-55.5 1.5,-91.5 196.5,-91.5 196.5,-55.5 1.5,-55.5\"/>\n<text xml:space=\"preserve\" text-anchor=\"middle\" x=\"16.25\" y=\"-68.7\" font-family=\"Times New Roman,serif\" font-size=\"14.00\">x1</text>\n<polyline fill=\"none\" stroke=\"black\" points=\"31,-56 31,-91.5\"/>\n<text xml:space=\"preserve\" text-anchor=\"middle\" x=\"70.88\" y=\"-68.7\" font-family=\"Times New Roman,serif\" font-size=\"14.00\">data 2.0000</text>\n<polyline fill=\"none\" stroke=\"black\" points=\"110.75,-56 110.75,-91.5\"/>\n<text xml:space=\"preserve\" text-anchor=\"middle\" x=\"153.62\" y=\"-68.7\" font-family=\"Times New Roman,serif\" font-size=\"14.00\">grad &#45;1.5000</text>\n</g>\n<!-- 2840718202128* -->\n<g id=\"node7\" class=\"node\">\n<title>2840718202128*</title>\n<ellipse fill=\"none\" stroke=\"black\" cx=\"261\" cy=\"-73.5\" rx=\"27\" ry=\"18\"/>\n<text xml:space=\"preserve\" text-anchor=\"middle\" x=\"261\" y=\"-68.45\" font-family=\"Times New Roman,serif\" font-size=\"14.00\">*</text>\n</g>\n<!-- 2840718043728&#45;&gt;2840718202128* -->\n<g id=\"edge6\" class=\"edge\">\n<title>2840718043728&#45;&gt;2840718202128*</title>\n<path fill=\"none\" stroke=\"black\" d=\"M196.76,-73.5C205.77,-73.5 214.47,-73.5 222.4,-73.5\"/>\n<polygon fill=\"black\" stroke=\"black\" points=\"222.25,-77 232.25,-73.5 222.25,-70 222.25,-77\"/>\n</g>\n<!-- 2840718207120 -->\n<g id=\"node3\" class=\"node\">\n<title>2840718207120</title>\n<polygon fill=\"none\" stroke=\"black\" points=\"0,-0.5 0,-36.5 198,-36.5 198,-0.5 0,-0.5\"/>\n<text xml:space=\"preserve\" text-anchor=\"middle\" x=\"16.25\" y=\"-13.7\" font-family=\"Times New Roman,serif\" font-size=\"14.00\">w1</text>\n<polyline fill=\"none\" stroke=\"black\" points=\"32.5,-1 32.5,-36.5\"/>\n<text xml:space=\"preserve\" text-anchor=\"middle\" x=\"74.62\" y=\"-13.7\" font-family=\"Times New Roman,serif\" font-size=\"14.00\">data &#45;3.0000</text>\n<polyline fill=\"none\" stroke=\"black\" points=\"116.75,-1 116.75,-36.5\"/>\n<text xml:space=\"preserve\" text-anchor=\"middle\" x=\"157.38\" y=\"-13.7\" font-family=\"Times New Roman,serif\" font-size=\"14.00\">grad 1.0000</text>\n</g>\n<!-- 2840718207120&#45;&gt;2840718202128* -->\n<g id=\"edge8\" class=\"edge\">\n<title>2840718207120&#45;&gt;2840718202128*</title>\n<path fill=\"none\" stroke=\"black\" d=\"M172.12,-36.99C180.9,-39.65 189.7,-42.5 198,-45.5 208.09,-49.14 218.82,-53.73 228.47,-58.12\"/>\n<polygon fill=\"black\" stroke=\"black\" points=\"226.9,-61.25 237.45,-62.31 229.86,-54.91 226.9,-61.25\"/>\n</g>\n<!-- 2840718156496 -->\n<g id=\"node4\" class=\"node\">\n<title>2840718156496</title>\n<polygon fill=\"none\" stroke=\"black\" points=\"1368.75,-54.5 1368.75,-90.5 1552.5,-90.5 1552.5,-54.5 1368.75,-54.5\"/>\n<text xml:space=\"preserve\" text-anchor=\"middle\" x=\"1380.12\" y=\"-67.7\" font-family=\"Times New Roman,serif\" font-size=\"14.00\">o</text>\n<polyline fill=\"none\" stroke=\"black\" points=\"1391.5,-55 1391.5,-90.5\"/>\n<text xml:space=\"preserve\" text-anchor=\"middle\" x=\"1431.38\" y=\"-67.7\" font-family=\"Times New Roman,serif\" font-size=\"14.00\">data 0.7071</text>\n<polyline fill=\"none\" stroke=\"black\" points=\"1471.25,-55 1471.25,-90.5\"/>\n<text xml:space=\"preserve\" text-anchor=\"middle\" x=\"1511.88\" y=\"-67.7\" font-family=\"Times New Roman,serif\" font-size=\"14.00\">grad 1.0000</text>\n</g>\n<!-- 2840718156496tanh -->\n<g id=\"node5\" class=\"node\">\n<title>2840718156496tanh</title>\n<ellipse fill=\"none\" stroke=\"black\" cx=\"1305.75\" cy=\"-72.5\" rx=\"27\" ry=\"18\"/>\n<text xml:space=\"preserve\" text-anchor=\"middle\" x=\"1305.75\" y=\"-67.45\" font-family=\"Times New Roman,serif\" font-size=\"14.00\">tanh</text>\n</g>\n<!-- 2840718156496tanh&#45;&gt;2840718156496 -->\n<g id=\"edge1\" class=\"edge\">\n<title>2840718156496tanh&#45;&gt;2840718156496</title>\n<path fill=\"none\" stroke=\"black\" d=\"M1333.03,-72.5C1340.17,-72.5 1348.36,-72.5 1357.07,-72.5\"/>\n<polygon fill=\"black\" stroke=\"black\" points=\"1356.81,-76 1366.81,-72.5 1356.81,-69 1356.81,-76\"/>\n</g>\n<!-- 2840718202128 -->\n<g id=\"node6\" class=\"node\">\n<title>2840718202128</title>\n<polygon fill=\"none\" stroke=\"black\" points=\"324,-55.5 324,-91.5 549.75,-91.5 549.75,-55.5 324,-55.5\"/>\n<text xml:space=\"preserve\" text-anchor=\"middle\" x=\"354.12\" y=\"-68.7\" font-family=\"Times New Roman,serif\" font-size=\"14.00\">x1 * w1</text>\n<polyline fill=\"none\" stroke=\"black\" points=\"384.25,-56 384.25,-91.5\"/>\n<text xml:space=\"preserve\" text-anchor=\"middle\" x=\"426.38\" y=\"-68.7\" font-family=\"Times New Roman,serif\" font-size=\"14.00\">data &#45;6.0000</text>\n<polyline fill=\"none\" stroke=\"black\" points=\"468.5,-56 468.5,-91.5\"/>\n<text xml:space=\"preserve\" text-anchor=\"middle\" x=\"509.12\" y=\"-68.7\" font-family=\"Times New Roman,serif\" font-size=\"14.00\">grad 0.5000</text>\n</g>\n<!-- 2840718199760+ -->\n<g id=\"node15\" class=\"node\">\n<title>2840718199760+</title>\n<ellipse fill=\"none\" stroke=\"black\" cx=\"612.75\" cy=\"-100.5\" rx=\"27\" ry=\"18\"/>\n<text xml:space=\"preserve\" text-anchor=\"middle\" x=\"612.75\" y=\"-95.45\" font-family=\"Times New Roman,serif\" font-size=\"14.00\">+</text>\n</g>\n<!-- 2840718202128&#45;&gt;2840718199760+ -->\n<g id=\"edge10\" class=\"edge\">\n<title>2840718202128&#45;&gt;2840718199760+</title>\n<path fill=\"none\" stroke=\"black\" d=\"M549.96,-90.9C558.76,-92.27 567.18,-93.58 574.82,-94.76\"/>\n<polygon fill=\"black\" stroke=\"black\" points=\"574.21,-98.21 584.63,-96.29 575.28,-91.3 574.21,-98.21\"/>\n</g>\n<!-- 2840718202128*&#45;&gt;2840718202128 -->\n<g id=\"edge2\" class=\"edge\">\n<title>2840718202128*&#45;&gt;2840718202128</title>\n<path fill=\"none\" stroke=\"black\" d=\"M288.41,-73.5C295.49,-73.5 303.63,-73.5 312.38,-73.5\"/>\n<polygon fill=\"black\" stroke=\"black\" points=\"312.24,-77 322.24,-73.5 312.24,-70 312.24,-77\"/>\n</g>\n<!-- 2840718208272 -->\n<g id=\"node8\" class=\"node\">\n<title>2840718208272</title>\n<polygon fill=\"none\" stroke=\"black\" points=\"1059,-54.5 1059,-90.5 1242.75,-90.5 1242.75,-54.5 1059,-54.5\"/>\n<text xml:space=\"preserve\" text-anchor=\"middle\" x=\"1070.38\" y=\"-67.7\" font-family=\"Times New Roman,serif\" font-size=\"14.00\">n</text>\n<polyline fill=\"none\" stroke=\"black\" points=\"1081.75,-55 1081.75,-90.5\"/>\n<text xml:space=\"preserve\" text-anchor=\"middle\" x=\"1121.62\" y=\"-67.7\" font-family=\"Times New Roman,serif\" font-size=\"14.00\">data 0.8814</text>\n<polyline fill=\"none\" stroke=\"black\" points=\"1161.5,-55 1161.5,-90.5\"/>\n<text xml:space=\"preserve\" text-anchor=\"middle\" x=\"1202.12\" y=\"-67.7\" font-family=\"Times New Roman,serif\" font-size=\"14.00\">grad 0.5000</text>\n</g>\n<!-- 2840718208272&#45;&gt;2840718156496tanh -->\n<g id=\"edge13\" class=\"edge\">\n<title>2840718208272&#45;&gt;2840718156496tanh</title>\n<path fill=\"none\" stroke=\"black\" d=\"M1243.01,-72.5C1251.39,-72.5 1259.52,-72.5 1266.98,-72.5\"/>\n<polygon fill=\"black\" stroke=\"black\" points=\"1266.95,-76 1276.95,-72.5 1266.95,-69 1266.95,-76\"/>\n</g>\n<!-- 2840718208272+ -->\n<g id=\"node9\" class=\"node\">\n<title>2840718208272+</title>\n<ellipse fill=\"none\" stroke=\"black\" cx=\"996\" cy=\"-72.5\" rx=\"27\" ry=\"18\"/>\n<text xml:space=\"preserve\" text-anchor=\"middle\" x=\"996\" y=\"-67.45\" font-family=\"Times New Roman,serif\" font-size=\"14.00\">+</text>\n</g>\n<!-- 2840718208272+&#45;&gt;2840718208272 -->\n<g id=\"edge3\" class=\"edge\">\n<title>2840718208272+&#45;&gt;2840718208272</title>\n<path fill=\"none\" stroke=\"black\" d=\"M1023.28,-72.5C1030.42,-72.5 1038.61,-72.5 1047.32,-72.5\"/>\n<polygon fill=\"black\" stroke=\"black\" points=\"1047.06,-76 1057.06,-72.5 1047.06,-69 1047.06,-76\"/>\n</g>\n<!-- 2840718203152 -->\n<g id=\"node10\" class=\"node\">\n<title>2840718203152</title>\n<polygon fill=\"none\" stroke=\"black\" points=\"712.5,-27.5 712.5,-63.5 896.25,-63.5 896.25,-27.5 712.5,-27.5\"/>\n<text xml:space=\"preserve\" text-anchor=\"middle\" x=\"723.88\" y=\"-40.7\" font-family=\"Times New Roman,serif\" font-size=\"14.00\">b</text>\n<polyline fill=\"none\" stroke=\"black\" points=\"735.25,-28 735.25,-63.5\"/>\n<text xml:space=\"preserve\" text-anchor=\"middle\" x=\"775.12\" y=\"-40.7\" font-family=\"Times New Roman,serif\" font-size=\"14.00\">data 6.8814</text>\n<polyline fill=\"none\" stroke=\"black\" points=\"815,-28 815,-63.5\"/>\n<text xml:space=\"preserve\" text-anchor=\"middle\" x=\"855.62\" y=\"-40.7\" font-family=\"Times New Roman,serif\" font-size=\"14.00\">grad 0.5000</text>\n</g>\n<!-- 2840718203152&#45;&gt;2840718208272+ -->\n<g id=\"edge14\" class=\"edge\">\n<title>2840718203152&#45;&gt;2840718208272+</title>\n<path fill=\"none\" stroke=\"black\" d=\"M896.58,-58.49C918.42,-61.6 940.52,-64.74 958.23,-67.26\"/>\n<polygon fill=\"black\" stroke=\"black\" points=\"957.57,-70.71 967.96,-68.65 958.55,-63.78 957.57,-70.71\"/>\n</g>\n<!-- 2840718198096 -->\n<g id=\"node11\" class=\"node\">\n<title>2840718198096</title>\n<polygon fill=\"none\" stroke=\"black\" points=\"326.25,-110.5 326.25,-146.5 547.5,-146.5 547.5,-110.5 326.25,-110.5\"/>\n<text xml:space=\"preserve\" text-anchor=\"middle\" x=\"356.38\" y=\"-123.7\" font-family=\"Times New Roman,serif\" font-size=\"14.00\">x2 * w2</text>\n<polyline fill=\"none\" stroke=\"black\" points=\"386.5,-111 386.5,-146.5\"/>\n<text xml:space=\"preserve\" text-anchor=\"middle\" x=\"426.38\" y=\"-123.7\" font-family=\"Times New Roman,serif\" font-size=\"14.00\">data 0.0000</text>\n<polyline fill=\"none\" stroke=\"black\" points=\"466.25,-111 466.25,-146.5\"/>\n<text xml:space=\"preserve\" text-anchor=\"middle\" x=\"506.88\" y=\"-123.7\" font-family=\"Times New Roman,serif\" font-size=\"14.00\">grad 0.5000</text>\n</g>\n<!-- 2840718198096&#45;&gt;2840718199760+ -->\n<g id=\"edge7\" class=\"edge\">\n<title>2840718198096&#45;&gt;2840718199760+</title>\n<path fill=\"none\" stroke=\"black\" d=\"M547.99,-110.77C557.5,-109.24 566.61,-107.77 574.82,-106.45\"/>\n<polygon fill=\"black\" stroke=\"black\" points=\"575.33,-109.91 584.65,-104.86 574.22,-103 575.33,-109.91\"/>\n</g>\n<!-- 2840718198096*&#45;&gt;2840718198096 -->\n<g id=\"edge4\" class=\"edge\">\n<title>2840718198096*&#45;&gt;2840718198096</title>\n<path fill=\"none\" stroke=\"black\" d=\"M288.41,-128.5C296.06,-128.5 304.94,-128.5 314.49,-128.5\"/>\n<polygon fill=\"black\" stroke=\"black\" points=\"314.46,-132 324.46,-128.5 314.46,-125 314.46,-132\"/>\n</g>\n<!-- 2840718199120 -->\n<g id=\"node13\" class=\"node\">\n<title>2840718199120</title>\n<polygon fill=\"none\" stroke=\"black\" points=\"2.25,-110.5 2.25,-146.5 195.75,-146.5 195.75,-110.5 2.25,-110.5\"/>\n<text xml:space=\"preserve\" text-anchor=\"middle\" x=\"18.5\" y=\"-123.7\" font-family=\"Times New Roman,serif\" font-size=\"14.00\">w2</text>\n<polyline fill=\"none\" stroke=\"black\" points=\"34.75,-111 34.75,-146.5\"/>\n<text xml:space=\"preserve\" text-anchor=\"middle\" x=\"74.62\" y=\"-123.7\" font-family=\"Times New Roman,serif\" font-size=\"14.00\">data 1.0000</text>\n<polyline fill=\"none\" stroke=\"black\" points=\"114.5,-111 114.5,-146.5\"/>\n<text xml:space=\"preserve\" text-anchor=\"middle\" x=\"155.12\" y=\"-123.7\" font-family=\"Times New Roman,serif\" font-size=\"14.00\">grad 0.0000</text>\n</g>\n<!-- 2840718199120&#45;&gt;2840718198096* -->\n<g id=\"edge12\" class=\"edge\">\n<title>2840718199120&#45;&gt;2840718198096*</title>\n<path fill=\"none\" stroke=\"black\" d=\"M195.84,-128.5C205.14,-128.5 214.15,-128.5 222.32,-128.5\"/>\n<polygon fill=\"black\" stroke=\"black\" points=\"222.13,-132 232.13,-128.5 222.13,-125 222.13,-132\"/>\n</g>\n<!-- 2840718199760 -->\n<g id=\"node14\" class=\"node\">\n<title>2840718199760</title>\n<polygon fill=\"none\" stroke=\"black\" points=\"675.75,-82.5 675.75,-118.5 933,-118.5 933,-82.5 675.75,-82.5\"/>\n<text xml:space=\"preserve\" text-anchor=\"middle\" x=\"721.62\" y=\"-95.7\" font-family=\"Times New Roman,serif\" font-size=\"14.00\">x1w1 + x2w2</text>\n<polyline fill=\"none\" stroke=\"black\" points=\"767.5,-83 767.5,-118.5\"/>\n<text xml:space=\"preserve\" text-anchor=\"middle\" x=\"809.62\" y=\"-95.7\" font-family=\"Times New Roman,serif\" font-size=\"14.00\">data &#45;6.0000</text>\n<polyline fill=\"none\" stroke=\"black\" points=\"851.75,-83 851.75,-118.5\"/>\n<text xml:space=\"preserve\" text-anchor=\"middle\" x=\"892.38\" y=\"-95.7\" font-family=\"Times New Roman,serif\" font-size=\"14.00\">grad 0.5000</text>\n</g>\n<!-- 2840718199760&#45;&gt;2840718208272+ -->\n<g id=\"edge11\" class=\"edge\">\n<title>2840718199760&#45;&gt;2840718208272+</title>\n<path fill=\"none\" stroke=\"black\" d=\"M930.54,-82.02C940.4,-80.56 949.78,-79.18 958.17,-77.94\"/>\n<polygon fill=\"black\" stroke=\"black\" points=\"958.44,-81.44 967.83,-76.51 957.42,-74.51 958.44,-81.44\"/>\n</g>\n<!-- 2840718199760+&#45;&gt;2840718199760 -->\n<g id=\"edge5\" class=\"edge\">\n<title>2840718199760+&#45;&gt;2840718199760</title>\n<path fill=\"none\" stroke=\"black\" d=\"M640.12,-100.5C647.13,-100.5 655.21,-100.5 663.95,-100.5\"/>\n<polygon fill=\"black\" stroke=\"black\" points=\"663.82,-104 673.82,-100.5 663.82,-97 663.82,-104\"/>\n</g>\n</g>\n</svg>\n",
      "text/plain": [
       "<graphviz.graphs.Digraph at 0x2956751ee10>"
      ]
     },
     "execution_count": 186,
     "metadata": {},
     "output_type": "execute_result"
    }
   ],
   "execution_count": 186
  },
  {
   "metadata": {
    "ExecuteTime": {
     "end_time": "2025-08-24T18:16:41.890979Z",
     "start_time": "2025-08-24T18:16:41.214985Z"
    }
   },
   "cell_type": "code",
   "source": [
    "a = Value(3.0, label='a')\n",
    "b = a + a   ; b.label = 'b'\n",
    "b.backward()\n",
    "draw_dot(b)"
   ],
   "id": "4c4d10db6caa8b68",
   "outputs": [
    {
     "data": {
      "image/svg+xml": "<?xml version=\"1.0\" encoding=\"UTF-8\" standalone=\"no\"?>\n<!DOCTYPE svg PUBLIC \"-//W3C//DTD SVG 1.1//EN\"\n \"http://www.w3.org/Graphics/SVG/1.1/DTD/svg11.dtd\">\n<!-- Generated by graphviz version 13.1.2 (20250808.2320)\n -->\n<!-- Pages: 1 -->\n<svg width=\"501pt\" height=\"45pt\"\n viewBox=\"0.00 0.00 501.00 45.00\" xmlns=\"http://www.w3.org/2000/svg\" xmlns:xlink=\"http://www.w3.org/1999/xlink\">\n<g id=\"graph0\" class=\"graph\" transform=\"scale(1 1) rotate(0) translate(4 41)\">\n<polygon fill=\"white\" stroke=\"none\" points=\"-4,4 -4,-41 496.75,-41 496.75,4 -4,4\"/>\n<!-- 2841108641168 -->\n<g id=\"node1\" class=\"node\">\n<title>2841108641168</title>\n<polygon fill=\"none\" stroke=\"black\" points=\"309,-0.5 309,-36.5 492.75,-36.5 492.75,-0.5 309,-0.5\"/>\n<text xml:space=\"preserve\" text-anchor=\"middle\" x=\"320.38\" y=\"-13.7\" font-family=\"Times New Roman,serif\" font-size=\"14.00\">b</text>\n<polyline fill=\"none\" stroke=\"black\" points=\"331.75,-1 331.75,-36.5\"/>\n<text xml:space=\"preserve\" text-anchor=\"middle\" x=\"371.62\" y=\"-13.7\" font-family=\"Times New Roman,serif\" font-size=\"14.00\">data 6.0000</text>\n<polyline fill=\"none\" stroke=\"black\" points=\"411.5,-1 411.5,-36.5\"/>\n<text xml:space=\"preserve\" text-anchor=\"middle\" x=\"452.12\" y=\"-13.7\" font-family=\"Times New Roman,serif\" font-size=\"14.00\">grad 1.0000</text>\n</g>\n<!-- 2841108641168+ -->\n<g id=\"node2\" class=\"node\">\n<title>2841108641168+</title>\n<ellipse fill=\"none\" stroke=\"black\" cx=\"246\" cy=\"-18.5\" rx=\"27\" ry=\"18\"/>\n<text xml:space=\"preserve\" text-anchor=\"middle\" x=\"246\" y=\"-13.45\" font-family=\"Times New Roman,serif\" font-size=\"14.00\">+</text>\n</g>\n<!-- 2841108641168+&#45;&gt;2841108641168 -->\n<g id=\"edge1\" class=\"edge\">\n<title>2841108641168+&#45;&gt;2841108641168</title>\n<path fill=\"none\" stroke=\"black\" d=\"M273.28,-18.5C280.42,-18.5 288.61,-18.5 297.32,-18.5\"/>\n<polygon fill=\"black\" stroke=\"black\" points=\"297.06,-22 307.06,-18.5 297.06,-15 297.06,-22\"/>\n</g>\n<!-- 2841107024272 -->\n<g id=\"node3\" class=\"node\">\n<title>2841107024272</title>\n<polygon fill=\"none\" stroke=\"black\" points=\"0,-0.5 0,-36.5 183,-36.5 183,-0.5 0,-0.5\"/>\n<text xml:space=\"preserve\" text-anchor=\"middle\" x=\"11\" y=\"-13.7\" font-family=\"Times New Roman,serif\" font-size=\"14.00\">a</text>\n<polyline fill=\"none\" stroke=\"black\" points=\"22,-1 22,-36.5\"/>\n<text xml:space=\"preserve\" text-anchor=\"middle\" x=\"61.88\" y=\"-13.7\" font-family=\"Times New Roman,serif\" font-size=\"14.00\">data 3.0000</text>\n<polyline fill=\"none\" stroke=\"black\" points=\"101.75,-1 101.75,-36.5\"/>\n<text xml:space=\"preserve\" text-anchor=\"middle\" x=\"142.38\" y=\"-13.7\" font-family=\"Times New Roman,serif\" font-size=\"14.00\">grad 2.0000</text>\n</g>\n<!-- 2841107024272&#45;&gt;2841108641168+ -->\n<g id=\"edge2\" class=\"edge\">\n<title>2841107024272&#45;&gt;2841108641168+</title>\n<path fill=\"none\" stroke=\"black\" d=\"M183.41,-18.5C191.77,-18.5 199.88,-18.5 207.32,-18.5\"/>\n<polygon fill=\"black\" stroke=\"black\" points=\"207.26,-22 217.26,-18.5 207.26,-15 207.26,-22\"/>\n</g>\n</g>\n</svg>\n",
      "text/plain": [
       "<graphviz.graphs.Digraph at 0x2957f2dbf50>"
      ]
     },
     "execution_count": 191,
     "metadata": {},
     "output_type": "execute_result"
    }
   ],
   "execution_count": 191
  },
  {
   "metadata": {
    "ExecuteTime": {
     "end_time": "2025-08-24T18:16:51.475176Z",
     "start_time": "2025-08-24T18:16:51.190909Z"
    }
   },
   "cell_type": "code",
   "source": [
    "a = Value(-2.0, label='a')\n",
    "b = Value(3.0, label='b')\n",
    "d = a * b    ; d.label = 'd'\n",
    "e = a + b    ; e.label = 'e'\n",
    "f = d * e    ; f.label = 'f'\n",
    "\n",
    "f.backward()\n",
    "\n",
    "draw_dot(f)"
   ],
   "id": "b8e009257156be2a",
   "outputs": [
    {
     "data": {
      "image/svg+xml": "<?xml version=\"1.0\" encoding=\"UTF-8\" standalone=\"no\"?>\n<!DOCTYPE svg PUBLIC \"-//W3C//DTD SVG 1.1//EN\"\n \"http://www.w3.org/Graphics/SVG/1.1/DTD/svg11.dtd\">\n<!-- Generated by graphviz version 13.1.2 (20250808.2320)\n -->\n<!-- Pages: 1 -->\n<svg width=\"826pt\" height=\"100pt\"\n viewBox=\"0.00 0.00 826.00 100.00\" xmlns=\"http://www.w3.org/2000/svg\" xmlns:xlink=\"http://www.w3.org/1999/xlink\">\n<g id=\"graph0\" class=\"graph\" transform=\"scale(1 1) rotate(0) translate(4 96)\">\n<polygon fill=\"white\" stroke=\"none\" points=\"-4,4 -4,-96 822.25,-96 822.25,4 -4,4\"/>\n<!-- 2841106642448 -->\n<g id=\"node1\" class=\"node\">\n<title>2841106642448</title>\n<polygon fill=\"none\" stroke=\"black\" points=\"632.25,-27.5 632.25,-63.5 818.25,-63.5 818.25,-27.5 632.25,-27.5\"/>\n<text xml:space=\"preserve\" text-anchor=\"middle\" x=\"642.5\" y=\"-40.7\" font-family=\"Times New Roman,serif\" font-size=\"14.00\">f</text>\n<polyline fill=\"none\" stroke=\"black\" points=\"652.75,-28 652.75,-63.5\"/>\n<text xml:space=\"preserve\" text-anchor=\"middle\" x=\"694.88\" y=\"-40.7\" font-family=\"Times New Roman,serif\" font-size=\"14.00\">data &#45;6.0000</text>\n<polyline fill=\"none\" stroke=\"black\" points=\"737,-28 737,-63.5\"/>\n<text xml:space=\"preserve\" text-anchor=\"middle\" x=\"777.62\" y=\"-40.7\" font-family=\"Times New Roman,serif\" font-size=\"14.00\">grad 1.0000</text>\n</g>\n<!-- 2841106642448* -->\n<g id=\"node2\" class=\"node\">\n<title>2841106642448*</title>\n<ellipse fill=\"none\" stroke=\"black\" cx=\"569.25\" cy=\"-45.5\" rx=\"27\" ry=\"18\"/>\n<text xml:space=\"preserve\" text-anchor=\"middle\" x=\"569.25\" y=\"-40.45\" font-family=\"Times New Roman,serif\" font-size=\"14.00\">*</text>\n</g>\n<!-- 2841106642448*&#45;&gt;2841106642448 -->\n<g id=\"edge1\" class=\"edge\">\n<title>2841106642448*&#45;&gt;2841106642448</title>\n<path fill=\"none\" stroke=\"black\" d=\"M596.72,-45.5C603.86,-45.5 612.03,-45.5 620.71,-45.5\"/>\n<polygon fill=\"black\" stroke=\"black\" points=\"620.44,-49 630.44,-45.5 620.44,-42 620.44,-49\"/>\n</g>\n<!-- 2841106643984 -->\n<g id=\"node3\" class=\"node\">\n<title>2841106643984</title>\n<polygon fill=\"none\" stroke=\"black\" points=\"318,-55.5 318,-91.5 506.25,-91.5 506.25,-55.5 318,-55.5\"/>\n<text xml:space=\"preserve\" text-anchor=\"middle\" x=\"329.38\" y=\"-68.7\" font-family=\"Times New Roman,serif\" font-size=\"14.00\">d</text>\n<polyline fill=\"none\" stroke=\"black\" points=\"340.75,-56 340.75,-91.5\"/>\n<text xml:space=\"preserve\" text-anchor=\"middle\" x=\"382.88\" y=\"-68.7\" font-family=\"Times New Roman,serif\" font-size=\"14.00\">data &#45;6.0000</text>\n<polyline fill=\"none\" stroke=\"black\" points=\"425,-56 425,-91.5\"/>\n<text xml:space=\"preserve\" text-anchor=\"middle\" x=\"465.62\" y=\"-68.7\" font-family=\"Times New Roman,serif\" font-size=\"14.00\">grad 1.0000</text>\n</g>\n<!-- 2841106643984&#45;&gt;2841106642448* -->\n<g id=\"edge6\" class=\"edge\">\n<title>2841106643984&#45;&gt;2841106642448*</title>\n<path fill=\"none\" stroke=\"black\" d=\"M506.49,-56.65C515.36,-55.05 523.93,-53.5 531.73,-52.09\"/>\n<polygon fill=\"black\" stroke=\"black\" points=\"532.2,-55.56 541.42,-50.34 530.95,-48.68 532.2,-55.56\"/>\n</g>\n<!-- 2841106643984* -->\n<g id=\"node4\" class=\"node\">\n<title>2841106643984*</title>\n<ellipse fill=\"none\" stroke=\"black\" cx=\"255\" cy=\"-73.5\" rx=\"27\" ry=\"18\"/>\n<text xml:space=\"preserve\" text-anchor=\"middle\" x=\"255\" y=\"-68.45\" font-family=\"Times New Roman,serif\" font-size=\"14.00\">*</text>\n</g>\n<!-- 2841106643984*&#45;&gt;2841106643984 -->\n<g id=\"edge2\" class=\"edge\">\n<title>2841106643984*&#45;&gt;2841106643984</title>\n<path fill=\"none\" stroke=\"black\" d=\"M282.31,-73.5C289.49,-73.5 297.72,-73.5 306.47,-73.5\"/>\n<polygon fill=\"black\" stroke=\"black\" points=\"306.29,-77 316.29,-73.5 306.29,-70 306.29,-77\"/>\n</g>\n<!-- 2841108678288 -->\n<g id=\"node5\" class=\"node\">\n<title>2841108678288</title>\n<polygon fill=\"none\" stroke=\"black\" points=\"1.88,-55.5 1.88,-91.5 190.12,-91.5 190.12,-55.5 1.88,-55.5\"/>\n<text xml:space=\"preserve\" text-anchor=\"middle\" x=\"13.25\" y=\"-68.7\" font-family=\"Times New Roman,serif\" font-size=\"14.00\">b</text>\n<polyline fill=\"none\" stroke=\"black\" points=\"24.62,-56 24.62,-91.5\"/>\n<text xml:space=\"preserve\" text-anchor=\"middle\" x=\"64.5\" y=\"-68.7\" font-family=\"Times New Roman,serif\" font-size=\"14.00\">data 3.0000</text>\n<polyline fill=\"none\" stroke=\"black\" points=\"104.38,-56 104.38,-91.5\"/>\n<text xml:space=\"preserve\" text-anchor=\"middle\" x=\"147.25\" y=\"-68.7\" font-family=\"Times New Roman,serif\" font-size=\"14.00\">grad &#45;8.0000</text>\n</g>\n<!-- 2841108678288&#45;&gt;2841106643984* -->\n<g id=\"edge9\" class=\"edge\">\n<title>2841108678288&#45;&gt;2841106643984*</title>\n<path fill=\"none\" stroke=\"black\" d=\"M190.59,-73.5C199.58,-73.5 208.29,-73.5 216.23,-73.5\"/>\n<polygon fill=\"black\" stroke=\"black\" points=\"216.11,-77 226.11,-73.5 216.11,-70 216.11,-77\"/>\n</g>\n<!-- 2841106642768+ -->\n<g id=\"node7\" class=\"node\">\n<title>2841106642768+</title>\n<ellipse fill=\"none\" stroke=\"black\" cx=\"255\" cy=\"-18.5\" rx=\"27\" ry=\"18\"/>\n<text xml:space=\"preserve\" text-anchor=\"middle\" x=\"255\" y=\"-13.45\" font-family=\"Times New Roman,serif\" font-size=\"14.00\">+</text>\n</g>\n<!-- 2841108678288&#45;&gt;2841106642768+ -->\n<g id=\"edge8\" class=\"edge\">\n<title>2841108678288&#45;&gt;2841106642768+</title>\n<path fill=\"none\" stroke=\"black\" d=\"M166.39,-55.06C175.08,-52.38 183.79,-49.5 192,-46.5 201.99,-42.85 212.63,-38.3 222.22,-33.93\"/>\n<polygon fill=\"black\" stroke=\"black\" points=\"223.55,-37.17 231.15,-29.78 220.6,-30.83 223.55,-37.17\"/>\n</g>\n<!-- 2841106642768 -->\n<g id=\"node6\" class=\"node\">\n<title>2841106642768</title>\n<polygon fill=\"none\" stroke=\"black\" points=\"318.38,-0.5 318.38,-36.5 505.88,-36.5 505.88,-0.5 318.38,-0.5\"/>\n<text xml:space=\"preserve\" text-anchor=\"middle\" x=\"329.38\" y=\"-13.7\" font-family=\"Times New Roman,serif\" font-size=\"14.00\">e</text>\n<polyline fill=\"none\" stroke=\"black\" points=\"340.38,-1 340.38,-36.5\"/>\n<text xml:space=\"preserve\" text-anchor=\"middle\" x=\"380.25\" y=\"-13.7\" font-family=\"Times New Roman,serif\" font-size=\"14.00\">data 1.0000</text>\n<polyline fill=\"none\" stroke=\"black\" points=\"420.12,-1 420.12,-36.5\"/>\n<text xml:space=\"preserve\" text-anchor=\"middle\" x=\"463\" y=\"-13.7\" font-family=\"Times New Roman,serif\" font-size=\"14.00\">grad &#45;6.0000</text>\n</g>\n<!-- 2841106642768&#45;&gt;2841106642448* -->\n<g id=\"edge5\" class=\"edge\">\n<title>2841106642768&#45;&gt;2841106642448*</title>\n<path fill=\"none\" stroke=\"black\" d=\"M506.05,-34.67C514.96,-36.22 523.59,-37.73 531.44,-39.09\"/>\n<polygon fill=\"black\" stroke=\"black\" points=\"530.76,-42.53 541.21,-40.79 531.96,-35.63 530.76,-42.53\"/>\n</g>\n<!-- 2841106642768+&#45;&gt;2841106642768 -->\n<g id=\"edge3\" class=\"edge\">\n<title>2841106642768+&#45;&gt;2841106642768</title>\n<path fill=\"none\" stroke=\"black\" d=\"M282.31,-18.5C289.55,-18.5 297.86,-18.5 306.7,-18.5\"/>\n<polygon fill=\"black\" stroke=\"black\" points=\"306.62,-22 316.62,-18.5 306.62,-15 306.62,-22\"/>\n</g>\n<!-- 2841108640144 -->\n<g id=\"node8\" class=\"node\">\n<title>2841108640144</title>\n<polygon fill=\"none\" stroke=\"black\" points=\"0,-0.5 0,-36.5 192,-36.5 192,-0.5 0,-0.5\"/>\n<text xml:space=\"preserve\" text-anchor=\"middle\" x=\"11\" y=\"-13.7\" font-family=\"Times New Roman,serif\" font-size=\"14.00\">a</text>\n<polyline fill=\"none\" stroke=\"black\" points=\"22,-1 22,-36.5\"/>\n<text xml:space=\"preserve\" text-anchor=\"middle\" x=\"64.12\" y=\"-13.7\" font-family=\"Times New Roman,serif\" font-size=\"14.00\">data &#45;2.0000</text>\n<polyline fill=\"none\" stroke=\"black\" points=\"106.25,-1 106.25,-36.5\"/>\n<text xml:space=\"preserve\" text-anchor=\"middle\" x=\"149.12\" y=\"-13.7\" font-family=\"Times New Roman,serif\" font-size=\"14.00\">grad &#45;3.0000</text>\n</g>\n<!-- 2841108640144&#45;&gt;2841106643984* -->\n<g id=\"edge7\" class=\"edge\">\n<title>2841108640144&#45;&gt;2841106643984*</title>\n<path fill=\"none\" stroke=\"black\" d=\"M163.53,-36.96C173.14,-39.96 182.87,-43.18 192,-46.5 201.86,-50.08 212.39,-54.46 221.92,-58.63\"/>\n<polygon fill=\"black\" stroke=\"black\" points=\"220.23,-61.71 230.79,-62.59 223.09,-55.32 220.23,-61.71\"/>\n</g>\n<!-- 2841108640144&#45;&gt;2841106642768+ -->\n<g id=\"edge4\" class=\"edge\">\n<title>2841108640144&#45;&gt;2841106642768+</title>\n<path fill=\"none\" stroke=\"black\" d=\"M192.4,-18.5C200.73,-18.5 208.79,-18.5 216.18,-18.5\"/>\n<polygon fill=\"black\" stroke=\"black\" points=\"216.05,-22 226.05,-18.5 216.05,-15 216.05,-22\"/>\n</g>\n</g>\n</svg>\n",
      "text/plain": [
       "<graphviz.graphs.Digraph at 0x2957f28e490>"
      ]
     },
     "execution_count": 192,
     "metadata": {},
     "output_type": "execute_result"
    }
   ],
   "execution_count": 192
  },
  {
   "metadata": {
    "ExecuteTime": {
     "end_time": "2025-08-24T18:50:09.692510Z",
     "start_time": "2025-08-24T18:50:09.667441Z"
    }
   },
   "cell_type": "code",
   "source": "",
   "id": "5c9a7b509463a477",
   "outputs": [
    {
     "ename": "AttributeError",
     "evalue": "'int' object has no attribute 'data'",
     "output_type": "error",
     "traceback": [
      "\u001B[1;31m---------------------------------------------------------------------------\u001B[0m",
      "\u001B[1;31mAttributeError\u001B[0m                            Traceback (most recent call last)",
      "Cell \u001B[1;32mIn[194], line 2\u001B[0m\n\u001B[0;32m      1\u001B[0m a \u001B[38;5;241m=\u001B[39m Value(\u001B[38;5;241m2.0\u001B[39m)\n\u001B[1;32m----> 2\u001B[0m a \u001B[38;5;241m+\u001B[39m \u001B[38;5;241m2\u001B[39m\n",
      "Cell \u001B[1;32mIn[184], line 15\u001B[0m, in \u001B[0;36mValue.__add__\u001B[1;34m(self, other)\u001B[0m\n\u001B[0;32m     14\u001B[0m \u001B[38;5;28;01mdef\u001B[39;00m \u001B[38;5;21m__add__\u001B[39m(\u001B[38;5;28mself\u001B[39m, other):\n\u001B[1;32m---> 15\u001B[0m   out \u001B[38;5;241m=\u001B[39m Value(\u001B[38;5;28mself\u001B[39m\u001B[38;5;241m.\u001B[39mdata \u001B[38;5;241m+\u001B[39m other\u001B[38;5;241m.\u001B[39mdata, (\u001B[38;5;28mself\u001B[39m, other), \u001B[38;5;124m'\u001B[39m\u001B[38;5;124m+\u001B[39m\u001B[38;5;124m'\u001B[39m)\n\u001B[0;32m     17\u001B[0m   \u001B[38;5;28;01mdef\u001B[39;00m \u001B[38;5;21m_backward\u001B[39m():\n\u001B[0;32m     18\u001B[0m     \u001B[38;5;28mself\u001B[39m\u001B[38;5;241m.\u001B[39mgrad \u001B[38;5;241m+\u001B[39m\u001B[38;5;241m=\u001B[39m \u001B[38;5;241m1.0\u001B[39m \u001B[38;5;241m*\u001B[39m out\u001B[38;5;241m.\u001B[39mgrad\n",
      "\u001B[1;31mAttributeError\u001B[0m: 'int' object has no attribute 'data'"
     ]
    }
   ],
   "execution_count": 194
  },
  {
   "metadata": {
    "ExecuteTime": {
     "end_time": "2025-08-24T18:50:22.990997Z",
     "start_time": "2025-08-24T18:50:22.972997Z"
    }
   },
   "cell_type": "code",
   "source": "",
   "id": "1ec445c5fc2db64e",
   "outputs": [
    {
     "ename": "AttributeError",
     "evalue": "'int' object has no attribute 'data'",
     "output_type": "error",
     "traceback": [
      "\u001B[1;31m---------------------------------------------------------------------------\u001B[0m",
      "\u001B[1;31mAttributeError\u001B[0m                            Traceback (most recent call last)",
      "Cell \u001B[1;32mIn[195], line 1\u001B[0m\n\u001B[1;32m----> 1\u001B[0m a \u001B[38;5;241m*\u001B[39m \u001B[38;5;241m2\u001B[39m\n",
      "Cell \u001B[1;32mIn[184], line 25\u001B[0m, in \u001B[0;36mValue.__mul__\u001B[1;34m(self, other)\u001B[0m\n\u001B[0;32m     24\u001B[0m \u001B[38;5;28;01mdef\u001B[39;00m \u001B[38;5;21m__mul__\u001B[39m(\u001B[38;5;28mself\u001B[39m, other):\n\u001B[1;32m---> 25\u001B[0m   out \u001B[38;5;241m=\u001B[39m Value(\u001B[38;5;28mself\u001B[39m\u001B[38;5;241m.\u001B[39mdata \u001B[38;5;241m*\u001B[39m other\u001B[38;5;241m.\u001B[39mdata, (\u001B[38;5;28mself\u001B[39m, other), \u001B[38;5;124m'\u001B[39m\u001B[38;5;124m*\u001B[39m\u001B[38;5;124m'\u001B[39m)\n\u001B[0;32m     27\u001B[0m   \u001B[38;5;28;01mdef\u001B[39;00m \u001B[38;5;21m_backward\u001B[39m():\n\u001B[0;32m     28\u001B[0m     \u001B[38;5;28mself\u001B[39m\u001B[38;5;241m.\u001B[39mgrad \u001B[38;5;241m+\u001B[39m\u001B[38;5;241m=\u001B[39m other\u001B[38;5;241m.\u001B[39mdata \u001B[38;5;241m*\u001B[39m out\u001B[38;5;241m.\u001B[39mgrad\n",
      "\u001B[1;31mAttributeError\u001B[0m: 'int' object has no attribute 'data'"
     ]
    }
   ],
   "execution_count": 195
  },
  {
   "metadata": {},
   "cell_type": "code",
   "outputs": [],
   "execution_count": null,
   "source": "",
   "id": "a914cc1cb04c415c"
  }
 ],
 "metadata": {
  "kernelspec": {
   "display_name": "Python 3",
   "language": "python",
   "name": "python3"
  },
  "language_info": {
   "codemirror_mode": {
    "name": "ipython",
    "version": 2
   },
   "file_extension": ".py",
   "mimetype": "text/x-python",
   "name": "python",
   "nbconvert_exporter": "python",
   "pygments_lexer": "ipython2",
   "version": "2.7.6"
  }
 },
 "nbformat": 4,
 "nbformat_minor": 5
}
